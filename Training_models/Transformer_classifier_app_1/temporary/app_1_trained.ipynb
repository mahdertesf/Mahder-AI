{
 "cells": [
  {
   "cell_type": "markdown",
   "metadata": {
    "id": "qVpZAHi6Dnqi"
   },
   "source": [
    "<center>\n",
    "    <h1><b>Pretraining a Transformer Model from Scratch on an Amharic Dataset and Fine-Tuning for Amharic Hate Speech Recognition Task</b></h1>\n",
    "</center>\n"
   ]
  },
  {
   "cell_type": "markdown",
   "metadata": {
    "id": "THqdlyo9Dnql"
   },
   "source": [
    "## Table of Contents  \n",
    "1. [Introduction](#introduction)  \n",
    "2. [Importing Packages](#importing-packages)  \n",
    "3. [Dataset Collection & Preprocessing](#dataset-collection--preprocessing)  \n",
    "   - 3.1 [Data Collection](#data-collection)  \n",
    "   - 3.2 [Data Cleaning](#data-cleaning)  \n",
    "   - 3.3 [Tokenization](#tokenization)  \n",
    "   - 3.4 [Tokenizing and Masking](#tokenizing-and-masking)  \n",
    "   - 3.5 [Creating Training Data Pairs](#creating-training-data-pairs)  \n",
    "4. [Pretraining the Transformer Model](#pretraining-the-transformer-model)  \n",
    "   - 4.1 [Positional Encoding](#positional-encoding)  \n",
    "   - 4.2 [Masking](#masking)  \n",
    "   - 4.3 [Self Attention](#self-attention)  \n",
    "   - 4.4 [Encoder](#encoder)  \n",
    "   - 4.5 [Decoder](#decoder)  \n",
    "   - 4.6 [Transformer](#transformer)  \n",
    "   - 4.7 [Initialize_Model](#initialize-model)  \n",
    "   - 4.8 [Pre-training](#pre-training)  \n",
    "5. [Fine-Tuning for Hate Speech Recognition](#fine-tuning-for-hate-speech-recognition)  \n",
    "   - 5.1 [Preparing the Fine-Tuning Dataset](#preparing-the-fine-tuning-dataset)  \n",
    "   - 5.2 [Adjusting the Model Architecture](#adjusting-the-model-architecture)  \n",
    "   - 5.3 [Training the Fine-Tuned Model](#training-the-fine-tuned-model)  \n",
    "6. [Evaluation](#evaluation)  \n",
    "7. [Deployment on Mahder AI App](#deployment-on-mahder-ai-app)  \n",
    "8. [Conclusion](#conclusion)"
   ]
  },
  {
   "cell_type": "markdown",
   "metadata": {
    "id": "4HNqZKWpDnqm"
   },
   "source": [
    "## 1. Introduction  \n",
    "\n",
    "In this notebook, I will pretrain a Transformer network on an Amharic dataset collected from a variety of Telegram channels, using the Masked Language Model (MLM). The primary objective of pretraining is to enable the model to learn contextualized word and phrase representations, thereby enhancing its understanding of language semantics. The Transformer’s self-attention mechanism plays a crucial role by allowing the model to dynamically weigh different parts of the input sequence, effectively capturing long-range dependencies in the data.  \n",
    "\n",
    "After pretraining, I will fine-tune the model on a labeled dataset of hate speech and deploy the resulting model in the **Mahder AI** app.\n"
   ]
  },
  {
   "cell_type": "code",
   "execution_count": 1,
   "metadata": {
    "colab": {
     "base_uri": "https://localhost:8080/"
    },
    "executionInfo": {
     "elapsed": 26765,
     "status": "ok",
     "timestamp": 1740320678953,
     "user": {
      "displayName": "Mahder Tesfaye",
      "userId": "10113678197611266820"
     },
     "user_tz": -180
    },
    "id": "ILxzDdk9DpXs",
    "outputId": "7154fee0-514f-4168-efb7-a39f30d55a87"
   },
   "outputs": [
    {
     "ename": "ModuleNotFoundError",
     "evalue": "No module named 'google.colab'",
     "output_type": "error",
     "traceback": [
      "\u001b[0;31m---------------------------------------------------------------------------\u001b[0m",
      "\u001b[0;31mModuleNotFoundError\u001b[0m                       Traceback (most recent call last)",
      "Cell \u001b[0;32mIn[1], line 3\u001b[0m\n\u001b[1;32m      1\u001b[0m \u001b[38;5;66;03m# prompt: import drive\u001b[39;00m\n\u001b[0;32m----> 3\u001b[0m \u001b[38;5;28;01mfrom\u001b[39;00m\u001b[38;5;250m \u001b[39m\u001b[38;5;21;01mgoogle\u001b[39;00m\u001b[38;5;21;01m.\u001b[39;00m\u001b[38;5;21;01mcolab\u001b[39;00m\u001b[38;5;250m \u001b[39m\u001b[38;5;28;01mimport\u001b[39;00m drive\n\u001b[1;32m      4\u001b[0m drive\u001b[38;5;241m.\u001b[39mmount(\u001b[38;5;124m'\u001b[39m\u001b[38;5;124m/content/drive\u001b[39m\u001b[38;5;124m'\u001b[39m)\n",
      "\u001b[0;31mModuleNotFoundError\u001b[0m: No module named 'google.colab'"
     ]
    }
   ],
   "source": [
    "# prompt: import drive\n",
    "\n",
    "from google.colab import drive\n",
    "drive.mount('/content/drive')\n"
   ]
  },
  {
   "cell_type": "code",
   "execution_count": 2,
   "metadata": {
    "colab": {
     "base_uri": "https://localhost:8080/"
    },
    "executionInfo": {
     "elapsed": 20038,
     "status": "ok",
     "timestamp": 1740320701954,
     "user": {
      "displayName": "Mahder Tesfaye",
      "userId": "10113678197611266820"
     },
     "user_tz": -180
    },
    "id": "6FpRqNOfEfVA",
    "outputId": "667942ab-3185-4e1d-b4c9-80fdb2a0a9fa"
   },
   "outputs": [
    {
     "name": "stdout",
     "output_type": "stream",
     "text": [
      "Found existing installation: tensorflow 2.18.0\n",
      "Uninstalling tensorflow-2.18.0:\n",
      "  Successfully uninstalled tensorflow-2.18.0\n",
      "\u001b[33mWARNING: Skipping tensorflow-gpu as it is not installed.\u001b[0m\u001b[33m\n",
      "Reading package lists... Done\n",
      "Building dependency tree... Done\n",
      "Reading state information... Done\n",
      "Note, selecting 'nvidia-driver-550-server' for regex '^nvidia-.*'\n",
      "Note, selecting 'nvidia-firmware-550-server-550.144.03' for regex '^nvidia-.*'\n",
      "Note, selecting 'nvidia-firmware-535-535.154.05' for regex '^nvidia-.*'\n",
      "Note, selecting 'nvidia-docker2' for regex '^nvidia-.*'\n",
      "Note, selecting 'nvidia-firmware-560-server-560.28.03' for regex '^nvidia-.*'\n",
      "Note, selecting 'nvidia-driver-570-server' for regex '^nvidia-.*'\n",
      "Note, selecting 'nvidia-cuda-toolkit-doc' for regex '^nvidia-.*'\n",
      "Note, selecting 'nvidia-imex' for regex '^nvidia-.*'\n",
      "Note, selecting 'nvidia-dkms-450-server' for regex '^nvidia-.*'\n",
      "Note, selecting 'nvidia-firmware-535-server-535.154.05' for regex '^nvidia-.*'\n",
      "Note, selecting 'nvidia-headless-390' for regex '^nvidia-.*'\n",
      "Note, selecting 'nvidia-cuda-toolkit-gcc' for regex '^nvidia-.*'\n",
      "Note, selecting 'nvidia-headless-418' for regex '^nvidia-.*'\n",
      "Note, selecting 'nvidia-headless-430' for regex '^nvidia-.*'\n",
      "Note, selecting 'nvidia-headless-435' for regex '^nvidia-.*'\n",
      "Note, selecting 'nvidia-headless-440' for regex '^nvidia-.*'\n",
      "Note, selecting 'nvidia-headless-450' for regex '^nvidia-.*'\n",
      "Note, selecting 'nvidia-headless-455' for regex '^nvidia-.*'\n",
      "Note, selecting 'nvidia-firmware-560-560.35.03' for regex '^nvidia-.*'\n",
      "Note, selecting 'nvidia-firmware-560-560.35.05' for regex '^nvidia-.*'\n",
      "Note, selecting 'nvidia-headless-460' for regex '^nvidia-.*'\n",
      "Note, selecting 'nvidia-headless-465' for regex '^nvidia-.*'\n",
      "Note, selecting 'nvidia-headless-470' for regex '^nvidia-.*'\n",
      "Note, selecting 'nvidia-dkms-470-server' for regex '^nvidia-.*'\n",
      "Note, selecting 'nvidia-headless-495' for regex '^nvidia-.*'\n",
      "Note, selecting 'nvidia-headless-510' for regex '^nvidia-.*'\n",
      "Note, selecting 'nvidia-headless-515' for regex '^nvidia-.*'\n",
      "Note, selecting 'nvidia-compute-utils-515-server' for regex '^nvidia-.*'\n",
      "Note, selecting 'nvidia-headless-520' for regex '^nvidia-.*'\n",
      "Note, selecting 'nvidia-headless-525' for regex '^nvidia-.*'\n",
      "Note, selecting 'nvidia-headless-530' for regex '^nvidia-.*'\n",
      "Note, selecting 'nvidia-headless-535' for regex '^nvidia-.*'\n",
      "Note, selecting 'nvidia-headless-545' for regex '^nvidia-.*'\n",
      "Note, selecting 'nvidia-headless-550' for regex '^nvidia-.*'\n",
      "Note, selecting 'nvidia-headless-555' for regex '^nvidia-.*'\n",
      "Note, selecting 'nvidia-headless-560' for regex '^nvidia-.*'\n",
      "Note, selecting 'nvidia-headless-565' for regex '^nvidia-.*'\n",
      "Note, selecting 'nvidia-headless-570' for regex '^nvidia-.*'\n",
      "Note, selecting 'nvidia-driver-440-server' for regex '^nvidia-.*'\n",
      "Note, selecting 'nvidia-driver-555-open' for regex '^nvidia-.*'\n",
      "Note, selecting 'nvidia-fabricmanager-dev' for regex '^nvidia-.*'\n",
      "Note, selecting 'nvidia-compute-utils-535-server' for regex '^nvidia-.*'\n",
      "Note, selecting 'nvidia-325-updates' for regex '^nvidia-.*'\n",
      "Note, selecting 'nvidia-driver-460-server' for regex '^nvidia-.*'\n",
      "Note, selecting 'nvidia-primus-vk-common' for regex '^nvidia-.*'\n",
      "Note, selecting 'nvidia-opencl-dev' for regex '^nvidia-.*'\n",
      "Note, selecting 'nvidia-kernel-open-515' for regex '^nvidia-.*'\n",
      "Note, selecting 'nvidia-kernel-open-520' for regex '^nvidia-.*'\n",
      "Note, selecting 'nvidia-kernel-open-525' for regex '^nvidia-.*'\n",
      "Note, selecting 'nvidia-kernel-open-530' for regex '^nvidia-.*'\n",
      "Note, selecting 'nvidia-kernel-open-535' for regex '^nvidia-.*'\n",
      "Note, selecting 'nvidia-kernel-open-545' for regex '^nvidia-.*'\n",
      "Note, selecting 'nvidia-kernel-open-550' for regex '^nvidia-.*'\n",
      "Note, selecting 'nvidia-kernel-open-555' for regex '^nvidia-.*'\n",
      "Note, selecting 'nvidia-kernel-open-560' for regex '^nvidia-.*'\n",
      "Note, selecting 'nvidia-kernel-open-565' for regex '^nvidia-.*'\n",
      "Note, selecting 'nvidia-kernel-open-570' for regex '^nvidia-.*'\n",
      "Note, selecting 'nvidia-headless-no-dkms-565-server' for regex '^nvidia-.*'\n",
      "Note, selecting 'nvidia-kernel-common-418-server' for regex '^nvidia-.*'\n",
      "Note, selecting 'nvidia-cg-toolkit' for regex '^nvidia-.*'\n",
      "Note, selecting 'nvidia-kernel-common-525-server' for regex '^nvidia-.*'\n",
      "Note, selecting 'nvidia-dkms-510-server' for regex '^nvidia-.*'\n",
      "Note, selecting 'nvidia-libopencl1-dev' for regex '^nvidia-.*'\n",
      "Note, selecting 'nvidia-texture-tools' for regex '^nvidia-.*'\n",
      "Note, selecting 'nvidia-driver-525-open' for regex '^nvidia-.*'\n",
      "Note, selecting 'nvidia-opencl-icd' for regex '^nvidia-.*'\n",
      "Note, selecting 'nvidia-kernel-common-565-server' for regex '^nvidia-.*'\n",
      "Note, selecting 'nvidia-headless-450-server' for regex '^nvidia-.*'\n",
      "Note, selecting 'nvidia-compute-utils-390' for regex '^nvidia-.*'\n",
      "Note, selecting 'nvidia-utils' for regex '^nvidia-.*'\n",
      "Note, selecting 'nvidia-compute-utils-418' for regex '^nvidia-.*'\n",
      "Note, selecting 'nvidia-compute-utils-430' for regex '^nvidia-.*'\n",
      "Note, selecting 'nvidia-compute-utils-435' for regex '^nvidia-.*'\n",
      "Note, selecting 'nvidia-compute-utils-440' for regex '^nvidia-.*'\n",
      "Note, selecting 'nvidia-compute-utils-450' for regex '^nvidia-.*'\n",
      "Note, selecting 'nvidia-compute-utils-455' for regex '^nvidia-.*'\n",
      "Note, selecting 'nvidia-compute-utils-460' for regex '^nvidia-.*'\n",
      "Note, selecting 'nvidia-compute-utils-465' for regex '^nvidia-.*'\n",
      "Note, selecting 'nvidia-compute-utils-470' for regex '^nvidia-.*'\n",
      "Note, selecting 'nvidia-compute-utils-495' for regex '^nvidia-.*'\n",
      "Note, selecting 'nvidia-dkms-390' for regex '^nvidia-.*'\n",
      "Note, selecting 'nvidia-headless-470-server' for regex '^nvidia-.*'\n",
      "Note, selecting 'nvidia-compute-utils-510' for regex '^nvidia-.*'\n",
      "Note, selecting 'nvidia-compute-utils-515' for regex '^nvidia-.*'\n",
      "Note, selecting 'nvidia-compute-utils-520' for regex '^nvidia-.*'\n",
      "Note, selecting 'nvidia-compute-utils-525' for regex '^nvidia-.*'\n",
      "Note, selecting 'nvidia-compute-utils-530' for regex '^nvidia-.*'\n",
      "Note, selecting 'nvidia-compute-utils-535' for regex '^nvidia-.*'\n",
      "Note, selecting 'nvidia-compute-utils-545' for regex '^nvidia-.*'\n",
      "Note, selecting 'nvidia-compute-utils-550' for regex '^nvidia-.*'\n",
      "Note, selecting 'nvidia-compute-utils-555' for regex '^nvidia-.*'\n",
      "Note, selecting 'nvidia-compute-utils-560' for regex '^nvidia-.*'\n",
      "Note, selecting 'nvidia-compute-utils-565' for regex '^nvidia-.*'\n",
      "Note, selecting 'nvidia-compute-utils-570' for regex '^nvidia-.*'\n",
      "Note, selecting 'nvidia-dkms-550-open' for regex '^nvidia-.*'\n",
      "Note, selecting 'nvidia-dkms-418' for regex '^nvidia-.*'\n",
      "Note, selecting 'nvidia-dkms-430' for regex '^nvidia-.*'\n",
      "Note, selecting 'nvidia-dkms-435' for regex '^nvidia-.*'\n",
      "Note, selecting 'nvidia-dkms-440' for regex '^nvidia-.*'\n",
      "Note, selecting 'nvidia-dkms-450' for regex '^nvidia-.*'\n",
      "Note, selecting 'nvidia-dkms-455' for regex '^nvidia-.*'\n",
      "Note, selecting 'nvidia-dkms-460' for regex '^nvidia-.*'\n",
      "Note, selecting 'nvidia-dkms-465' for regex '^nvidia-.*'\n",
      "Note, selecting 'nvidia-dkms-470' for regex '^nvidia-.*'\n",
      "Note, selecting 'nvidia-dkms-495' for regex '^nvidia-.*'\n",
      "Note, selecting 'nvidia-381-updates' for regex '^nvidia-.*'\n",
      "Note, selecting 'nvidia-dkms-510' for regex '^nvidia-.*'\n",
      "Note, selecting 'nvidia-dkms-515' for regex '^nvidia-.*'\n",
      "Note, selecting 'nvidia-dkms-520' for regex '^nvidia-.*'\n",
      "Note, selecting 'nvidia-dkms-525' for regex '^nvidia-.*'\n",
      "Note, selecting 'nvidia-dkms-530' for regex '^nvidia-.*'\n",
      "Note, selecting 'nvidia-dkms-535' for regex '^nvidia-.*'\n",
      "Note, selecting 'nvidia-fs' for regex '^nvidia-.*'\n",
      "Note, selecting 'nvidia-dkms-545' for regex '^nvidia-.*'\n",
      "Note, selecting 'nvidia-dkms-550' for regex '^nvidia-.*'\n",
      "Note, selecting 'nvidia-dkms-555' for regex '^nvidia-.*'\n",
      "Note, selecting 'nvidia-dkms-560' for regex '^nvidia-.*'\n",
      "Note, selecting 'nvidia-dkms-565' for regex '^nvidia-.*'\n",
      "Note, selecting 'nvidia-dkms-570' for regex '^nvidia-.*'\n",
      "Note, selecting 'nvidia-container-runtime' for regex '^nvidia-.*'\n",
      "Note, selecting 'nvidia-driver-390' for regex '^nvidia-.*'\n",
      "Note, selecting 'nvidia-driver-410' for regex '^nvidia-.*'\n",
      "Note, selecting 'nvidia-driver-418' for regex '^nvidia-.*'\n",
      "Note, selecting 'nvidia-driver-430' for regex '^nvidia-.*'\n",
      "Note, selecting 'nvidia-driver-435' for regex '^nvidia-.*'\n",
      "Note, selecting 'nvidia-driver-440' for regex '^nvidia-.*'\n",
      "Note, selecting 'nvidia-driver-450' for regex '^nvidia-.*'\n",
      "Note, selecting 'nvidia-driver-455' for regex '^nvidia-.*'\n",
      "Note, selecting 'nvidia-driver-460' for regex '^nvidia-.*'\n",
      "Note, selecting 'nvidia-driver-465' for regex '^nvidia-.*'\n",
      "Note, selecting 'nvidia-driver-470' for regex '^nvidia-.*'\n",
      "Note, selecting 'nvidia-driver-495' for regex '^nvidia-.*'\n",
      "Note, selecting 'nvidia-firmware-565-server-565.57.01' for regex '^nvidia-.*'\n",
      "Note, selecting 'nvidia-headless-550-server-open' for regex '^nvidia-.*'\n",
      "Note, selecting 'nvidia-driver-510' for regex '^nvidia-.*'\n",
      "Note, selecting 'nvidia-driver-515' for regex '^nvidia-.*'\n",
      "Note, selecting 'nvidia-driver-520' for regex '^nvidia-.*'\n",
      "Note, selecting 'nvidia-driver-525' for regex '^nvidia-.*'\n",
      "Note, selecting 'nvidia-driver-530' for regex '^nvidia-.*'\n",
      "Note, selecting 'nvidia-driver-535' for regex '^nvidia-.*'\n",
      "Note, selecting 'nvidia-driver-545' for regex '^nvidia-.*'\n",
      "Note, selecting 'nvidia-driver-550' for regex '^nvidia-.*'\n",
      "Note, selecting 'nvidia-driver-555' for regex '^nvidia-.*'\n",
      "Note, selecting 'nvidia-driver-560' for regex '^nvidia-.*'\n",
      "Note, selecting 'nvidia-driver-565' for regex '^nvidia-.*'\n",
      "Note, selecting 'nvidia-driver-570' for regex '^nvidia-.*'\n",
      "Note, selecting 'nvidia-dkms-440-server' for regex '^nvidia-.*'\n",
      "Note, selecting 'nvidia-open' for regex '^nvidia-.*'\n",
      "Note, selecting 'nvidia-headless-no-dkms-545-open' for regex '^nvidia-.*'\n",
      "Note, selecting 'nvidia-headless-560-open' for regex '^nvidia-.*'\n",
      "Note, selecting 'nvidia-dkms-460-server' for regex '^nvidia-.*'\n",
      "Note, selecting 'nvidia-headless-510-server' for regex '^nvidia-.*'\n",
      "Note, selecting 'nvidia-387-updates' for regex '^nvidia-.*'\n",
      "Note, selecting 'nvidia-driver-570-server-open' for regex '^nvidia-.*'\n",
      "Note, selecting 'nvidia-firmware-550-server-550.90.07' for regex '^nvidia-.*'\n",
      "Note, selecting 'nvidia-firmware-550-server-550.90.12' for regex '^nvidia-.*'\n",
      "Note, selecting 'nvidia-headless-no-dkms-515-server' for regex '^nvidia-.*'\n",
      "Note, selecting 'nvidia-dkms-520-open' for regex '^nvidia-.*'\n",
      "Note, selecting 'nvidia-utils-535-server' for regex '^nvidia-.*'\n",
      "Note, selecting 'nvidia-driver-450-server' for regex '^nvidia-.*'\n",
      "Note, selecting 'nvidia-headless-no-dkms-535-server' for regex '^nvidia-.*'\n",
      "Note, selecting 'nvidia-driver-470-server' for regex '^nvidia-.*'\n",
      "Note, selecting 'nvidia-primus-vk-wrapper' for regex '^nvidia-.*'\n",
      "Note, selecting 'nvidia-kernel-common-515-server' for regex '^nvidia-.*'\n",
      "Note, selecting 'nvidia-kernel-source-535-server-open' for regex '^nvidia-.*'\n",
      "Note, selecting 'nvidia-docker' for regex '^nvidia-.*'\n",
      "Note, selecting 'nvidia-driver-570-open' for regex '^nvidia-.*'\n",
      "Note, selecting 'nvidia-kernel-common-535-server' for regex '^nvidia-.*'\n",
      "Note, selecting 'nvidia-kernel-source-560-open' for regex '^nvidia-.*'\n",
      "Note, selecting 'nvidia-378-updates' for regex '^nvidia-.*'\n",
      "Note, selecting 'nvidia-313-updates' for regex '^nvidia-.*'\n",
      "Note, selecting 'nvidia-driver-560-server-open' for regex '^nvidia-.*'\n",
      "Note, selecting 'nvidia-headless-440-server' for regex '^nvidia-.*'\n",
      "Note, selecting 'nvidia-open-560' for regex '^nvidia-.*'\n",
      "Note, selecting 'nvidia-open-565' for regex '^nvidia-.*'\n",
      "Note, selecting 'nvidia-open-570' for regex '^nvidia-.*'\n",
      "Note, selecting 'nvidia-headless-460-server' for regex '^nvidia-.*'\n",
      "Note, selecting 'nvidia-firmware-565-565.77' for regex '^nvidia-.*'\n",
      "Note, selecting 'nvidia-utils-390' for regex '^nvidia-.*'\n",
      "Note, selecting 'nvidia-headless-545-open' for regex '^nvidia-.*'\n",
      "Note, selecting 'nvidia-utils-418' for regex '^nvidia-.*'\n",
      "Note, selecting 'nvidia-headless' for regex '^nvidia-.*'\n",
      "Note, selecting 'nvidia-utils-430' for regex '^nvidia-.*'\n",
      "Note, selecting 'nvidia-utils-435' for regex '^nvidia-.*'\n",
      "Note, selecting 'nvidia-utils-440' for regex '^nvidia-.*'\n",
      "Note, selecting 'nvidia-utils-450' for regex '^nvidia-.*'\n",
      "Note, selecting 'nvidia-utils-455' for regex '^nvidia-.*'\n",
      "Note, selecting 'nvidia-utils-460' for regex '^nvidia-.*'\n",
      "Note, selecting 'nvidia-utils-465' for regex '^nvidia-.*'\n",
      "Note, selecting 'nvidia-utils-470' for regex '^nvidia-.*'\n",
      "Note, selecting 'nvidia-utils-495' for regex '^nvidia-.*'\n",
      "Note, selecting 'nvidia-utils-510' for regex '^nvidia-.*'\n",
      "Note, selecting 'nvidia-utils-515' for regex '^nvidia-.*'\n",
      "Note, selecting 'nvidia-utils-520' for regex '^nvidia-.*'\n",
      "Note, selecting 'nvidia-utils-525' for regex '^nvidia-.*'\n",
      "Note, selecting 'nvidia-utils-530' for regex '^nvidia-.*'\n",
      "Note, selecting 'nvidia-utils-535' for regex '^nvidia-.*'\n",
      "Note, selecting 'nvidia-utils-545' for regex '^nvidia-.*'\n",
      "Note, selecting 'nvidia-utils-550' for regex '^nvidia-.*'\n",
      "Note, selecting 'nvidia-utils-555' for regex '^nvidia-.*'\n",
      "Note, selecting 'nvidia-utils-560' for regex '^nvidia-.*'\n",
      "Note, selecting 'nvidia-utils-565' for regex '^nvidia-.*'\n",
      "Note, selecting 'nvidia-utils-570' for regex '^nvidia-.*'\n",
      "Note, selecting 'nvidia-319-updates' for regex '^nvidia-.*'\n",
      "Note, selecting 'nvidia-kernel-source-510-server' for regex '^nvidia-.*'\n",
      "Note, selecting 'nvidia-kernel-source-530-open' for regex '^nvidia-.*'\n",
      "Note, selecting 'nvidia-kernel-source-565-server-open' for regex '^nvidia-.*'\n",
      "Note, selecting 'nvidia-egl-wayland-common' for regex '^nvidia-.*'\n",
      "Note, selecting 'nvidia-384-updates' for regex '^nvidia-.*'\n",
      "Note, selecting 'nvidia-304-updates' for regex '^nvidia-.*'\n",
      "Note, selecting 'nvidia-kernel-source-550-server' for regex '^nvidia-.*'\n",
      "Note, selecting 'nvidia-driver-550-server-open' for regex '^nvidia-.*'\n",
      "Note, selecting 'nvidia-utils-418-server' for regex '^nvidia-.*'\n",
      "Note, selecting 'nvidia-utils-525-server' for regex '^nvidia-.*'\n",
      "Note, selecting 'nvidia-headless-515-open' for regex '^nvidia-.*'\n",
      "Note, selecting 'nvidia-headless-no-dkms-418-server' for regex '^nvidia-.*'\n",
      "Note, selecting 'nvidia-headless-no-dkms-525-server' for regex '^nvidia-.*'\n",
      "Note, selecting 'nvidia-dkms-570-open' for regex '^nvidia-.*'\n",
      "Note, selecting 'nvidia-kernel-source-545-open' for regex '^nvidia-.*'\n",
      "Note, selecting 'nvidia-headless-no-dkms-560-open' for regex '^nvidia-.*'\n",
      "Note, selecting 'nvidia-utils-565-server' for regex '^nvidia-.*'\n",
      "Note, selecting 'nvidia-kernel-source-440-server' for regex '^nvidia-.*'\n",
      "Note, selecting 'nvidia-375-updates' for regex '^nvidia-.*'\n",
      "Note, selecting 'nvidia-310-updates' for regex '^nvidia-.*'\n",
      "Note, selecting 'nvidia-driver-assistant' for regex '^nvidia-.*'\n",
      "Note, selecting 'nvidia-firmware-535-535.216.01' for regex '^nvidia-.*'\n",
      "Note, selecting 'nvidia-firmware-535-535.216.03' for regex '^nvidia-.*'\n",
      "Note, selecting 'nvidia-kernel-source-460-server' for regex '^nvidia-.*'\n",
      "Note, selecting 'nvidia-kernel-source-515-open' for regex '^nvidia-.*'\n",
      "Note, selecting 'nvidia-firmware-535-server-535.216.01' for regex '^nvidia-.*'\n",
      "Note, selecting 'nvidia-firmware-535-server-535.216.03' for regex '^nvidia-.*'\n",
      "Note, selecting 'nvidia-headless-no-dkms-535-server-open' for regex '^nvidia-.*'\n",
      "Note, selecting 'nvidia-headless-no-dkms-530-open' for regex '^nvidia-.*'\n",
      "Note, selecting 'nvidia-dkms-550-server-open' for regex '^nvidia-.*'\n",
      "Note, selecting 'nvidia-364-updates' for regex '^nvidia-.*'\n",
      "Note, selecting 'nvidia-hpc-benchmarks-mpich' for regex '^nvidia-.*'\n",
      "Note, selecting 'nvidia-firmware-535-535.146.02' for regex '^nvidia-.*'\n",
      "Note, selecting 'nvidia-dkms-555-open' for regex '^nvidia-.*'\n",
      "Note, selecting 'nvidia-gds-11-7' for regex '^nvidia-.*'\n",
      "Note, selecting 'nvidia-gds-11-8' for regex '^nvidia-.*'\n",
      "Note, selecting 'nvidia-gds-12-0' for regex '^nvidia-.*'\n",
      "Note, selecting 'nvidia-gds-12-1' for regex '^nvidia-.*'\n",
      "Note, selecting 'nvidia-gds-12-2' for regex '^nvidia-.*'\n",
      "Note, selecting 'nvidia-gds-12-3' for regex '^nvidia-.*'\n",
      "Note, selecting 'nvidia-gds-12-4' for regex '^nvidia-.*'\n",
      "Note, selecting 'nvidia-gds-12-5' for regex '^nvidia-.*'\n",
      "Note, selecting 'nvidia-gds-12-6' for regex '^nvidia-.*'\n",
      "Note, selecting 'nvidia-gds-12-8' for regex '^nvidia-.*'\n",
      "Note, selecting 'nvidia-firmware-535-server-535.146.02' for regex '^nvidia-.*'\n",
      "Note, selecting 'nvidia-utils-515-server' for regex '^nvidia-.*'\n",
      "Note, selecting 'nvidia-dkms-565-server' for regex '^nvidia-.*'\n",
      "Note, selecting 'nvidia-firmware-545-server-545.29.06' for regex '^nvidia-.*'\n",
      "Note, selecting 'nvidia-headless-565-open' for regex '^nvidia-.*'\n",
      "Note, selecting 'nvidia-headless-no-dkms-565-server-open' for regex '^nvidia-.*'\n",
      "Note, selecting 'nvidia-firmware-550-server-550.67' for regex '^nvidia-.*'\n",
      "Note, selecting 'nvidia-driver-560-open' for regex '^nvidia-.*'\n",
      "Note, selecting 'nvidia-driver-555-server' for regex '^nvidia-.*'\n",
      "Note, selecting 'nvidia-dkms-525-open' for regex '^nvidia-.*'\n",
      "Note, selecting 'nvidia-headless-no-dkms-515-open' for regex '^nvidia-.*'\n",
      "Note, selecting 'nvidia-headless-530-open' for regex '^nvidia-.*'\n",
      "Note, selecting 'nvidia-kernel-source-450-server' for regex '^nvidia-.*'\n",
      "Note, selecting 'nvidia-legacy-390xx-opencl-icd' for regex '^nvidia-.*'\n",
      "Note, selecting 'nvidia-firmware-550-550.107.02' for regex '^nvidia-.*'\n",
      "Note, selecting 'nvidia-kernel-source-470-server' for regex '^nvidia-.*'\n",
      "Note, selecting 'nvidia-profiler' for regex '^nvidia-.*'\n",
      "Note, selecting 'nvidia-361-updates' for regex '^nvidia-.*'\n",
      "Note, selecting 'nvidia-firmware-535-535.54.03' for regex '^nvidia-.*'\n",
      "Note, selecting 'nvidia-firmware-550-server-550.107.02' for regex '^nvidia-.*'\n",
      "Note, selecting 'nvidia-kernel-source-565-open' for regex '^nvidia-.*'\n",
      "Note, selecting 'nvidia-current-updates' for regex '^nvidia-.*'\n",
      "Note, selecting 'nvidia-compute-utils-510-server' for regex '^nvidia-.*'\n",
      "Note, selecting 'nvidia-visual-profiler' for regex '^nvidia-.*'\n",
      "Note, selecting 'nvidia-dkms-515-server' for regex '^nvidia-.*'\n",
      "Note, selecting 'nvidia-367-updates' for regex '^nvidia-.*'\n",
      "Note, selecting 'nvidia-dkms-535-server' for regex '^nvidia-.*'\n",
      "Note, selecting 'nvidia-compute-utils-550-server' for regex '^nvidia-.*'\n",
      "Note, selecting 'nvidia-firmware-570-server-570.86.10' for regex '^nvidia-.*'\n",
      "Note, selecting 'nvidia-firmware-570-server-570.86.15' for regex '^nvidia-.*'\n",
      "Note, selecting 'nvidia-firmware-570-server-570.86.16' for regex '^nvidia-.*'\n",
      "Note, selecting 'nvidia-kernel-common-390' for regex '^nvidia-.*'\n",
      "Note, selecting 'nvidia-kernel-common-396' for regex '^nvidia-.*'\n",
      "Note, selecting 'nvidia-driver-545-open' for regex '^nvidia-.*'\n",
      "Note, selecting 'nvidia-kernel-common-418' for regex '^nvidia-.*'\n",
      "Note, selecting 'nvidia-kernel-common-430' for regex '^nvidia-.*'\n",
      "Note, selecting 'nvidia-kernel-common-435' for regex '^nvidia-.*'\n",
      "Note, selecting 'nvidia-kernel-common-440' for regex '^nvidia-.*'\n",
      "Note, selecting 'nvidia-kernel-common-450' for regex '^nvidia-.*'\n",
      "Note, selecting 'nvidia-kernel-common-455' for regex '^nvidia-.*'\n",
      "Note, selecting 'nvidia-kernel-common-460' for regex '^nvidia-.*'\n",
      "Note, selecting 'nvidia-kernel-common-465' for regex '^nvidia-.*'\n",
      "Note, selecting 'nvidia-kernel-common-470' for regex '^nvidia-.*'\n",
      "Note, selecting 'nvidia-kernel-common-495' for regex '^nvidia-.*'\n",
      "Note, selecting 'nvidia-kernel-source-535-open' for regex '^nvidia-.*'\n",
      "Note, selecting 'nvidia-legacy-390xx-smi' for regex '^nvidia-.*'\n",
      "Note, selecting 'nvidia-prebuilt-kernel' for regex '^nvidia-.*'\n",
      "Note, selecting 'nvidia-kernel-common-510' for regex '^nvidia-.*'\n",
      "Note, selecting 'nvidia-kernel-common-515' for regex '^nvidia-.*'\n",
      "Note, selecting 'nvidia-kernel-common-520' for regex '^nvidia-.*'\n",
      "Note, selecting 'nvidia-kernel-common-525' for regex '^nvidia-.*'\n",
      "Note, selecting 'nvidia-kernel-common-530' for regex '^nvidia-.*'\n",
      "Note, selecting 'nvidia-kernel-common-535' for regex '^nvidia-.*'\n",
      "Note, selecting 'nvidia-kernel-common-545' for regex '^nvidia-.*'\n",
      "Note, selecting 'nvidia-kernel-common-550' for regex '^nvidia-.*'\n",
      "Note, selecting 'nvidia-kernel-common-555' for regex '^nvidia-.*'\n",
      "Note, selecting 'nvidia-kernel-common-560' for regex '^nvidia-.*'\n",
      "Note, selecting 'nvidia-kernel-common-565' for regex '^nvidia-.*'\n",
      "Note, selecting 'nvidia-kernel-common-570' for regex '^nvidia-.*'\n",
      "Note, selecting 'nvidia-driver-418-server' for regex '^nvidia-.*'\n",
      "Note, selecting 'nvidia-current' for regex '^nvidia-.*'\n",
      "Note, selecting 'nvidia-compute-utils' for regex '^nvidia-.*'\n",
      "Note, selecting 'nvidia-firmware-550-550.127.05' for regex '^nvidia-.*'\n",
      "Note, selecting 'nvidia-firmware-550-550.127.08' for regex '^nvidia-.*'\n",
      "Note, selecting 'nvidia-driver-525-server' for regex '^nvidia-.*'\n",
      "Note, selecting 'nvidia-fs-modules' for regex '^nvidia-.*'\n",
      "Note, selecting 'nvidia-egl-gbm1' for regex '^nvidia-.*'\n",
      "Note, selecting 'nvidia-firmware-550-server-550.127.05' for regex '^nvidia-.*'\n",
      "Note, selecting 'nvidia-firmware-550-server-550.127.08' for regex '^nvidia-.*'\n",
      "Note, selecting 'nvidia-firmware-535-535.161.07' for regex '^nvidia-.*'\n",
      "Note, selecting 'nvidia-firmware-535-535.161.08' for regex '^nvidia-.*'\n",
      "Note, selecting 'nvidia-firmware-560-server-560.35.03' for regex '^nvidia-.*'\n",
      "Note, selecting 'nvidia-firmware-560-server-560.35.05' for regex '^nvidia-.*'\n",
      "Note, selecting 'nvidia-kernel-common' for regex '^nvidia-.*'\n",
      "Note, selecting 'nvidia-compute-utils-440-server' for regex '^nvidia-.*'\n",
      "Note, selecting 'nvidia-358-updates' for regex '^nvidia-.*'\n",
      "Note, selecting 'nvidia-driver-565-server' for regex '^nvidia-.*'\n",
      "Note, selecting 'nvidia-driver-515-open' for regex '^nvidia-.*'\n",
      "Note, selecting 'nvidia-compute-utils-460-server' for regex '^nvidia-.*'\n",
      "Note, selecting 'nvidia-firmware-535-server-535.161.07' for regex '^nvidia-.*'\n",
      "Note, selecting 'nvidia-firmware-535-server-535.161.08' for regex '^nvidia-.*'\n",
      "Note, selecting 'nvidia-cuda-dev' for regex '^nvidia-.*'\n",
      "Note, selecting 'nvidia-headless-no-dkms-565-open' for regex '^nvidia-.*'\n",
      "Note, selecting 'nvidia-cuda-doc' for regex '^nvidia-.*'\n",
      "Note, selecting 'nvidia-headless-515-server' for regex '^nvidia-.*'\n",
      "Note, selecting 'nvidia-fabricmanager' for regex '^nvidia-.*'\n",
      "Note, selecting 'nvidia-firmware-535-535.171.04' for regex '^nvidia-.*'\n",
      "Note, selecting 'nvidia-headless-535-server' for regex '^nvidia-.*'\n",
      "Note, selecting 'nvidia-cuda-gdb' for regex '^nvidia-.*'\n",
      "Note, selecting 'nvidia-340-dev' for regex '^nvidia-.*'\n",
      "Note, selecting 'nvidia-firmware-535-server-535.171.04' for regex '^nvidia-.*'\n",
      "Note, selecting 'nvidia-cuda-toolkit' for regex '^nvidia-.*'\n",
      "Note, selecting 'nvidia-dkms-545-open' for regex '^nvidia-.*'\n",
      "Note, selecting 'nvidia-headless-no-dkms-510-server' for regex '^nvidia-.*'\n",
      "Note, selecting 'nvidia-firmware-560-560.28.03' for regex '^nvidia-.*'\n",
      "Note, selecting 'nvidia-headless-no-dkms-535-open' for regex '^nvidia-.*'\n",
      "Note, selecting 'nvidia-headless-550-open' for regex '^nvidia-.*'\n",
      "Note, selecting 'nvidia-dkms-418-server' for regex '^nvidia-.*'\n",
      "Note, selecting 'nvidia-dkms-525-server' for regex '^nvidia-.*'\n",
      "Note, selecting 'nvidia-headless-no-dkms-550-server' for regex '^nvidia-.*'\n",
      "Note, selecting 'nvidia-prime' for regex '^nvidia-.*'\n",
      "Note, selecting 'nvidia-kernel-common-510-server' for regex '^nvidia-.*'\n",
      "Note, selecting 'nvidia-firmware-545-545.29.06' for regex '^nvidia-.*'\n",
      "Note, selecting 'nvidia-kernel-dkms' for regex '^nvidia-.*'\n",
      "Note, selecting 'nvidia-firmware-550-550.54.14' for regex '^nvidia-.*'\n",
      "Note, selecting 'nvidia-firmware-550-550.54.15' for regex '^nvidia-.*'\n",
      "Note, selecting 'nvidia-driver-515-server' for regex '^nvidia-.*'\n",
      "Note, selecting 'nvidia-dkms-515-open' for regex '^nvidia-.*'\n",
      "Note, selecting 'nvidia-355-updates' for regex '^nvidia-.*'\n",
      "Note, selecting 'nvidia-driver-535-server' for regex '^nvidia-.*'\n",
      "Note, selecting 'nvidia-kernel-common-550-server' for regex '^nvidia-.*'\n",
      "Note, selecting 'nvidia-headless-520-open' for regex '^nvidia-.*'\n",
      "Note, selecting 'nvidia-kernel-source-550-open' for regex '^nvidia-.*'\n",
      "Note, selecting 'nvidia-opencl-icd-340' for regex '^nvidia-.*'\n",
      "Note, selecting 'nvidia-opencl-icd-384' for regex '^nvidia-.*'\n",
      "Note, selecting 'nvidia-compute-utils-450-server' for regex '^nvidia-.*'\n",
      "Note, selecting 'nvidia-kernel-open' for regex '^nvidia-.*'\n",
      "Note, selecting 'nvidia-304' for regex '^nvidia-.*'\n",
      "Note, selecting 'nvidia-310' for regex '^nvidia-.*'\n",
      "Note, selecting 'nvidia-313' for regex '^nvidia-.*'\n",
      "Note, selecting 'nvidia-319' for regex '^nvidia-.*'\n",
      "Note, selecting 'nvidia-325' for regex '^nvidia-.*'\n",
      "Note, selecting 'nvidia-331' for regex '^nvidia-.*'\n",
      "Note, selecting 'nvidia-334' for regex '^nvidia-.*'\n",
      "Note, selecting 'nvidia-337' for regex '^nvidia-.*'\n",
      "Note, selecting 'nvidia-340' for regex '^nvidia-.*'\n",
      "Note, selecting 'nvidia-343' for regex '^nvidia-.*'\n",
      "Note, selecting 'nvidia-346' for regex '^nvidia-.*'\n",
      "Note, selecting 'nvidia-349' for regex '^nvidia-.*'\n",
      "Note, selecting 'nvidia-352' for regex '^nvidia-.*'\n",
      "Note, selecting 'nvidia-355' for regex '^nvidia-.*'\n",
      "Note, selecting 'nvidia-358' for regex '^nvidia-.*'\n",
      "Note, selecting 'nvidia-361' for regex '^nvidia-.*'\n",
      "Note, selecting 'nvidia-364' for regex '^nvidia-.*'\n",
      "Note, selecting 'nvidia-367' for regex '^nvidia-.*'\n",
      "Note, selecting 'nvidia-375' for regex '^nvidia-.*'\n",
      "Note, selecting 'nvidia-378' for regex '^nvidia-.*'\n",
      "Note, selecting 'nvidia-381' for regex '^nvidia-.*'\n",
      "Note, selecting 'nvidia-384' for regex '^nvidia-.*'\n",
      "Note, selecting 'nvidia-387' for regex '^nvidia-.*'\n",
      "Note, selecting 'nvidia-390' for regex '^nvidia-.*'\n",
      "Note, selecting 'nvidia-fs-dkms' for regex '^nvidia-.*'\n",
      "Note, selecting 'nvidia-firmware-565-server-565.77' for regex '^nvidia-.*'\n",
      "Note, selecting 'nvidia-compute-utils-470-server' for regex '^nvidia-.*'\n",
      "Note, selecting 'nvidia-kernel-common-440-server' for regex '^nvidia-.*'\n",
      "Note, selecting 'nvidia-headless-418-server' for regex '^nvidia-.*'\n",
      "Note, selecting 'nvidia-340-uvm' for regex '^nvidia-.*'\n",
      "Note, selecting 'nvidia-headless-525-server' for regex '^nvidia-.*'\n",
      "Note, selecting 'nvidia-firmware-550-server-550.120' for regex '^nvidia-.*'\n",
      "Note, selecting 'nvidia-firmware-550-server-550.135' for regex '^nvidia-.*'\n",
      "Note, selecting 'nvidia-firmware-550-server-550.142' for regex '^nvidia-.*'\n",
      "Note, selecting 'nvidia-headless-535-open' for regex '^nvidia-.*'\n",
      "Note, selecting 'nvidia-346-updates' for regex '^nvidia-.*'\n",
      "Note, selecting 'nvidia-fs-prebuilt-kernel' for regex '^nvidia-.*'\n",
      "Note, selecting 'nvidia-kernel-common-460-server' for regex '^nvidia-.*'\n",
      "Note, selecting 'nvidia-kernel-source-550-server-open' for regex '^nvidia-.*'\n",
      "Note, selecting 'nvidia-driver-530-open' for regex '^nvidia-.*'\n",
      "Note, selecting 'nvidia-kernel-source-520-open' for regex '^nvidia-.*'\n",
      "Note, selecting 'nvidia-headless-535-server-open' for regex '^nvidia-.*'\n",
      "Note, selecting 'nvidia-settings' for regex '^nvidia-.*'\n",
      "Note, selecting 'nvidia-headless-565-server' for regex '^nvidia-.*'\n",
      "Note, selecting 'nvidia-headless-no-dkms-390' for regex '^nvidia-.*'\n",
      "Note, selecting 'nvidia-driver-555-server-open' for regex '^nvidia-.*'\n",
      "Note, selecting 'nvidia-headless-no-dkms-418' for regex '^nvidia-.*'\n",
      "Note, selecting 'nvidia-headless-no-dkms-430' for regex '^nvidia-.*'\n",
      "Note, selecting 'nvidia-headless-no-dkms-435' for regex '^nvidia-.*'\n",
      "Note, selecting 'nvidia-headless-no-dkms-440' for regex '^nvidia-.*'\n",
      "Note, selecting 'nvidia-headless-no-dkms-450' for regex '^nvidia-.*'\n",
      "Note, selecting 'nvidia-headless-no-dkms-455' for regex '^nvidia-.*'\n",
      "Note, selecting 'nvidia-headless-no-dkms-460' for regex '^nvidia-.*'\n",
      "Note, selecting 'nvidia-headless-no-dkms-465' for regex '^nvidia-.*'\n",
      "Note, selecting 'nvidia-headless-no-dkms-470' for regex '^nvidia-.*'\n",
      "Note, selecting 'nvidia-headless-no-dkms-495' for regex '^nvidia-.*'\n",
      "Note, selecting 'nvidia-container-runtime-hook' for regex '^nvidia-.*'\n",
      "Note, selecting 'nvidia-cudnn' for regex '^nvidia-.*'\n",
      "Note, selecting 'nvidia-headless-no-dkms-510' for regex '^nvidia-.*'\n",
      "Note, selecting 'nvidia-headless-no-dkms-515' for regex '^nvidia-.*'\n",
      "Note, selecting 'nvidia-headless-no-dkms-520' for regex '^nvidia-.*'\n",
      "Note, selecting 'nvidia-headless-no-dkms-525' for regex '^nvidia-.*'\n",
      "Note, selecting 'nvidia-headless-no-dkms-530' for regex '^nvidia-.*'\n",
      "Note, selecting 'nvidia-headless-no-dkms-535' for regex '^nvidia-.*'\n",
      "Note, selecting 'nvidia-headless-no-dkms-545' for regex '^nvidia-.*'\n",
      "Note, selecting 'nvidia-headless-no-dkms-550' for regex '^nvidia-.*'\n",
      "Note, selecting 'nvidia-headless-no-dkms-555' for regex '^nvidia-.*'\n",
      "Note, selecting 'nvidia-headless-no-dkms-560' for regex '^nvidia-.*'\n",
      "Note, selecting 'nvidia-headless-no-dkms-565' for regex '^nvidia-.*'\n",
      "Note, selecting 'nvidia-headless-no-dkms-570' for regex '^nvidia-.*'\n",
      "Note, selecting 'nvidia-352-updates' for regex '^nvidia-.*'\n",
      "Note, selecting 'nvidia-dkms-560-open' for regex '^nvidia-.*'\n",
      "Note, selecting 'nvidia-dkms-565-server-open' for regex '^nvidia-.*'\n",
      "Note, selecting 'nvidia-firmware-555-555.42.02' for regex '^nvidia-.*'\n",
      "Note, selecting 'nvidia-firmware-555-555.42.06' for regex '^nvidia-.*'\n",
      "Note, selecting 'nvidia-headless-no-dkms-550-open' for regex '^nvidia-.*'\n",
      "Note, selecting 'nvidia-firmware-535-535.113.01' for regex '^nvidia-.*'\n",
      "Note, selecting 'nvidia-libopencl1' for regex '^nvidia-.*'\n",
      "Note, selecting 'nvidia-fabricmanager-dev-450' for regex '^nvidia-.*'\n",
      "Note, selecting 'nvidia-fabricmanager-dev-460' for regex '^nvidia-.*'\n",
      "Note, selecting 'nvidia-fabricmanager-dev-470' for regex '^nvidia-.*'\n",
      "Note, selecting 'nvidia-firmware-570-570.86.10' for regex '^nvidia-.*'\n",
      "Note, selecting 'nvidia-firmware-570-570.86.15' for regex '^nvidia-.*'\n",
      "Note, selecting 'nvidia-firmware-570-570.86.16' for regex '^nvidia-.*'\n",
      "Note, selecting 'nvidia-fabricmanager-dev-510' for regex '^nvidia-.*'\n",
      "Note, selecting 'nvidia-fabricmanager-dev-515' for regex '^nvidia-.*'\n",
      "Note, selecting 'nvidia-fabricmanager-dev-520' for regex '^nvidia-.*'\n",
      "Note, selecting 'nvidia-fabricmanager-dev-525' for regex '^nvidia-.*'\n",
      "Note, selecting 'nvidia-fabricmanager-dev-530' for regex '^nvidia-.*'\n",
      "Note, selecting 'nvidia-fabricmanager-dev-535' for regex '^nvidia-.*'\n",
      "Note, selecting 'nvidia-fabricmanager-dev-545' for regex '^nvidia-.*'\n",
      "Note, selecting 'nvidia-fabricmanager-dev-550' for regex '^nvidia-.*'\n",
      "Note, selecting 'nvidia-fabricmanager-dev-555' for regex '^nvidia-.*'\n",
      "Note, selecting 'nvidia-fabricmanager-dev-560' for regex '^nvidia-.*'\n",
      "Note, selecting 'nvidia-fabricmanager-dev-565' for regex '^nvidia-.*'\n",
      "Note, selecting 'nvidia-fabricmanager-dev-570' for regex '^nvidia-.*'\n",
      "Note, selecting 'nvidia-headless-565-server-open' for regex '^nvidia-.*'\n",
      "Note, selecting 'nvidia-firmware-535-server-535.113.01' for regex '^nvidia-.*'\n",
      "Note, selecting 'nvidia-kernel-source-418-server' for regex '^nvidia-.*'\n",
      "Note, selecting 'nvidia-kernel-source-525-server' for regex '^nvidia-.*'\n",
      "Note, selecting 'nvidia-headless-no-dkms-450-server' for regex '^nvidia-.*'\n",
      "Note, selecting 'nvidia-dkms-530-open' for regex '^nvidia-.*'\n",
      "Note, selecting 'nvidia-headless-no-dkms-470-server' for regex '^nvidia-.*'\n",
      "Note, selecting 'nvidia-343-updates' for regex '^nvidia-.*'\n",
      "Note, selecting 'nvidia-headless-no-dkms-520-open' for regex '^nvidia-.*'\n",
      "Note, selecting 'nvidia-kernel-source-open' for regex '^nvidia-.*'\n",
      "Note, selecting 'nvidia-kernel-source-565-server' for regex '^nvidia-.*'\n",
      "Note, selecting 'nvidia-kernel-common-450-server' for regex '^nvidia-.*'\n",
      "Note, selecting 'nvidia-firmware-550-server-550.54.14' for regex '^nvidia-.*'\n",
      "Note, selecting 'nvidia-firmware-550-server-550.54.15' for regex '^nvidia-.*'\n",
      "Note, selecting 'nvidia-kernel-common-470-server' for regex '^nvidia-.*'\n",
      "Note, selecting 'nvidia-utils-510-server' for regex '^nvidia-.*'\n",
      "Note, selecting 'nvidia-kernel-source-570-open' for regex '^nvidia-.*'\n",
      "Note, selecting 'nvidia-349-updates' for regex '^nvidia-.*'\n",
      "Note, selecting 'nvidia-firmware-550-550.67' for regex '^nvidia-.*'\n",
      "Note, selecting 'nvidia-fabricmanager-450' for regex '^nvidia-.*'\n",
      "Note, selecting 'nvidia-fabricmanager-460' for regex '^nvidia-.*'\n",
      "Note, selecting 'nvidia-firmware-555-server-555.42.02' for regex '^nvidia-.*'\n",
      "Note, selecting 'nvidia-firmware-555-server-555.42.06' for regex '^nvidia-.*'\n",
      "Note, selecting 'nvidia-fabricmanager-470' for regex '^nvidia-.*'\n",
      "Note, selecting 'nvidia-fabricmanager-510' for regex '^nvidia-.*'\n",
      "Note, selecting 'nvidia-fabricmanager-515' for regex '^nvidia-.*'\n",
      "Note, selecting 'nvidia-fabricmanager-520' for regex '^nvidia-.*'\n",
      "Note, selecting 'nvidia-fabricmanager-525' for regex '^nvidia-.*'\n",
      "Note, selecting 'nvidia-fabricmanager-530' for regex '^nvidia-.*'\n",
      "Note, selecting 'nvidia-fabricmanager-535' for regex '^nvidia-.*'\n",
      "Note, selecting 'nvidia-fabricmanager-545' for regex '^nvidia-.*'\n",
      "Note, selecting 'nvidia-fabricmanager-550' for regex '^nvidia-.*'\n",
      "Note, selecting 'nvidia-fabricmanager-555' for regex '^nvidia-.*'\n",
      "Note, selecting 'nvidia-fabricmanager-560' for regex '^nvidia-.*'\n",
      "Note, selecting 'nvidia-fabricmanager-565' for regex '^nvidia-.*'\n",
      "Note, selecting 'nvidia-fabricmanager-570' for regex '^nvidia-.*'\n",
      "Note, selecting 'nvidia-334-updates' for regex '^nvidia-.*'\n",
      "Note, selecting 'nvidia-driver-535-server-open' for regex '^nvidia-.*'\n",
      "Note, selecting 'nvidia-headless-no-dkms-550-server-open' for regex '^nvidia-.*'\n",
      "Note, selecting 'nvidia-utils-550-server' for regex '^nvidia-.*'\n",
      "Note, selecting 'nvidia-container-toolkit' for regex '^nvidia-.*'\n",
      "Note, selecting 'nvidia-libopencl1-340' for regex '^nvidia-.*'\n",
      "Note, selecting 'nvidia-libopencl1-384' for regex '^nvidia-.*'\n",
      "Note, selecting 'nvidia-hpc-benchmarks-openmpi' for regex '^nvidia-.*'\n",
      "Note, selecting 'nvidia-headless-555-open' for regex '^nvidia-.*'\n",
      "Note, selecting 'nvidia-driver-550-open' for regex '^nvidia-.*'\n",
      "Note, selecting 'nvidia-hpc-benchmarks' for regex '^nvidia-.*'\n",
      "Note, selecting 'nvidia-container-toolkit-base' for regex '^nvidia-.*'\n",
      "Note, selecting 'nvidia-utils-440-server' for regex '^nvidia-.*'\n",
      "Note, selecting 'nvidia-firmware-535-535.129.03' for regex '^nvidia-.*'\n",
      "Note, selecting 'nvidia-kernel-source-515-server' for regex '^nvidia-.*'\n",
      "Note, selecting 'nvidia-kernel-source-390' for regex '^nvidia-.*'\n",
      "Note, selecting 'nvidia-headless-no-dkms-440-server' for regex '^nvidia-.*'\n",
      "Note, selecting 'nvidia-340-updates' for regex '^nvidia-.*'\n",
      "Note, selecting 'nvidia-utils-460-server' for regex '^nvidia-.*'\n",
      "Note, selecting 'nvidia-kernel-source-418' for regex '^nvidia-.*'\n",
      "Note, selecting 'nvidia-kernel-source-430' for regex '^nvidia-.*'\n",
      "Note, selecting 'nvidia-kernel-source-435' for regex '^nvidia-.*'\n",
      "Note, selecting 'nvidia-kernel-source-440' for regex '^nvidia-.*'\n",
      "Note, selecting 'nvidia-kernel-source-450' for regex '^nvidia-.*'\n",
      "Note, selecting 'nvidia-kernel-source-455' for regex '^nvidia-.*'\n",
      "Note, selecting 'nvidia-kernel-source-460' for regex '^nvidia-.*'\n",
      "Note, selecting 'nvidia-kernel-source-465' for regex '^nvidia-.*'\n",
      "Note, selecting 'nvidia-kernel-source-470' for regex '^nvidia-.*'\n",
      "Note, selecting 'nvidia-kernel-source-495' for regex '^nvidia-.*'\n",
      "Note, selecting 'nvidia-kernel-source-510' for regex '^nvidia-.*'\n",
      "Note, selecting 'nvidia-kernel-source-515' for regex '^nvidia-.*'\n",
      "Note, selecting 'nvidia-headless-525-open' for regex '^nvidia-.*'\n",
      "Note, selecting 'nvidia-kernel-source-535-server' for regex '^nvidia-.*'\n",
      "Note, selecting 'nvidia-kernel-source-520' for regex '^nvidia-.*'\n",
      "Note, selecting 'nvidia-kernel-source-525' for regex '^nvidia-.*'\n",
      "Note, selecting 'nvidia-kernel-source-530' for regex '^nvidia-.*'\n",
      "Note, selecting 'nvidia-kernel-source-535' for regex '^nvidia-.*'\n",
      "Note, selecting 'nvidia-kernel-source-545' for regex '^nvidia-.*'\n",
      "Note, selecting 'nvidia-kernel-source-550' for regex '^nvidia-.*'\n",
      "Note, selecting 'nvidia-kernel-source-555' for regex '^nvidia-.*'\n",
      "Note, selecting 'nvidia-kernel-source-560' for regex '^nvidia-.*'\n",
      "Note, selecting 'nvidia-kernel-source-565' for regex '^nvidia-.*'\n",
      "Note, selecting 'nvidia-kernel-source-570' for regex '^nvidia-.*'\n",
      "Note, selecting 'nvidia-headless-no-dkms-460-server' for regex '^nvidia-.*'\n",
      "Note, selecting 'nvidia-driver-565-open' for regex '^nvidia-.*'\n",
      "Note, selecting 'nvidia-driver-565-server-open' for regex '^nvidia-.*'\n",
      "Note, selecting 'nvidia-driver-520-open' for regex '^nvidia-.*'\n",
      "Note, selecting 'nvidia-firmware-535-server-535.129.03' for regex '^nvidia-.*'\n",
      "Note, selecting 'nvidia-kernel-source-555-open' for regex '^nvidia-.*'\n",
      "Note, selecting 'nvidia-firmware-535-535.104.05' for regex '^nvidia-.*'\n",
      "Note, selecting 'nvidia-firmware-535-535.104.12' for regex '^nvidia-.*'\n",
      "Note, selecting 'nvidia-dkms-535-server-open' for regex '^nvidia-.*'\n",
      "Note, selecting 'nvidia-headless-no-dkms-570-open' for regex '^nvidia-.*'\n",
      "Note, selecting 'nvidia-384-dev' for regex '^nvidia-.*'\n",
      "Note, selecting 'nvidia-experimental-304' for regex '^nvidia-.*'\n",
      "Note, selecting 'nvidia-experimental-310' for regex '^nvidia-.*'\n",
      "Note, selecting 'nvidia-experimental-313' for regex '^nvidia-.*'\n",
      "Note, selecting 'nvidia-experimental-319' for regex '^nvidia-.*'\n",
      "Note, selecting 'nvidia-experimental-325' for regex '^nvidia-.*'\n",
      "Note, selecting 'nvidia-experimental-331' for regex '^nvidia-.*'\n",
      "Note, selecting 'nvidia-experimental-334' for regex '^nvidia-.*'\n",
      "Note, selecting 'nvidia-experimental-337' for regex '^nvidia-.*'\n",
      "Note, selecting 'nvidia-experimental-340' for regex '^nvidia-.*'\n",
      "Note, selecting 'nvidia-experimental-343' for regex '^nvidia-.*'\n",
      "Note, selecting 'nvidia-experimental-346' for regex '^nvidia-.*'\n",
      "Note, selecting 'nvidia-experimental-349' for regex '^nvidia-.*'\n",
      "Note, selecting 'nvidia-experimental-352' for regex '^nvidia-.*'\n",
      "Note, selecting 'nvidia-experimental-355' for regex '^nvidia-.*'\n",
      "Note, selecting 'nvidia-experimental-358' for regex '^nvidia-.*'\n",
      "Note, selecting 'nvidia-experimental-361' for regex '^nvidia-.*'\n",
      "Note, selecting 'nvidia-experimental-364' for regex '^nvidia-.*'\n",
      "Note, selecting 'nvidia-experimental-367' for regex '^nvidia-.*'\n",
      "Note, selecting 'nvidia-experimental-375' for regex '^nvidia-.*'\n",
      "Note, selecting 'nvidia-experimental-378' for regex '^nvidia-.*'\n",
      "Note, selecting 'nvidia-experimental-381' for regex '^nvidia-.*'\n",
      "Note, selecting 'nvidia-experimental-384' for regex '^nvidia-.*'\n",
      "Note, selecting 'nvidia-experimental-387' for regex '^nvidia-.*'\n",
      "Note, selecting 'nvidia-firmware-535-server-535.104.05' for regex '^nvidia-.*'\n",
      "Note, selecting 'nvidia-firmware-535-server-535.104.12' for regex '^nvidia-.*'\n",
      "Note, selecting 'nvidia-dkms-550-server' for regex '^nvidia-.*'\n",
      "Note, selecting 'nvidia-imex-550' for regex '^nvidia-.*'\n",
      "Note, selecting 'nvidia-imex-560' for regex '^nvidia-.*'\n",
      "Note, selecting 'nvidia-imex-565' for regex '^nvidia-.*'\n",
      "Note, selecting 'nvidia-imex-570' for regex '^nvidia-.*'\n",
      "Note, selecting 'nvidia-331-updates' for regex '^nvidia-.*'\n",
      "Note, selecting 'nvidia-firmware-535-535.86.05' for regex '^nvidia-.*'\n",
      "Note, selecting 'nvidia-driver-535-open' for regex '^nvidia-.*'\n",
      "Note, selecting 'nvidia-kernel-source-525-open' for regex '^nvidia-.*'\n",
      "Note, selecting 'nvidia-driver-560-server' for regex '^nvidia-.*'\n",
      "Note, selecting 'nvidia-337-updates' for regex '^nvidia-.*'\n",
      "Note, selecting 'nvidia-gds' for regex '^nvidia-.*'\n",
      "Note, selecting 'nvidia-firmware-535-535.183.01' for regex '^nvidia-.*'\n",
      "Note, selecting 'nvidia-firmware-535-535.183.06' for regex '^nvidia-.*'\n",
      "Note, selecting 'nvidia-firmware-550-550.120' for regex '^nvidia-.*'\n",
      "Note, selecting 'nvidia-firmware-550-550.135' for regex '^nvidia-.*'\n",
      "Note, selecting 'nvidia-firmware-550-550.142' for regex '^nvidia-.*'\n",
      "Note, selecting 'nvidia-firmware-535-server-535.54.03' for regex '^nvidia-.*'\n",
      "Note, selecting 'nvidia-dkms-565-open' for regex '^nvidia-.*'\n",
      "Note, selecting 'nvidia-compute-utils-418-server' for regex '^nvidia-.*'\n",
      "Note, selecting 'nvidia-fs-prebuilt' for regex '^nvidia-.*'\n",
      "Note, selecting 'nvidia-compute-utils-525-server' for regex '^nvidia-.*'\n",
      "Note, selecting 'nvidia-headless-no-dkms-555-open' for regex '^nvidia-.*'\n",
      "Note, selecting 'nvidia-headless-570-open' for regex '^nvidia-.*'\n",
      "Note, selecting 'nvidia-utils-450-server' for regex '^nvidia-.*'\n",
      "Note, selecting 'nvidia-firmware-535-server-535.183.01' for regex '^nvidia-.*'\n",
      "Note, selecting 'nvidia-firmware-535-server-535.183.06' for regex '^nvidia-.*'\n",
      "Note, selecting 'nvidia-headless-550-server' for regex '^nvidia-.*'\n",
      "Note, selecting 'nvidia-settings-binary' for regex '^nvidia-.*'\n",
      "Note, selecting 'nvidia-dkms-kernel' for regex '^nvidia-.*'\n",
      "Note, selecting 'nvidia-modprobe' for regex '^nvidia-.*'\n",
      "Note, selecting 'nvidia-utils-470-server' for regex '^nvidia-.*'\n",
      "Note, selecting 'nvidia-compute-utils-565-server' for regex '^nvidia-.*'\n",
      "Note, selecting 'nvidia-cg-dev' for regex '^nvidia-.*'\n",
      "Note, selecting 'nvidia-dkms-535-open' for regex '^nvidia-.*'\n",
      "Note, selecting 'nvidia-cg-doc' for regex '^nvidia-.*'\n",
      "Note, selecting 'nvidia-kernel-source' for regex '^nvidia-.*'\n",
      "Note, selecting 'nvidia-common' for regex '^nvidia-.*'\n",
      "Note, selecting 'nvidia-persistenced' for regex '^nvidia-.*'\n",
      "Note, selecting 'nvidia-firmware-550-550.90.07' for regex '^nvidia-.*'\n",
      "Note, selecting 'nvidia-firmware-550-550.90.12' for regex '^nvidia-.*'\n",
      "Note, selecting 'nvidia-firmware-565-565.57.01' for regex '^nvidia-.*'\n",
      "Note, selecting 'nvidia-headless-no-dkms-525-open' for regex '^nvidia-.*'\n",
      "Note, selecting 'nvidia-driver-binary' for regex '^nvidia-.*'\n",
      "Note, selecting 'nvidia-smi' for regex '^nvidia-.*'\n",
      "Note, selecting 'nvidia-driver-510-server' for regex '^nvidia-.*'\n",
      "Note, selecting 'nvidia-firmware-550-550.144.03' for regex '^nvidia-.*'\n",
      "Package 'nvidia-egl-wayland-common' is not installed, so not removed\n",
      "Note, selecting 'nvidia-settings' instead of 'nvidia-settings-binary'\n",
      "Package 'nvidia-390' is not installed, so not removed\n",
      "Note, selecting 'libnvtt-bin' instead of 'nvidia-texture-tools'\n",
      "Package 'nvidia-libopencl1-dev' is not installed, so not removed\n",
      "Package 'nvidia-current' is not installed, so not removed\n",
      "Package 'nvidia-current-updates' is not installed, so not removed\n",
      "Package 'nvidia-libopencl1' is not installed, so not removed\n",
      "Package 'nvidia-driver-410' is not installed, so not removed\n",
      "Package 'nvidia-387' is not installed, so not removed\n",
      "Package 'nvidia-387-updates' is not installed, so not removed\n",
      "Package 'nvidia-experimental-387' is not installed, so not removed\n",
      "Package 'nvidia-384-updates' is not installed, so not removed\n",
      "Package 'nvidia-experimental-384' is not installed, so not removed\n",
      "Package 'nvidia-381' is not installed, so not removed\n",
      "Package 'nvidia-381-updates' is not installed, so not removed\n",
      "Package 'nvidia-experimental-381' is not installed, so not removed\n",
      "Package 'nvidia-378' is not installed, so not removed\n",
      "Package 'nvidia-378-updates' is not installed, so not removed\n",
      "Package 'nvidia-experimental-378' is not installed, so not removed\n",
      "Package 'nvidia-375' is not installed, so not removed\n",
      "Package 'nvidia-375-updates' is not installed, so not removed\n",
      "Package 'nvidia-experimental-375' is not installed, so not removed\n",
      "Package 'nvidia-367' is not installed, so not removed\n",
      "Package 'nvidia-367-updates' is not installed, so not removed\n",
      "Package 'nvidia-experimental-367' is not installed, so not removed\n",
      "Package 'nvidia-364' is not installed, so not removed\n",
      "Package 'nvidia-364-updates' is not installed, so not removed\n",
      "Package 'nvidia-experimental-364' is not installed, so not removed\n",
      "Package 'nvidia-361' is not installed, so not removed\n",
      "Package 'nvidia-361-updates' is not installed, so not removed\n",
      "Package 'nvidia-experimental-361' is not installed, so not removed\n",
      "Package 'nvidia-358' is not installed, so not removed\n",
      "Package 'nvidia-358-updates' is not installed, so not removed\n",
      "Package 'nvidia-experimental-358' is not installed, so not removed\n",
      "Package 'nvidia-355' is not installed, so not removed\n",
      "Package 'nvidia-355-updates' is not installed, so not removed\n",
      "Package 'nvidia-experimental-355' is not installed, so not removed\n",
      "Package 'nvidia-352' is not installed, so not removed\n",
      "Package 'nvidia-352-updates' is not installed, so not removed\n",
      "Package 'nvidia-experimental-352' is not installed, so not removed\n",
      "Package 'nvidia-349' is not installed, so not removed\n",
      "Package 'nvidia-349-updates' is not installed, so not removed\n",
      "Package 'nvidia-experimental-349' is not installed, so not removed\n",
      "Package 'nvidia-346' is not installed, so not removed\n",
      "Package 'nvidia-346-updates' is not installed, so not removed\n",
      "Package 'nvidia-experimental-346' is not installed, so not removed\n",
      "Package 'nvidia-343' is not installed, so not removed\n",
      "Package 'nvidia-343-updates' is not installed, so not removed\n",
      "Package 'nvidia-experimental-343' is not installed, so not removed\n",
      "Package 'nvidia-340-updates' is not installed, so not removed\n",
      "Package 'nvidia-experimental-340' is not installed, so not removed\n",
      "Package 'nvidia-337' is not installed, so not removed\n",
      "Package 'nvidia-337-updates' is not installed, so not removed\n",
      "Package 'nvidia-experimental-337' is not installed, so not removed\n",
      "Package 'nvidia-334' is not installed, so not removed\n",
      "Package 'nvidia-334-updates' is not installed, so not removed\n",
      "Package 'nvidia-experimental-334' is not installed, so not removed\n",
      "Package 'nvidia-331' is not installed, so not removed\n",
      "Package 'nvidia-331-updates' is not installed, so not removed\n",
      "Package 'nvidia-experimental-331' is not installed, so not removed\n",
      "Package 'nvidia-325' is not installed, so not removed\n",
      "Package 'nvidia-325-updates' is not installed, so not removed\n",
      "Package 'nvidia-experimental-325' is not installed, so not removed\n",
      "Package 'nvidia-319' is not installed, so not removed\n",
      "Package 'nvidia-319-updates' is not installed, so not removed\n",
      "Package 'nvidia-experimental-319' is not installed, so not removed\n",
      "Package 'nvidia-313' is not installed, so not removed\n",
      "Package 'nvidia-313-updates' is not installed, so not removed\n",
      "Package 'nvidia-experimental-313' is not installed, so not removed\n",
      "Package 'nvidia-310' is not installed, so not removed\n",
      "Package 'nvidia-310-updates' is not installed, so not removed\n",
      "Package 'nvidia-experimental-310' is not installed, so not removed\n",
      "Package 'nvidia-304' is not installed, so not removed\n",
      "Package 'nvidia-304-updates' is not installed, so not removed\n",
      "Package 'nvidia-experimental-304' is not installed, so not removed\n",
      "Package 'nvidia-legacy-390xx-opencl-icd' is not installed, so not removed\n",
      "Package 'nvidia-legacy-390xx-smi' is not installed, so not removed\n",
      "Package 'nvidia-cuda-doc' is not installed, so not removed\n",
      "Package 'nvidia-firmware-535-server-535.113.01' is not installed, so not removed\n",
      "Package 'nvidia-firmware-535-server-535.146.02' is not installed, so not removed\n",
      "Package 'nvidia-firmware-535-server-535.171.04' is not installed, so not removed\n",
      "Package 'nvidia-firmware-535-535.104.12' is not installed, so not removed\n",
      "Package 'nvidia-firmware-535-535.161.08' is not installed, so not removed\n",
      "Package 'nvidia-firmware-535-535.183.06' is not installed, so not removed\n",
      "Package 'nvidia-firmware-535-535.216.01' is not installed, so not removed\n",
      "Package 'nvidia-firmware-535-535.216.03' is not installed, so not removed\n",
      "Package 'nvidia-firmware-545-server-545.29.06' is not installed, so not removed\n",
      "Package 'nvidia-firmware-550-server-550.107.02' is not installed, so not removed\n",
      "Package 'nvidia-firmware-550-server-550.120' is not installed, so not removed\n",
      "Package 'nvidia-firmware-550-server-550.67' is not installed, so not removed\n",
      "Package 'nvidia-driver-555-server' is not installed, so not removed\n",
      "Package 'nvidia-driver-555-server-open' is not installed, so not removed\n",
      "Package 'nvidia-container-runtime-hook' is not installed, so not removed\n",
      "Package 'nvidia-docker' is not installed, so not removed\n",
      "Package 'nvidia-firmware-555-server-555.42.02' is not installed, so not removed\n",
      "Package 'nvidia-firmware-555-server-555.42.06' is not installed, so not removed\n",
      "Package 'nvidia-fs-prebuilt' is not installed, so not removed\n",
      "Package 'nvidia-kernel-common-396' is not installed, so not removed\n",
      "Package 'nvidia-kernel-dkms' is not installed, so not removed\n",
      "Package 'nvidia-driver-560-server' is not installed, so not removed\n",
      "Package 'nvidia-driver-560-server-open' is not installed, so not removed\n",
      "Package 'nvidia-firmware-560-server-560.28.03' is not installed, so not removed\n",
      "Package 'nvidia-firmware-560-server-560.35.03' is not installed, so not removed\n",
      "Package 'nvidia-firmware-550-server-550.90.12' is not installed, so not removed\n",
      "Package 'nvidia-hpc-benchmarks' is not installed, so not removed\n",
      "Package 'nvidia-firmware-560-server-560.35.05' is not installed, so not removed\n",
      "Package 'nvidia-firmware-550-server-550.144.03' is not installed, so not removed\n",
      "Package 'nvidia-driver-570-server' is not installed, so not removed\n",
      "Package 'nvidia-driver-570-server-open' is not installed, so not removed\n",
      "Package 'nvidia-firmware-570-server-570.86.10' is not installed, so not removed\n",
      "Package 'nvidia-firmware-570-server-570.86.15' is not installed, so not removed\n",
      "Package 'nvidia-firmware-550-server-550.135' is not installed, so not removed\n",
      "Package 'nvidia-firmware-550-server-550.142' is not installed, so not removed\n",
      "Package 'nvidia-firmware-565-server-565.77' is not installed, so not removed\n",
      "Package 'nvidia-firmware-570-server-570.86.16' is not installed, so not removed\n",
      "Package 'nvidia-prime' is not installed, so not removed\n",
      "Package 'nvidia-340' is not installed, so not removed\n",
      "Package 'nvidia-340-dev' is not installed, so not removed\n",
      "Package 'nvidia-340-uvm' is not installed, so not removed\n",
      "Package 'nvidia-compute-utils-418' is not installed, so not removed\n",
      "Package 'nvidia-compute-utils-435' is not installed, so not removed\n",
      "Package 'nvidia-compute-utils-440' is not installed, so not removed\n",
      "Package 'nvidia-compute-utils-450' is not installed, so not removed\n",
      "Package 'nvidia-compute-utils-455' is not installed, so not removed\n",
      "Package 'nvidia-dkms-418' is not installed, so not removed\n",
      "Package 'nvidia-dkms-435' is not installed, so not removed\n",
      "Package 'nvidia-dkms-440' is not installed, so not removed\n",
      "Package 'nvidia-dkms-450' is not installed, so not removed\n",
      "Package 'nvidia-dkms-455' is not installed, so not removed\n",
      "Package 'nvidia-driver-418' is not installed, so not removed\n",
      "Package 'nvidia-driver-435' is not installed, so not removed\n",
      "Package 'nvidia-driver-440' is not installed, so not removed\n",
      "Package 'nvidia-driver-450' is not installed, so not removed\n",
      "Package 'nvidia-driver-455' is not installed, so not removed\n",
      "Package 'nvidia-headless-418' is not installed, so not removed\n",
      "Package 'nvidia-headless-435' is not installed, so not removed\n",
      "Package 'nvidia-headless-440' is not installed, so not removed\n",
      "Package 'nvidia-headless-450' is not installed, so not removed\n",
      "Package 'nvidia-headless-455' is not installed, so not removed\n",
      "Package 'nvidia-headless-no-dkms-418' is not installed, so not removed\n",
      "Package 'nvidia-headless-no-dkms-435' is not installed, so not removed\n",
      "Package 'nvidia-headless-no-dkms-440' is not installed, so not removed\n",
      "Package 'nvidia-headless-no-dkms-450' is not installed, so not removed\n",
      "Package 'nvidia-headless-no-dkms-455' is not installed, so not removed\n",
      "Package 'nvidia-kernel-common-418' is not installed, so not removed\n",
      "Package 'nvidia-kernel-common-435' is not installed, so not removed\n",
      "Package 'nvidia-kernel-common-440' is not installed, so not removed\n",
      "Package 'nvidia-kernel-common-450' is not installed, so not removed\n",
      "Package 'nvidia-kernel-common-455' is not installed, so not removed\n",
      "Package 'nvidia-kernel-source-418' is not installed, so not removed\n",
      "Package 'nvidia-kernel-source-435' is not installed, so not removed\n",
      "Package 'nvidia-kernel-source-440' is not installed, so not removed\n",
      "Package 'nvidia-kernel-source-450' is not installed, so not removed\n",
      "Package 'nvidia-kernel-source-455' is not installed, so not removed\n",
      "Package 'nvidia-utils-418' is not installed, so not removed\n",
      "Package 'nvidia-utils-435' is not installed, so not removed\n",
      "Package 'nvidia-utils-440' is not installed, so not removed\n",
      "Package 'nvidia-utils-450' is not installed, so not removed\n",
      "Package 'nvidia-utils-455' is not installed, so not removed\n",
      "Package 'nvidia-cg-dev' is not installed, so not removed\n",
      "Package 'nvidia-cg-doc' is not installed, so not removed\n",
      "Package 'nvidia-cg-toolkit' is not installed, so not removed\n",
      "Package 'nvidia-cuda-dev' is not installed, so not removed\n",
      "Package 'nvidia-cuda-gdb' is not installed, so not removed\n",
      "Package 'nvidia-cuda-toolkit' is not installed, so not removed\n",
      "Package 'nvidia-cuda-toolkit-doc' is not installed, so not removed\n",
      "Package 'nvidia-cuda-toolkit-gcc' is not installed, so not removed\n",
      "Package 'nvidia-cudnn' is not installed, so not removed\n",
      "Package 'nvidia-libopencl1-340' is not installed, so not removed\n",
      "Package 'nvidia-opencl-icd-340' is not installed, so not removed\n",
      "Package 'nvidia-primus-vk-common' is not installed, so not removed\n",
      "Package 'nvidia-primus-vk-wrapper' is not installed, so not removed\n",
      "Package 'nvidia-profiler' is not installed, so not removed\n",
      "Package 'nvidia-visual-profiler' is not installed, so not removed\n",
      "Package 'nvidia-384' is not installed, so not removed\n",
      "Package 'nvidia-384-dev' is not installed, so not removed\n",
      "Package 'nvidia-compute-utils-390' is not installed, so not removed\n",
      "Package 'nvidia-compute-utils-418-server' is not installed, so not removed\n",
      "Package 'nvidia-compute-utils-440-server' is not installed, so not removed\n",
      "Package 'nvidia-compute-utils-450-server' is not installed, so not removed\n",
      "Package 'nvidia-compute-utils-460' is not installed, so not removed\n",
      "Package 'nvidia-compute-utils-460-server' is not installed, so not removed\n",
      "Package 'nvidia-compute-utils-465' is not installed, so not removed\n",
      "Package 'nvidia-compute-utils-470' is not installed, so not removed\n",
      "Package 'nvidia-compute-utils-470-server' is not installed, so not removed\n",
      "Package 'nvidia-compute-utils-495' is not installed, so not removed\n",
      "Package 'nvidia-compute-utils-510' is not installed, so not removed\n",
      "Package 'nvidia-compute-utils-510-server' is not installed, so not removed\n",
      "Package 'nvidia-compute-utils-515' is not installed, so not removed\n",
      "Package 'nvidia-compute-utils-515-server' is not installed, so not removed\n",
      "Package 'nvidia-compute-utils-520' is not installed, so not removed\n",
      "Package 'nvidia-compute-utils-525' is not installed, so not removed\n",
      "Package 'nvidia-compute-utils-525-server' is not installed, so not removed\n",
      "Package 'nvidia-compute-utils-535-server' is not installed, so not removed\n",
      "Package 'nvidia-compute-utils-545' is not installed, so not removed\n",
      "Package 'nvidia-compute-utils-550-server' is not installed, so not removed\n",
      "Package 'nvidia-compute-utils-565-server' is not installed, so not removed\n",
      "Package 'nvidia-dkms-390' is not installed, so not removed\n",
      "Package 'nvidia-dkms-418-server' is not installed, so not removed\n",
      "Package 'nvidia-dkms-440-server' is not installed, so not removed\n",
      "Package 'nvidia-dkms-450-server' is not installed, so not removed\n",
      "Package 'nvidia-dkms-460' is not installed, so not removed\n",
      "Package 'nvidia-dkms-460-server' is not installed, so not removed\n",
      "Package 'nvidia-dkms-465' is not installed, so not removed\n",
      "Package 'nvidia-dkms-470' is not installed, so not removed\n",
      "Package 'nvidia-dkms-470-server' is not installed, so not removed\n",
      "Package 'nvidia-dkms-495' is not installed, so not removed\n",
      "Package 'nvidia-dkms-510' is not installed, so not removed\n",
      "Package 'nvidia-dkms-510-server' is not installed, so not removed\n",
      "Package 'nvidia-dkms-515' is not installed, so not removed\n",
      "Package 'nvidia-dkms-515-open' is not installed, so not removed\n",
      "Package 'nvidia-dkms-515-server' is not installed, so not removed\n",
      "Package 'nvidia-dkms-520' is not installed, so not removed\n",
      "Package 'nvidia-dkms-520-open' is not installed, so not removed\n",
      "Package 'nvidia-dkms-525' is not installed, so not removed\n",
      "Package 'nvidia-dkms-525-open' is not installed, so not removed\n",
      "Package 'nvidia-dkms-525-server' is not installed, so not removed\n",
      "Package 'nvidia-dkms-535-open' is not installed, so not removed\n",
      "Package 'nvidia-dkms-535-server' is not installed, so not removed\n",
      "Package 'nvidia-dkms-535-server-open' is not installed, so not removed\n",
      "Package 'nvidia-dkms-545' is not installed, so not removed\n",
      "Package 'nvidia-dkms-545-open' is not installed, so not removed\n",
      "Package 'nvidia-dkms-550-server' is not installed, so not removed\n",
      "Package 'nvidia-dkms-550-server-open' is not installed, so not removed\n",
      "Package 'nvidia-dkms-565-server' is not installed, so not removed\n",
      "Package 'nvidia-dkms-565-server-open' is not installed, so not removed\n",
      "Package 'nvidia-driver-390' is not installed, so not removed\n",
      "Package 'nvidia-driver-418-server' is not installed, so not removed\n",
      "Package 'nvidia-driver-440-server' is not installed, so not removed\n",
      "Package 'nvidia-driver-450-server' is not installed, so not removed\n",
      "Package 'nvidia-driver-460' is not installed, so not removed\n",
      "Package 'nvidia-driver-460-server' is not installed, so not removed\n",
      "Package 'nvidia-driver-465' is not installed, so not removed\n",
      "Package 'nvidia-driver-470' is not installed, so not removed\n",
      "Package 'nvidia-driver-470-server' is not installed, so not removed\n",
      "Package 'nvidia-driver-495' is not installed, so not removed\n",
      "Package 'nvidia-driver-510' is not installed, so not removed\n",
      "Package 'nvidia-driver-510-server' is not installed, so not removed\n",
      "Package 'nvidia-driver-515' is not installed, so not removed\n",
      "Package 'nvidia-driver-515-open' is not installed, so not removed\n",
      "Package 'nvidia-driver-515-server' is not installed, so not removed\n",
      "Package 'nvidia-driver-520' is not installed, so not removed\n",
      "Package 'nvidia-driver-520-open' is not installed, so not removed\n",
      "Package 'nvidia-driver-525' is not installed, so not removed\n",
      "Package 'nvidia-driver-525-open' is not installed, so not removed\n",
      "Package 'nvidia-driver-525-server' is not installed, so not removed\n",
      "Package 'nvidia-driver-535-open' is not installed, so not removed\n",
      "Package 'nvidia-driver-535-server' is not installed, so not removed\n",
      "Package 'nvidia-driver-535-server-open' is not installed, so not removed\n",
      "Package 'nvidia-driver-545' is not installed, so not removed\n",
      "Package 'nvidia-driver-545-open' is not installed, so not removed\n",
      "Package 'nvidia-driver-550-server' is not installed, so not removed\n",
      "Package 'nvidia-driver-550-server-open' is not installed, so not removed\n",
      "Package 'nvidia-driver-565-server' is not installed, so not removed\n",
      "Package 'nvidia-driver-565-server-open' is not installed, so not removed\n",
      "Package 'nvidia-fabricmanager-515' is not installed, so not removed\n",
      "Package 'nvidia-fabricmanager-dev-515' is not installed, so not removed\n",
      "Package 'nvidia-firmware-535-535.104.05' is not installed, so not removed\n",
      "Package 'nvidia-firmware-535-535.113.01' is not installed, so not removed\n",
      "Package 'nvidia-firmware-535-535.129.03' is not installed, so not removed\n",
      "Package 'nvidia-firmware-535-535.146.02' is not installed, so not removed\n",
      "Package 'nvidia-firmware-535-535.154.05' is not installed, so not removed\n",
      "Package 'nvidia-firmware-535-535.161.07' is not installed, so not removed\n",
      "Package 'nvidia-firmware-535-535.171.04' is not installed, so not removed\n",
      "Package 'nvidia-firmware-535-535.183.01' is not installed, so not removed\n",
      "Package 'nvidia-firmware-535-535.54.03' is not installed, so not removed\n",
      "Package 'nvidia-firmware-535-535.86.05' is not installed, so not removed\n",
      "Package 'nvidia-firmware-535-server-535.104.05' is not installed, so not removed\n",
      "Package 'nvidia-firmware-535-server-535.104.12' is not installed, so not removed\n",
      "Package 'nvidia-firmware-535-server-535.129.03' is not installed, so not removed\n",
      "Package 'nvidia-firmware-535-server-535.154.05' is not installed, so not removed\n",
      "Package 'nvidia-firmware-535-server-535.161.07' is not installed, so not removed\n",
      "Package 'nvidia-firmware-535-server-535.161.08' is not installed, so not removed\n",
      "Package 'nvidia-firmware-535-server-535.183.01' is not installed, so not removed\n",
      "Package 'nvidia-firmware-535-server-535.183.06' is not installed, so not removed\n",
      "Package 'nvidia-firmware-535-server-535.216.01' is not installed, so not removed\n",
      "Package 'nvidia-firmware-535-server-535.216.03' is not installed, so not removed\n",
      "Package 'nvidia-firmware-535-server-535.54.03' is not installed, so not removed\n",
      "Package 'nvidia-firmware-545-545.29.06' is not installed, so not removed\n",
      "Package 'nvidia-firmware-550-550.107.02' is not installed, so not removed\n",
      "Package 'nvidia-firmware-550-550.120' is not installed, so not removed\n",
      "Package 'nvidia-firmware-550-550.67' is not installed, so not removed\n",
      "Package 'nvidia-firmware-550-server-550.127.05' is not installed, so not removed\n",
      "Package 'nvidia-firmware-550-server-550.127.08' is not installed, so not removed\n",
      "Package 'nvidia-firmware-550-server-550.54.15' is not installed, so not removed\n",
      "Package 'nvidia-firmware-550-server-550.90.07' is not installed, so not removed\n",
      "Package 'nvidia-firmware-565-server-565.57.01' is not installed, so not removed\n",
      "Package 'nvidia-headless-390' is not installed, so not removed\n",
      "Package 'nvidia-headless-418-server' is not installed, so not removed\n",
      "Package 'nvidia-headless-440-server' is not installed, so not removed\n",
      "Package 'nvidia-headless-450-server' is not installed, so not removed\n",
      "Package 'nvidia-headless-460' is not installed, so not removed\n",
      "Package 'nvidia-headless-460-server' is not installed, so not removed\n",
      "Package 'nvidia-headless-465' is not installed, so not removed\n",
      "Package 'nvidia-headless-470' is not installed, so not removed\n",
      "Package 'nvidia-headless-470-server' is not installed, so not removed\n",
      "Package 'nvidia-headless-495' is not installed, so not removed\n",
      "Package 'nvidia-headless-510' is not installed, so not removed\n",
      "Package 'nvidia-headless-510-server' is not installed, so not removed\n",
      "Package 'nvidia-headless-515' is not installed, so not removed\n",
      "Package 'nvidia-headless-515-open' is not installed, so not removed\n",
      "Package 'nvidia-headless-515-server' is not installed, so not removed\n",
      "Package 'nvidia-headless-520' is not installed, so not removed\n",
      "Package 'nvidia-headless-520-open' is not installed, so not removed\n",
      "Package 'nvidia-headless-525' is not installed, so not removed\n",
      "Package 'nvidia-headless-525-open' is not installed, so not removed\n",
      "Package 'nvidia-headless-525-server' is not installed, so not removed\n",
      "Package 'nvidia-headless-535-open' is not installed, so not removed\n",
      "Package 'nvidia-headless-535-server' is not installed, so not removed\n",
      "Package 'nvidia-headless-535-server-open' is not installed, so not removed\n",
      "Package 'nvidia-headless-545' is not installed, so not removed\n",
      "Package 'nvidia-headless-545-open' is not installed, so not removed\n",
      "Package 'nvidia-headless-550-server' is not installed, so not removed\n",
      "Package 'nvidia-headless-550-server-open' is not installed, so not removed\n",
      "Package 'nvidia-headless-565-server' is not installed, so not removed\n",
      "Package 'nvidia-headless-565-server-open' is not installed, so not removed\n",
      "Package 'nvidia-headless-no-dkms-390' is not installed, so not removed\n",
      "Package 'nvidia-headless-no-dkms-418-server' is not installed, so not removed\n",
      "Package 'nvidia-headless-no-dkms-440-server' is not installed, so not removed\n",
      "Package 'nvidia-headless-no-dkms-450-server' is not installed, so not removed\n",
      "Package 'nvidia-headless-no-dkms-460' is not installed, so not removed\n",
      "Package 'nvidia-headless-no-dkms-460-server' is not installed, so not removed\n",
      "Package 'nvidia-headless-no-dkms-465' is not installed, so not removed\n",
      "Package 'nvidia-headless-no-dkms-470' is not installed, so not removed\n",
      "Package 'nvidia-headless-no-dkms-470-server' is not installed, so not removed\n",
      "Package 'nvidia-headless-no-dkms-495' is not installed, so not removed\n",
      "Package 'nvidia-headless-no-dkms-510' is not installed, so not removed\n",
      "Package 'nvidia-headless-no-dkms-510-server' is not installed, so not removed\n",
      "Package 'nvidia-headless-no-dkms-515' is not installed, so not removed\n",
      "Package 'nvidia-headless-no-dkms-515-open' is not installed, so not removed\n",
      "Package 'nvidia-headless-no-dkms-515-server' is not installed, so not removed\n",
      "Package 'nvidia-headless-no-dkms-520' is not installed, so not removed\n",
      "Package 'nvidia-headless-no-dkms-520-open' is not installed, so not removed\n",
      "Package 'nvidia-headless-no-dkms-525' is not installed, so not removed\n",
      "Package 'nvidia-headless-no-dkms-525-open' is not installed, so not removed\n",
      "Package 'nvidia-headless-no-dkms-525-server' is not installed, so not removed\n",
      "Package 'nvidia-headless-no-dkms-535-open' is not installed, so not removed\n",
      "Package 'nvidia-headless-no-dkms-535-server' is not installed, so not removed\n",
      "Package 'nvidia-headless-no-dkms-535-server-open' is not installed, so not removed\n",
      "Package 'nvidia-headless-no-dkms-545' is not installed, so not removed\n",
      "Package 'nvidia-headless-no-dkms-545-open' is not installed, so not removed\n",
      "Package 'nvidia-headless-no-dkms-550-server' is not installed, so not removed\n",
      "Package 'nvidia-headless-no-dkms-550-server-open' is not installed, so not removed\n",
      "Package 'nvidia-headless-no-dkms-565-server' is not installed, so not removed\n",
      "Package 'nvidia-headless-no-dkms-565-server-open' is not installed, so not removed\n",
      "Package 'nvidia-kernel-common-390' is not installed, so not removed\n",
      "Package 'nvidia-kernel-common-418-server' is not installed, so not removed\n",
      "Package 'nvidia-kernel-common-440-server' is not installed, so not removed\n",
      "Package 'nvidia-kernel-common-450-server' is not installed, so not removed\n",
      "Package 'nvidia-kernel-common-460' is not installed, so not removed\n",
      "Package 'nvidia-kernel-common-460-server' is not installed, so not removed\n",
      "Package 'nvidia-kernel-common-465' is not installed, so not removed\n",
      "Package 'nvidia-kernel-common-470' is not installed, so not removed\n",
      "Package 'nvidia-kernel-common-470-server' is not installed, so not removed\n",
      "Package 'nvidia-kernel-common-495' is not installed, so not removed\n",
      "Package 'nvidia-kernel-common-510' is not installed, so not removed\n",
      "Package 'nvidia-kernel-common-510-server' is not installed, so not removed\n",
      "Package 'nvidia-kernel-common-515' is not installed, so not removed\n",
      "Package 'nvidia-kernel-common-515-server' is not installed, so not removed\n",
      "Package 'nvidia-kernel-common-520' is not installed, so not removed\n",
      "Package 'nvidia-kernel-common-525' is not installed, so not removed\n",
      "Package 'nvidia-kernel-common-525-server' is not installed, so not removed\n",
      "Package 'nvidia-kernel-common-535-server' is not installed, so not removed\n",
      "Package 'nvidia-kernel-common-545' is not installed, so not removed\n",
      "Package 'nvidia-kernel-common-550-server' is not installed, so not removed\n",
      "Package 'nvidia-kernel-common-565-server' is not installed, so not removed\n",
      "Package 'nvidia-kernel-source-390' is not installed, so not removed\n",
      "Package 'nvidia-kernel-source-418-server' is not installed, so not removed\n",
      "Package 'nvidia-kernel-source-440-server' is not installed, so not removed\n",
      "Package 'nvidia-kernel-source-450-server' is not installed, so not removed\n",
      "Package 'nvidia-kernel-source-460' is not installed, so not removed\n",
      "Package 'nvidia-kernel-source-460-server' is not installed, so not removed\n",
      "Package 'nvidia-kernel-source-465' is not installed, so not removed\n",
      "Package 'nvidia-kernel-source-470' is not installed, so not removed\n",
      "Package 'nvidia-kernel-source-470-server' is not installed, so not removed\n",
      "Package 'nvidia-kernel-source-495' is not installed, so not removed\n",
      "Package 'nvidia-kernel-source-510' is not installed, so not removed\n",
      "Package 'nvidia-kernel-source-510-server' is not installed, so not removed\n",
      "Package 'nvidia-kernel-source-515' is not installed, so not removed\n",
      "Package 'nvidia-kernel-source-515-open' is not installed, so not removed\n",
      "Package 'nvidia-kernel-source-515-server' is not installed, so not removed\n",
      "Package 'nvidia-kernel-source-520' is not installed, so not removed\n",
      "Package 'nvidia-kernel-source-520-open' is not installed, so not removed\n",
      "Package 'nvidia-kernel-source-525' is not installed, so not removed\n",
      "Package 'nvidia-kernel-source-525-open' is not installed, so not removed\n",
      "Package 'nvidia-kernel-source-525-server' is not installed, so not removed\n",
      "Package 'nvidia-kernel-source-535-open' is not installed, so not removed\n",
      "Package 'nvidia-kernel-source-535-server' is not installed, so not removed\n",
      "Package 'nvidia-kernel-source-535-server-open' is not installed, so not removed\n",
      "Package 'nvidia-kernel-source-545' is not installed, so not removed\n",
      "Package 'nvidia-kernel-source-545-open' is not installed, so not removed\n",
      "Package 'nvidia-kernel-source-550-server' is not installed, so not removed\n",
      "Package 'nvidia-kernel-source-550-server-open' is not installed, so not removed\n",
      "Package 'nvidia-kernel-source-565-server' is not installed, so not removed\n",
      "Package 'nvidia-kernel-source-565-server-open' is not installed, so not removed\n",
      "Package 'nvidia-utils-390' is not installed, so not removed\n",
      "Package 'nvidia-utils-418-server' is not installed, so not removed\n",
      "Package 'nvidia-utils-440-server' is not installed, so not removed\n",
      "Package 'nvidia-utils-450-server' is not installed, so not removed\n",
      "Package 'nvidia-utils-460' is not installed, so not removed\n",
      "Package 'nvidia-utils-460-server' is not installed, so not removed\n",
      "Package 'nvidia-utils-465' is not installed, so not removed\n",
      "Package 'nvidia-utils-470' is not installed, so not removed\n",
      "Package 'nvidia-utils-470-server' is not installed, so not removed\n",
      "Package 'nvidia-utils-495' is not installed, so not removed\n",
      "Package 'nvidia-utils-510' is not installed, so not removed\n",
      "Package 'nvidia-utils-510-server' is not installed, so not removed\n",
      "Package 'nvidia-utils-515' is not installed, so not removed\n",
      "Package 'nvidia-utils-515-server' is not installed, so not removed\n",
      "Package 'nvidia-utils-520' is not installed, so not removed\n",
      "Package 'nvidia-utils-525' is not installed, so not removed\n",
      "Package 'nvidia-utils-525-server' is not installed, so not removed\n",
      "Package 'nvidia-utils-535-server' is not installed, so not removed\n",
      "Package 'nvidia-utils-545' is not installed, so not removed\n",
      "Package 'nvidia-utils-550-server' is not installed, so not removed\n",
      "Package 'nvidia-utils-565-server' is not installed, so not removed\n",
      "Package 'nvidia-common' is not installed, so not removed\n",
      "Package 'nvidia-fabricmanager-450' is not installed, so not removed\n",
      "Package 'nvidia-fabricmanager-460' is not installed, so not removed\n",
      "Package 'nvidia-fabricmanager-470' is not installed, so not removed\n",
      "Package 'nvidia-fabricmanager-510' is not installed, so not removed\n",
      "Package 'nvidia-fabricmanager-dev-450' is not installed, so not removed\n",
      "Package 'nvidia-fabricmanager-dev-460' is not installed, so not removed\n",
      "Package 'nvidia-fabricmanager-dev-470' is not installed, so not removed\n",
      "Package 'nvidia-fabricmanager-dev-510' is not installed, so not removed\n",
      "Package 'nvidia-firmware-550-server-550.54.14' is not installed, so not removed\n",
      "Package 'nvidia-libopencl1-384' is not installed, so not removed\n",
      "Package 'nvidia-opencl-icd-384' is not installed, so not removed\n",
      "Package 'nvidia-compute-utils-430' is not installed, so not removed\n",
      "Package 'nvidia-compute-utils-555' is not installed, so not removed\n",
      "Package 'nvidia-container-runtime' is not installed, so not removed\n",
      "Package 'nvidia-dkms-430' is not installed, so not removed\n",
      "Package 'nvidia-dkms-555' is not installed, so not removed\n",
      "Package 'nvidia-dkms-555-open' is not installed, so not removed\n",
      "Package 'nvidia-docker2' is not installed, so not removed\n",
      "Package 'nvidia-driver-430' is not installed, so not removed\n",
      "Package 'nvidia-driver-555' is not installed, so not removed\n",
      "Package 'nvidia-driver-555-open' is not installed, so not removed\n",
      "Package 'nvidia-fabricmanager-520' is not installed, so not removed\n",
      "Package 'nvidia-fabricmanager-525' is not installed, so not removed\n",
      "Package 'nvidia-fabricmanager-530' is not installed, so not removed\n",
      "Package 'nvidia-fabricmanager-545' is not installed, so not removed\n",
      "Package 'nvidia-fabricmanager-555' is not installed, so not removed\n",
      "Package 'nvidia-fabricmanager-dev-520' is not installed, so not removed\n",
      "Package 'nvidia-fabricmanager-dev-525' is not installed, so not removed\n",
      "Package 'nvidia-fabricmanager-dev-530' is not installed, so not removed\n",
      "Package 'nvidia-fabricmanager-dev-545' is not installed, so not removed\n",
      "Package 'nvidia-fabricmanager-dev-555' is not installed, so not removed\n",
      "Package 'nvidia-firmware-550-550.54.14' is not installed, so not removed\n",
      "Package 'nvidia-firmware-550-550.54.15' is not installed, so not removed\n",
      "Package 'nvidia-firmware-550-550.90.07' is not installed, so not removed\n",
      "Package 'nvidia-firmware-555-555.42.02' is not installed, so not removed\n",
      "Package 'nvidia-firmware-555-555.42.06' is not installed, so not removed\n",
      "Package 'nvidia-gds-11-7' is not installed, so not removed\n",
      "Package 'nvidia-gds-11-8' is not installed, so not removed\n",
      "Package 'nvidia-gds-12-0' is not installed, so not removed\n",
      "Package 'nvidia-gds-12-1' is not installed, so not removed\n",
      "Package 'nvidia-gds-12-2' is not installed, so not removed\n",
      "Package 'nvidia-gds-12-3' is not installed, so not removed\n",
      "Package 'nvidia-gds-12-4' is not installed, so not removed\n",
      "Package 'nvidia-gds-12-5' is not installed, so not removed\n",
      "Package 'nvidia-headless-430' is not installed, so not removed\n",
      "Package 'nvidia-headless-555' is not installed, so not removed\n",
      "Package 'nvidia-headless-555-open' is not installed, so not removed\n",
      "Package 'nvidia-headless-no-dkms-430' is not installed, so not removed\n",
      "Package 'nvidia-headless-no-dkms-555' is not installed, so not removed\n",
      "Package 'nvidia-headless-no-dkms-555-open' is not installed, so not removed\n",
      "Package 'nvidia-kernel-common-430' is not installed, so not removed\n",
      "Package 'nvidia-kernel-common-555' is not installed, so not removed\n",
      "Package 'nvidia-kernel-open-515' is not installed, so not removed\n",
      "Package 'nvidia-kernel-open-520' is not installed, so not removed\n",
      "Package 'nvidia-kernel-open-525' is not installed, so not removed\n",
      "Package 'nvidia-kernel-open-530' is not installed, so not removed\n",
      "Package 'nvidia-kernel-open-545' is not installed, so not removed\n",
      "Package 'nvidia-kernel-open-555' is not installed, so not removed\n",
      "Package 'nvidia-kernel-source-430' is not installed, so not removed\n",
      "Package 'nvidia-kernel-source-555' is not installed, so not removed\n",
      "Package 'nvidia-kernel-source-555-open' is not installed, so not removed\n",
      "Package 'nvidia-utils-430' is not installed, so not removed\n",
      "Package 'nvidia-utils-555' is not installed, so not removed\n",
      "Package 'nvidia-firmware-560-560.28.03' is not installed, so not removed\n",
      "Package 'nvidia-imex' is not installed, so not removed\n",
      "Package 'nvidia-compute-utils-530' is not installed, so not removed\n",
      "Package 'nvidia-dkms-530' is not installed, so not removed\n",
      "Package 'nvidia-dkms-530-open' is not installed, so not removed\n",
      "Package 'nvidia-driver-530' is not installed, so not removed\n",
      "Package 'nvidia-driver-530-open' is not installed, so not removed\n",
      "Package 'nvidia-firmware-560-560.35.03' is not installed, so not removed\n",
      "Package 'nvidia-headless-530' is not installed, so not removed\n",
      "Package 'nvidia-headless-530-open' is not installed, so not removed\n",
      "Package 'nvidia-headless-no-dkms-530' is not installed, so not removed\n",
      "Package 'nvidia-headless-no-dkms-530-open' is not installed, so not removed\n",
      "Package 'nvidia-kernel-common-530' is not installed, so not removed\n",
      "Package 'nvidia-kernel-source-530' is not installed, so not removed\n",
      "Package 'nvidia-kernel-source-530-open' is not installed, so not removed\n",
      "Package 'nvidia-utils-530' is not installed, so not removed\n",
      "Package 'nvidia-firmware-550-550.90.12' is not installed, so not removed\n",
      "Package 'nvidia-hpc-benchmarks-mpich' is not installed, so not removed\n",
      "Package 'nvidia-hpc-benchmarks-openmpi' is not installed, so not removed\n",
      "Package 'nvidia-firmware-550-550.127.05' is not installed, so not removed\n",
      "Package 'nvidia-fabricmanager-565' is not installed, so not removed\n",
      "Package 'nvidia-fabricmanager-dev-565' is not installed, so not removed\n",
      "Package 'nvidia-firmware-565-565.57.01' is not installed, so not removed\n",
      "Package 'nvidia-imex-565' is not installed, so not removed\n",
      "Package 'nvidia-kernel-open-565' is not installed, so not removed\n",
      "Package 'nvidia-open-565' is not installed, so not removed\n",
      "Package 'nvidia-firmware-550-550.127.08' is not installed, so not removed\n",
      "Package 'nvidia-compute-utils-560' is not installed, so not removed\n",
      "Package 'nvidia-dkms-560' is not installed, so not removed\n",
      "Package 'nvidia-dkms-560-open' is not installed, so not removed\n",
      "Package 'nvidia-driver-560' is not installed, so not removed\n",
      "Package 'nvidia-driver-560-open' is not installed, so not removed\n",
      "Package 'nvidia-fabricmanager-560' is not installed, so not removed\n",
      "Package 'nvidia-fabricmanager-dev-560' is not installed, so not removed\n",
      "Package 'nvidia-firmware-560-560.35.05' is not installed, so not removed\n",
      "Package 'nvidia-gds-12-6' is not installed, so not removed\n",
      "Package 'nvidia-headless-560' is not installed, so not removed\n",
      "Package 'nvidia-headless-560-open' is not installed, so not removed\n",
      "Package 'nvidia-headless-no-dkms-560' is not installed, so not removed\n",
      "Package 'nvidia-headless-no-dkms-560-open' is not installed, so not removed\n",
      "Package 'nvidia-imex-560' is not installed, so not removed\n",
      "Package 'nvidia-kernel-common-560' is not installed, so not removed\n",
      "Package 'nvidia-kernel-open-560' is not installed, so not removed\n",
      "Package 'nvidia-kernel-source-560' is not installed, so not removed\n",
      "Package 'nvidia-kernel-source-560-open' is not installed, so not removed\n",
      "Package 'nvidia-open-560' is not installed, so not removed\n",
      "Package 'nvidia-utils-560' is not installed, so not removed\n",
      "Package 'nvidia-compute-utils-535' is not installed, so not removed\n",
      "Package 'nvidia-compute-utils-550' is not installed, so not removed\n",
      "Package 'nvidia-dkms-535' is not installed, so not removed\n",
      "Package 'nvidia-dkms-550' is not installed, so not removed\n",
      "Package 'nvidia-dkms-550-open' is not installed, so not removed\n",
      "Package 'nvidia-driver-535' is not installed, so not removed\n",
      "Package 'nvidia-driver-550' is not installed, so not removed\n",
      "Package 'nvidia-driver-550-open' is not installed, so not removed\n",
      "Package 'nvidia-fabricmanager-535' is not installed, so not removed\n",
      "Package 'nvidia-fabricmanager-550' is not installed, so not removed\n",
      "Package 'nvidia-fabricmanager-dev-535' is not installed, so not removed\n",
      "Package 'nvidia-fabricmanager-dev-550' is not installed, so not removed\n",
      "Package 'nvidia-firmware-550-550.144.03' is not installed, so not removed\n",
      "Package 'nvidia-headless-535' is not installed, so not removed\n",
      "Package 'nvidia-headless-550' is not installed, so not removed\n",
      "Package 'nvidia-headless-550-open' is not installed, so not removed\n",
      "Package 'nvidia-headless-no-dkms-535' is not installed, so not removed\n",
      "Package 'nvidia-headless-no-dkms-550' is not installed, so not removed\n",
      "Package 'nvidia-headless-no-dkms-550-open' is not installed, so not removed\n",
      "Package 'nvidia-imex-550' is not installed, so not removed\n",
      "Package 'nvidia-kernel-common-535' is not installed, so not removed\n",
      "Package 'nvidia-kernel-common-550' is not installed, so not removed\n",
      "Package 'nvidia-kernel-open-535' is not installed, so not removed\n",
      "Package 'nvidia-kernel-open-550' is not installed, so not removed\n",
      "Package 'nvidia-kernel-source-535' is not installed, so not removed\n",
      "Package 'nvidia-kernel-source-550' is not installed, so not removed\n",
      "Package 'nvidia-kernel-source-550-open' is not installed, so not removed\n",
      "Package 'nvidia-utils-535' is not installed, so not removed\n",
      "Package 'nvidia-utils-550' is not installed, so not removed\n",
      "Package 'nvidia-firmware-570-570.86.10' is not installed, so not removed\n",
      "Package 'nvidia-fs' is not installed, so not removed\n",
      "Package 'nvidia-fs-dkms' is not installed, so not removed\n",
      "Package 'nvidia-gds' is not installed, so not removed\n",
      "Package 'nvidia-gds-12-8' is not installed, so not removed\n",
      "Package 'nvidia-container-toolkit' is not installed, so not removed\n",
      "Package 'nvidia-container-toolkit-base' is not installed, so not removed\n",
      "Package 'nvidia-driver-assistant' is not installed, so not removed\n",
      "Package 'nvidia-fabricmanager-570' is not installed, so not removed\n",
      "Package 'nvidia-fabricmanager-dev-570' is not installed, so not removed\n",
      "Package 'nvidia-firmware-570-570.86.15' is not installed, so not removed\n",
      "Package 'nvidia-imex-570' is not installed, so not removed\n",
      "Package 'nvidia-kernel-open-570' is not installed, so not removed\n",
      "Package 'nvidia-modprobe' is not installed, so not removed\n",
      "Package 'nvidia-open-570' is not installed, so not removed\n",
      "Package 'nvidia-open' is not installed, so not removed\n",
      "Package 'nvidia-settings' is not installed, so not removed\n",
      "Package 'nvidia-compute-utils-565' is not installed, so not removed\n",
      "Package 'nvidia-compute-utils-570' is not installed, so not removed\n",
      "Package 'nvidia-dkms-565' is not installed, so not removed\n",
      "Package 'nvidia-dkms-565-open' is not installed, so not removed\n",
      "Package 'nvidia-dkms-570' is not installed, so not removed\n",
      "Package 'nvidia-dkms-570-open' is not installed, so not removed\n",
      "Package 'nvidia-driver-565' is not installed, so not removed\n",
      "Package 'nvidia-driver-565-open' is not installed, so not removed\n",
      "Package 'nvidia-driver-570' is not installed, so not removed\n",
      "Package 'nvidia-driver-570-open' is not installed, so not removed\n",
      "Package 'nvidia-firmware-550-550.135' is not installed, so not removed\n",
      "Package 'nvidia-firmware-550-550.142' is not installed, so not removed\n",
      "Package 'nvidia-firmware-565-565.77' is not installed, so not removed\n",
      "Package 'nvidia-firmware-570-570.86.16' is not installed, so not removed\n",
      "Package 'nvidia-headless-565' is not installed, so not removed\n",
      "Package 'nvidia-headless-565-open' is not installed, so not removed\n",
      "Package 'nvidia-headless-570' is not installed, so not removed\n",
      "Package 'nvidia-headless-570-open' is not installed, so not removed\n",
      "Package 'nvidia-headless-no-dkms-565' is not installed, so not removed\n",
      "Package 'nvidia-headless-no-dkms-565-open' is not installed, so not removed\n",
      "Package 'nvidia-headless-no-dkms-570' is not installed, so not removed\n",
      "Package 'nvidia-headless-no-dkms-570-open' is not installed, so not removed\n",
      "Package 'nvidia-kernel-common-565' is not installed, so not removed\n",
      "Package 'nvidia-kernel-common-570' is not installed, so not removed\n",
      "Package 'nvidia-kernel-source-565' is not installed, so not removed\n",
      "Package 'nvidia-kernel-source-565-open' is not installed, so not removed\n",
      "Package 'nvidia-kernel-source-570' is not installed, so not removed\n",
      "Package 'nvidia-kernel-source-570-open' is not installed, so not removed\n",
      "Package 'nvidia-utils-565' is not installed, so not removed\n",
      "Package 'nvidia-utils-570' is not installed, so not removed\n",
      "The following packages were automatically installed and are no longer required:\n",
      "  ocl-icd-opencl-dev opencl-c-headers opencl-clhpp-headers\n",
      "Use 'apt autoremove' to remove them.\n",
      "The following packages will be REMOVED:\n",
      "  nvidia-opencl-dev*\n",
      "0 upgraded, 0 newly installed, 1 to remove and 21 not upgraded.\n",
      "After this operation, 88.1 kB disk space will be freed.\n",
      "(Reading database ... 124926 files and directories currently installed.)\n",
      "Removing nvidia-opencl-dev:amd64 (11.5.1-1ubuntu1) ...\n"
     ]
    }
   ],
   "source": [
    "!pip uninstall -y tensorflow tensorflow-gpu\n",
    "!apt-get remove --purge '^nvidia-.*'\n"
   ]
  },
  {
   "cell_type": "code",
   "execution_count": null,
   "metadata": {
    "colab": {
     "background_save": true,
     "base_uri": "https://localhost:8080/"
    },
    "id": "UiwHVZHKEuVU"
   },
   "outputs": [
    {
     "name": "stdout",
     "output_type": "stream",
     "text": [
      "\u001b[1mdpkg:\u001b[0m \u001b[1;31merror:\u001b[0m cannot access archive '-': No such file or directory\n",
      "Hit:1 http://archive.ubuntu.com/ubuntu jammy InRelease\n",
      "Get:2 http://archive.ubuntu.com/ubuntu jammy-updates InRelease [128 kB]\n",
      "Get:3 https://cloud.r-project.org/bin/linux/ubuntu jammy-cran40/ InRelease [3,632 B]\n",
      "Get:4 https://developer.download.nvidia.com/compute/cuda/repos/ubuntu2204/x86_64  InRelease [1,581 B]\n",
      "Get:5 http://archive.ubuntu.com/ubuntu jammy-backports InRelease [127 kB]\n",
      "Hit:6 https://ppa.launchpadcontent.net/deadsnakes/ppa/ubuntu jammy InRelease\n",
      "Hit:7 https://ppa.launchpadcontent.net/graphics-drivers/ppa/ubuntu jammy InRelease\n",
      "Hit:8 https://ppa.launchpadcontent.net/ubuntugis/ppa/ubuntu jammy InRelease\n",
      "Get:9 http://security.ubuntu.com/ubuntu jammy-security InRelease [129 kB]\n",
      "Get:10 https://developer.download.nvidia.com/compute/cuda/repos/ubuntu2204/x86_64  Packages [1,317 kB]\n",
      "Get:11 https://r2u.stat.illinois.edu/ubuntu jammy InRelease [6,555 B]\n",
      "Get:12 http://archive.ubuntu.com/ubuntu jammy-updates/universe amd64 Packages [1,526 kB]\n",
      "Get:13 http://archive.ubuntu.com/ubuntu jammy-updates/main amd64 Packages [2,939 kB]\n",
      "Get:14 http://archive.ubuntu.com/ubuntu jammy-backports/universe amd64 Packages [35.2 kB]\n",
      "Get:15 http://security.ubuntu.com/ubuntu jammy-security/main amd64 Packages [2,610 kB]\n",
      "Get:16 https://r2u.stat.illinois.edu/ubuntu jammy/main amd64 Packages [2,661 kB]\n",
      "Get:17 http://security.ubuntu.com/ubuntu jammy-security/universe amd64 Packages [1,230 kB]\n",
      "Get:18 https://r2u.stat.illinois.edu/ubuntu jammy/main all Packages [8,698 kB]\n",
      "Fetched 21.4 MB in 3s (7,503 kB/s)\n",
      "Reading package lists... Done\n",
      "Building dependency tree... Done\n",
      "Reading state information... Done\n",
      "33 packages can be upgraded. Run 'apt list --upgradable' to see them.\n",
      "\u001b[1;33mW: \u001b[0mSkipping acquire of configured file 'main/source/Sources' as repository 'https://r2u.stat.illinois.edu/ubuntu jammy InRelease' does not seem to provide it (sources.list entry misspelt?)\u001b[0m\n",
      "Reading package lists... Done\n",
      "Building dependency tree... Done\n",
      "Reading state information... Done\n",
      "The following additional packages will be installed:\n",
      "  cpp-12 cuda-cccl-11-8 cuda-command-line-tools-11-8 cuda-compiler-11-8 cuda-cudart-11-8\n",
      "  cuda-cudart-dev-11-8 cuda-cuobjdump-11-8 cuda-cupti-11-8 cuda-cupti-dev-11-8 cuda-cuxxfilt-11-8\n",
      "  cuda-demo-suite-11-8 cuda-documentation-11-8 cuda-driver-dev-11-8 cuda-drivers cuda-drivers-570\n",
      "  cuda-gdb-11-8 cuda-libraries-11-8 cuda-libraries-dev-11-8 cuda-memcheck-11-8 cuda-nsight-11-8\n",
      "  cuda-nsight-compute-11-8 cuda-nsight-systems-11-8 cuda-nvcc-11-8 cuda-nvdisasm-11-8\n",
      "  cuda-nvml-dev-11-8 cuda-nvprof-11-8 cuda-nvprune-11-8 cuda-nvrtc-11-8 cuda-nvrtc-dev-11-8\n",
      "  cuda-nvtx-11-8 cuda-nvvp-11-8 cuda-profiler-api-11-8 cuda-runtime-11-8 cuda-sanitizer-11-8\n",
      "  cuda-toolkit-11-8 cuda-toolkit-11-8-config-common cuda-toolkit-11-config-common cuda-tools-11-8\n",
      "  cuda-visual-tools-11-8 dctrl-tools default-jre default-jre-headless dkms fakeroot\n",
      "  fonts-dejavu-core fonts-dejavu-extra gcc-12 gds-tools-11-8 keyboard-configuration libasan8\n",
      "  libatk-wrapper-java libatk-wrapper-java-jni libcublas-11-8 libcublas-dev-11-8 libcufft-11-8\n",
      "  libcufft-dev-11-8 libcufile-11-8 libcufile-dev-11-8 libcurand-11-8 libcurand-dev-11-8\n",
      "  libcusolver-11-8 libcusolver-dev-11-8 libcusparse-11-8 libcusparse-dev-11-8 libfakeroot\n",
      "  libfontenc1 libgail-common libgail18 libgcc-12-dev libgtk2.0-0 libgtk2.0-bin libgtk2.0-common\n",
      "  libgudev-1.0-0 libjansson4 liblocale-gettext-perl libnpp-11-8 libnpp-dev-11-8 libnvidia-cfg1-570\n",
      "  libnvidia-common-570 libnvidia-compute-570 libnvidia-decode-570 libnvidia-encode-570\n",
      "  libnvidia-extra-570 libnvidia-fbc1-570 libnvidia-gl-570 libnvjpeg-11-8 libnvjpeg-dev-11-8\n",
      "  librsvg2-common libtinfo5 libtsan2 libxcb-icccm4 libxcb-image0 libxcb-keysyms1\n",
      "  libxcb-render-util0 libxcb-util1 libxcb-xinerama0 libxcb-xinput0 libxcb-xkb1 libxcvt0 libxfont2\n",
      "  libxkbcommon-x11-0 libxkbfile1 libxtst6 libxxf86dga1 nsight-compute-2022.3.0\n",
      "  nsight-systems-2022.4.2 nvidia-compute-utils-570 nvidia-dkms-570 nvidia-driver-570\n",
      "  nvidia-firmware-570-570.86.15 nvidia-kernel-common-570 nvidia-kernel-source-570 nvidia-modprobe\n",
      "  nvidia-settings nvidia-utils-570 openjdk-11-jre python3-xkit screen-resolution-extra\n",
      "  switcheroo-control systemd-hwe-hwdb udev x11-utils x11-xkb-utils xcvt xfonts-base\n",
      "  xfonts-encodings xfonts-utils xserver-common xserver-xorg-core xserver-xorg-video-nvidia-570\n",
      "Suggested packages:\n",
      "  gcc-12-locales cpp-12-doc debtags menu gcc-12-multilib gcc-12-doc gvfs mesa-utils xfs | xserver\n",
      "  xfonts-100dpi | xfonts-75dpi xfonts-scalable\n",
      "Recommended packages:\n",
      "  libnvidia-compute-570:i386 libnvidia-decode-570:i386 libnvidia-encode-570:i386\n",
      "  libnvidia-fbc1-570:i386 libnvidia-gl-570:i386\n",
      "The following NEW packages will be installed:\n",
      "  cpp-12 cuda-11-8 cuda-cccl-11-8 cuda-command-line-tools-11-8 cuda-compiler-11-8 cuda-cudart-11-8\n",
      "  cuda-cudart-dev-11-8 cuda-cuobjdump-11-8 cuda-cupti-11-8 cuda-cupti-dev-11-8 cuda-cuxxfilt-11-8\n",
      "  cuda-demo-suite-11-8 cuda-documentation-11-8 cuda-driver-dev-11-8 cuda-drivers cuda-drivers-570\n",
      "  cuda-gdb-11-8 cuda-libraries-11-8 cuda-libraries-dev-11-8 cuda-memcheck-11-8 cuda-nsight-11-8\n",
      "  cuda-nsight-compute-11-8 cuda-nsight-systems-11-8 cuda-nvcc-11-8 cuda-nvdisasm-11-8\n",
      "  cuda-nvml-dev-11-8 cuda-nvprof-11-8 cuda-nvprune-11-8 cuda-nvrtc-11-8 cuda-nvrtc-dev-11-8\n",
      "  cuda-nvtx-11-8 cuda-nvvp-11-8 cuda-profiler-api-11-8 cuda-runtime-11-8 cuda-sanitizer-11-8\n",
      "  cuda-toolkit-11-8 cuda-toolkit-11-8-config-common cuda-toolkit-11-config-common cuda-tools-11-8\n",
      "  cuda-visual-tools-11-8 dctrl-tools default-jre default-jre-headless dkms fakeroot\n",
      "  fonts-dejavu-core fonts-dejavu-extra gcc-12 gds-tools-11-8 keyboard-configuration libasan8\n",
      "  libatk-wrapper-java libatk-wrapper-java-jni libcublas-11-8 libcublas-dev-11-8 libcudnn8\n",
      "  libcufft-11-8 libcufft-dev-11-8 libcufile-11-8 libcufile-dev-11-8 libcurand-11-8\n",
      "  libcurand-dev-11-8 libcusolver-11-8 libcusolver-dev-11-8 libcusparse-11-8 libcusparse-dev-11-8\n",
      "  libfakeroot libfontenc1 libgail-common libgail18 libgcc-12-dev libgtk2.0-0 libgtk2.0-bin\n",
      "  libgtk2.0-common libgudev-1.0-0 libjansson4 liblocale-gettext-perl libnpp-11-8 libnpp-dev-11-8\n",
      "  libnvidia-cfg1-570 libnvidia-common-570 libnvidia-compute-570 libnvidia-decode-570\n",
      "  libnvidia-encode-570 libnvidia-extra-570 libnvidia-fbc1-570 libnvidia-gl-570 libnvjpeg-11-8\n",
      "  libnvjpeg-dev-11-8 librsvg2-common libtinfo5 libtsan2 libxcb-icccm4 libxcb-image0 libxcb-keysyms1\n",
      "  libxcb-render-util0 libxcb-util1 libxcb-xinerama0 libxcb-xinput0 libxcb-xkb1 libxcvt0 libxfont2\n",
      "  libxkbcommon-x11-0 libxkbfile1 libxtst6 libxxf86dga1 nsight-compute-2022.3.0\n",
      "  nsight-systems-2022.4.2 nvidia-compute-utils-570 nvidia-dkms-570 nvidia-driver-570\n",
      "  nvidia-firmware-570-570.86.15 nvidia-kernel-common-570 nvidia-kernel-source-570 nvidia-modprobe\n",
      "  nvidia-settings nvidia-utils-570 openjdk-11-jre python3-xkit screen-resolution-extra\n",
      "  switcheroo-control systemd-hwe-hwdb udev x11-utils x11-xkb-utils xcvt xfonts-base\n",
      "  xfonts-encodings xfonts-utils xserver-common xserver-xorg-core xserver-xorg-video-nvidia-570\n",
      "0 upgraded, 132 newly installed, 0 to remove and 33 not upgraded.\n",
      "Need to get 3,569 MB of archives.\n",
      "After this operation, 8,991 MB of additional disk space will be used.\n",
      "Get:1 http://archive.ubuntu.com/ubuntu jammy/main amd64 liblocale-gettext-perl amd64 1.07-4build3 [17.1 kB]\n",
      "Get:2 http://archive.ubuntu.com/ubuntu jammy/main amd64 keyboard-configuration all 1.205ubuntu3 [206 kB]\n",
      "Get:3 http://archive.ubuntu.com/ubuntu jammy-updates/main amd64 cpp-12 amd64 12.3.0-1ubuntu1~22.04 [10.8 MB]\n",
      "Get:4 http://archive.ubuntu.com/ubuntu jammy-updates/main amd64 libasan8 amd64 12.3.0-1ubuntu1~22.04 [2,442 kB]\n",
      "Get:5 http://archive.ubuntu.com/ubuntu jammy-updates/main amd64 libtsan2 amd64 12.3.0-1ubuntu1~22.04 [2,477 kB]\n",
      "Get:6 http://archive.ubuntu.com/ubuntu jammy-updates/main amd64 libgcc-12-dev amd64 12.3.0-1ubuntu1~22.04 [2,618 kB]\n",
      "Get:7 http://archive.ubuntu.com/ubuntu jammy-updates/main amd64 gcc-12 amd64 12.3.0-1ubuntu1~22.04 [21.7 MB]\n",
      "Get:8 http://archive.ubuntu.com/ubuntu jammy/main amd64 dctrl-tools amd64 2.24-3build2 [66.9 kB]\n",
      "Get:9 http://archive.ubuntu.com/ubuntu jammy-updates/main amd64 dkms all 2.8.7-2ubuntu2.2 [70.1 kB]\n",
      "Get:10 http://archive.ubuntu.com/ubuntu jammy-updates/main amd64 udev amd64 249.11-0ubuntu3.12 [1,557 kB]\n",
      "Get:11 http://archive.ubuntu.com/ubuntu jammy/main amd64 libjansson4 amd64 2.13.1-1.1build3 [32.4 kB]\n",
      "Get:12 http://archive.ubuntu.com/ubuntu jammy/main amd64 libxkbfile1 amd64 1:1.1.0-1build3 [71.8 kB]\n",
      "Get:13 http://archive.ubuntu.com/ubuntu jammy/main amd64 x11-xkb-utils amd64 7.7+5build4 [172 kB]\n",
      "Get:14 http://archive.ubuntu.com/ubuntu jammy-updates/main amd64 xserver-common all 2:21.1.4-2ubuntu1.7~22.04.12 [28.7 kB]\n",
      "Get:15 http://archive.ubuntu.com/ubuntu jammy/main amd64 libxcvt0 amd64 0.1.1-3 [5,494 B]\n",
      "Get:16 http://archive.ubuntu.com/ubuntu jammy/main amd64 libfontenc1 amd64 1:1.1.4-1build3 [14.7 kB]\n",
      "Get:17 http://archive.ubuntu.com/ubuntu jammy/main amd64 libxfont2 amd64 1:2.0.5-1build1 [94.5 kB]\n",
      "Get:18 http://archive.ubuntu.com/ubuntu jammy-updates/main amd64 xserver-xorg-core amd64 2:21.1.4-2ubuntu1.7~22.04.12 [1,477 kB]\n",
      "Get:19 http://archive.ubuntu.com/ubuntu jammy-updates/universe amd64 libtinfo5 amd64 6.3-2ubuntu0.1 [100 kB]\n",
      "Get:20 http://archive.ubuntu.com/ubuntu jammy/main amd64 libxcb-xinerama0 amd64 1.14-3ubuntu3 [5,414 B]\n",
      "Get:21 http://archive.ubuntu.com/ubuntu jammy/main amd64 libxcb-icccm4 amd64 0.4.1-1.1build2 [11.5 kB]\n",
      "Get:22 http://archive.ubuntu.com/ubuntu jammy/main amd64 libxcb-util1 amd64 0.4.0-1build2 [11.4 kB]\n",
      "Get:23 http://archive.ubuntu.com/ubuntu jammy/main amd64 libxcb-image0 amd64 0.4.0-2 [11.5 kB]\n",
      "Get:24 http://archive.ubuntu.com/ubuntu jammy/main amd64 libxcb-keysyms1 amd64 0.4.0-1build3 [8,746 B]\n",
      "Get:25 http://archive.ubuntu.com/ubuntu jammy/main amd64 libxcb-render-util0 amd64 0.3.9-1build3 [10.3 kB]\n",
      "Get:26 http://archive.ubuntu.com/ubuntu jammy/main amd64 libxcb-xkb1 amd64 1.14-3ubuntu3 [32.8 kB]\n",
      "Get:27 http://archive.ubuntu.com/ubuntu jammy/main amd64 libxkbcommon-x11-0 amd64 1.4.0-1 [14.4 kB]\n",
      "Get:28 http://archive.ubuntu.com/ubuntu jammy/main amd64 libxcb-xinput0 amd64 1.14-3ubuntu3 [34.3 kB]\n",
      "Get:29 http://archive.ubuntu.com/ubuntu jammy/main amd64 default-jre-headless amd64 2:1.11-72build2 [3,042 B]\n",
      "Get:30 http://archive.ubuntu.com/ubuntu jammy/main amd64 libxtst6 amd64 2:1.2.3-1build4 [13.4 kB]\n",
      "Get:31 http://archive.ubuntu.com/ubuntu jammy-updates/main amd64 openjdk-11-jre amd64 11.0.26+4-1ubuntu1~22.04 [214 kB]\n",
      "Get:32 http://archive.ubuntu.com/ubuntu jammy/main amd64 default-jre amd64 2:1.11-72build2 [896 B]\n",
      "Get:33 http://archive.ubuntu.com/ubuntu jammy/main amd64 libfakeroot amd64 1.28-1ubuntu1 [31.5 kB]\n",
      "Get:34 http://archive.ubuntu.com/ubuntu jammy/main amd64 fakeroot amd64 1.28-1ubuntu1 [60.4 kB]\n",
      "Get:35 http://archive.ubuntu.com/ubuntu jammy/main amd64 fonts-dejavu-core all 2.37-2build1 [1,041 kB]\n",
      "Get:36 http://archive.ubuntu.com/ubuntu jammy/main amd64 fonts-dejavu-extra all 2.37-2build1 [2,041 kB]\n",
      "Get:37 http://archive.ubuntu.com/ubuntu jammy/main amd64 libxxf86dga1 amd64 2:1.1.5-0ubuntu3 [12.6 kB]\n",
      "Get:38 http://archive.ubuntu.com/ubuntu jammy/main amd64 x11-utils amd64 7.7+5build2 [206 kB]\n",
      "Get:39 http://archive.ubuntu.com/ubuntu jammy/main amd64 libatk-wrapper-java all 0.38.0-5build1 [53.1 kB]\n",
      "Get:40 http://archive.ubuntu.com/ubuntu jammy/main amd64 libatk-wrapper-java-jni amd64 0.38.0-5build1 [49.0 kB]\n",
      "Get:41 http://archive.ubuntu.com/ubuntu jammy-updates/main amd64 libgtk2.0-common all 2.24.33-2ubuntu2.1 [125 kB]\n",
      "Get:42 http://archive.ubuntu.com/ubuntu jammy-updates/main amd64 libgtk2.0-0 amd64 2.24.33-2ubuntu2.1 [2,038 kB]\n",
      "Get:43 http://archive.ubuntu.com/ubuntu jammy-updates/main amd64 libgail18 amd64 2.24.33-2ubuntu2.1 [15.9 kB]\n",
      "Get:44 http://archive.ubuntu.com/ubuntu jammy-updates/main amd64 libgail-common amd64 2.24.33-2ubuntu2.1 [132 kB]\n",
      "Get:45 http://archive.ubuntu.com/ubuntu jammy-updates/main amd64 libgtk2.0-bin amd64 2.24.33-2ubuntu2.1 [7,936 B]\n",
      "Get:46 http://archive.ubuntu.com/ubuntu jammy/main amd64 libgudev-1.0-0 amd64 1:237-2build1 [16.3 kB]\n",
      "Get:47 http://archive.ubuntu.com/ubuntu jammy-updates/main amd64 librsvg2-common amd64 2.52.5+dfsg-3ubuntu0.2 [17.7 kB]\n",
      "Get:48 http://archive.ubuntu.com/ubuntu jammy/main amd64 python3-xkit all 0.5.0ubuntu5 [18.5 kB]\n",
      "Get:49 http://archive.ubuntu.com/ubuntu jammy/main amd64 screen-resolution-extra all 0.18.2 [4,396 B]\n",
      "Get:50 http://archive.ubuntu.com/ubuntu jammy/main amd64 switcheroo-control amd64 2.4-3build2 [16.5 kB]\n",
      "Get:51 http://archive.ubuntu.com/ubuntu jammy-updates/main amd64 systemd-hwe-hwdb all 249.11.5 [3,228 B]\n",
      "Get:52 http://archive.ubuntu.com/ubuntu jammy/main amd64 xcvt amd64 0.1.1-3 [7,140 B]\n",
      "Get:53 http://archive.ubuntu.com/ubuntu jammy/main amd64 xfonts-encodings all 1:1.0.5-0ubuntu2 [578 kB]\n",
      "Get:54 http://archive.ubuntu.com/ubuntu jammy/main amd64 xfonts-utils amd64 1:7.7+6build2 [94.6 kB]\n",
      "Get:55 http://archive.ubuntu.com/ubuntu jammy/main amd64 xfonts-base all 1:1.0.5 [5,896 kB]\n",
      "Get:56 https://developer.download.nvidia.com/compute/cuda/repos/ubuntu2204/x86_64  cuda-toolkit-11-config-common 11.8.89-1 [16.4 kB]\n",
      "Get:57 https://developer.download.nvidia.com/compute/cuda/repos/ubuntu2204/x86_64  cuda-toolkit-11-8-config-common 11.8.89-1 [16.3 kB]\n",
      "Get:58 https://developer.download.nvidia.com/compute/cuda/repos/ubuntu2204/x86_64  cuda-cudart-11-8 11.8.89-1 [165 kB]\n",
      "Get:59 https://developer.download.nvidia.com/compute/cuda/repos/ubuntu2204/x86_64  cuda-nvrtc-11-8 11.8.89-1 [16.4 MB]\n",
      "Get:60 https://developer.download.nvidia.com/compute/cuda/repos/ubuntu2204/x86_64  libcublas-11-8 11.11.3.6-1 [248 MB]\n",
      "Get:61 https://developer.download.nvidia.com/compute/cuda/repos/ubuntu2204/x86_64  libcufft-11-8 10.9.0.58-1 [94.2 MB]\n",
      "Get:62 https://developer.download.nvidia.com/compute/cuda/repos/ubuntu2204/x86_64  libcufile-11-8 1.4.0.31-1 [474 kB]\n",
      "Get:63 https://developer.download.nvidia.com/compute/cuda/repos/ubuntu2204/x86_64  libcurand-11-8 10.3.0.86-1 [42.2 MB]\n",
      "Get:64 https://developer.download.nvidia.com/compute/cuda/repos/ubuntu2204/x86_64  libcusolver-11-8 11.4.1.48-1 [52.3 MB]\n",
      "Get:65 https://developer.download.nvidia.com/compute/cuda/repos/ubuntu2204/x86_64  libcusparse-11-8 11.7.5.86-1 [116 MB]\n",
      "Get:66 https://developer.download.nvidia.com/compute/cuda/repos/ubuntu2204/x86_64  libnpp-11-8 11.8.0.86-1 [102 MB]\n",
      "Get:67 https://developer.download.nvidia.com/compute/cuda/repos/ubuntu2204/x86_64  libnvjpeg-11-8 11.9.0.86-1 [1,865 kB]\n",
      "Get:68 https://developer.download.nvidia.com/compute/cuda/repos/ubuntu2204/x86_64  cuda-libraries-11-8 11.8.0-1 [2,518 B]\n",
      "Get:69 https://developer.download.nvidia.com/compute/cuda/repos/ubuntu2204/x86_64  libnvidia-common-570 570.86.15-0ubuntu1 [15.9 kB]\n",
      "Get:70 https://developer.download.nvidia.com/compute/cuda/repos/ubuntu2204/x86_64  libnvidia-gl-570 570.86.15-0ubuntu1 [162 MB]\n",
      "Get:71 https://developer.download.nvidia.com/compute/cuda/repos/ubuntu2204/x86_64  nvidia-kernel-source-570 570.86.15-0ubuntu1 [73.1 MB]\n",
      "Get:72 https://developer.download.nvidia.com/compute/cuda/repos/ubuntu2204/x86_64  nvidia-firmware-570-570.86.15 570.86.15-0ubuntu1 [64.5 MB]\n",
      "Get:73 https://developer.download.nvidia.com/compute/cuda/repos/ubuntu2204/x86_64  nvidia-modprobe 570.86.15-0ubuntu1 [14.9 kB]\n",
      "Get:74 https://developer.download.nvidia.com/compute/cuda/repos/ubuntu2204/x86_64  nvidia-kernel-common-570 570.86.15-0ubuntu1 [98.6 kB]\n",
      "Get:75 https://developer.download.nvidia.com/compute/cuda/repos/ubuntu2204/x86_64  nvidia-dkms-570 570.86.15-0ubuntu1 [14.9 kB]\n",
      "Get:76 https://developer.download.nvidia.com/compute/cuda/repos/ubuntu2204/x86_64  libnvidia-decode-570 570.86.15-0ubuntu1 [2,434 kB]\n",
      "Get:77 https://developer.download.nvidia.com/compute/cuda/repos/ubuntu2204/x86_64  libnvidia-compute-570 570.86.15-0ubuntu1 [44.0 MB]\n",
      "Get:78 https://developer.download.nvidia.com/compute/cuda/repos/ubuntu2204/x86_64  libnvidia-extra-570 570.86.15-0ubuntu1 [72.7 kB]\n",
      "Get:79 https://developer.download.nvidia.com/compute/cuda/repos/ubuntu2204/x86_64  nvidia-compute-utils-570 570.86.15-0ubuntu1 [108 kB]\n",
      "Get:80 https://developer.download.nvidia.com/compute/cuda/repos/ubuntu2204/x86_64  libnvidia-encode-570 570.86.15-0ubuntu1 [105 kB]\n",
      "Get:81 https://developer.download.nvidia.com/compute/cuda/repos/ubuntu2204/x86_64  nvidia-utils-570 570.86.15-0ubuntu1 [520 kB]\n",
      "Get:82 https://developer.download.nvidia.com/compute/cuda/repos/ubuntu2204/x86_64  libnvidia-cfg1-570 570.86.15-0ubuntu1 [145 kB]\n",
      "Get:83 https://developer.download.nvidia.com/compute/cuda/repos/ubuntu2204/x86_64  xserver-xorg-video-nvidia-570 570.86.15-0ubuntu1 [1,694 kB]\n",
      "Get:84 https://developer.download.nvidia.com/compute/cuda/repos/ubuntu2204/x86_64  libnvidia-fbc1-570 570.86.15-0ubuntu1 [98.3 kB]\n",
      "Get:85 https://developer.download.nvidia.com/compute/cuda/repos/ubuntu2204/x86_64  nvidia-driver-570 570.86.15-0ubuntu1 [491 kB]\n",
      "Get:86 https://developer.download.nvidia.com/compute/cuda/repos/ubuntu2204/x86_64  cuda-drivers-570 570.86.15-0ubuntu1 [2,546 B]\n",
      "Get:87 https://developer.download.nvidia.com/compute/cuda/repos/ubuntu2204/x86_64  cuda-drivers 570.86.15-0ubuntu1 [2,498 B]\n",
      "Get:88 https://developer.download.nvidia.com/compute/cuda/repos/ubuntu2204/x86_64  cuda-runtime-11-8 11.8.0-1 [2,424 B]\n",
      "Get:89 https://developer.download.nvidia.com/compute/cuda/repos/ubuntu2204/x86_64  cuda-cuobjdump-11-8 11.8.86-1 [165 kB]\n",
      "Get:90 https://developer.download.nvidia.com/compute/cuda/repos/ubuntu2204/x86_64  cuda-cuxxfilt-11-8 11.8.86-1 [189 kB]\n",
      "Get:91 https://developer.download.nvidia.com/compute/cuda/repos/ubuntu2204/x86_64  cuda-cccl-11-8 11.8.89-1 [1,040 kB]\n",
      "Get:92 https://developer.download.nvidia.com/compute/cuda/repos/ubuntu2204/x86_64  cuda-driver-dev-11-8 11.8.89-1 [27.3 kB]\n",
      "Get:93 https://developer.download.nvidia.com/compute/cuda/repos/ubuntu2204/x86_64  cuda-cudart-dev-11-8 11.8.89-1 [820 kB]\n",
      "Get:94 https://developer.download.nvidia.com/compute/cuda/repos/ubuntu2204/x86_64  cuda-nvcc-11-8 11.8.89-1 [43.5 MB]\n",
      "Get:95 https://developer.download.nvidia.com/compute/cuda/repos/ubuntu2204/x86_64  cuda-nvprune-11-8 11.8.86-1 [58.1 kB]\n",
      "Get:96 https://developer.download.nvidia.com/compute/cuda/repos/ubuntu2204/x86_64  cuda-compiler-11-8 11.8.0-1 [2,432 B]\n",
      "Get:97 https://developer.download.nvidia.com/compute/cuda/repos/ubuntu2204/x86_64  cuda-profiler-api-11-8 11.8.86-1 [18.5 kB]\n",
      "Get:98 https://developer.download.nvidia.com/compute/cuda/repos/ubuntu2204/x86_64  cuda-nvrtc-dev-11-8 11.8.89-1 [13.5 MB]\n",
      "Get:99 https://developer.download.nvidia.com/compute/cuda/repos/ubuntu2204/x86_64  libcublas-dev-11-8 11.11.3.6-1 [269 MB]\n",
      "Get:100 https://developer.download.nvidia.com/compute/cuda/repos/ubuntu2204/x86_64  libcufft-dev-11-8 10.9.0.58-1 [189 MB]\n",
      "Get:101 https://developer.download.nvidia.com/compute/cuda/repos/ubuntu2204/x86_64  libcufile-dev-11-8 1.4.0.31-1 [1,062 kB]\n",
      "Get:102 https://developer.download.nvidia.com/compute/cuda/repos/ubuntu2204/x86_64  libcurand-dev-11-8 10.3.0.86-1 [42.9 MB]\n",
      "Get:103 https://developer.download.nvidia.com/compute/cuda/repos/ubuntu2204/x86_64  libcusolver-dev-11-8 11.4.1.48-1 [35.7 MB]\n",
      "Get:104 https://developer.download.nvidia.com/compute/cuda/repos/ubuntu2204/x86_64  libcusparse-dev-11-8 11.7.5.86-1 [116 MB]\n",
      "Get:105 https://developer.download.nvidia.com/compute/cuda/repos/ubuntu2204/x86_64  libnpp-dev-11-8 11.8.0.86-1 [100 MB]\n",
      "Get:106 https://developer.download.nvidia.com/compute/cuda/repos/ubuntu2204/x86_64  libnvjpeg-dev-11-8 11.9.0.86-1 [1,536 kB]\n",
      "Get:107 https://developer.download.nvidia.com/compute/cuda/repos/ubuntu2204/x86_64  cuda-libraries-dev-11-8 11.8.0-1 [2,554 B]\n",
      "Get:108 https://developer.download.nvidia.com/compute/cuda/repos/ubuntu2204/x86_64  cuda-cupti-11-8 11.8.87-1 [15.4 MB]\n",
      "Get:109 https://developer.download.nvidia.com/compute/cuda/repos/ubuntu2204/x86_64  cuda-cupti-dev-11-8 11.8.87-1 [2,552 kB]\n",
      "Get:110 https://developer.download.nvidia.com/compute/cuda/repos/ubuntu2204/x86_64  cuda-nvdisasm-11-8 11.8.86-1 [50.8 MB]\n",
      "Get:111 https://developer.download.nvidia.com/compute/cuda/repos/ubuntu2204/x86_64  cuda-gdb-11-8 11.8.86-1 [4,138 kB]\n",
      "Get:112 https://developer.download.nvidia.com/compute/cuda/repos/ubuntu2204/x86_64  cuda-memcheck-11-8 11.8.86-1 [142 kB]\n",
      "Get:113 https://developer.download.nvidia.com/compute/cuda/repos/ubuntu2204/x86_64  cuda-nvprof-11-8 11.8.87-1 [1,959 kB]\n",
      "Get:114 https://developer.download.nvidia.com/compute/cuda/repos/ubuntu2204/x86_64  cuda-nvtx-11-8 11.8.86-1 [51.3 kB]\n",
      "Get:115 https://developer.download.nvidia.com/compute/cuda/repos/ubuntu2204/x86_64  cuda-sanitizer-11-8 11.8.86-1 [8,784 kB]\n",
      "Get:116 https://developer.download.nvidia.com/compute/cuda/repos/ubuntu2204/x86_64  cuda-command-line-tools-11-8 11.8.0-1 [2,472 B]\n",
      "Get:117 https://developer.download.nvidia.com/compute/cuda/repos/ubuntu2204/x86_64  nsight-compute-2022.3.0 2022.3.0.22-1 [580 MB]\n",
      "Get:118 https://developer.download.nvidia.com/compute/cuda/repos/ubuntu2204/x86_64  cuda-nsight-compute-11-8 11.8.0-1 [3,790 B]\n",
      "Get:119 https://developer.download.nvidia.com/compute/cuda/repos/ubuntu2204/x86_64  nsight-systems-2022.4.2 2022.4.2.50-32196742v0 [286 MB]\n",
      "Get:120 https://developer.download.nvidia.com/compute/cuda/repos/ubuntu2204/x86_64  cuda-nsight-systems-11-8 11.8.0-1 [3,310 B]\n",
      "Get:121 https://developer.download.nvidia.com/compute/cuda/repos/ubuntu2204/x86_64  cuda-nsight-11-8 11.8.86-1 [119 MB]\n",
      "Get:122 https://developer.download.nvidia.com/compute/cuda/repos/ubuntu2204/x86_64  cuda-nvml-dev-11-8 11.8.86-1 [81.4 kB]\n",
      "Get:123 https://developer.download.nvidia.com/compute/cuda/repos/ubuntu2204/x86_64  cuda-nvvp-11-8 11.8.87-1 [114 MB]\n",
      "Get:124 https://developer.download.nvidia.com/compute/cuda/repos/ubuntu2204/x86_64  cuda-visual-tools-11-8 11.8.0-1 [2,870 B]\n",
      "Get:125 https://developer.download.nvidia.com/compute/cuda/repos/ubuntu2204/x86_64  gds-tools-11-8 1.4.0.31-1 [38.7 MB]\n",
      "Get:126 https://developer.download.nvidia.com/compute/cuda/repos/ubuntu2204/x86_64  cuda-tools-11-8 11.8.0-1 [2,390 B]\n",
      "Get:127 https://developer.download.nvidia.com/compute/cuda/repos/ubuntu2204/x86_64  cuda-documentation-11-8 11.8.86-1 [49.8 kB]\n",
      "Get:128 https://developer.download.nvidia.com/compute/cuda/repos/ubuntu2204/x86_64  cuda-toolkit-11-8 11.8.0-1 [3,374 B]\n",
      "Get:129 https://developer.download.nvidia.com/compute/cuda/repos/ubuntu2204/x86_64  cuda-demo-suite-11-8 11.8.86-1 [3,997 kB]\n",
      "Get:130 https://developer.download.nvidia.com/compute/cuda/repos/ubuntu2204/x86_64  cuda-11-8 11.8.0-1 [2,450 B]\n",
      "Get:131 https://developer.download.nvidia.com/compute/cuda/repos/ubuntu2204/x86_64  libcudnn8 8.6.0.163-1+cuda11.8 [446 MB]\n",
      "Get:132 https://developer.download.nvidia.com/compute/cuda/repos/ubuntu2204/x86_64  nvidia-settings 570.86.15-0ubuntu1 [959 kB]\n",
      "Fetched 3,569 MB in 1min 55s (31.2 MB/s)\n",
      "Extracting templates from packages: 100%\n",
      "Preconfiguring packages ...\n",
      "Selecting previously unselected package liblocale-gettext-perl.\n",
      "(Reading database ... 124926 files and directories currently installed.)\n",
      "Preparing to unpack .../000-liblocale-gettext-perl_1.07-4build3_amd64.deb ...\n",
      "Unpacking liblocale-gettext-perl (1.07-4build3) ...\n",
      "Selecting previously unselected package keyboard-configuration.\n",
      "Preparing to unpack .../001-keyboard-configuration_1.205ubuntu3_all.deb ...\n",
      "Unpacking keyboard-configuration (1.205ubuntu3) ...\n",
      "Selecting previously unselected package cpp-12.\n",
      "Preparing to unpack .../002-cpp-12_12.3.0-1ubuntu1~22.04_amd64.deb ...\n",
      "Unpacking cpp-12 (12.3.0-1ubuntu1~22.04) ...\n",
      "Selecting previously unselected package libasan8:amd64.\n",
      "Preparing to unpack .../003-libasan8_12.3.0-1ubuntu1~22.04_amd64.deb ...\n",
      "Unpacking libasan8:amd64 (12.3.0-1ubuntu1~22.04) ...\n",
      "Selecting previously unselected package libtsan2:amd64.\n",
      "Preparing to unpack .../004-libtsan2_12.3.0-1ubuntu1~22.04_amd64.deb ...\n",
      "Unpacking libtsan2:amd64 (12.3.0-1ubuntu1~22.04) ...\n",
      "Selecting previously unselected package libgcc-12-dev:amd64.\n",
      "Preparing to unpack .../005-libgcc-12-dev_12.3.0-1ubuntu1~22.04_amd64.deb ...\n",
      "Unpacking libgcc-12-dev:amd64 (12.3.0-1ubuntu1~22.04) ...\n",
      "Selecting previously unselected package gcc-12.\n",
      "Preparing to unpack .../006-gcc-12_12.3.0-1ubuntu1~22.04_amd64.deb ...\n",
      "Unpacking gcc-12 (12.3.0-1ubuntu1~22.04) ...\n",
      "Selecting previously unselected package dctrl-tools.\n",
      "Preparing to unpack .../007-dctrl-tools_2.24-3build2_amd64.deb ...\n",
      "Unpacking dctrl-tools (2.24-3build2) ...\n",
      "Selecting previously unselected package dkms.\n",
      "Preparing to unpack .../008-dkms_2.8.7-2ubuntu2.2_all.deb ...\n",
      "Unpacking dkms (2.8.7-2ubuntu2.2) ...\n",
      "Selecting previously unselected package udev.\n",
      "Preparing to unpack .../009-udev_249.11-0ubuntu3.12_amd64.deb ...\n",
      "Unpacking udev (249.11-0ubuntu3.12) ...\n",
      "Selecting previously unselected package libjansson4:amd64.\n",
      "Preparing to unpack .../010-libjansson4_2.13.1-1.1build3_amd64.deb ...\n",
      "Unpacking libjansson4:amd64 (2.13.1-1.1build3) ...\n",
      "Selecting previously unselected package cuda-toolkit-11-config-common.\n",
      "Preparing to unpack .../011-cuda-toolkit-11-config-common_11.8.89-1_all.deb ...\n",
      "Unpacking cuda-toolkit-11-config-common (11.8.89-1) ...\n",
      "Selecting previously unselected package cuda-toolkit-11-8-config-common.\n",
      "Preparing to unpack .../012-cuda-toolkit-11-8-config-common_11.8.89-1_all.deb ...\n",
      "Unpacking cuda-toolkit-11-8-config-common (11.8.89-1) ...\n",
      "Selecting previously unselected package cuda-cudart-11-8.\n",
      "Preparing to unpack .../013-cuda-cudart-11-8_11.8.89-1_amd64.deb ...\n",
      "Unpacking cuda-cudart-11-8 (11.8.89-1) ...\n",
      "Selecting previously unselected package cuda-nvrtc-11-8.\n",
      "Preparing to unpack .../014-cuda-nvrtc-11-8_11.8.89-1_amd64.deb ...\n",
      "Unpacking cuda-nvrtc-11-8 (11.8.89-1) ...\n",
      "Selecting previously unselected package libcublas-11-8.\n",
      "Preparing to unpack .../015-libcublas-11-8_11.11.3.6-1_amd64.deb ...\n",
      "Unpacking libcublas-11-8 (11.11.3.6-1) ...\n",
      "Selecting previously unselected package libcufft-11-8.\n",
      "Preparing to unpack .../016-libcufft-11-8_10.9.0.58-1_amd64.deb ...\n",
      "Unpacking libcufft-11-8 (10.9.0.58-1) ...\n",
      "Selecting previously unselected package libcufile-11-8.\n",
      "Preparing to unpack .../017-libcufile-11-8_1.4.0.31-1_amd64.deb ...\n",
      "Unpacking libcufile-11-8 (1.4.0.31-1) ...\n",
      "Selecting previously unselected package libcurand-11-8.\n",
      "Preparing to unpack .../018-libcurand-11-8_10.3.0.86-1_amd64.deb ...\n",
      "Unpacking libcurand-11-8 (10.3.0.86-1) ...\n",
      "Selecting previously unselected package libcusolver-11-8.\n",
      "Preparing to unpack .../019-libcusolver-11-8_11.4.1.48-1_amd64.deb ...\n",
      "Unpacking libcusolver-11-8 (11.4.1.48-1) ...\n",
      "Selecting previously unselected package libcusparse-11-8.\n",
      "Preparing to unpack .../020-libcusparse-11-8_11.7.5.86-1_amd64.deb ...\n",
      "Unpacking libcusparse-11-8 (11.7.5.86-1) ...\n",
      "Selecting previously unselected package libnpp-11-8.\n",
      "Preparing to unpack .../021-libnpp-11-8_11.8.0.86-1_amd64.deb ...\n",
      "Unpacking libnpp-11-8 (11.8.0.86-1) ...\n",
      "Selecting previously unselected package libnvjpeg-11-8.\n",
      "Preparing to unpack .../022-libnvjpeg-11-8_11.9.0.86-1_amd64.deb ...\n",
      "Unpacking libnvjpeg-11-8 (11.9.0.86-1) ...\n",
      "Selecting previously unselected package cuda-libraries-11-8.\n",
      "Preparing to unpack .../023-cuda-libraries-11-8_11.8.0-1_amd64.deb ...\n",
      "Unpacking cuda-libraries-11-8 (11.8.0-1) ...\n",
      "Selecting previously unselected package libnvidia-common-570.\n",
      "Preparing to unpack .../024-libnvidia-common-570_570.86.15-0ubuntu1_all.deb ...\n",
      "Unpacking libnvidia-common-570 (570.86.15-0ubuntu1) ...\n",
      "Selecting previously unselected package libnvidia-gl-570:amd64.\n",
      "Preparing to unpack .../025-libnvidia-gl-570_570.86.15-0ubuntu1_amd64.deb ...\n",
      "\u001b[1mdpkg-query:\u001b[0m no packages found matching libnvidia-gl-535\n",
      "Unpacking libnvidia-gl-570:amd64 (570.86.15-0ubuntu1) ...\n",
      "Selecting previously unselected package nvidia-kernel-source-570.\n",
      "Preparing to unpack .../026-nvidia-kernel-source-570_570.86.15-0ubuntu1_amd64.deb ...\n",
      "Unpacking nvidia-kernel-source-570 (570.86.15-0ubuntu1) ...\n",
      "Selecting previously unselected package nvidia-firmware-570-570.86.15.\n",
      "Preparing to unpack .../027-nvidia-firmware-570-570.86.15_570.86.15-0ubuntu1_amd64.deb ...\n",
      "Unpacking nvidia-firmware-570-570.86.15 (570.86.15-0ubuntu1) ...\n",
      "Selecting previously unselected package nvidia-modprobe.\n",
      "Preparing to unpack .../028-nvidia-modprobe_570.86.15-0ubuntu1_amd64.deb ...\n",
      "Unpacking nvidia-modprobe (570.86.15-0ubuntu1) ...\n",
      "Selecting previously unselected package nvidia-kernel-common-570.\n",
      "Preparing to unpack .../029-nvidia-kernel-common-570_570.86.15-0ubuntu1_amd64.deb ...\n",
      "Unpacking nvidia-kernel-common-570 (570.86.15-0ubuntu1) ...\n",
      "Selecting previously unselected package nvidia-dkms-570.\n",
      "Preparing to unpack .../030-nvidia-dkms-570_570.86.15-0ubuntu1_amd64.deb ...\n",
      "Unpacking nvidia-dkms-570 (570.86.15-0ubuntu1) ...\n",
      "Selecting previously unselected package libnvidia-decode-570:amd64.\n",
      "Preparing to unpack .../031-libnvidia-decode-570_570.86.15-0ubuntu1_amd64.deb ...\n",
      "Unpacking libnvidia-decode-570:amd64 (570.86.15-0ubuntu1) ...\n",
      "Selecting previously unselected package libnvidia-compute-570:amd64.\n",
      "Preparing to unpack .../032-libnvidia-compute-570_570.86.15-0ubuntu1_amd64.deb ...\n",
      "Unpacking libnvidia-compute-570:amd64 (570.86.15-0ubuntu1) ...\n",
      "Selecting previously unselected package libnvidia-extra-570:amd64.\n",
      "Preparing to unpack .../033-libnvidia-extra-570_570.86.15-0ubuntu1_amd64.deb ...\n",
      "Unpacking libnvidia-extra-570:amd64 (570.86.15-0ubuntu1) ...\n",
      "Selecting previously unselected package nvidia-compute-utils-570.\n",
      "Preparing to unpack .../034-nvidia-compute-utils-570_570.86.15-0ubuntu1_amd64.deb ...\n",
      "Unpacking nvidia-compute-utils-570 (570.86.15-0ubuntu1) ...\n",
      "Selecting previously unselected package libnvidia-encode-570:amd64.\n",
      "Preparing to unpack .../035-libnvidia-encode-570_570.86.15-0ubuntu1_amd64.deb ...\n",
      "Unpacking libnvidia-encode-570:amd64 (570.86.15-0ubuntu1) ...\n",
      "Selecting previously unselected package nvidia-utils-570.\n",
      "Preparing to unpack .../036-nvidia-utils-570_570.86.15-0ubuntu1_amd64.deb ...\n",
      "Unpacking nvidia-utils-570 (570.86.15-0ubuntu1) ...\n",
      "Selecting previously unselected package libnvidia-cfg1-570:amd64.\n",
      "Preparing to unpack .../037-libnvidia-cfg1-570_570.86.15-0ubuntu1_amd64.deb ...\n",
      "Unpacking libnvidia-cfg1-570:amd64 (570.86.15-0ubuntu1) ...\n",
      "Selecting previously unselected package libxkbfile1:amd64.\n",
      "Preparing to unpack .../038-libxkbfile1_1%3a1.1.0-1build3_amd64.deb ...\n",
      "Unpacking libxkbfile1:amd64 (1:1.1.0-1build3) ...\n",
      "Selecting previously unselected package x11-xkb-utils.\n",
      "Preparing to unpack .../039-x11-xkb-utils_7.7+5build4_amd64.deb ...\n",
      "Unpacking x11-xkb-utils (7.7+5build4) ...\n",
      "Selecting previously unselected package xserver-common.\n",
      "Preparing to unpack .../040-xserver-common_2%3a21.1.4-2ubuntu1.7~22.04.12_all.deb ...\n",
      "Unpacking xserver-common (2:21.1.4-2ubuntu1.7~22.04.12) ...\n",
      "Selecting previously unselected package libxcvt0:amd64.\n",
      "Preparing to unpack .../041-libxcvt0_0.1.1-3_amd64.deb ...\n",
      "Unpacking libxcvt0:amd64 (0.1.1-3) ...\n",
      "Selecting previously unselected package libfontenc1:amd64.\n",
      "Preparing to unpack .../042-libfontenc1_1%3a1.1.4-1build3_amd64.deb ...\n",
      "Unpacking libfontenc1:amd64 (1:1.1.4-1build3) ...\n",
      "Selecting previously unselected package libxfont2:amd64.\n",
      "Preparing to unpack .../043-libxfont2_1%3a2.0.5-1build1_amd64.deb ...\n",
      "Unpacking libxfont2:amd64 (1:2.0.5-1build1) ...\n",
      "Selecting previously unselected package xserver-xorg-core.\n",
      "Preparing to unpack .../044-xserver-xorg-core_2%3a21.1.4-2ubuntu1.7~22.04.12_amd64.deb ...\n",
      "Unpacking xserver-xorg-core (2:21.1.4-2ubuntu1.7~22.04.12) ...\n",
      "Selecting previously unselected package xserver-xorg-video-nvidia-570.\n",
      "Preparing to unpack .../045-xserver-xorg-video-nvidia-570_570.86.15-0ubuntu1_amd64.deb ...\n",
      "Unpacking xserver-xorg-video-nvidia-570 (570.86.15-0ubuntu1) ...\n",
      "Selecting previously unselected package libnvidia-fbc1-570:amd64.\n",
      "Preparing to unpack .../046-libnvidia-fbc1-570_570.86.15-0ubuntu1_amd64.deb ...\n",
      "Unpacking libnvidia-fbc1-570:amd64 (570.86.15-0ubuntu1) ...\n",
      "Selecting previously unselected package nvidia-driver-570.\n",
      "Preparing to unpack .../047-nvidia-driver-570_570.86.15-0ubuntu1_amd64.deb ...\n",
      "Unpacking nvidia-driver-570 (570.86.15-0ubuntu1) ...\n",
      "Selecting previously unselected package cuda-drivers-570.\n",
      "Preparing to unpack .../048-cuda-drivers-570_570.86.15-0ubuntu1_amd64.deb ...\n",
      "Unpacking cuda-drivers-570 (570.86.15-0ubuntu1) ...\n",
      "Selecting previously unselected package cuda-drivers.\n",
      "Preparing to unpack .../049-cuda-drivers_570.86.15-0ubuntu1_amd64.deb ...\n",
      "Unpacking cuda-drivers (570.86.15-0ubuntu1) ...\n",
      "Selecting previously unselected package cuda-runtime-11-8.\n",
      "Preparing to unpack .../050-cuda-runtime-11-8_11.8.0-1_amd64.deb ...\n",
      "Unpacking cuda-runtime-11-8 (11.8.0-1) ...\n",
      "Selecting previously unselected package cuda-cuobjdump-11-8.\n",
      "Preparing to unpack .../051-cuda-cuobjdump-11-8_11.8.86-1_amd64.deb ...\n",
      "Unpacking cuda-cuobjdump-11-8 (11.8.86-1) ...\n",
      "Selecting previously unselected package cuda-cuxxfilt-11-8.\n",
      "Preparing to unpack .../052-cuda-cuxxfilt-11-8_11.8.86-1_amd64.deb ...\n",
      "Unpacking cuda-cuxxfilt-11-8 (11.8.86-1) ...\n",
      "Selecting previously unselected package cuda-cccl-11-8.\n",
      "Preparing to unpack .../053-cuda-cccl-11-8_11.8.89-1_amd64.deb ...\n",
      "Unpacking cuda-cccl-11-8 (11.8.89-1) ...\n",
      "Selecting previously unselected package cuda-driver-dev-11-8.\n",
      "Preparing to unpack .../054-cuda-driver-dev-11-8_11.8.89-1_amd64.deb ...\n",
      "Unpacking cuda-driver-dev-11-8 (11.8.89-1) ...\n",
      "Selecting previously unselected package cuda-cudart-dev-11-8.\n",
      "Preparing to unpack .../055-cuda-cudart-dev-11-8_11.8.89-1_amd64.deb ...\n",
      "Unpacking cuda-cudart-dev-11-8 (11.8.89-1) ...\n",
      "Selecting previously unselected package cuda-nvcc-11-8.\n",
      "Preparing to unpack .../056-cuda-nvcc-11-8_11.8.89-1_amd64.deb ...\n",
      "Unpacking cuda-nvcc-11-8 (11.8.89-1) ...\n",
      "Selecting previously unselected package cuda-nvprune-11-8.\n",
      "Preparing to unpack .../057-cuda-nvprune-11-8_11.8.86-1_amd64.deb ...\n",
      "Unpacking cuda-nvprune-11-8 (11.8.86-1) ...\n",
      "Selecting previously unselected package cuda-compiler-11-8.\n",
      "Preparing to unpack .../058-cuda-compiler-11-8_11.8.0-1_amd64.deb ...\n",
      "Unpacking cuda-compiler-11-8 (11.8.0-1) ...\n",
      "Selecting previously unselected package cuda-profiler-api-11-8.\n",
      "Preparing to unpack .../059-cuda-profiler-api-11-8_11.8.86-1_amd64.deb ...\n",
      "Unpacking cuda-profiler-api-11-8 (11.8.86-1) ...\n",
      "Selecting previously unselected package cuda-nvrtc-dev-11-8.\n",
      "Preparing to unpack .../060-cuda-nvrtc-dev-11-8_11.8.89-1_amd64.deb ...\n",
      "Unpacking cuda-nvrtc-dev-11-8 (11.8.89-1) ...\n",
      "Selecting previously unselected package libcublas-dev-11-8.\n",
      "Preparing to unpack .../061-libcublas-dev-11-8_11.11.3.6-1_amd64.deb ...\n",
      "Unpacking libcublas-dev-11-8 (11.11.3.6-1) ...\n",
      "Selecting previously unselected package libcufft-dev-11-8.\n",
      "Preparing to unpack .../062-libcufft-dev-11-8_10.9.0.58-1_amd64.deb ...\n",
      "Unpacking libcufft-dev-11-8 (10.9.0.58-1) ...\n",
      "Selecting previously unselected package libcufile-dev-11-8.\n",
      "Preparing to unpack .../063-libcufile-dev-11-8_1.4.0.31-1_amd64.deb ...\n",
      "Unpacking libcufile-dev-11-8 (1.4.0.31-1) ...\n",
      "Selecting previously unselected package libcurand-dev-11-8.\n",
      "Preparing to unpack .../064-libcurand-dev-11-8_10.3.0.86-1_amd64.deb ...\n",
      "Unpacking libcurand-dev-11-8 (10.3.0.86-1) ...\n",
      "Selecting previously unselected package libcusolver-dev-11-8.\n",
      "Preparing to unpack .../065-libcusolver-dev-11-8_11.4.1.48-1_amd64.deb ...\n",
      "Unpacking libcusolver-dev-11-8 (11.4.1.48-1) ...\n",
      "Selecting previously unselected package libcusparse-dev-11-8.\n",
      "Preparing to unpack .../066-libcusparse-dev-11-8_11.7.5.86-1_amd64.deb ...\n",
      "Unpacking libcusparse-dev-11-8 (11.7.5.86-1) ...\n",
      "Selecting previously unselected package libnpp-dev-11-8.\n",
      "Preparing to unpack .../067-libnpp-dev-11-8_11.8.0.86-1_amd64.deb ...\n",
      "Unpacking libnpp-dev-11-8 (11.8.0.86-1) ...\n",
      "Selecting previously unselected package libnvjpeg-dev-11-8.\n",
      "Preparing to unpack .../068-libnvjpeg-dev-11-8_11.9.0.86-1_amd64.deb ...\n",
      "Unpacking libnvjpeg-dev-11-8 (11.9.0.86-1) ...\n",
      "Selecting previously unselected package cuda-libraries-dev-11-8.\n",
      "Preparing to unpack .../069-cuda-libraries-dev-11-8_11.8.0-1_amd64.deb ...\n",
      "Unpacking cuda-libraries-dev-11-8 (11.8.0-1) ...\n",
      "Selecting previously unselected package cuda-cupti-11-8.\n",
      "Preparing to unpack .../070-cuda-cupti-11-8_11.8.87-1_amd64.deb ...\n",
      "Unpacking cuda-cupti-11-8 (11.8.87-1) ...\n",
      "Selecting previously unselected package cuda-cupti-dev-11-8.\n",
      "Preparing to unpack .../071-cuda-cupti-dev-11-8_11.8.87-1_amd64.deb ...\n",
      "Unpacking cuda-cupti-dev-11-8 (11.8.87-1) ...\n",
      "Selecting previously unselected package cuda-nvdisasm-11-8.\n",
      "Preparing to unpack .../072-cuda-nvdisasm-11-8_11.8.86-1_amd64.deb ...\n",
      "Unpacking cuda-nvdisasm-11-8 (11.8.86-1) ...\n",
      "Selecting previously unselected package cuda-gdb-11-8.\n",
      "Preparing to unpack .../073-cuda-gdb-11-8_11.8.86-1_amd64.deb ...\n",
      "Unpacking cuda-gdb-11-8 (11.8.86-1) ...\n",
      "Selecting previously unselected package cuda-memcheck-11-8.\n",
      "Preparing to unpack .../074-cuda-memcheck-11-8_11.8.86-1_amd64.deb ...\n",
      "Unpacking cuda-memcheck-11-8 (11.8.86-1) ...\n",
      "Selecting previously unselected package cuda-nvprof-11-8.\n",
      "Preparing to unpack .../075-cuda-nvprof-11-8_11.8.87-1_amd64.deb ...\n",
      "Unpacking cuda-nvprof-11-8 (11.8.87-1) ...\n",
      "Selecting previously unselected package cuda-nvtx-11-8.\n",
      "Preparing to unpack .../076-cuda-nvtx-11-8_11.8.86-1_amd64.deb ...\n",
      "Unpacking cuda-nvtx-11-8 (11.8.86-1) ...\n",
      "Selecting previously unselected package cuda-sanitizer-11-8.\n",
      "Preparing to unpack .../077-cuda-sanitizer-11-8_11.8.86-1_amd64.deb ...\n",
      "Unpacking cuda-sanitizer-11-8 (11.8.86-1) ...\n",
      "Selecting previously unselected package cuda-command-line-tools-11-8.\n",
      "Preparing to unpack .../078-cuda-command-line-tools-11-8_11.8.0-1_amd64.deb ...\n",
      "Unpacking cuda-command-line-tools-11-8 (11.8.0-1) ...\n",
      "Selecting previously unselected package nsight-compute-2022.3.0.\n",
      "Preparing to unpack .../079-nsight-compute-2022.3.0_2022.3.0.22-1_amd64.deb ...\n",
      "Unpacking nsight-compute-2022.3.0 (2022.3.0.22-1) ...\n",
      "Selecting previously unselected package cuda-nsight-compute-11-8.\n",
      "Preparing to unpack .../080-cuda-nsight-compute-11-8_11.8.0-1_amd64.deb ...\n",
      "Unpacking cuda-nsight-compute-11-8 (11.8.0-1) ...\n",
      "Selecting previously unselected package libtinfo5:amd64.\n",
      "Preparing to unpack .../081-libtinfo5_6.3-2ubuntu0.1_amd64.deb ...\n",
      "Unpacking libtinfo5:amd64 (6.3-2ubuntu0.1) ...\n",
      "Selecting previously unselected package libxcb-xinerama0:amd64.\n",
      "Preparing to unpack .../082-libxcb-xinerama0_1.14-3ubuntu3_amd64.deb ...\n",
      "Unpacking libxcb-xinerama0:amd64 (1.14-3ubuntu3) ...\n",
      "Selecting previously unselected package libxcb-icccm4:amd64.\n",
      "Preparing to unpack .../083-libxcb-icccm4_0.4.1-1.1build2_amd64.deb ...\n",
      "Unpacking libxcb-icccm4:amd64 (0.4.1-1.1build2) ...\n",
      "Selecting previously unselected package libxcb-util1:amd64.\n",
      "Preparing to unpack .../084-libxcb-util1_0.4.0-1build2_amd64.deb ...\n",
      "Unpacking libxcb-util1:amd64 (0.4.0-1build2) ...\n",
      "Selecting previously unselected package libxcb-image0:amd64.\n",
      "Preparing to unpack .../085-libxcb-image0_0.4.0-2_amd64.deb ...\n",
      "Unpacking libxcb-image0:amd64 (0.4.0-2) ...\n",
      "Selecting previously unselected package libxcb-keysyms1:amd64.\n",
      "Preparing to unpack .../086-libxcb-keysyms1_0.4.0-1build3_amd64.deb ...\n",
      "Unpacking libxcb-keysyms1:amd64 (0.4.0-1build3) ...\n",
      "Selecting previously unselected package libxcb-render-util0:amd64.\n",
      "Preparing to unpack .../087-libxcb-render-util0_0.3.9-1build3_amd64.deb ...\n",
      "Unpacking libxcb-render-util0:amd64 (0.3.9-1build3) ...\n",
      "Selecting previously unselected package libxcb-xkb1:amd64.\n",
      "Preparing to unpack .../088-libxcb-xkb1_1.14-3ubuntu3_amd64.deb ...\n",
      "Unpacking libxcb-xkb1:amd64 (1.14-3ubuntu3) ...\n",
      "Selecting previously unselected package libxkbcommon-x11-0:amd64.\n",
      "Preparing to unpack .../089-libxkbcommon-x11-0_1.4.0-1_amd64.deb ...\n",
      "Unpacking libxkbcommon-x11-0:amd64 (1.4.0-1) ...\n",
      "Selecting previously unselected package libxcb-xinput0:amd64.\n",
      "Preparing to unpack .../090-libxcb-xinput0_1.14-3ubuntu3_amd64.deb ...\n",
      "Unpacking libxcb-xinput0:amd64 (1.14-3ubuntu3) ...\n",
      "Selecting previously unselected package nsight-systems-2022.4.2.\n",
      "Preparing to unpack .../091-nsight-systems-2022.4.2_2022.4.2.50-32196742v0_amd64.deb ...\n",
      "Unpacking nsight-systems-2022.4.2 (2022.4.2.50-32196742v0) ...\n",
      "Selecting previously unselected package cuda-nsight-systems-11-8.\n",
      "Preparing to unpack .../092-cuda-nsight-systems-11-8_11.8.0-1_amd64.deb ...\n",
      "Unpacking cuda-nsight-systems-11-8 (11.8.0-1) ...\n",
      "Selecting previously unselected package default-jre-headless.\n",
      "Preparing to unpack .../093-default-jre-headless_2%3a1.11-72build2_amd64.deb ...\n",
      "Unpacking default-jre-headless (2:1.11-72build2) ...\n",
      "Selecting previously unselected package libxtst6:amd64.\n",
      "Preparing to unpack .../094-libxtst6_2%3a1.2.3-1build4_amd64.deb ...\n",
      "Unpacking libxtst6:amd64 (2:1.2.3-1build4) ...\n",
      "Selecting previously unselected package openjdk-11-jre:amd64.\n",
      "Preparing to unpack .../095-openjdk-11-jre_11.0.26+4-1ubuntu1~22.04_amd64.deb ...\n",
      "Unpacking openjdk-11-jre:amd64 (11.0.26+4-1ubuntu1~22.04) ...\n",
      "Selecting previously unselected package default-jre.\n",
      "Preparing to unpack .../096-default-jre_2%3a1.11-72build2_amd64.deb ...\n",
      "Unpacking default-jre (2:1.11-72build2) ...\n",
      "Selecting previously unselected package cuda-nsight-11-8.\n",
      "Preparing to unpack .../097-cuda-nsight-11-8_11.8.86-1_amd64.deb ...\n",
      "Unpacking cuda-nsight-11-8 (11.8.86-1) ...\n",
      "Selecting previously unselected package cuda-nvml-dev-11-8.\n",
      "Preparing to unpack .../098-cuda-nvml-dev-11-8_11.8.86-1_amd64.deb ...\n",
      "Unpacking cuda-nvml-dev-11-8 (11.8.86-1) ...\n",
      "Selecting previously unselected package cuda-nvvp-11-8.\n",
      "Preparing to unpack .../099-cuda-nvvp-11-8_11.8.87-1_amd64.deb ...\n",
      "Unpacking cuda-nvvp-11-8 (11.8.87-1) ...\n",
      "Selecting previously unselected package cuda-visual-tools-11-8.\n",
      "Preparing to unpack .../100-cuda-visual-tools-11-8_11.8.0-1_amd64.deb ...\n",
      "Unpacking cuda-visual-tools-11-8 (11.8.0-1) ...\n",
      "Selecting previously unselected package gds-tools-11-8.\n",
      "Preparing to unpack .../101-gds-tools-11-8_1.4.0.31-1_amd64.deb ...\n",
      "Unpacking gds-tools-11-8 (1.4.0.31-1) ...\n",
      "Selecting previously unselected package cuda-tools-11-8.\n",
      "Preparing to unpack .../102-cuda-tools-11-8_11.8.0-1_amd64.deb ...\n",
      "Unpacking cuda-tools-11-8 (11.8.0-1) ...\n",
      "Selecting previously unselected package cuda-documentation-11-8.\n",
      "Preparing to unpack .../103-cuda-documentation-11-8_11.8.86-1_amd64.deb ...\n",
      "Unpacking cuda-documentation-11-8 (11.8.86-1) ...\n",
      "Selecting previously unselected package cuda-toolkit-11-8.\n",
      "Preparing to unpack .../104-cuda-toolkit-11-8_11.8.0-1_amd64.deb ...\n",
      "Unpacking cuda-toolkit-11-8 (11.8.0-1) ...\n",
      "Selecting previously unselected package cuda-demo-suite-11-8.\n",
      "Preparing to unpack .../105-cuda-demo-suite-11-8_11.8.86-1_amd64.deb ...\n",
      "Unpacking cuda-demo-suite-11-8 (11.8.86-1) ...\n",
      "Selecting previously unselected package cuda-11-8.\n",
      "Preparing to unpack .../106-cuda-11-8_11.8.0-1_amd64.deb ...\n",
      "Unpacking cuda-11-8 (11.8.0-1) ...\n",
      "Selecting previously unselected package libfakeroot:amd64.\n",
      "Preparing to unpack .../107-libfakeroot_1.28-1ubuntu1_amd64.deb ...\n",
      "Unpacking libfakeroot:amd64 (1.28-1ubuntu1) ...\n",
      "Selecting previously unselected package fakeroot.\n",
      "Preparing to unpack .../108-fakeroot_1.28-1ubuntu1_amd64.deb ...\n",
      "Unpacking fakeroot (1.28-1ubuntu1) ...\n",
      "Selecting previously unselected package fonts-dejavu-core.\n",
      "Preparing to unpack .../109-fonts-dejavu-core_2.37-2build1_all.deb ...\n",
      "Unpacking fonts-dejavu-core (2.37-2build1) ...\n",
      "Selecting previously unselected package fonts-dejavu-extra.\n",
      "Preparing to unpack .../110-fonts-dejavu-extra_2.37-2build1_all.deb ...\n",
      "Unpacking fonts-dejavu-extra (2.37-2build1) ...\n",
      "Selecting previously unselected package libxxf86dga1:amd64.\n",
      "Preparing to unpack .../111-libxxf86dga1_2%3a1.1.5-0ubuntu3_amd64.deb ...\n",
      "Unpacking libxxf86dga1:amd64 (2:1.1.5-0ubuntu3) ...\n",
      "Selecting previously unselected package x11-utils.\n",
      "Preparing to unpack .../112-x11-utils_7.7+5build2_amd64.deb ...\n",
      "Unpacking x11-utils (7.7+5build2) ...\n",
      "Selecting previously unselected package libatk-wrapper-java.\n",
      "Preparing to unpack .../113-libatk-wrapper-java_0.38.0-5build1_all.deb ...\n",
      "Unpacking libatk-wrapper-java (0.38.0-5build1) ...\n",
      "Selecting previously unselected package libatk-wrapper-java-jni:amd64.\n",
      "Preparing to unpack .../114-libatk-wrapper-java-jni_0.38.0-5build1_amd64.deb ...\n",
      "Unpacking libatk-wrapper-java-jni:amd64 (0.38.0-5build1) ...\n",
      "Selecting previously unselected package libcudnn8.\n",
      "Preparing to unpack .../115-libcudnn8_8.6.0.163-1+cuda11.8_amd64.deb ...\n",
      "Unpacking libcudnn8 (8.6.0.163-1+cuda11.8) ...\n",
      "Selecting previously unselected package libgtk2.0-common.\n",
      "Preparing to unpack .../116-libgtk2.0-common_2.24.33-2ubuntu2.1_all.deb ...\n",
      "Unpacking libgtk2.0-common (2.24.33-2ubuntu2.1) ...\n",
      "Selecting previously unselected package libgtk2.0-0:amd64.\n",
      "Preparing to unpack .../117-libgtk2.0-0_2.24.33-2ubuntu2.1_amd64.deb ...\n",
      "Unpacking libgtk2.0-0:amd64 (2.24.33-2ubuntu2.1) ...\n",
      "Selecting previously unselected package libgail18:amd64.\n",
      "Preparing to unpack .../118-libgail18_2.24.33-2ubuntu2.1_amd64.deb ...\n",
      "Unpacking libgail18:amd64 (2.24.33-2ubuntu2.1) ...\n",
      "Selecting previously unselected package libgail-common:amd64.\n",
      "Preparing to unpack .../119-libgail-common_2.24.33-2ubuntu2.1_amd64.deb ...\n",
      "Unpacking libgail-common:amd64 (2.24.33-2ubuntu2.1) ...\n",
      "Selecting previously unselected package libgtk2.0-bin.\n",
      "Preparing to unpack .../120-libgtk2.0-bin_2.24.33-2ubuntu2.1_amd64.deb ...\n",
      "Unpacking libgtk2.0-bin (2.24.33-2ubuntu2.1) ...\n",
      "Selecting previously unselected package libgudev-1.0-0:amd64.\n",
      "Preparing to unpack .../121-libgudev-1.0-0_1%3a237-2build1_amd64.deb ...\n",
      "Unpacking libgudev-1.0-0:amd64 (1:237-2build1) ...\n",
      "Selecting previously unselected package librsvg2-common:amd64.\n",
      "Preparing to unpack .../122-librsvg2-common_2.52.5+dfsg-3ubuntu0.2_amd64.deb ...\n",
      "Unpacking librsvg2-common:amd64 (2.52.5+dfsg-3ubuntu0.2) ...\n",
      "Selecting previously unselected package python3-xkit.\n",
      "Preparing to unpack .../123-python3-xkit_0.5.0ubuntu5_all.deb ...\n",
      "Unpacking python3-xkit (0.5.0ubuntu5) ...\n",
      "Selecting previously unselected package screen-resolution-extra.\n",
      "Preparing to unpack .../124-screen-resolution-extra_0.18.2_all.deb ...\n",
      "Unpacking screen-resolution-extra (0.18.2) ...\n",
      "Selecting previously unselected package nvidia-settings.\n",
      "Preparing to unpack .../125-nvidia-settings_570.86.15-0ubuntu1_amd64.deb ...\n",
      "Unpacking nvidia-settings (570.86.15-0ubuntu1) ...\n",
      "Selecting previously unselected package switcheroo-control.\n",
      "Preparing to unpack .../126-switcheroo-control_2.4-3build2_amd64.deb ...\n",
      "Unpacking switcheroo-control (2.4-3build2) ...\n",
      "Selecting previously unselected package systemd-hwe-hwdb.\n",
      "Preparing to unpack .../127-systemd-hwe-hwdb_249.11.5_all.deb ...\n",
      "Unpacking systemd-hwe-hwdb (249.11.5) ...\n",
      "Selecting previously unselected package xcvt.\n",
      "Preparing to unpack .../128-xcvt_0.1.1-3_amd64.deb ...\n",
      "Unpacking xcvt (0.1.1-3) ...\n",
      "Selecting previously unselected package xfonts-encodings.\n",
      "Preparing to unpack .../129-xfonts-encodings_1%3a1.0.5-0ubuntu2_all.deb ...\n",
      "Unpacking xfonts-encodings (1:1.0.5-0ubuntu2) ...\n",
      "Selecting previously unselected package xfonts-utils.\n",
      "Preparing to unpack .../130-xfonts-utils_1%3a7.7+6build2_amd64.deb ...\n",
      "Unpacking xfonts-utils (1:7.7+6build2) ...\n",
      "Selecting previously unselected package xfonts-base.\n",
      "Preparing to unpack .../131-xfonts-base_1%3a1.0.5_all.deb ...\n",
      "Unpacking xfonts-base (1:1.0.5) ...\n",
      "Setting up cpp-12 (12.3.0-1ubuntu1~22.04) ...\n",
      "Setting up cuda-nvml-dev-11-8 (11.8.86-1) ...\n",
      "Setting up default-jre-headless (2:1.11-72build2) ...\n",
      "Setting up cuda-toolkit-11-config-common (11.8.89-1) ...\n",
      "Setting up libxcb-xinput0:amd64 (1.14-3ubuntu3) ...\n",
      "Setting up cuda-cccl-11-8 (11.8.89-1) ...\n",
      "Setting up cuda-cuobjdump-11-8 (11.8.86-1) ...\n",
      "Setting up cuda-nvrtc-11-8 (11.8.89-1) ...\n",
      "Setting up cuda-sanitizer-11-8 (11.8.86-1) ...\n",
      "Setting up libnvidia-extra-570:amd64 (570.86.15-0ubuntu1) ...\n",
      "Setting up libxtst6:amd64 (2:1.2.3-1build4) ...\n",
      "Setting up libcudnn8 (8.6.0.163-1+cuda11.8) ...\n",
      "Setting up cuda-cupti-11-8 (11.8.87-1) ...\n",
      "Setting up libxcb-keysyms1:amd64 (0.4.0-1build3) ...\n",
      "Setting up nvidia-kernel-source-570 (570.86.15-0ubuntu1) ...\n",
      "Setting up libxxf86dga1:amd64 (2:1.1.5-0ubuntu3) ...\n",
      "Setting up libxcb-render-util0:amd64 (0.3.9-1build3) ...\n",
      "Setting up openjdk-11-jre:amd64 (11.0.26+4-1ubuntu1~22.04) ...\n",
      "Setting up cuda-nvdisasm-11-8 (11.8.86-1) ...\n",
      "Setting up libxcb-icccm4:amd64 (0.4.1-1.1build2) ...\n",
      "Setting up default-jre (2:1.11-72build2) ...\n",
      "Setting up cuda-cuxxfilt-11-8 (11.8.86-1) ...\n",
      "Setting up libfakeroot:amd64 (1.28-1ubuntu1) ...\n",
      "Setting up libxcb-util1:amd64 (0.4.0-1build2) ...\n",
      "Setting up libjansson4:amd64 (2.13.1-1.1build3) ...\n",
      "Setting up libxcb-xkb1:amd64 (1.14-3ubuntu3) ...\n",
      "Setting up nvidia-modprobe (570.86.15-0ubuntu1) ...\n",
      "Setting up libxcb-image0:amd64 (0.4.0-2) ...\n",
      "Setting up fakeroot (1.28-1ubuntu1) ...\n",
      "update-alternatives: using /usr/bin/fakeroot-sysv to provide /usr/bin/fakeroot (fakeroot) in auto mode\n",
      "Setting up libfontenc1:amd64 (1:1.1.4-1build3) ...\n",
      "Setting up libnvidia-common-570 (570.86.15-0ubuntu1) ...\n",
      "Setting up libxcb-xinerama0:amd64 (1.14-3ubuntu3) ...\n",
      "Setting up cuda-nvvp-11-8 (11.8.87-1) ...\n",
      "Setting up nvidia-firmware-570-570.86.15 (570.86.15-0ubuntu1) ...\n",
      "Setting up cuda-nvtx-11-8 (11.8.86-1) ...\n",
      "Setting up xfonts-encodings (1:1.0.5-0ubuntu2) ...\n",
      "Setting up libnvidia-cfg1-570:amd64 (570.86.15-0ubuntu1) ...\n",
      "Setting up cuda-gdb-11-8 (11.8.86-1) ...\n",
      "Setting up cuda-toolkit-11-8-config-common (11.8.89-1) ...\n",
      "Setting alternatives\n",
      "update-alternatives: using /usr/local/cuda-11.8 to provide /usr/local/cuda-11 (cuda-11) in auto mode\n",
      "Setting up libxkbcommon-x11-0:amd64 (1.4.0-1) ...\n",
      "Setting up udev (249.11-0ubuntu3.12) ...\n",
      "invoke-rc.d: could not determine current runlevel\n",
      "invoke-rc.d: policy-rc.d denied execution of start.\n",
      "Setting up libcusolver-11-8 (11.4.1.48-1) ...\n",
      "Setting up cuda-nvrtc-dev-11-8 (11.8.89-1) ...\n",
      "Setting up fonts-dejavu-core (2.37-2build1) ...\n",
      "Setting up librsvg2-common:amd64 (2.52.5+dfsg-3ubuntu0.2) ...\n",
      "Setting up cuda-driver-dev-11-8 (11.8.89-1) ...\n",
      "Setting up systemd-hwe-hwdb (249.11.5) ...\n",
      "Setting up cuda-memcheck-11-8 (11.8.86-1) ...\n",
      "Setting up fonts-dejavu-extra (2.37-2build1) ...\n",
      "Setting up gds-tools-11-8 (1.4.0.31-1) ...\n",
      "Setting up cuda-nsight-11-8 (11.8.86-1) ...\n",
      "Setting up cuda-profiler-api-11-8 (11.8.86-1) ...\n",
      "Setting up libasan8:amd64 (12.3.0-1ubuntu1~22.04) ...\n",
      "Setting up libxcvt0:amd64 (0.1.1-3) ...\n",
      "Setting up libgtk2.0-common (2.24.33-2ubuntu2.1) ...\n",
      "Setting up cuda-documentation-11-8 (11.8.86-1) ...\n",
      "Setting up libxkbfile1:amd64 (1:1.1.0-1build3) ...\n",
      "Setting up libtsan2:amd64 (12.3.0-1ubuntu1~22.04) ...\n",
      "Setting up python3-xkit (0.5.0ubuntu5) ...\n",
      "Setting up libtinfo5:amd64 (6.3-2ubuntu0.1) ...\n",
      "Setting up cuda-nvprune-11-8 (11.8.86-1) ...\n",
      "Setting up cuda-cudart-11-8 (11.8.89-1) ...\n",
      "Setting up libxfont2:amd64 (1:2.0.5-1build1) ...\n",
      "Setting up libnvjpeg-11-8 (11.9.0.86-1) ...\n",
      "Setting up liblocale-gettext-perl (1.07-4build3) ...\n",
      "Setting up libnvidia-fbc1-570:amd64 (570.86.15-0ubuntu1) ...\n",
      "Setting up libgudev-1.0-0:amd64 (1:237-2build1) ...\n",
      "Setting up dctrl-tools (2.24-3build2) ...\n",
      "Setting up cuda-nvprof-11-8 (11.8.87-1) ...\n",
      "Setting up nsight-compute-2022.3.0 (2022.3.0.22-1) ...\n",
      "Setting up nvidia-kernel-common-570 (570.86.15-0ubuntu1) ...\n",
      "Setting up nsight-systems-2022.4.2 (2022.4.2.50-32196742v0) ...\n",
      "update-alternatives: using /opt/nvidia/nsight-systems/2022.4.2/target-linux-x64/nsys to provide /usr/local/bin/nsys (nsys) in auto mode\n",
      "update-alternatives: using /opt/nvidia/nsight-systems/2022.4.2/host-linux-x64/nsys-ui to provide /usr/local/bin/nsys-ui (nsys-ui) in auto mode\n",
      "Setting up libcusparse-11-8 (11.7.5.86-1) ...\n",
      "Setting up libnvidia-gl-570:amd64 (570.86.15-0ubuntu1) ...\n",
      "Setting up libcufft-11-8 (10.9.0.58-1) ...\n",
      "Setting up cuda-cupti-dev-11-8 (11.8.87-1) ...\n",
      "Setting up libcufft-dev-11-8 (10.9.0.58-1) ...\n",
      "Setting up cuda-cudart-dev-11-8 (11.8.89-1) ...\n",
      "Setting up x11-xkb-utils (7.7+5build4) ...\n",
      "Setting up libnpp-11-8 (11.8.0.86-1) ...\n",
      "Setting up libcusolver-dev-11-8 (11.4.1.48-1) ...\n",
      "Setting up libgtk2.0-0:amd64 (2.24.33-2ubuntu2.1) ...\n",
      "Setting up xfonts-utils (1:7.7+6build2) ...\n",
      "Setting up xcvt (0.1.1-3) ...\n",
      "Setting up cuda-nsight-systems-11-8 (11.8.0-1) ...\n",
      "Setting up cuda-command-line-tools-11-8 (11.8.0-1) ...\n",
      "Setting up libcusparse-dev-11-8 (11.7.5.86-1) ...\n",
      "Setting up xfonts-base (1:1.0.5) ...\n",
      "Setting up libcurand-11-8 (10.3.0.86-1) ...\n",
      "Setting up libcufile-11-8 (1.4.0.31-1) ...\n",
      "Setting alternatives\n",
      "Setting up libcublas-11-8 (11.11.3.6-1) ...\n",
      "Setting up libnpp-dev-11-8 (11.8.0.86-1) ...\n",
      "Setting up libgcc-12-dev:amd64 (12.3.0-1ubuntu1~22.04) ...\n",
      "Setting up cuda-libraries-11-8 (11.8.0-1) ...\n",
      "Setting up cuda-nsight-compute-11-8 (11.8.0-1) ...\n",
      "Setting up screen-resolution-extra (0.18.2) ...\n",
      "Setting up libgail18:amd64 (2.24.33-2ubuntu2.1) ...\n",
      "Setting up libgtk2.0-bin (2.24.33-2ubuntu2.1) ...\n",
      "Setting up switcheroo-control (2.4-3build2) ...\n",
      "Created symlink /etc/systemd/system/graphical.target.wants/switcheroo-control.service → /lib/systemd/system/switcheroo-control.service.\n",
      "Setting up x11-utils (7.7+5build2) ...\n",
      "Setting up nvidia-settings (570.86.15-0ubuntu1) ...\n",
      "Setting up libnvjpeg-dev-11-8 (11.9.0.86-1) ...\n",
      "Setting up libatk-wrapper-java (0.38.0-5build1) ...\n",
      "Setting up xserver-common (2:21.1.4-2ubuntu1.7~22.04.12) ...\n",
      "Setting up keyboard-configuration (1.205ubuntu3) ...\n",
      "Your console font configuration will be updated the next time your system\n",
      "boots. If you want to update it now, run 'setupcon' from a virtual console.\n",
      "Setting up cuda-nvcc-11-8 (11.8.89-1) ...\n",
      "Setting up libgail-common:amd64 (2.24.33-2ubuntu2.1) ...\n",
      "Setting up xserver-xorg-core (2:21.1.4-2ubuntu1.7~22.04.12) ...\n",
      "Setting up libatk-wrapper-java-jni:amd64 (0.38.0-5build1) ...\n",
      "Setting up libcublas-dev-11-8 (11.11.3.6-1) ...\n",
      "Setting up libcurand-dev-11-8 (10.3.0.86-1) ...\n",
      "Setting up libcufile-dev-11-8 (1.4.0.31-1) ...\n",
      "Setting up gcc-12 (12.3.0-1ubuntu1~22.04) ...\n",
      "Setting up cuda-compiler-11-8 (11.8.0-1) ...\n",
      "Setting up xserver-xorg-video-nvidia-570 (570.86.15-0ubuntu1) ...\n",
      "Setting up cuda-libraries-dev-11-8 (11.8.0-1) ...\n",
      "Setting up dkms (2.8.7-2ubuntu2.2) ...\n",
      "Setting up cuda-visual-tools-11-8 (11.8.0-1) ...\n",
      "Setting up nvidia-dkms-570 (570.86.15-0ubuntu1) ...\n",
      "Loading new nvidia-570.86.15 DKMS files...\n",
      "It is likely that 6.1.85+ belongs to a chroot's host\n",
      "Building for 5.15.0-133-generic\n",
      "Building for architecture x86_64\n",
      "Building initial module for 5.15.0-133-generic\n",
      "Done.\n",
      "\n",
      "nvidia.ko:\n",
      "Running module version sanity check.\n",
      " - Original module\n",
      "   - No original module exists within this kernel\n",
      " - Installation\n",
      "   - Installing to /lib/modules/5.15.0-133-generic/updates/dkms/\n",
      "\n",
      "nvidia-modeset.ko:\n",
      "Running module version sanity check.\n",
      " - Original module\n",
      "   - No original module exists within this kernel\n",
      " - Installation\n",
      "   - Installing to /lib/modules/5.15.0-133-generic/updates/dkms/\n",
      "\n",
      "nvidia-drm.ko:\n",
      "Running module version sanity check.\n",
      " - Original module\n",
      "   - No original module exists within this kernel\n",
      " - Installation\n",
      "   - Installing to /lib/modules/5.15.0-133-generic/updates/dkms/\n",
      "\n",
      "nvidia-uvm.ko:\n",
      "Running module version sanity check.\n",
      " - Original module\n",
      "   - No original module exists within this kernel\n",
      " - Installation\n",
      "   - Installing to /lib/modules/5.15.0-133-generic/updates/dkms/\n",
      "\n",
      "nvidia-peermem.ko:\n",
      "Running module version sanity check.\n",
      " - Original module\n",
      "   - No original module exists within this kernel\n",
      " - Installation\n",
      "   - Installing to /lib/modules/5.15.0-133-generic/updates/dkms/\n",
      "\n",
      "depmod...\n",
      "Setting up cuda-tools-11-8 (11.8.0-1) ...\n",
      "Setting up cuda-toolkit-11-8 (11.8.0-1) ...\n",
      "Setting alternatives\n",
      "Setting up libnvidia-decode-570:amd64 (570.86.15-0ubuntu1) ...\n",
      "Setting up libnvidia-compute-570:amd64 (570.86.15-0ubuntu1) ...\n",
      "Setting up libnvidia-encode-570:amd64 (570.86.15-0ubuntu1) ...\n",
      "Setting up nvidia-utils-570 (570.86.15-0ubuntu1) ...\n",
      "Setting up nvidia-compute-utils-570 (570.86.15-0ubuntu1) ...\n",
      "Setting up nvidia-driver-570 (570.86.15-0ubuntu1) ...\n",
      "Setting up cuda-drivers-570 (570.86.15-0ubuntu1) ...\n",
      "Setting up cuda-drivers (570.86.15-0ubuntu1) ...\n",
      "Setting up cuda-runtime-11-8 (11.8.0-1) ...\n",
      "Setting up cuda-demo-suite-11-8 (11.8.86-1) ...\n",
      "Setting up cuda-11-8 (11.8.0-1) ...\n",
      "Processing triggers for fontconfig (2.13.1-4.2ubuntu5) ...\n",
      "Processing triggers for hicolor-icon-theme (0.17-2) ...\n",
      "Processing triggers for libc-bin (2.35-0ubuntu3.8) ...\n",
      "/sbin/ldconfig.real: /usr/local/lib/libtcm_debug.so.1 is not a symbolic link\n",
      "\n",
      "/sbin/ldconfig.real: /usr/local/lib/libtbbbind_2_0.so.3 is not a symbolic link\n",
      "\n",
      "/sbin/ldconfig.real: /usr/local/lib/libtbb.so.12 is not a symbolic link\n",
      "\n",
      "/sbin/ldconfig.real: /usr/local/lib/libtbbmalloc_proxy.so.2 is not a symbolic link\n",
      "\n",
      "/sbin/ldconfig.real: /usr/local/lib/libur_adapter_opencl.so.0 is not a symbolic link\n",
      "\n",
      "/sbin/ldconfig.real: /usr/local/lib/libtbbmalloc.so.2 is not a symbolic link\n",
      "\n",
      "/sbin/ldconfig.real: /usr/local/lib/libumf.so.0 is not a symbolic link\n",
      "\n",
      "/sbin/ldconfig.real: /usr/local/lib/libtbbbind_2_5.so.3 is not a symbolic link\n",
      "\n",
      "/sbin/ldconfig.real: /usr/local/lib/libhwloc.so.15 is not a symbolic link\n",
      "\n",
      "/sbin/ldconfig.real: /usr/local/lib/libtbbbind.so.3 is not a symbolic link\n",
      "\n",
      "/sbin/ldconfig.real: /usr/local/lib/libur_loader.so.0 is not a symbolic link\n",
      "\n",
      "/sbin/ldconfig.real: /usr/local/lib/libur_adapter_level_zero.so.0 is not a symbolic link\n",
      "\n",
      "/sbin/ldconfig.real: /usr/local/lib/libtcm.so.1 is not a symbolic link\n",
      "\n",
      "Processing triggers for man-db (2.10.2-1) ...\n",
      "Processing triggers for dbus (1.12.20-2ubuntu4.1) ...\n",
      "Processing triggers for libgdk-pixbuf-2.0-0:amd64 (2.42.8+dfsg-1ubuntu0.3) ...\n",
      "Processing triggers for mailcap (3.70+nmu1ubuntu1) ...\n"
     ]
    }
   ],
   "source": [
    "!wget -qO- https://developer.download.nvidia.com/compute/cuda/repos/ubuntu2204/x86_64/cuda-keyring_1.0-1_all.deb | sudo dpkg -i -\n",
    "!apt update\n",
    "!apt install -y cuda-11-8 libcudnn8=8.6.0.163-1+cuda11.8\n"
   ]
  },
  {
   "cell_type": "code",
   "execution_count": null,
   "metadata": {
    "colab": {
     "base_uri": "https://localhost:8080/"
    },
    "executionInfo": {
     "elapsed": 8643,
     "status": "ok",
     "timestamp": 1740320856563,
     "user": {
      "displayName": "Mahder Tesfaye",
      "userId": "10113678197611266820"
     },
     "user_tz": -180
    },
    "id": "kPzFdIEUHodH",
    "outputId": "37d89197-afee-47c6-85d5-7afbc9ad1718"
   },
   "outputs": [
    {
     "ename": "",
     "evalue": "",
     "output_type": "error",
     "traceback": [
      "\u001b[1;31mThe file 'MlnewEnv/lib/python3.10/site-packages/typing_extensions.py' seems to be overriding built in modules and interfering with the startup of the kernel. Consider renaming the file and starting the kernel again.\n",
      "\u001b[1;31mClick <a href='https://aka.ms/kernelFailuresOverridingBuiltInModules'>here</a> for more info."
     ]
    }
   ],
   "source": [
    "!pip install tensorflow==2.13.0\n"
   ]
  },
  {
   "cell_type": "code",
   "execution_count": null,
   "metadata": {
    "colab": {
     "base_uri": "https://localhost:8080/"
    },
    "executionInfo": {
     "elapsed": 2430,
     "status": "ok",
     "timestamp": 1740244302798,
     "user": {
      "displayName": "Mahder Tesfaye",
      "userId": "10113678197611266820"
     },
     "user_tz": -180
    },
    "id": "WW8at-CvIL6V",
    "outputId": "c0be6fbd-323a-4b7e-c223-15937a0d14ef"
   },
   "outputs": [
    {
     "name": "stdout",
     "output_type": "stream",
     "text": [
      "Collecting emoji\n",
      "  Downloading emoji-2.14.1-py3-none-any.whl.metadata (5.7 kB)\n",
      "Downloading emoji-2.14.1-py3-none-any.whl (590 kB)\n",
      "\u001b[?25l   \u001b[90m━━━━━━━━━━━━━━━━━━━━━━━━━━━━━━━━━━━━━━━━\u001b[0m \u001b[32m0.0/590.6 kB\u001b[0m \u001b[31m?\u001b[0m eta \u001b[36m-:--:--\u001b[0m\r\u001b[2K   \u001b[91m━━━━━━━━━\u001b[0m\u001b[91m╸\u001b[0m\u001b[90m━━━━━━━━━━━━━━━━━━━━━━━━━━━━━━\u001b[0m \u001b[32m143.4/590.6 kB\u001b[0m \u001b[31m4.0 MB/s\u001b[0m eta \u001b[36m0:00:01\u001b[0m\r\u001b[2K   \u001b[90m━━━━━━━━━━━━━━━━━━━━━━━━━━━━━━━━━━━━━━━━\u001b[0m \u001b[32m590.6/590.6 kB\u001b[0m \u001b[31m8.6 MB/s\u001b[0m eta \u001b[36m0:00:00\u001b[0m\n",
      "\u001b[?25hInstalling collected packages: emoji\n",
      "Successfully installed emoji-2.14.1\n"
     ]
    }
   ],
   "source": [
    "!pip install emoji"
   ]
  },
  {
   "cell_type": "markdown",
   "metadata": {},
   "source": [
    "\n",
    "## 2. Importing the Packages\n",
    "\n",
    "Let's start by importing all the required libraries."
   ]
  },
  {
   "cell_type": "code",
   "execution_count": 1,
   "metadata": {
    "id": "Lg2APpbGDnqm"
   },
   "outputs": [],
   "source": [
    "import numpy as np\n",
    "import tensorflow as tf\n",
    "import matplotlib.pyplot as plt\n",
    "import pandas as pd\n",
    "import json\n",
    "import re\n",
    "import random\n",
    "import emoji\n",
    "import sentencepiece as spm\n",
    "import string\n",
    "from collections import Counter\n",
    "import time\n",
    "from tensorflow.keras.optimizers import Adam\n",
    "from tensorflow.keras.losses import SparseCategoricalCrossentropy\n",
    "from tensorflow.keras.metrics import Mean, SparseCategoricalAccuracy\n"
   ]
  },
  {
   "cell_type": "markdown",
   "metadata": {
    "id": "6mJpUYkiDnqn"
   },
   "source": [
    "## 3. Dataset Collection & Preprocessing"
   ]
  },
  {
   "cell_type": "code",
   "execution_count": 2,
   "metadata": {
    "colab": {
     "base_uri": "https://localhost:8080/"
    },
    "executionInfo": {
     "elapsed": 3,
     "status": "ok",
     "timestamp": 1740244334894,
     "user": {
      "displayName": "Mahder Tesfaye",
      "userId": "10113678197611266820"
     },
     "user_tz": -180
    },
    "id": "J9-RKYPFIgjY",
    "outputId": "8c09dabf-abf2-4803-8251-fa4427762949"
   },
   "outputs": [
    {
     "name": "stdout",
     "output_type": "stream",
     "text": [
      "Num GPUs Available:  1\n"
     ]
    },
    {
     "data": {
      "text/plain": [
       "'2.13.0'"
      ]
     },
     "execution_count": 2,
     "metadata": {},
     "output_type": "execute_result"
    }
   ],
   "source": [
    "# prompt: check the availability of gpu for tf\n",
    "\n",
    "import tensorflow as tf\n",
    "\n",
    "print(\"Num GPUs Available: \", len(tf.config.list_physical_devices('GPU')))\n",
    "tf.__version__"
   ]
  },
  {
   "cell_type": "markdown",
   "metadata": {
    "id": "lCk6TgLaDnqn"
   },
   "source": [
    "### 3.1 Data Collection  \n",
    "\n",
    "In order to pretrain the Transformer network from scratch, we will use **self-supervised learning**, which requires a large corpus of unlabeled text. We will apply a **Masked Language Model (MLM)** to pre-train the model.  \n",
    "\n",
    "#### **Why Telegram Channels?**  \n",
    "Telegram is the most widely used platform for information storage in Ethiopia. For this reason, I have chosen **Telegram channels** as the primary data source. Most of the selected channels are news channels, ensuring a diverse and rich dataset.  \n",
    "\n",
    "#### **Data Collection Method**  \n",
    "To collect the data, I used the **Telethon Python library** and the **Telegram API** to scrape text from selected channels.  \n",
    "\n",
    "#### **Selected Telegram Channels**  \n",
    "The dataset has been collected from the following Telegram channels:  \n",
    "\n",
    "- [Tikvah Ethiopia](https://t.me/tikvahethiopia)  \n",
    "- [Addis Standard Amharic](https://t.me/AddisstandardAmh)  \n",
    "- [Tarikn Wedehuala](https://t.me/TariknWedehuala)  \n",
    "- [Addis News](https://t.me/Addis_News)  \n",
    "- [Zena 24 Now](https://t.me/zena24now)  \n",
    "- [Tikvah University](https://t.me/TikvahUniversity)  \n",
    "- [Tikvah Ethiopia Magazine](https://t.me/tikvahethmagazine)  \n",
    "- [Tikvah Ethiopia Sport](https://t.me/tikvahethsport)  \n",
    "- [Philosophy Thoughts](https://t.me/Philosophy_Thoughts1)  \n",
    "- [Mudenyaz](https://t.me/Mudenyaz)  \n",
    "- [Yemeri Terekoch](https://t.me/yemeri_terekoch)  \n",
    "- [Bemnet Library](https://t.me/Bemnet_Library)  \n",
    "- [Amazing Fact](https://t.me/amazing_fact_433)  \n",
    "- [Zephilosophy](https://t.me/Zephilosophy)  \n",
    "- [Huluezih](https://t.me/huluezih)  \n",
    "\n",
    "#### **Accessing Collected Data**  \n",
    "To access the code and all the raw data collected from each channel, visit the following GitHub repository:  \n",
    "[GitHub Repository Link](https://github.com/your-repo-link-here).\n"
   ]
  },
  {
   "cell_type": "markdown",
   "metadata": {
    "id": "k1Qa0MApDnqo"
   },
   "source": [
    "### 3.2 Data Loading and Cleaning"
   ]
  },
  {
   "cell_type": "markdown",
   "metadata": {
    "id": "DIHZnrjcDnqo"
   },
   "source": [
    "Next, we will define a function that will load data from a JSON file as an array of strings."
   ]
  },
  {
   "cell_type": "code",
   "execution_count": 3,
   "metadata": {
    "id": "rKd5x-4DDnqo"
   },
   "outputs": [],
   "source": [
    "def load_data(filepath):\n",
    "    return_data=[]\n",
    "    with open (filepath, \"r\", encoding=\"utf-8\", errors=\"replace\") as file:\n",
    "        datas=json.load(file)\n",
    "        for data in datas:\n",
    "            return_data.append(data[\"text\"])\n",
    "\n",
    "    return return_data"
   ]
  },
  {
   "cell_type": "markdown",
   "metadata": {
    "id": "8hzi36FeDnqo"
   },
   "source": [
    "The following code shows how the news look like"
   ]
  },
  {
   "cell_type": "code",
   "execution_count": 4,
   "metadata": {
    "colab": {
     "base_uri": "https://localhost:8080/",
     "height": 358
    },
    "executionInfo": {
     "elapsed": 221,
     "status": "error",
     "timestamp": 1740244335483,
     "user": {
      "displayName": "Mahder Tesfaye",
      "userId": "10113678197611266820"
     },
     "user_tz": -180
    },
    "id": "iXO7Af_nDnqo",
    "outputId": "a5f70b61-ff4c-4d91-e522-599335f9a5f8"
   },
   "outputs": [
    {
     "name": "stdout",
     "output_type": "stream",
     "text": [
      "#መቄዶንያ\n",
      "\n",
      "ሰውን ለመርዳት ሰው መሆን በቂ ነው !\n",
      "\n",
      "ትላንት የካቲት 1/2017 ዓ/ም በጀመረው የመቄዶንያ የአረጋዊያን እና የአእምሮ ህሙማን መርጃ ማዕከል የድጋፍ ማሰባሰብ ዘመቻ እስኩን 120,000,000 ብር ተሰብስቧል።\n",
      "\n",
      "መቄዶንያ በሚያስገነባው ሆስፒታል ጭምር ያለው ህንፃ ለማጠናቀቅ የገንዘብ እጥረት አጋጥሞታል። ህንፃው ለማጠናቀቅ ገንዘብ ተቸግረናል። ለማጠናቀቅ ወደ 5 ቢሊዮን ብር ያስፈልጋል።\n",
      "\n",
      "በቀጥታ ይከታተሉ 👇\n",
      "https://www.youtube.com/live/q0bMjwt9PvM?feature=shared\n",
      "\n",
      "የምትችሉትን ሁሉ ድጋፍ አድርጉ።\n",
      "\n",
      "@tikvahethiopia\n",
      "---------------------------------------------------------------------------------\n",
      "\n",
      "\n",
      "🔊 #የሠራተኞችድምጽ\n",
      "\n",
      "\" ቋሚ ሠራተኞች ሆነን ሳለ በደሞዝ ማሻሻያው አልተካተትንም \" - የሀዋሳ ዙሪያ ወረዳ መንግስት ሠራተኞች\n",
      "\n",
      "የማክሮ ኢኮኖሚ ማሻሻያ ሪፎርሙን ተከትሎ የሚከሰቱ የኑሮ ዉድነትና ተያያዥ ጉዳዮችን ታሳቢ በማድረግ የመንግስት ሠራተኞች ደሞዝ ማሻሻያ ተደርጎ ከጥቅምት ወር 2017 ዓ/ም ጀምሮ ተግባራዊ የተደረገ መሆኑ ይታወቃል።\n",
      "\n",
      "በሲዳማ ክልል፤ ሰሜናዊ ሲዳማ ዞን፤ ሀዋሳ ዙሪያ ወረዳ በተለያዩ የመንግስት መስሪያ ቤቶች የሚሰሩ የመንግስት ሠራተኞች ግን \" ከ2012 ዓ/ም ጀምሮ በቋሚነት ተቀጥረን እየሰራን ያለን ቢሆንም በአዲሱ የመንግስት ሠራተኞች የደመወዝ ማሻሻያ አልተካተትንም \" ሲሉ ቅሬታቸዉን ለቲክቫህ ኢትዮጵያ አስገብተዋል።\n",
      "\n",
      "ቅሬታቸዉን ካደረሱን መካከል ፦\n",
      "- በከተማ ልማትና ኮንስትራክሽን፣\n",
      "- ማዘጋጃ ቤቶች፣\n",
      "- በትምህርት ዘርፍ ፣\n",
      "- በሴቶችና ሕፃናት እንዲሁም በሕብረት ስራ ጽ/ቤቶች የሚሰሩ ሠራተኞች ናቸው።\n",
      "\n",
      "\" በወቅቱ በአግባቡ ማስታወቂያ ወጥቶ ተመዝግበንና ተወዳድረን ማለፋችን ተረጋግጦ የቋሚነት ደብዳቤ ተሰጥቶን ላለፉት አምስትና ስድስት ዓመታት ደሞዝ ሲከፈለን በቆየንባቸው መደቦች ላይ እየሰራን ባለንበት በአዲሱ የደሞዝ ማሻሻያ አለመካተታችን ለዘርፈ ብዙ ችግሮች ዳርጎናል \" ብለዋል።\n",
      "\n",
      "\" ለወረዳዉ ፐብሊክ ሰርቪስና የሰዉ ሃብት ልማት ጽ/ቤት እና ለክልሉ ፐብሊክ ሰርቪስ ቢሮ ቅሬታችንን በአካልና በፅሁፍ ብናቀርብም ተገቢዉ ምላሽ አልተሰጠንም ጉዳዩን ለኢትዮጵያ እምባ ጠባቂ ተቋም ለማቅረብ መረጃ እያደራጀን ነው \" ሲሉ ተናግረዋል።\n",
      "\n",
      "ቃላቸውን ለቲክቫህ ኢትዮጵያ የሰጡት ፤ የሀዋሳ ዙሪያ ወረዳ ፐብሊክ ሰርቪስ እና የሰዉ ሃብት ልማት ጽ/ቤት ኃላፊ አቶ ሃይሉ አቢኖ ፥ \" በወረዳዉ በ2012 ዓ/ም የነበረው አግባብነት በሌለው ቅጥር በአንድ መደብ ሶስትና አራት ሰዎችን በተደራራቢነት የመቅጠር ሁኔታዎች አሁን ለተፈጠረው ችግር ዋነኛ ምክንያት ሆኗል \" ሲሉ ገልጸዋል።\n",
      "\n",
      "ከዞኑና የክልሉ ፐብልክ ሰርቪስ ጋር በመናበብ መፍትሔ እያፈላለጉ ስለመሆኑም ጠቁመዋል።\n",
      "\n",
      "በወቅቱ ይህን ተግባር የፈፀሙ አመራሮች እና የሰዉ ሃብት ልማት ኃላፊዎች ላይ እርምጃ መወሰዱን የሚናገሩት ኃላፊዉ በወረዳዉ በዚህ መልክ ተጠቀጥረዉ በአዲሱ የደመወዝ ማሻሻያ ያልካተቱና በቀጣይ መፍትሔ የሚፈለግላቸዉ 470 በተለያዩ መስሪያ ቤቶች ዉስጥ የተለዩ ሰራተኞች ስለመኖራቸዉ አክለዋል።\n",
      "\n",
      "የሰሜናዊ ሲዳማ ዞን ፐብልክ ሰርቪስና የሰዉ ሃይል ልማት መምሪያ ኃላፊ አቶ በዛብህ ባርሶ በበኩላቸው በ2011 እና 2012 በአከባቢው ሕገወጥ ቅጥሮች መፈፀማቸውን ገልጸዋል።\n",
      "\n",
      "በወረዳዉ አጣሪ ቡድን ተቋቁሞ በአዲሱ ደሞዝ ያልተካተቱንና በወረዳው ቅጥር ያልተፈፀመባቸዉ ክፍት መደቦችን የመለየት ስራ መከናወኑን አንስተዉ በሀዋሳ ዙሪያ ወረዳ ብቻ 407 ክፍት መደቦች መኖራቸዉን ለማወቅ መቻሉን ገልፀዋል።\n",
      "\n",
      "የክልሉ የበላይ አመራሮች በሚያስቀምጡት አቅጣጫ መሰረት እነዚህን ሠራተኞች በነዚህ ክፍት መደቦች የመደልደልና ሌሎችም ሕጋዊ አመራጮች በመፈለግ በአጭር ጊዜ ዉስጥ እልባት ለመስጠት እየተሰራ መሆኑን አስታውቀዋል።\n",
      "\n",
      "ቲክቫህ ኢትዮጵያ ጉዳዩን እስከመጨረሻ ተከታትሎ መረጃውን ይልካል።\n",
      "\n",
      "#TikvahEthiopiaFamilyHW\n",
      "\n",
      "@tikvahethiopia\n",
      "---------------------------------------------------------------------------------\n",
      "\n",
      "\n",
      "የIMF ማኔጂንግ ዳይሬክተሯ ምን አሉ ?\n",
      "\n",
      "የዓለም አቀፍ የገንዘብ ተቋም (IMF) ማኔጂንግ ዳይሬክተር ክሪስታሊና ጆርጂዬቫ በኢትዮጵያ የስራ ቆይታ አድርገዋል።\n",
      "\n",
      "በዚህም ወቅት ከጠ/ሚ ዐቢይ አህመድ (ዶ/ር) ጋር ጨምሮ ከፌዴራል ከፍተኛ ባለስልጣናት ጋር መክረዋል።\n",
      "\n",
      "የነበራቸውን ቆይታ በተመለከተ ከገንዘብ ሚኒስትሩ አቶ አህመድ ሽዴ ጋር በጋራ መግለጫ ሰጥተው ነበር።\n",
      "\n",
      "ምን አሉ ?\n",
      "\n",
      "ዳይሬክተሯ ፤ \" የኢትዮጵያ ሪፎርም ከባድ እና ጊዜ የሚወስድ ነው ፤ እባካችሁ ታገሱ \" የሚል ጥሪ አቅርበዋል።\n",
      "\n",
      "ኢትዮጵያውያን ለትዕግስት እንዲያሳዩ እና ከመንግስት የኢኮኖሚ ማሻሻያ ጥረቶች ጎን እንዲቆሙ ጠይቀዋል።\n",
      "\n",
      "ጆርጂዬቫ ፥ \" የሪፎርሙን ግቦች ለማሳካት የአንድነት አስፈላጊ ነው \" ሲሉ አፅንኦት ሰጥተዋል።\n",
      "\n",
      "\" ኢትዮጵያ የተቀበለችው ሪፎርም ከባድ እና ጊዜ የሚወስድ ቢሆንም እጅግ ትልቅ ውጤት ያስገኛል \" ሲሉ ተናግረዋል።\n",
      "\n",
      "\" ህዝቡ በትዕግስት እንዲጠብቅ ጥሪዬን አቀርባለሁ \" ያሉት ማኔጂንግ ዳይሬክተሯ \" ህብረተሰቡ ከሪፎርሙ ጀርባ በመሰባሰብ በአንድነት ድጋፍ ማድረግ አለበት \" ብለዋል።\n",
      "\n",
      "ጆርጂዬቫ ፥ ኢኮኖሚውን የበለጠ አጥጋቢና ብቁ ለማድረግ ብዙ የሚሠራ ሥራ አለ \" ብለው \" እባካችሁ መንግሥት ሥራውን እንዲያጠናቅቅ ድጋፍ አድርጉ \" የሚል ጥሪ አቅርበዋል።\n",
      "\n",
      "የዋጋ ንረትን ለመፍታት የሚሰራው ስራ ውስብስብ መሆኑን ያልሸሸጉት ዳይሬክተራ \" የዋጋ ንረትን ወደ ታች ለማውረድ ጠንካራ የገንዘብና የፊስካል ፖሊሲዎች፣ የኢኮኖሚውን የማምረት አቅም ማስፋት፣ የወጪ ንግድና የውጭ ምንዛሪ ገቢን ማሳደግ እና የግሉ ሴክተርን ማብቃት ይጠይቃል \" ብለዋል።\n",
      "\n",
      "ሌላው ያነሱት ጉዳይ በG20 የጋራ ማዕቀፍ ኢትዮጵያ እያካሄደች ያለችውን የዕዳ መልሶ ማደራጀት ድርድር በተመለከተ ነው።\n",
      "\n",
      "ጆርጂዬቫ ፤ \" የዕዳ መልሶ ማዋቀር ሂደት የመጨረሻ ደረጃ ላይ ይገኛል ፤ ከኢትዮጵያ አበዳሪዎች ጋር ባለኝ ግንኙነት ይህ ቅድሚያ የሚሰጠው ጉዳይ ነው \" ሲሉ ገልጸዋል። \n",
      "\n",
      "የIMF ፕሮግራም አካል ሆነውን የታክስ እርምጃዎችን በተመለከተም ፤ የኢትዮጵያ ባለስልጣናት ለብሄራዊ በጀቱ ድጋፍ ለማድረግ ወሳኝ የሆኑ የታክስ አቅሞችን መለየታቸውን ጠቁመዋል። \n",
      "\n",
      "ጆርጂዬቫ ፥ የኢትዮጵያ አጠቃላይ የሀገር ውስጥ ምርት ዕድገት ከIMF የመጀመሪያ ትንበያዎች መብለጡን ማብራራታቸውን ዘሪፖርተር አስነብቧል።\n",
      "\n",
      "የማኔጂንግ ዳይሬክተራ ንግግር ተከትሎ \" መሬት ላይ ካለው እውነታ ጋር የሚገናኝ አይደለም \" የሚሉ አስተያየቶች ሲሰጡም ተመልክተናል።\n",
      "\n",
      "@tikvahethiopia\n",
      "---------------------------------------------------------------------------------\n",
      "\n",
      "\n",
      "ልታስመርቀዉ ከቤተሰቦቿ ተደብቃ የመጣች እጮኛዉን ጭካኔ በተሞላበት ሁኔታ የገደለዉ ግለሰብ በ20 ዓመት ጽኑ እስራት ተቀጣ።\n",
      "\n",
      "በደቡብ ኢትዮጵያ ክልል ጋሞ ዞን አርባምንጭ ከተማ አስተዳደር ጉርባ በሚባል ቀበሌ የገዛ እጮኛዉን ጭካኔ በተሞላበት መልኩ በአሰቃቂ ሁኔታ በስለት አንገቷን በመቁረጥ ሕይወቷ እንዲያልፍ ያደረገዉ ወጣት በፅኑ እስራት መቀጣቱን የአርባ ምንጭ ከተማ አስተዳደር ፖሊስ መምሪያ አዛዥ ም/ኢንስፔክተር ጋፋሮ ቶማስ ለቲክቫህ ኢትዮጵያ ተናግረዋል።\n",
      "\n",
      "የወንጀል ድርጊቱ የተፈፀመዉ ነሐሴ 16/2016 ዓ/ም በአርባምንጭ ከተማ ጉርባ ቀበሌ ነው።\n",
      "\n",
      "ተከሳሽ ዮናስ ጫፊቄ የተባለው ግለሰብ የጂንካ ዩኒቨርሲቲ 1ኛ  ዓመት ተማሪ የሆነችዉን ሟች ሊዲያ ዮሐንስ እሱን ለማስመረቅ ወደ አርባ ምንጭ ከተማ በመጣችበት ተከራይቶ በሚኖርበት ቤት አሰቃቂ ድርጊቱን መፈፀሙን የምርመራ መዝገቡ ያስረዳል።\n",
      "\n",
      "ወጣቷ \" እጮኛዬ ይመረቅልኛል \" በሚል ደስታ ከቤተሰቦቿ ተደብቃ ተከሳሽ ተከራይቶ ወደ ሚማርበት  ቤት መጥታ በዋዜማዉ ለምረቃዉ የሚሆኑ የዲኮር፣ የዳቦና ለስላሳ መጠጦችና በቡና ዝግጅት ቤቱን አሰማምራ በምሽቱም ግቢ ዉስጥ ያሉ ተከራዮችን ጠርተዉ ከሸኙ በኋላ ሟች ሀገር ሰላም ብላ በተኛችበት ከሌሊቱ 7 ሰዓት ገደማ እራሷን መከላከል በማትችልበት ሁኔታ በቢላዋ አንገቷን አርዶ መግደሉን የምርመራ መዝገቡን ዋቢ አድርገው ፖሊስ አዛዡ ገልፀዋል።\n",
      "\n",
      "ፖሊስ አዛዡ አክለው እንደገለጹት ፥ በወቅቱ በተደረገዉ ማጣራትም ሆነ በክስ መዝገቡ ላይ እንደሰፈረዉ ወንጀለኛው  \" ወደ ዩኒቨርሲቲ በሄድሽበት ሌላ የወንድ ጓደኛ ይዘሻል \" በሚል ነው በር ዘግቶ አሰቃቂ የወንጀል ድርጊቱን የፈጸመው።\n",
      "\n",
      "ፖሊስ በዚህ ዘግናኝ ወንጀል ዙሪያ ተገቢዉን ማጣራትና ምርመራ አድርጎ ለዐቃቤ ሕግ ማቅረቡን አስታውቀዋል።\n",
      "\n",
      "ዐቃቤ ሕግም ክስ በመመስረት ለፍርድ ቤቱ ተከሳሽ የወንጀል ድርጊቱን መፈፀሙን የሰዉ፣ የሰነድና የህክምና ማስረጃዎችን በማቅረብ አስረድቷል።\n",
      "\n",
      "በቀረቡ ማስረጃዎች እና ምስክሮች ግራ ቀኙን ሲያጣራ የቆየዉ የጋሞ ዞን ከፍተኛዉ ፍርድ ቤት በቀን 29/5/2017 ዓም በዋለዉ ችሎት ተከሳሽ ዮናስ ጨፊቄ በተከሰሰበት በአሰቃቂ ሁኔታ ነብስ የማጥፋት ወንጀል ጥፋተኛ መሆኑን በማረጋገጥ በ20 ዓመት ፅኑ እስራት እንዲቀጣ መወሰኑንም ኢንስፔክተር ጋፋሮ ቶማስ ለቲክቫህ ኢትዮጵያ ተናግረዋል።\n",
      "\n",
      "#TikvahEthiopiaFamilyHW\n",
      "\n",
      "@tikvahethiopia\n",
      "---------------------------------------------------------------------------------\n",
      "\n",
      "\n",
      "#መቄዶንያ\n",
      "\n",
      "\" ሰውን ለመርዳት ሰው መሆን በቂ ነው !! \"\n",
      "\n",
      "መቄዶንያ የአረጋዊያንና የአእምሮ ህሙማን መርጃ ማዕከል በሚያስገነባው ሆስፒታል ጭምር ያለው ህንፃ ለማጠናቀቅ የገንዘብ እጥረት ስለገጠመው እግዛ እንዲደረግ ለመላው ኢትዮጵያውያን ጥሪ መቅረቡ ይታወሳል።\n",
      "\n",
      "ዛሬ “ በሰይፉ ኢቢኤስ የዩቱብ ቻነል ” ድጋፍ ማድረጊያ መርሀ ግብር እየተካሄደ ነው።\n",
      "\n",
      "ደጋጎች ሁሉ ድጋፍ እንድታደርጉ ጥሪ እናቀርባለን።\n",
      "\n",
      "የድጋፍ ማድረጊያ አማራጮች ከላይ ተያይዘዋል።\n",
      "\n",
      "መቄዶንያ “ ህንፃው ለማጠናቀቅ ገንዘብ ተቸግረናል። ለማጠናቀቅ ወደ 5 ቢሊዮን ብር ያስፈልገናል ” ማለቱ አይዘነጋም።\n",
      "\n",
      "በቀጥታ ይከታተሉ 👇\n",
      "https://www.youtube.com/live/q0bMjwt9PvM?feature=shared\n",
      "\n",
      "@tikvahethiopia\n",
      "---------------------------------------------------------------------------------\n",
      "\n",
      "\n"
     ]
    }
   ],
   "source": [
    "sample=load_data(\"datas/sample.json\")\n",
    "for news in sample[:5]:\n",
    "    print(news)\n",
    "\n",
    "    print(\"---------------------------------------------------------------------------------\\n\\n\")"
   ]
  },
  {
   "cell_type": "markdown",
   "metadata": {
    "id": "2kjKE3-ZDnqp"
   },
   "source": [
    "Since we are working with a Telegram dataset, we aim to clean the text by removing substrings that are commonly used on the platform, such as hashtagged entities, usernames, hyperlinks,emojis, and english words. To achieve this, we will use Python's re library to perform regular expression operations. We will define specific search patterns and use the sub() method to remove matches by replacing them with an empty string (''). We will also remove unecessary multiple spaces to a single space\n",
    "\n",
    "\n"
   ]
  },
  {
   "cell_type": "code",
   "execution_count": 5,
   "metadata": {
    "id": "aLRI3SvnDnqp"
   },
   "outputs": [],
   "source": [
    "def clean_text(text):\n",
    "    text = re.sub(r'https?://[^\\s\\n\\r]+', '', text)\n",
    "    text = re.sub(r'#\\S+', '', text)\n",
    "    text=re.sub(r'@\\S+', '', text)\n",
    "    text=emoji.replace_emoji(text,\" \")\n",
    "    english_pattern = re.compile(r'\\b[A-Za-z]+\\b')\n",
    "    cleaned_text = re.sub(english_pattern, '', text)\n",
    "    cleaned_text = re.sub(r'\\s+', ' ', cleaned_text).strip()\n",
    "\n",
    "    return cleaned_text\n",
    "\n",
    "\n"
   ]
  },
  {
   "cell_type": "markdown",
   "metadata": {
    "id": "WRFOcCgODnqp"
   },
   "source": [
    "\n",
    "Let's test the above function on sample data\n"
   ]
  },
  {
   "cell_type": "markdown",
   "metadata": {
    "id": "M5xmnWErDnqp"
   },
   "source": [
    "let's load our training data and see how many contents we have and what the first 5 contents look like"
   ]
  },
  {
   "cell_type": "code",
   "execution_count": 6,
   "metadata": {
    "colab": {
     "base_uri": "https://localhost:8080/"
    },
    "executionInfo": {
     "elapsed": 10461,
     "status": "ok",
     "timestamp": 1740244348408,
     "user": {
      "displayName": "Mahder Tesfaye",
      "userId": "10113678197611266820"
     },
     "user_tz": -180
    },
    "id": "RF6OeM3kDnqp",
    "outputId": "024a2e6e-959f-4716-9e46-55f2400ea3ca"
   },
   "outputs": [
    {
     "name": "stdout",
     "output_type": "stream",
     "text": [
      "Total number of contents: 193419\n",
      "\n",
      "First 5 contents: \n",
      "\n",
      "#መቄዶንያ\n",
      "\n",
      "ሰውን ለመርዳት ሰው መሆን በቂ ነው !\n",
      "\n",
      "ትላንት የካቲት 1/2017 ዓ/ም በጀመረው የመቄዶንያ የአረጋዊያን እና የአእምሮ ህሙማን መርጃ ማዕከል የድጋፍ ማሰባሰብ ዘመቻ እስኩን 120,000,000 ብር ተሰብስቧል።\n",
      "\n",
      "መቄዶንያ በሚያስገነባው ሆስፒታል ጭምር ያለው ህንፃ ለማጠናቀቅ የገንዘብ እጥረት አጋጥሞታል። ህንፃው ለማጠናቀቅ ገንዘብ ተቸግረናል። ለማጠናቀቅ ወደ 5 ቢሊዮን ብር ያስፈልጋል።\n",
      "\n",
      "በቀጥታ ይከታተሉ 👇\n",
      "https://www.youtube.com/live/q0bMjwt9PvM?feature=shared\n",
      "\n",
      "የምትችሉትን ሁሉ ድጋፍ አድርጉ።\n",
      "\n",
      "@tikvahethiopia\n",
      "---------------------------------------------------------------------------------\n",
      "\n",
      "\n",
      "🔊 #የሠራተኞችድምጽ\n",
      "\n",
      "\" ቋሚ ሠራተኞች ሆነን ሳለ በደሞዝ ማሻሻያው አልተካተትንም \" - የሀዋሳ ዙሪያ ወረዳ መንግስት ሠራተኞች\n",
      "\n",
      "የማክሮ ኢኮኖሚ ማሻሻያ ሪፎርሙን ተከትሎ የሚከሰቱ የኑሮ ዉድነትና ተያያዥ ጉዳዮችን ታሳቢ በማድረግ የመንግስት ሠራተኞች ደሞዝ ማሻሻያ ተደርጎ ከጥቅምት ወር 2017 ዓ/ም ጀምሮ ተግባራዊ የተደረገ መሆኑ ይታወቃል።\n",
      "\n",
      "በሲዳማ ክልል፤ ሰሜናዊ ሲዳማ ዞን፤ ሀዋሳ ዙሪያ ወረዳ በተለያዩ የመንግስት መስሪያ ቤቶች የሚሰሩ የመንግስት ሠራተኞች ግን \" ከ2012 ዓ/ም ጀምሮ በቋሚነት ተቀጥረን እየሰራን ያለን ቢሆንም በአዲሱ የመንግስት ሠራተኞች የደመወዝ ማሻሻያ አልተካተትንም \" ሲሉ ቅሬታቸዉን ለቲክቫህ ኢትዮጵያ አስገብተዋል።\n",
      "\n",
      "ቅሬታቸዉን ካደረሱን መካከል ፦\n",
      "- በከተማ ልማትና ኮንስትራክሽን፣\n",
      "- ማዘጋጃ ቤቶች፣\n",
      "- በትምህርት ዘርፍ ፣\n",
      "- በሴቶችና ሕፃናት እንዲሁም በሕብረት ስራ ጽ/ቤቶች የሚሰሩ ሠራተኞች ናቸው።\n",
      "\n",
      "\" በወቅቱ በአግባቡ ማስታወቂያ ወጥቶ ተመዝግበንና ተወዳድረን ማለፋችን ተረጋግጦ የቋሚነት ደብዳቤ ተሰጥቶን ላለፉት አምስትና ስድስት ዓመታት ደሞዝ ሲከፈለን በቆየንባቸው መደቦች ላይ እየሰራን ባለንበት በአዲሱ የደሞዝ ማሻሻያ አለመካተታችን ለዘርፈ ብዙ ችግሮች ዳርጎናል \" ብለዋል።\n",
      "\n",
      "\" ለወረዳዉ ፐብሊክ ሰርቪስና የሰዉ ሃብት ልማት ጽ/ቤት እና ለክልሉ ፐብሊክ ሰርቪስ ቢሮ ቅሬታችንን በአካልና በፅሁፍ ብናቀርብም ተገቢዉ ምላሽ አልተሰጠንም ጉዳዩን ለኢትዮጵያ እምባ ጠባቂ ተቋም ለማቅረብ መረጃ እያደራጀን ነው \" ሲሉ ተናግረዋል።\n",
      "\n",
      "ቃላቸውን ለቲክቫህ ኢትዮጵያ የሰጡት ፤ የሀዋሳ ዙሪያ ወረዳ ፐብሊክ ሰርቪስ እና የሰዉ ሃብት ልማት ጽ/ቤት ኃላፊ አቶ ሃይሉ አቢኖ ፥ \" በወረዳዉ በ2012 ዓ/ም የነበረው አግባብነት በሌለው ቅጥር በአንድ መደብ ሶስትና አራት ሰዎችን በተደራራቢነት የመቅጠር ሁኔታዎች አሁን ለተፈጠረው ችግር ዋነኛ ምክንያት ሆኗል \" ሲሉ ገልጸዋል።\n",
      "\n",
      "ከዞኑና የክልሉ ፐብልክ ሰርቪስ ጋር በመናበብ መፍትሔ እያፈላለጉ ስለመሆኑም ጠቁመዋል።\n",
      "\n",
      "በወቅቱ ይህን ተግባር የፈፀሙ አመራሮች እና የሰዉ ሃብት ልማት ኃላፊዎች ላይ እርምጃ መወሰዱን የሚናገሩት ኃላፊዉ በወረዳዉ በዚህ መልክ ተጠቀጥረዉ በአዲሱ የደመወዝ ማሻሻያ ያልካተቱና በቀጣይ መፍትሔ የሚፈለግላቸዉ 470 በተለያዩ መስሪያ ቤቶች ዉስጥ የተለዩ ሰራተኞች ስለመኖራቸዉ አክለዋል።\n",
      "\n",
      "የሰሜናዊ ሲዳማ ዞን ፐብልክ ሰርቪስና የሰዉ ሃይል ልማት መምሪያ ኃላፊ አቶ በዛብህ ባርሶ በበኩላቸው በ2011 እና 2012 በአከባቢው ሕገወጥ ቅጥሮች መፈፀማቸውን ገልጸዋል።\n",
      "\n",
      "በወረዳዉ አጣሪ ቡድን ተቋቁሞ በአዲሱ ደሞዝ ያልተካተቱንና በወረዳው ቅጥር ያልተፈፀመባቸዉ ክፍት መደቦችን የመለየት ስራ መከናወኑን አንስተዉ በሀዋሳ ዙሪያ ወረዳ ብቻ 407 ክፍት መደቦች መኖራቸዉን ለማወቅ መቻሉን ገልፀዋል።\n",
      "\n",
      "የክልሉ የበላይ አመራሮች በሚያስቀምጡት አቅጣጫ መሰረት እነዚህን ሠራተኞች በነዚህ ክፍት መደቦች የመደልደልና ሌሎችም ሕጋዊ አመራጮች በመፈለግ በአጭር ጊዜ ዉስጥ እልባት ለመስጠት እየተሰራ መሆኑን አስታውቀዋል።\n",
      "\n",
      "ቲክቫህ ኢትዮጵያ ጉዳዩን እስከመጨረሻ ተከታትሎ መረጃውን ይልካል።\n",
      "\n",
      "#TikvahEthiopiaFamilyHW\n",
      "\n",
      "@tikvahethiopia\n",
      "---------------------------------------------------------------------------------\n",
      "\n",
      "\n",
      "የIMF ማኔጂንግ ዳይሬክተሯ ምን አሉ ?\n",
      "\n",
      "የዓለም አቀፍ የገንዘብ ተቋም (IMF) ማኔጂንግ ዳይሬክተር ክሪስታሊና ጆርጂዬቫ በኢትዮጵያ የስራ ቆይታ አድርገዋል።\n",
      "\n",
      "በዚህም ወቅት ከጠ/ሚ ዐቢይ አህመድ (ዶ/ር) ጋር ጨምሮ ከፌዴራል ከፍተኛ ባለስልጣናት ጋር መክረዋል።\n",
      "\n",
      "የነበራቸውን ቆይታ በተመለከተ ከገንዘብ ሚኒስትሩ አቶ አህመድ ሽዴ ጋር በጋራ መግለጫ ሰጥተው ነበር።\n",
      "\n",
      "ምን አሉ ?\n",
      "\n",
      "ዳይሬክተሯ ፤ \" የኢትዮጵያ ሪፎርም ከባድ እና ጊዜ የሚወስድ ነው ፤ እባካችሁ ታገሱ \" የሚል ጥሪ አቅርበዋል።\n",
      "\n",
      "ኢትዮጵያውያን ለትዕግስት እንዲያሳዩ እና ከመንግስት የኢኮኖሚ ማሻሻያ ጥረቶች ጎን እንዲቆሙ ጠይቀዋል።\n",
      "\n",
      "ጆርጂዬቫ ፥ \" የሪፎርሙን ግቦች ለማሳካት የአንድነት አስፈላጊ ነው \" ሲሉ አፅንኦት ሰጥተዋል።\n",
      "\n",
      "\" ኢትዮጵያ የተቀበለችው ሪፎርም ከባድ እና ጊዜ የሚወስድ ቢሆንም እጅግ ትልቅ ውጤት ያስገኛል \" ሲሉ ተናግረዋል።\n",
      "\n",
      "\" ህዝቡ በትዕግስት እንዲጠብቅ ጥሪዬን አቀርባለሁ \" ያሉት ማኔጂንግ ዳይሬክተሯ \" ህብረተሰቡ ከሪፎርሙ ጀርባ በመሰባሰብ በአንድነት ድጋፍ ማድረግ አለበት \" ብለዋል።\n",
      "\n",
      "ጆርጂዬቫ ፥ ኢኮኖሚውን የበለጠ አጥጋቢና ብቁ ለማድረግ ብዙ የሚሠራ ሥራ አለ \" ብለው \" እባካችሁ መንግሥት ሥራውን እንዲያጠናቅቅ ድጋፍ አድርጉ \" የሚል ጥሪ አቅርበዋል።\n",
      "\n",
      "የዋጋ ንረትን ለመፍታት የሚሰራው ስራ ውስብስብ መሆኑን ያልሸሸጉት ዳይሬክተራ \" የዋጋ ንረትን ወደ ታች ለማውረድ ጠንካራ የገንዘብና የፊስካል ፖሊሲዎች፣ የኢኮኖሚውን የማምረት አቅም ማስፋት፣ የወጪ ንግድና የውጭ ምንዛሪ ገቢን ማሳደግ እና የግሉ ሴክተርን ማብቃት ይጠይቃል \" ብለዋል።\n",
      "\n",
      "ሌላው ያነሱት ጉዳይ በG20 የጋራ ማዕቀፍ ኢትዮጵያ እያካሄደች ያለችውን የዕዳ መልሶ ማደራጀት ድርድር በተመለከተ ነው።\n",
      "\n",
      "ጆርጂዬቫ ፤ \" የዕዳ መልሶ ማዋቀር ሂደት የመጨረሻ ደረጃ ላይ ይገኛል ፤ ከኢትዮጵያ አበዳሪዎች ጋር ባለኝ ግንኙነት ይህ ቅድሚያ የሚሰጠው ጉዳይ ነው \" ሲሉ ገልጸዋል። \n",
      "\n",
      "የIMF ፕሮግራም አካል ሆነውን የታክስ እርምጃዎችን በተመለከተም ፤ የኢትዮጵያ ባለስልጣናት ለብሄራዊ በጀቱ ድጋፍ ለማድረግ ወሳኝ የሆኑ የታክስ አቅሞችን መለየታቸውን ጠቁመዋል። \n",
      "\n",
      "ጆርጂዬቫ ፥ የኢትዮጵያ አጠቃላይ የሀገር ውስጥ ምርት ዕድገት ከIMF የመጀመሪያ ትንበያዎች መብለጡን ማብራራታቸውን ዘሪፖርተር አስነብቧል።\n",
      "\n",
      "የማኔጂንግ ዳይሬክተራ ንግግር ተከትሎ \" መሬት ላይ ካለው እውነታ ጋር የሚገናኝ አይደለም \" የሚሉ አስተያየቶች ሲሰጡም ተመልክተናል።\n",
      "\n",
      "@tikvahethiopia\n",
      "---------------------------------------------------------------------------------\n",
      "\n",
      "\n",
      "ልታስመርቀዉ ከቤተሰቦቿ ተደብቃ የመጣች እጮኛዉን ጭካኔ በተሞላበት ሁኔታ የገደለዉ ግለሰብ በ20 ዓመት ጽኑ እስራት ተቀጣ።\n",
      "\n",
      "በደቡብ ኢትዮጵያ ክልል ጋሞ ዞን አርባምንጭ ከተማ አስተዳደር ጉርባ በሚባል ቀበሌ የገዛ እጮኛዉን ጭካኔ በተሞላበት መልኩ በአሰቃቂ ሁኔታ በስለት አንገቷን በመቁረጥ ሕይወቷ እንዲያልፍ ያደረገዉ ወጣት በፅኑ እስራት መቀጣቱን የአርባ ምንጭ ከተማ አስተዳደር ፖሊስ መምሪያ አዛዥ ም/ኢንስፔክተር ጋፋሮ ቶማስ ለቲክቫህ ኢትዮጵያ ተናግረዋል።\n",
      "\n",
      "የወንጀል ድርጊቱ የተፈፀመዉ ነሐሴ 16/2016 ዓ/ም በአርባምንጭ ከተማ ጉርባ ቀበሌ ነው።\n",
      "\n",
      "ተከሳሽ ዮናስ ጫፊቄ የተባለው ግለሰብ የጂንካ ዩኒቨርሲቲ 1ኛ  ዓመት ተማሪ የሆነችዉን ሟች ሊዲያ ዮሐንስ እሱን ለማስመረቅ ወደ አርባ ምንጭ ከተማ በመጣችበት ተከራይቶ በሚኖርበት ቤት አሰቃቂ ድርጊቱን መፈፀሙን የምርመራ መዝገቡ ያስረዳል።\n",
      "\n",
      "ወጣቷ \" እጮኛዬ ይመረቅልኛል \" በሚል ደስታ ከቤተሰቦቿ ተደብቃ ተከሳሽ ተከራይቶ ወደ ሚማርበት  ቤት መጥታ በዋዜማዉ ለምረቃዉ የሚሆኑ የዲኮር፣ የዳቦና ለስላሳ መጠጦችና በቡና ዝግጅት ቤቱን አሰማምራ በምሽቱም ግቢ ዉስጥ ያሉ ተከራዮችን ጠርተዉ ከሸኙ በኋላ ሟች ሀገር ሰላም ብላ በተኛችበት ከሌሊቱ 7 ሰዓት ገደማ እራሷን መከላከል በማትችልበት ሁኔታ በቢላዋ አንገቷን አርዶ መግደሉን የምርመራ መዝገቡን ዋቢ አድርገው ፖሊስ አዛዡ ገልፀዋል።\n",
      "\n",
      "ፖሊስ አዛዡ አክለው እንደገለጹት ፥ በወቅቱ በተደረገዉ ማጣራትም ሆነ በክስ መዝገቡ ላይ እንደሰፈረዉ ወንጀለኛው  \" ወደ ዩኒቨርሲቲ በሄድሽበት ሌላ የወንድ ጓደኛ ይዘሻል \" በሚል ነው በር ዘግቶ አሰቃቂ የወንጀል ድርጊቱን የፈጸመው።\n",
      "\n",
      "ፖሊስ በዚህ ዘግናኝ ወንጀል ዙሪያ ተገቢዉን ማጣራትና ምርመራ አድርጎ ለዐቃቤ ሕግ ማቅረቡን አስታውቀዋል።\n",
      "\n",
      "ዐቃቤ ሕግም ክስ በመመስረት ለፍርድ ቤቱ ተከሳሽ የወንጀል ድርጊቱን መፈፀሙን የሰዉ፣ የሰነድና የህክምና ማስረጃዎችን በማቅረብ አስረድቷል።\n",
      "\n",
      "በቀረቡ ማስረጃዎች እና ምስክሮች ግራ ቀኙን ሲያጣራ የቆየዉ የጋሞ ዞን ከፍተኛዉ ፍርድ ቤት በቀን 29/5/2017 ዓም በዋለዉ ችሎት ተከሳሽ ዮናስ ጨፊቄ በተከሰሰበት በአሰቃቂ ሁኔታ ነብስ የማጥፋት ወንጀል ጥፋተኛ መሆኑን በማረጋገጥ በ20 ዓመት ፅኑ እስራት እንዲቀጣ መወሰኑንም ኢንስፔክተር ጋፋሮ ቶማስ ለቲክቫህ ኢትዮጵያ ተናግረዋል።\n",
      "\n",
      "#TikvahEthiopiaFamilyHW\n",
      "\n",
      "@tikvahethiopia\n",
      "---------------------------------------------------------------------------------\n",
      "\n",
      "\n",
      "#መቄዶንያ\n",
      "\n",
      "\" ሰውን ለመርዳት ሰው መሆን በቂ ነው !! \"\n",
      "\n",
      "መቄዶንያ የአረጋዊያንና የአእምሮ ህሙማን መርጃ ማዕከል በሚያስገነባው ሆስፒታል ጭምር ያለው ህንፃ ለማጠናቀቅ የገንዘብ እጥረት ስለገጠመው እግዛ እንዲደረግ ለመላው ኢትዮጵያውያን ጥሪ መቅረቡ ይታወሳል።\n",
      "\n",
      "ዛሬ “ በሰይፉ ኢቢኤስ የዩቱብ ቻነል ” ድጋፍ ማድረጊያ መርሀ ግብር እየተካሄደ ነው።\n",
      "\n",
      "ደጋጎች ሁሉ ድጋፍ እንድታደርጉ ጥሪ እናቀርባለን።\n",
      "\n",
      "የድጋፍ ማድረጊያ አማራጮች ከላይ ተያይዘዋል።\n",
      "\n",
      "መቄዶንያ “ ህንፃው ለማጠናቀቅ ገንዘብ ተቸግረናል። ለማጠናቀቅ ወደ 5 ቢሊዮን ብር ያስፈልገናል ” ማለቱ አይዘነጋም።\n",
      "\n",
      "በቀጥታ ይከታተሉ 👇\n",
      "https://www.youtube.com/live/q0bMjwt9PvM?feature=shared\n",
      "\n",
      "@tikvahethiopia\n",
      "---------------------------------------------------------------------------------\n",
      "\n",
      "\n"
     ]
    }
   ],
   "source": [
    "data=load_data(\"datas/totaldata.json\")\n",
    "number_of_contents=len(data)\n",
    "print(f'Total number of contents: {number_of_contents}\\n')\n",
    "print(f'First 5 contents: \\n')\n",
    "for news in data[:5]:\n",
    "    print(news)\n",
    "    print(\"---------------------------------------------------------------------------------\\n\\n\")\n",
    "\n",
    "\n"
   ]
  },
  {
   "cell_type": "markdown",
   "metadata": {
    "id": "XrdFh1uNDnqq"
   },
   "source": [
    "Let's clean our data using clean_text function and sample our data to see the difference between the original and cleaned data"
   ]
  },
  {
   "cell_type": "code",
   "execution_count": 7,
   "metadata": {
    "id": "oYvDtSZFDnqq"
   },
   "outputs": [],
   "source": [
    "cleaned_data=[clean_text(content) for content in data]"
   ]
  },
  {
   "cell_type": "markdown",
   "metadata": {
    "id": "RZyTv0jpDnqq"
   },
   "source": [
    "Let's see the total number of words and total number of unique words in our training data."
   ]
  },
  {
   "cell_type": "code",
   "execution_count": 8,
   "metadata": {
    "colab": {
     "base_uri": "https://localhost:8080/"
    },
    "executionInfo": {
     "elapsed": 7095,
     "status": "ok",
     "timestamp": 1740244428295,
     "user": {
      "displayName": "Mahder Tesfaye",
      "userId": "10113678197611266820"
     },
     "user_tz": -180
    },
    "id": "z_hxQRkgDnqq",
    "outputId": "1bcefc9b-8d18-4c89-9ab7-9a6805040566"
   },
   "outputs": [
    {
     "name": "stdout",
     "output_type": "stream",
     "text": [
      "Total number of words in the dataset: 15290227\n",
      "\n",
      "Total number of unique words in the dataset: 832978\n",
      "\n"
     ]
    }
   ],
   "source": [
    "total=0\n",
    "for news in cleaned_data:\n",
    "    news_array=news.split()\n",
    "    total+=len(news_array)\n",
    "print(f'Total number of words in the dataset: {total}\\n')\n",
    "alldata=\" \".join(cleaned_data)\n",
    "counter=Counter(alldata.split())\n",
    "print(f'Total number of unique words in the dataset: {len(counter)}\\n')\n"
   ]
  },
  {
   "cell_type": "code",
   "execution_count": 9,
   "metadata": {
    "colab": {
     "base_uri": "https://localhost:8080/"
    },
    "executionInfo": {
     "elapsed": 7,
     "status": "ok",
     "timestamp": 1740244454253,
     "user": {
      "displayName": "Mahder Tesfaye",
      "userId": "10113678197611266820"
     },
     "user_tz": -180
    },
    "id": "zr-flvxsDnqq",
    "outputId": "67b3dbcc-dcb6-43a1-f44b-f6953ca62e10"
   },
   "outputs": [
    {
     "name": "stdout",
     "output_type": "stream",
     "text": [
      "Data at index 37430 before cleaning: \n",
      "\n",
      " update⬆️የቴፒ ከተማ የዛሬ ጥዋት ድባብ እና አጠቃላይ የከተማዋ ሁኔታ ከከተማው ነዋሪ አምደበት።\n",
      "@tseabwolde @tikvahethiopia\n",
      "\n",
      "---------------------------------------------------------------------------------\n",
      "\n",
      "\n",
      "Data at index 37430 after cleaning: \n",
      "\n",
      " የቴፒ ከተማ የዛሬ ጥዋት ድባብ እና አጠቃላይ የከተማዋ ሁኔታ ከከተማው ነዋሪ አምደበት።\n"
     ]
    }
   ],
   "source": [
    "index=37430\n",
    "print(f\"Data at index {index} before cleaning: \\n\\n\",data[index])\n",
    "print(\"\\n---------------------------------------------------------------------------------\\n\\n\")\n",
    "print(f\"Data at index {index} after cleaning: \\n\\n\",cleaned_data[index])"
   ]
  },
  {
   "cell_type": "markdown",
   "metadata": {
    "id": "O-nCsPvzDnqq"
   },
   "source": [
    "### 3.3 Tokenization"
   ]
  },
  {
   "cell_type": "markdown",
   "metadata": {
    "id": "SRM-2OHMDnqq"
   },
   "source": [
    "#### Next, We Will Train the Tokenizer\n",
    "\n",
    "Tokenization is a critical step in natural language processing (NLP) as it converts raw text into smaller, meaningful units (tokens) that can be processed by machine learning models. Effective tokenization ensures that the model can understand and interpret the text accurately, which is essential for tasks like text classification, machine translation, and sentiment analysis.\n",
    "\n",
    "For this task, we will use the **SentencePiece tokenizer** instead of traditional word-based tokenization. The [SentencePieceTokenizer](https://www.tensorflow.org/text/api_docs/python/text/SentencepieceTokenizer) is a powerful tool that tokenizes text into **subword units**, which offers several advantages:\n",
    "\n",
    "1. **Handling Complex Word Structures**: SentencePiece breaks words into smaller subword units, making it effective for handling complex word structures and morphological variations, which are common in languages like Amharic.\n",
    "2. **Out-of-Vocabulary (OOV) Words**: By using subword tokenization, SentencePiece can handle out-of-vocabulary words more gracefully, as it can decompose them into known subword units.\n",
    "3. **Multilingual Support**: SentencePiece is language-agnostic, making it suitable for multilingual datasets. This is particularly useful for Amharic, as it can handle the repetition of common subwords and morphological patterns unique to the language.\n",
    "4. **Simplified Preprocessing**: SentencePiece works directly on raw text, eliminating the need for extensive preprocessing steps like word segmentation or stemming.\n",
    "5. **Seamless Integration**: It integrates seamlessly with popular machine learning frameworks like TensorFlow and PyTorch, ensuring consistent tokenization across training and inference pipelines.\n",
    "\n",
    "Given these benefits, SentencePiece is an ideal choice for tokenizing Amharic text, as it can effectively capture the language's unique characteristics while simplifying the overall preprocessing workflow."
   ]
  },
  {
   "cell_type": "markdown",
   "metadata": {
    "id": "L1LDIkg3Dnqq"
   },
   "source": [
    "Let's train sentencepiece tokenizer model first. in order to do that we need to save our cleaned data into a single corpus of text in .txt file"
   ]
  },
  {
   "cell_type": "code",
   "execution_count": null,
   "metadata": {
    "id": "KKMDsq13Dnqq"
   },
   "outputs": [],
   "source": [
    "#with open(\"datas/cleaned_data.txt\", \"a\") as file:\n",
    "  #  for content in cleaned_data:\n",
    "   #     file.write(content + \"\\n\")"
   ]
  },
  {
   "cell_type": "code",
   "execution_count": null,
   "metadata": {
    "id": "Z4oMJhJ4Dnqq",
    "outputId": "1dadacc3-10fe-4a82-ccc5-9f95741bb29c"
   },
   "outputs": [
    {
     "name": "stdout",
     "output_type": "stream",
     "text": [
      "Training SentencePiece model...\n",
      "Training complete! Check 'amharic_bpe.model' and 'amharic_bpe.vocab'.\n"
     ]
    },
    {
     "name": "stderr",
     "output_type": "stream",
     "text": [
      "sentencepiece_trainer.cc(78) LOG(INFO) Starts training with : \n",
      "trainer_spec {\n",
      "  input: datas/cleaned_data.txt\n",
      "  input_format: \n",
      "  model_prefix: amharic_sp_model\n",
      "  model_type: UNIGRAM\n",
      "  vocab_size: 100000\n",
      "  self_test_sample_size: 0\n",
      "  character_coverage: 0.995\n",
      "  input_sentence_size: 0\n",
      "  shuffle_input_sentence: 1\n",
      "  seed_sentencepiece_size: 1000000\n",
      "  shrinking_factor: 0.75\n",
      "  max_sentence_length: 8192\n",
      "  num_threads: 6\n",
      "  num_sub_iterations: 2\n",
      "  max_sentencepiece_length: 16\n",
      "  split_by_unicode_script: 1\n",
      "  split_by_number: 1\n",
      "  split_by_whitespace: 1\n",
      "  split_digits: 0\n",
      "  pretokenization_delimiter: \n",
      "  treat_whitespace_as_suffix: 0\n",
      "  allow_whitespace_only_pieces: 0\n",
      "  required_chars: \n",
      "  byte_fallback: 0\n",
      "  vocabulary_output_piece_score: 1\n",
      "  train_extremely_large_corpus: 0\n",
      "  seed_sentencepieces_file: \n",
      "  hard_vocab_limit: 1\n",
      "  use_all_vocab: 0\n",
      "  unk_id: 1\n",
      "  bos_id: 2\n",
      "  eos_id: 3\n",
      "  pad_id: 0\n",
      "  unk_piece: <unk>\n",
      "  bos_piece: <s>\n",
      "  eos_piece: </s>\n",
      "  pad_piece: <pad>\n",
      "  unk_surface:  ⁇ \n",
      "  enable_differential_privacy: 0\n",
      "  differential_privacy_noise_level: 0\n",
      "  differential_privacy_clipping_threshold: 0\n",
      "}\n",
      "normalizer_spec {\n",
      "  name: nmt_nfkc\n",
      "  add_dummy_prefix: 1\n",
      "  remove_extra_whitespaces: 1\n",
      "  escape_whitespaces: 1\n",
      "  normalization_rule_tsv: \n",
      "}\n",
      "denormalizer_spec {}\n",
      "trainer_interface.cc(353) LOG(INFO) SentenceIterator is not specified. Using MultiFileSentenceIterator.\n",
      "trainer_interface.cc(185) LOG(INFO) Loading corpus: datas/cleaned_data.txt\n",
      "trainer_interface.cc(380) LOG(WARNING) Found too long line (9644 > 8192).\n",
      "trainer_interface.cc(382) LOG(WARNING) Too long lines are skipped in the training.\n",
      "trainer_interface.cc(383) LOG(WARNING) The maximum length can be changed with --max_sentence_length=<size> flag.\n",
      "trainer_interface.cc(391) LOG(INFO) Reserved chars are found. Skipped: ╯▅╰╱▔▔▔▔▔▔▔╲╯☼ ▕▕╱╱╱╱╱╱╱╱┛▂╲╲ ╱▂▂▂▂▂▂╱╱┏▕╋▏╲╲ ▔▏▂┗┓▂▕▔┛▂┏▔▂▕▔ ▕▕╋▏▕╋▏▏▕┏▏▕╋▏| እኛ የሙድ እን���ዝ ቤተሰቦች ትካዜ ድንዛዜ ፋዛዜ ኑዛዜ ዉስጣችን አደለም ፈታ ምቀኛ እንዲቃጠል\n",
      "trainer_interface.cc(409) LOG(INFO) Loaded all 191827 sentences\n",
      "trainer_interface.cc(416) LOG(INFO) Skipped 553 too long sentences.\n",
      "trainer_interface.cc(425) LOG(INFO) Adding meta_piece: <pad>\n",
      "trainer_interface.cc(425) LOG(INFO) Adding meta_piece: <unk>\n",
      "trainer_interface.cc(425) LOG(INFO) Adding meta_piece: <s>\n",
      "trainer_interface.cc(425) LOG(INFO) Adding meta_piece: </s>\n",
      "trainer_interface.cc(430) LOG(INFO) Normalizing sentences...\n",
      "trainer_interface.cc(539) LOG(INFO) all chars count=75721594\n",
      "trainer_interface.cc(550) LOG(INFO) Done: 99.5055% characters are covered.\n",
      "trainer_interface.cc(560) LOG(INFO) Alphabet size=222\n",
      "trainer_interface.cc(561) LOG(INFO) Final character coverage=0.995055\n",
      "trainer_interface.cc(592) LOG(INFO) Done! preprocessed 191827 sentences.\n",
      "unigram_model_trainer.cc(265) LOG(INFO) Making suffix array...\n",
      "unigram_model_trainer.cc(269) LOG(INFO) Extracting frequent sub strings... node_num=37769524\n",
      "unigram_model_trainer.cc(312) LOG(INFO) Initialized 768596 seed sentencepieces\n",
      "trainer_interface.cc(598) LOG(INFO) Tokenizing input sentences with whitespace: 191827\n",
      "trainer_interface.cc(609) LOG(INFO) Done! 784912\n",
      "unigram_model_trainer.cc(602) LOG(INFO) Using 784912 sentences for EM training\n",
      "unigram_model_trainer.cc(618) LOG(INFO) EM sub_iter=0 size=355352 obj=13.161 num_tokens=1612991 num_tokens/piece=4.53914\n",
      "unigram_model_trainer.cc(618) LOG(INFO) EM sub_iter=1 size=303986 obj=11.552 num_tokens=1618339 num_tokens/piece=5.32373\n",
      "unigram_model_trainer.cc(618) LOG(INFO) EM sub_iter=0 size=227957 obj=11.5203 num_tokens=1690775 num_tokens/piece=7.41708\n",
      "unigram_model_trainer.cc(618) LOG(INFO) EM sub_iter=1 size=227779 obj=11.5045 num_tokens=1695108 num_tokens/piece=7.4419\n",
      "unigram_model_trainer.cc(618) LOG(INFO) EM sub_iter=0 size=170832 obj=11.5413 num_tokens=1794991 num_tokens/piece=10.5073\n",
      "unigram_model_trainer.cc(618) LOG(INFO) EM sub_iter=1 size=170822 obj=11.5417 num_tokens=1795487 num_tokens/piece=10.5109\n",
      "unigram_model_trainer.cc(618) LOG(INFO) EM sub_iter=0 size=128116 obj=11.5906 num_tokens=1899315 num_tokens/piece=14.825\n",
      "unigram_model_trainer.cc(618) LOG(INFO) EM sub_iter=1 size=128116 obj=11.5718 num_tokens=1899287 num_tokens/piece=14.8247\n",
      "unigram_model_trainer.cc(618) LOG(INFO) EM sub_iter=0 size=110000 obj=11.6223 num_tokens=1952244 num_tokens/piece=17.7477\n",
      "unigram_model_trainer.cc(618) LOG(INFO) EM sub_iter=1 size=110000 obj=11.6115 num_tokens=1952426 num_tokens/piece=17.7493\n",
      "trainer_interface.cc(687) LOG(INFO) Saving model: amharic_sp_model.model\n",
      "trainer_interface.cc(699) LOG(INFO) Saving vocabs: amharic_sp_model.vocab\n"
     ]
    }
   ],
   "source": [
    "input_file=\"datas/cleaned_data.txt\"\n",
    "model_prefix=\"amharic_sp_model\"\n",
    "print(\"Training SentencePiece model...\")\n",
    "\n",
    "spm.SentencePieceTrainer.train(\n",
    "    input=input_file,\n",
    "    model_prefix=model_prefix,\n",
    "    vocab_size=100000,\n",
    "    model_type=\"unigram\",\n",
    "    character_coverage=0.995,\n",
    "    num_threads=6,\n",
    "    max_sentence_length=8192,\n",
    "    split_by_whitespace=True,\n",
    "    pad_id=0,\n",
    "    unk_id=1,\n",
    "    bos_id=2,\n",
    "    eos_id=3,\n",
    "\n",
    ")\n",
    "print(\"Training complete! Check 'amharic_bpe.model' and 'amharic_bpe.vocab'.\")"
   ]
  },
  {
   "cell_type": "markdown",
   "metadata": {
    "id": "LZUNG4vjDnqq"
   },
   "source": [
    "After training the sentencepeice tokenizer the next step is to load the trainied tokenizer model"
   ]
  },
  {
   "cell_type": "code",
   "execution_count": 10,
   "metadata": {
    "id": "bvTD7kDMDnqq"
   },
   "outputs": [],
   "source": [
    "tokenizer=spm.SentencePieceProcessor(model_file=\"amharic_sp_model.model\")"
   ]
  },
  {
   "cell_type": "markdown",
   "metadata": {
    "id": "M3JeWvZlDnqr"
   },
   "source": [
    "This code shows the process of tokenizing individual words from a given text, in this case, the first entry of the dataset."
   ]
  },
  {
   "cell_type": "code",
   "execution_count": 11,
   "metadata": {
    "colab": {
     "base_uri": "https://localhost:8080/"
    },
    "executionInfo": {
     "elapsed": 12,
     "status": "ok",
     "timestamp": 1740244464214,
     "user": {
      "displayName": "Mahder Tesfaye",
      "userId": "10113678197611266820"
     },
     "user_tz": -180
    },
    "id": "BXJMtkhpDnqr",
    "outputId": "87d3e829-9de9-42b5-825f-dd89dee9e949"
   },
   "outputs": [
    {
     "name": "stdout",
     "output_type": "stream",
     "text": [
      "Word\t\t-->\tTokenization\n",
      "----------------------------------------\n",
      "በአማራ    \t-->\t[503]\n",
      "ክልል     \t-->\t[41]\n",
      "መዲና     \t-->\t[2571]\n",
      "በባህር    \t-->\t[3954]\n",
      "ዳር      \t-->\t[577]\n",
      "ከተማ     \t-->\t[25]\n",
      "ቀበሌ     \t-->\t[556]\n",
      "14      \t-->\t[589]\n",
      "ትላንት    \t-->\t[414]\n",
      "መጋቢት    \t-->\t[915]\n",
      "29      \t-->\t[1161]\n",
      "የመግሪብ   \t-->\t[40582, 39560]\n",
      "ሰላት     \t-->\t[22531]\n",
      "ሰግደው    \t-->\t[80378]\n",
      "ሲመለሱ    \t-->\t[5520]\n",
      "የነበሩ    \t-->\t[296]\n",
      "አባት     \t-->\t[1033]\n",
      "ከ3      \t-->\t[12, 391]\n",
      "ልጆቹ     \t-->\t[8106]\n",
      "እንዲሁም   \t-->\t[56]\n",
      "አንድ     \t-->\t[60]\n",
      "ጎረቤታቸውን \t-->\t[63799, 5]\n",
      "ጨምሮ     \t-->\t[166]\n",
      "አጠቃላይ   \t-->\t[462]\n",
      "5       \t-->\t[189]\n",
      "ሰዎች     \t-->\t[27]\n",
      "በተከፈተባቸው\t-->\t[6, 31096]\n",
      "የጥይት    \t-->\t[9820]\n",
      "እሩምታ    \t-->\t[22829]\n",
      "መገደላቸው  \t-->\t[4926]\n",
      "ተነግሯል።  \t-->\t[528]\n",
      "ትላንትና   \t-->\t[9146]\n",
      "ምሽት     \t-->\t[368]\n",
      "በግፍ     \t-->\t[7180]\n",
      "የተገደሉት  \t-->\t[6444]\n",
      "፥       \t-->\t[4, 1]\n",
      "አቶ      \t-->\t[44]\n",
      "ሙሄ      \t-->\t[51148]\n",
      "፣       \t-->\t[33]\n",
      "ልጃቸው    \t-->\t[4786]\n",
      "አበባዉ    \t-->\t[43, 124]\n",
      "ሙሄ      \t-->\t[51148]\n",
      "፣       \t-->\t[33]\n",
      "ሽኩር     \t-->\t[24929]\n",
      "ሙሄ      \t-->\t[51148]\n",
      "፣       \t-->\t[33]\n",
      "ሙላት     \t-->\t[9158]\n",
      "ሙሄ      \t-->\t[51148]\n",
      "እና      \t-->\t[7]\n",
      "ጎረቤታቸው  \t-->\t[63799]\n",
      "አቶ      \t-->\t[44]\n",
      "እንድሪስ   \t-->\t[17857]\n",
      "የተባሉ    \t-->\t[1376]\n",
      "ሲሆኑ     \t-->\t[947]\n",
      "ስርዓት    \t-->\t[769]\n",
      "ቀብራቸው   \t-->\t[13051]\n",
      "በዛሬው    \t-->\t[259]\n",
      "ዕለት     \t-->\t[207]\n",
      "ተፈፅሟል።  \t-->\t[9115]\n",
      "እስካሁን   \t-->\t[307]\n",
      "ገዳዮች    \t-->\t[19551]\n",
      "ስለመያዛቸው \t-->\t[45001]\n",
      "የተባለ    \t-->\t[801]\n",
      "ነገር     \t-->\t[67]\n",
      "የለም።    \t-->\t[984]\n",
      "በከተማዋ   \t-->\t[1197]\n",
      "ከተገደሉት  \t-->\t[10342]\n",
      "ሰዎች     \t-->\t[27]\n",
      "ባሻገር    \t-->\t[2231]\n",
      "ባህርዳር   \t-->\t[2982]\n",
      "ከተማ     \t-->\t[25]\n",
      "አባይ     \t-->\t[4770]\n",
      "ማዶ      \t-->\t[8609]\n",
      "የሚገኘው   \t-->\t[506]\n",
      "መስጂድ    \t-->\t[8041]\n",
      "ከፍተኛ    \t-->\t[53]\n",
      "የመሳሪያ   \t-->\t[14257]\n",
      "ድብደባ    \t-->\t[2667]\n",
      "እንደተፈፀመበት\t-->\t[33102]\n",
      "ተገልጿል።  \t-->\t[141]\n",
      "ከዚሁ     \t-->\t[5286]\n",
      "ጋር      \t-->\t[17]\n",
      "በተያያዘ   \t-->\t[526]\n",
      "ዛሬ      \t-->\t[57]\n",
      "የባህር    \t-->\t[1839]\n",
      "ዳር      \t-->\t[577]\n",
      "ሙስሊሞች   \t-->\t[8870]\n",
      "በክልሉ    \t-->\t[491]\n",
      "በሙስሊሞች  \t-->\t[63342]\n",
      "ላይ      \t-->\t[10]\n",
      "አነጣጥረዋል \t-->\t[94902, 20007]\n",
      "ያሉትን    \t-->\t[2078]\n",
      "ግድያ     \t-->\t[1090]\n",
      "እና      \t-->\t[7]\n",
      "እገታ     \t-->\t[5724]\n",
      "በመቃወም   \t-->\t[3574]\n",
      "ሰልፍ     \t-->\t[822]\n",
      "ማድረጋቸውን \t-->\t[2988]\n",
      "\"       \t-->\t[14]\n",
      "ሀሩን     \t-->\t[33660]\n",
      "ሚዲያ     \t-->\t[549]\n",
      "\"       \t-->\t[14]\n",
      "ዘግቧል።   \t-->\t[427]\n",
      "እስካሁን   \t-->\t[307]\n",
      "በአማራ    \t-->\t[503]\n",
      "ክልል     \t-->\t[41]\n",
      "እስልምና   \t-->\t[3278]\n",
      "ጉዳዮች    \t-->\t[231]\n",
      "ከፍተኛ    \t-->\t[53]\n",
      "ምክር     \t-->\t[170]\n",
      "ቤትም     \t-->\t[28, 8]\n",
      "ሆነ      \t-->\t[289]\n",
      "በኢትዮጵያ  \t-->\t[126]\n",
      "እስልምና   \t-->\t[3278]\n",
      "ጉዳዮች    \t-->\t[231]\n",
      "ጠቅላይ    \t-->\t[158]\n",
      "ምክር     \t-->\t[170]\n",
      "ቤት      \t-->\t[28]\n",
      "የተሰጠ    \t-->\t[2476]\n",
      "አስተያየት  \t-->\t[620]\n",
      "የለም።    \t-->\t[984]\n",
      "ቲክቫህ    \t-->\t[1134]\n",
      "ኢትዮጵያ   \t-->\t[54]\n",
      "በክልሉ    \t-->\t[491]\n",
      "ተፈፅመዋል  \t-->\t[32369]\n",
      "ስለተባሉ   \t-->\t[62519]\n",
      "ግድያዎች   \t-->\t[9726]\n",
      "፣       \t-->\t[33]\n",
      "ጥቃቶች    \t-->\t[2225]\n",
      "፣       \t-->\t[33]\n",
      "ዘረፋና    \t-->\t[27038]\n",
      "እገታዎች   \t-->\t[46541]\n",
      "የአማራ    \t-->\t[409]\n",
      "ክልል     \t-->\t[41]\n",
      "እስልምና   \t-->\t[3278]\n",
      "ጉዳዮች    \t-->\t[231]\n",
      "ከፍተኛ    \t-->\t[53]\n",
      "ምክር     \t-->\t[170]\n",
      "ቤት      \t-->\t[28]\n",
      "እና      \t-->\t[7]\n",
      "የሚመለከታቸው\t-->\t[2664]\n",
      "አካላትን   \t-->\t[2983]\n",
      "ለማነጋገር  \t-->\t[12139]\n",
      "ጥረት     \t-->\t[377]\n",
      "እያደረገ   \t-->\t[998]\n",
      "ይገኛል፤   \t-->\t[23033]\n",
      "ምላሽ     \t-->\t[305]\n",
      "እንዳገኘ   \t-->\t[14546]\n",
      "ተጨማሪ    \t-->\t[224]\n",
      "መረጃዎችን  \t-->\t[1140]\n",
      "ያቀርባል።  \t-->\t[10129]\n"
     ]
    }
   ],
   "source": [
    "# printing the encoding of each word to see how subwords are tokenized\n",
    "tokenized_text = [(list(tokenizer.tokenize(word)), word) for word in cleaned_data[3000].split()]\n",
    "\n",
    "print(\"Word\\t\\t-->\\tTokenization\")\n",
    "print(\"-\"*40)\n",
    "for element in tokenized_text:\n",
    "    print(f\"{element[1]:<8}\\t-->\\t{element[0]}\")\n"
   ]
  },
  {
   "cell_type": "markdown",
   "metadata": {
    "id": "2CwYXxIWDnqr"
   },
   "source": [
    "Now let's take data from the cleaned_data  and see how the tokenization of the whole content looks like"
   ]
  },
  {
   "cell_type": "code",
   "execution_count": 12,
   "metadata": {
    "colab": {
     "base_uri": "https://localhost:8080/"
    },
    "executionInfo": {
     "elapsed": 53,
     "status": "ok",
     "timestamp": 1740230254499,
     "user": {
      "displayName": "Mahder Tesfaye",
      "userId": "10113678197611266820"
     },
     "user_tz": -180
    },
    "id": "g-4Bi-FODnqr",
    "outputId": "1fd3165b-6b97-4316-ae4a-656c3ce68996"
   },
   "outputs": [
    {
     "name": "stdout",
     "output_type": "stream",
     "text": [
      "Data at index 890 before tokenization: \" ሰላም ከአንገት በላይና ዝም ላለማለት ያህል የምንናገረው ሳይሆን ዋጋ ከፍለን የምናመጣው ነው \" - ቅዱስነታቸው ዛሬ የሰላም ሚኒስቴር አንድ ዓለም አቀፍ ኮንፈረንስ አዘጋጅቶ ነበር። በዚህ መድረክ ላይም የሰላም ሚኒስትር አቶ ብናልፍ አዱዓለም ፣ የኢትዮጵያ የሃይማኖት ተቋማት የበላይ ጠባቂ አባቶች፣ ብፁዓን አበው ሊቃነ ጳጳሳት ወኤጲስ ቆጶሳት ፣ የመንግሥት ባለስልጣናት ፣ አባሳደሮች ጭምር ተገኝተው ነበር። በመድረኩ ፤ ብፁዕ ወቅዱስ አቡነ ማትያስ ቀዳማዊ ፓትርያርክ ርእሰ ሊቃነ ጳጳሳት ዘኢትዮጵያ ሊቀ ጳጳስ ዘአክሱም ወእጨጌ ዘመንበረ ተክለሃይማኖት መልዕክት አስተላልፈዋል። ቅዱስነታቸው ምን አሉ ? (ከመልዕክታቸው የተወሰደ) \" ሰላም የሰው ልጆች ፍላጎት፣ የብዙ ምንዱባን የየዕለት ናፍቆት ነው። የበርካታ ዘመናት ቅርሶች፤ ጊዜ፣ ገንዘብ እና የሰው ጉልበት የፈሰሰባቸው ግንባታዎች በሰላም ማጣት በቅጽበት ይፈርሳሉ። ሰላም ካለ የዓለም ሀብት ለሁሉም በቂ ነው። ሰላም ማጣት ግን ብዙ ሠራዊት፣ ብዙ የጦር መሳሪያ እንዲዘጋጅ እያደረገ ሀብትን ያወድማል። ጦርነት ማለት ሀብትና ሕይወትን ወደሚነድ እሳት ውስጥ መጣል ነው። የአንደኛና የሁለተኛ ዓለም ጦርነት፣ ታሪክ ብቻ ሳይሆን ጠባሳው አሁንም የዓለምን መልክ አበላሽቶታል። ሰላም በውስጥዋ ገራምነት፣ ትዕግሥት፣ ታዛዥነትና በትህትና ዝቅ ማለት ስለሚገኙ መራራ ትመስላለች፤ በውጤቷ ግን ሀገርን ከጥፋት፣ ሕዝብን ከመከራ ማትረፍ የሚቻል በመሆኑ ዋጋዋ ከፍ ያለ ነው። ቅድስት ቤተ ክርስቲያናችን ፦ ° ሰላም የሆነው ክርስቶስ የሚሰበክባት፣ ° የሰላም መልእክተኞች በውስጥዋ የሚመላለሱባት፣ ° በግብረ ኃጢአት የወደቁት በንስሓ ከእግዚአብሔር ጋር የሚታረቁባት የሰላም ድልድይ ስለሆነች በሥርዓተ ቅዳሴዋ ሰላምን ደጋግማ ታውጃለች፤ በጸሎቷ ለመላው ዓለም ሰላምን ትለምናለች፤ በጉልላትዋ ላይ የሰቀለችው መስቀልም ሰላምን የሚሰብክ ነው፤ የመስቀሉ ቅርፅ ወደ ላይና ወደ ጎን መሆኑም ከእግዚአብሔርና ከሰው ጋር ሰላም መሆን እንዳለብን የሚያስገነዝበን ነው። ታሪካችን እንደሚነግረን ወንድማማቾች ሲጋደሉ፣ በሕዝብ መካከል መተላለቅ ሲመጣ ቤተ ክርስቲያን ታቦት አክብራ፣ በእሳት መካከል ገብታ ሰላምን ስታወርድ የኖረች ናት። በሀገር ውስጥ ግጭቶች በተፈጠሩበት ጊዜም የሰላም ጥሪን ያላስተላለፈችበት ቀንና ሰዓት አይገኝም፡፡ ሰላምን የመወያያ ርእስ አድርገን ስንሰባስብ በጦርነት መካከል የተጨነቁ ሕዝቦች፣ ራሳቸውን መከላከል የማይችሉ እና ምን እየተደረገ እንዳለ በውል የማይገነዘቡ ደካሞች ተስፋ ያደርጉናል። ስለዚህ ሰላም ከአንገት በላይና ዝም ላለማለት ያህል የምንናገረው ሳይሆን ዋጋ ከፍለን የምናመጣው ስለሆነ ይህ ጉባኤ ከውይይት ባሻገር በተግባር ጭምር የሰላም ተምሳሌት መሆን እንደሚገባው ለማሳሰብ እንወዳለን። \" (ሙሉ መልዕክታቸው ከላይ ተያይዟል)\n",
      "\n",
      "---------------------------------------------------------------------------------\n",
      "Data at index 890 after tokenization:  [14, 302, 43245, 42, 9, 2331, 37977, 512, 470, 85965, 464, 253, 26895, 82905, 15, 14, 20, 13326, 57, 413, 98, 60, 260, 169, 4331, 6235, 150, 117, 820, 10, 8, 413, 125, 44, 20762, 41831, 7207, 33, 49, 2386, 175, 3828, 1077, 8591, 11239, 13264, 4076, 4, 1, 1914, 341, 640, 1, 78, 4405, 1, 1914, 33, 824, 750, 33, 1272, 741, 33116, 976, 1712, 150, 3598, 70, 2416, 3762, 1418, 4528, 4776, 3102, 3686, 4076, 4, 1, 1914, 8056, 1537, 4, 1, 78, 1420, 9140, 341, 1534, 9197, 337, 3875, 9931, 455, 3299, 13326, 107, 713, 135, 29, 330, 78447, 3799, 34, 14, 302, 550, 737, 461, 13, 7905, 4, 82566, 11, 57955, 23146, 35, 5899, 12034, 6409, 40, 38, 13, 242, 7, 550, 6417, 11, 26756, 277, 12721, 655, 5382, 6, 41824, 69299, 32, 302, 1205, 459, 1059, 2044, 722, 35, 302, 5382, 55, 228, 19167, 228, 472, 610, 18291, 998, 30048, 95209, 32, 334, 406, 17334, 25171, 16, 457, 26524, 1762, 23, 9930, 35, 5276, 9, 2199, 260, 334, 13, 458, 76, 464, 13472, 22, 382, 459, 5, 1552, 79770, 1910, 302, 6291, 353, 4, 12544, 8, 17829, 51736, 13, 4, 90352, 9, 12318, 2654, 406, 18296, 21698, 52377, 40, 6, 37647, 2381, 55, 162, 5, 17892, 13, 11472, 12, 36295, 6815, 13053, 317, 253, 353, 642, 182, 35, 3748, 586, 18878, 218, 4, 1, 302, 532, 5930, 20707, 204, 220, 36963, 4, 1, 413, 82240, 6291, 353, 51140, 36963, 4, 1, 26825, 4445, 1, 7663, 67691, 6, 5, 78, 1, 25914, 17, 352, 39806, 937, 413, 2805, 27495, 36749, 23030, 353, 4018, 36594, 15010, 2612, 36501, 6, 88354, 2902, 260, 4018, 4, 24, 6308, 9, 36501, 6, 94522, 353, 10, 11, 55032, 1431, 1064, 8, 4018, 74659, 1286, 77950, 10479, 16, 10, 9, 16, 1160, 3091, 25914, 9, 4908, 17, 302, 397, 12955, 81805, 204, 5, 35, 30394, 64, 73782, 10677, 210, 58238, 13, 5301, 97, 197, 81257, 4822, 586, 936, 17534, 66722, 13, 3045, 97, 12996, 4018, 3755, 9326, 44290, 3145, 1114, 23, 2523, 16629, 69, 38, 8, 413, 226, 5, 99213, 4793, 47, 9, 90, 21116, 84, 4018, 30556, 14552, 5314, 2957, 67967, 3232, 97, 75389, 4144, 13, 2334, 1113, 7594, 7, 107, 778, 856, 5061, 1593, 30894, 9460, 678, 17474, 5179, 1263, 302, 43245, 42, 9, 2331, 37977, 512, 470, 85965, 464, 253, 26895, 82905, 1149, 103, 552, 12, 41082, 2231, 4329, 976, 413, 10344, 397, 7504, 21800, 11085, 14, 29, 4545, 18864, 624, 1510, 1, 73, 34]\n",
      "\n",
      "---------------------------------------------------------------------------------\n",
      "Data at index 890 after detokenization: ['▁\"', '▁ሰላም', '▁ከአንገት', '▁በላይ', 'ና', '▁ዝም', '▁ላለማ', 'ለት', '▁ያህል', '▁የምንናገረው', '▁ሳይሆን', '▁ዋጋ', '▁ከፍለን', '▁የምናመጣው', '▁ነው', '▁\"', '▁-', '▁ቅዱስነታቸው', '▁ዛሬ', '▁የሰላም', '▁ሚኒስቴር', '▁አንድ', '▁ዓለም', '▁አቀፍ', '▁ኮንፈረንስ', '▁አዘጋጅቶ', '▁ነበር።', '▁በዚህ', '▁መድረክ', '▁ላይ', 'ም', '▁የሰላም', '▁ሚኒስትር', '▁አቶ', '▁ብናልፍ', '▁አዱ', 'ዓለም', '▁፣', '▁የኢትዮጵያ', '▁የሃይማኖት', '▁ተቋማት', '▁የበላይ', '▁ጠባቂ', '▁አባቶች፣', '▁ብፁዓን', '▁አበው', '▁ሊቃነ', '▁', 'ጳጳ', 'ሳት', '▁ወ', 'ኤ', 'ጲ', 'ስ', '▁ቆ', 'ጶ', 'ሳት', '▁፣', '▁የመንግሥት', '▁ባለስልጣናት', '▁፣', '▁አባ', 'ሳ', 'ደሮች', '▁ጭምር', '▁ተገኝተው', '▁ነበር።', '▁በመድረኩ', '▁፤', '▁ብፁዕ', '▁ወቅዱስ', '▁አቡነ', '▁ማትያስ', '▁ቀዳማዊ', '▁ፓትርያርክ', '▁ርእሰ', '▁ሊቃነ', '▁', 'ጳጳ', 'ሳት', '▁ዘኢትዮጵያ', '▁ሊቀ', '▁', 'ጳጳ', 'ስ', '▁ዘ', 'አክሱም', '▁ወ', 'እ', 'ጨጌ', '▁ዘመን', 'በረ', '▁ተክለሃይማኖት', '▁መልዕክት', '▁አስተላልፈዋል።', '▁ቅዱስነታቸው', '▁ምን', '▁አሉ', '▁?', '▁(', 'ከ', 'መልዕክታቸው', '▁የተወሰደ', ')', '▁\"', '▁ሰላም', '▁የሰው', '▁ልጆች', '▁ፍላጎት', '፣', '▁የብዙ', '▁', 'ምንዱባን', '▁የ', 'የዕለት', '▁ናፍቆት', '▁ነው።', '▁የበርካታ', '▁ዘመናት', '▁ቅርሶች', '፤', '▁ጊዜ', '፣', '▁ገንዘብ', '▁እና', '▁የሰው', '▁ጉልበት', '▁የ', 'ፈሰሰ', 'ባቸው', '▁ግንባታዎች', '▁በሰላም', '▁ማጣት', '▁በ', 'ቅጽበት', '▁ይፈርሳሉ', '።', '▁ሰላም', '▁ካለ', '▁የዓለም', '▁ሀብት', '▁ለሁሉም', '▁በቂ', '▁ነው።', '▁ሰላም', '▁ማጣት', '▁ግን', '▁ብዙ', '▁ሠራዊት፣', '▁ብዙ', '▁የጦር', '▁መሳሪያ', '▁እንዲዘጋጅ', '▁እያደረገ', '▁ሀብትን', '▁ያወድማል', '።', '▁ጦርነት', '▁ማለት', '▁ሀብትና', '▁ሕይወትን', '▁ወደ', 'ሚ', 'ነድ', '▁እሳት', '▁ውስጥ', '▁መጣል', '▁ነው።', '▁የአንደኛ', 'ና', '▁የሁለተኛ', '▁ዓለም', '▁ጦርነት', '፣', '▁ታሪክ', '▁ብቻ', '▁ሳይሆን', '▁ጠባሳ', 'ው', '▁አሁንም', '▁የዓለም', 'ን', '▁መልክ', '▁አበላሽቶ', 'ታል።', '▁ሰላም', '▁በውስጥ', 'ዋ', '▁', 'ገራ', 'ም', 'ነት፣', '▁ትዕግሥት', '፣', '▁', 'ታዛዥነት', 'ና', '▁በትህትና', '▁ዝቅ', '▁ማለት', '▁ስለሚገኙ', '▁መራራ', '▁ትመስላለች', '፤', '▁በ', 'ውጤ', 'ቷ', '▁ግን', '▁ሀገር', 'ን', '▁ከጥፋት', '፣', '▁ሕዝብን', '▁ከ', 'መከራ', '▁ማትረፍ', '▁የሚቻል', '▁በመሆኑ', '▁ዋጋ', 'ዋ', '▁ከፍ', '▁ያለ', '▁ነው።', '▁ቅድስት', '▁ቤተ', '▁ክርስቲያናችን', '▁፦', '▁', '°', '▁ሰላም', '▁የሆነው', '▁ክርስቶስ', '▁የሚሰ', 'በ', 'ክ', 'ባት፣', '▁', '°', '▁የሰላም', '▁መልእክተኞች', '▁በውስጥ', 'ዋ', '▁የሚመላለሱ', 'ባት፣', '▁', '°', '▁በግብረ', '▁ኃ', 'ጢ', 'አት', '▁የወደቁት', '▁በ', 'ን', 'ስ', 'ሓ', '▁ከእግዚአብሔር', '▁ጋር', '▁የሚ', 'ታረቁ', 'ባት', '▁የሰላም', '▁ድልድይ', '▁ስለሆነች', '▁በሥርዓተ', '▁ቅዳሴ', 'ዋ', '▁ሰላምን', '▁ደጋግማ', '▁ታው', 'ጃ', 'ለች፤', '▁በ', 'ጸሎቷ', '▁ለመላው', '▁ዓለም', '▁ሰላምን', '▁', 'ት', 'ለም', 'ና', 'ለች፤', '▁በ', 'ጉልላት', 'ዋ', '▁ላይ', '▁የ', 'ሰቀለ', 'ችው', '▁መስቀል', 'ም', '▁ሰላምን', '▁የሚሰብክ', '▁ነው፤', '▁የመስቀሉ', '▁ቅርፅ', '▁ወደ', '▁ላይ', 'ና', '▁ወደ', '▁ጎን', '▁መሆኑም', '▁ከእግዚአብሔር', 'ና', '▁ከሰው', '▁ጋር', '▁ሰላም', '▁መሆን', '▁እንዳለብን', '▁የሚያስገነዝ', 'በ', 'ን', '▁ነው።', '▁ታሪካችን', '▁እንደ', 'ሚነግረን', '▁ወንድማማቾች', '▁ሲ', 'ጋደሉ', '፣', '▁በሕዝብ', '▁መካከል', '▁መ', 'ተላለቅ', '▁ሲመጣ', '▁ቤተ', '▁ክርስቲያን', '▁ታቦት', '▁አክብራ', '፣', '▁በእሳት', '▁መካከል', '▁ገብታ', '▁ሰላምን', '▁ስታ', 'ወርድ', '▁የኖረች', '▁ናት።', '▁በሀገር', '▁ውስጥ', '▁ግጭቶች', '▁በተፈጠሩ', 'በት', '▁ጊዜ', 'ም', '▁የሰላም', '▁ጥሪ', 'ን', '▁ያላስተላለፈ', 'ችበት', '▁ቀን', 'ና', '▁ሰዓት', '▁አይገኝም', '፡፡', '▁ሰላምን', '▁የመወያያ', '▁ርእስ', '▁አድርገን', '▁ስን', 'ሰባስብ', '▁በጦርነት', '▁መካከል', '▁የተጨነቁ', '▁ሕዝቦች', '፣', '▁ራሳቸውን', '▁መከላከል', '▁የማይችሉ', '▁እና', '▁ምን', '▁እየተደረገ', '▁እንዳለ', '▁በውል', '▁የማይ', 'ገነዘቡ', '▁ደካሞች', '▁ተስፋ', '▁ያደርጉ', 'ናል።', '▁ስለዚህ', '▁ሰላም', '▁ከአንገት', '▁በላይ', 'ና', '▁ዝም', '▁ላለማ', 'ለት', '▁ያህል', '▁የምንናገረው', '▁ሳይሆን', '▁ዋጋ', '▁ከፍለን', '▁የምናመጣው', '▁ስለሆነ', '▁ይህ', '▁ጉባኤ', '▁ከ', 'ውይይት', '▁ባሻገር', '▁በተግባር', '▁ጭምር', '▁የሰላም', '▁ተምሳሌት', '▁መሆን', '▁እንደሚገባው', '▁ለማሳሰብ', '▁እንወዳለን።', '▁\"', '▁(', 'ሙሉ', '▁መልዕክታቸው', '▁ከላይ', '▁ተያይ', 'ዟ', 'ል', ')']\n"
     ]
    }
   ],
   "source": [
    "index=890\n",
    "print(f\"Data at index {index} before tokenization:\", cleaned_data[index])\n",
    "print(\"\\n---------------------------------------------------------------------------------\")\n",
    "print(f\"Data at index {index} after tokenization: \", tokenizer.encode(cleaned_data[index]))\n",
    "print(\"\\n---------------------------------------------------------------------------------\")\n",
    "print(f\"Data at index {index} after detokenization:\", tokenizer.encode_as_pieces(cleaned_data[index]))"
   ]
  },
  {
   "cell_type": "markdown",
   "metadata": {
    "id": "wFg5iFkpDnqr"
   },
   "source": [
    "To pretrain our Transformer network, we will use the Masked Language Model (MLM) approach. This technique involves randomly masking a percentage of words in a sentence and replacing them with special tokens. The model then attempts to predict these masked words, enabling it to learn contextual and semantic representations effectively."
   ]
  },
  {
   "cell_type": "markdown",
   "metadata": {
    "id": "8J_ml4H1Dnqr"
   },
   "source": [
    "I will be implementing the Masked language model (MLM) as shown in the following image.\n",
    "\n",
    "<img src = \"images/losses.png\" width=\"600\" height = \"400\">\n",
    "\n",
    "Assume you have the following text: <span style = \"color:blue\"> **ሰላም <span style = \"color:red\">የሰው ልጆች </span> ፍላጎት፣ የብዙ ምንዱባን የየዕለት <span style = \"color:red\">ናፍቆት</span>  ነው።** </span>     \n",
    "\n",
    "\n",
    "Now as input you will mask the words in red in the text:\n",
    "\n",
    "<span style = \"color:blue\"> **Input:**</span> ሰላም  **X** ፍላጎት፣ የብዙ ምንዱባን የየዕለት **Y** ነው።\n",
    "\n",
    "<span style = \"color:blue\">**Output:**</span> The model should predict the words(s) for **X** and **Y**.\n",
    "\n",
    "**[EOS]** will be used to mark the end of the target sequence."
   ]
  },
  {
   "cell_type": "markdown",
   "metadata": {
    "id": "RuSshSDvDnqr"
   },
   "source": [
    "As you can see above, I were able to take a piece of string and tokenize it.\n",
    "\n",
    "Now I will create `input` and `target` pairs that will allow me to pre-train the model. The model uses the ids at the end of the vocab file as sentinels. For example, it will replace:\n",
    "   - `vocab_size - 1` by `<Z>`\n",
    "   - `vocab_size - 2` by `<Y>`\n",
    "   - and so forth.\n",
    "   \n",
    "It assigns every word a `chr`.\n",
    "\n",
    "The `pretty_decode` function below, which I will use in a bit, helps in handling the type when decoding.\n",
    "\n",
    "Notice that:\n",
    "```python\n",
    "string.ascii_letters = 'abcdefghijklmnopqrstuvwxyzABCDEFGHIJKLMNOPQRSTUVWXYZ'\n",
    "```\n",
    "\n"
   ]
  },
  {
   "cell_type": "code",
   "execution_count": 13,
   "metadata": {
    "id": "RFcxrZhwDnqr"
   },
   "outputs": [],
   "source": [
    "def get_sentinels(tokenizer, display=False):\n",
    "    sentinels = {}\n",
    "    vocab_size = tokenizer.vocab_size()\n",
    "    for i, char in enumerate(reversed(string.ascii_letters), 1):\n",
    "        decoded_text = tokenizer.detokenize([vocab_size - i])\n",
    "\n",
    "        # Sentinels, ex: <Z> - <a>\n",
    "        sentinels[decoded_text] = f'<{char}>'\n",
    "\n",
    "        if display:\n",
    "            print(f'The sentinel is <{char}> and the decoded token is:', decoded_text)\n",
    "\n",
    "    return sentinels\n",
    "\n",
    "\n",
    "def pretty_decode(encoded_str_list, sentinels, tokenizer):\n",
    "    # If already a string, just do the replacements.\n",
    "    if isinstance(encoded_str_list, str):\n",
    "        for token, char in sentinels.items():\n",
    "            encoded_str_list = re.sub(re.escape(token), char, encoded_str_list)\n",
    "        return encoded_str_list\n",
    "\n",
    "    # We need to decode and then prettyfy it.\n",
    "    return pretty_decode(tokenizer.detokenize(encoded_str_list), sentinels, tokenizer)"
   ]
  },
  {
   "cell_type": "code",
   "execution_count": 14,
   "metadata": {
    "colab": {
     "base_uri": "https://localhost:8080/"
    },
    "executionInfo": {
     "elapsed": 12,
     "status": "ok",
     "timestamp": 1740244470720,
     "user": {
      "displayName": "Mahder Tesfaye",
      "userId": "10113678197611266820"
     },
     "user_tz": -180
    },
    "id": "-3alnynSDnqr",
    "outputId": "37810c42-dbbf-493b-9fa6-70070e918148"
   },
   "outputs": [
    {
     "name": "stdout",
     "output_type": "stream",
     "text": [
      "The sentinel is <Z> and the decoded token is: ጂዮፖሊታን\n",
      "The sentinel is <Y> and the decoded token is: ኮሌጃችን\n",
      "The sentinel is <X> and the decoded token is: ብሮንዝ\n",
      "The sentinel is <W> and the decoded token is: ኮንቲኔ\n",
      "The sentinel is <V> and the decoded token is: አፈግፍገ\n",
      "The sentinel is <U> and the decoded token is: አይምሮአችን\n",
      "The sentinel is <T> and the decoded token is: የተወጠረ\n",
      "The sentinel is <S> and the decoded token is: ያካብቱ\n",
      "The sentinel is <R> and the decoded token is: ይበረታል\n",
      "The sentinel is <Q> and the decoded token is: ጂአንግ\n",
      "The sentinel is <P> and the decoded token is: ያስችሉታል\n",
      "The sentinel is <O> and the decoded token is: ,744\n",
      "The sentinel is <N> and the decoded token is: ወጤታማ\n",
      "The sentinel is <M> and the decoded token is: እሰጣችኋለሁ\n",
      "The sentinel is <L> and the decoded token is: ያሳምነኝ\n",
      "The sentinel is <K> and the decoded token is: በትምርት\n",
      "The sentinel is <J> and the decoded token is: ያስፈልጋችኋል\n",
      "The sentinel is <I> and the decoded token is: አልሆነልኝም\n",
      "The sentinel is <H> and the decoded token is: ትጠልቅ\n",
      "The sentinel is <G> and the decoded token is: ጠፈጠፍ\n",
      "The sentinel is <F> and the decoded token is: አጽማቸው\n",
      "The sentinel is <E> and the decoded token is: ብትወድቅ\n",
      "The sentinel is <D> and the decoded token is: ማስፈተናቸው\n",
      "The sentinel is <C> and the decoded token is: ጋረደች\n",
      "The sentinel is <B> and the decoded token is: ኮንቲነር\n",
      "The sentinel is <A> and the decoded token is: አስተኝታ\n",
      "The sentinel is <z> and the decoded token is: እንድታከብሩ\n",
      "The sentinel is <y> and the decoded token is: ሥልጤ\n",
      "The sentinel is <x> and the decoded token is: የለሾች\n",
      "The sentinel is <w> and the decoded token is: የሰበሰበችው\n",
      "The sentinel is <v> and the decoded token is: ግርፋቱ\n",
      "The sentinel is <u> and the decoded token is: ቀላቅለዋል\n",
      "The sentinel is <t> and the decoded token is: መለጠጥ\n",
      "The sentinel is <s> and the decoded token is: አልቀርም\n",
      "The sentinel is <r> and the decoded token is: ውጥኖች\n",
      "The sentinel is <q> and the decoded token is: በሚያስኬደ\n",
      "The sentinel is <p> and the decoded token is: እየቀረፈ\n",
      "The sentinel is <o> and the decoded token is: ሰበሰቧቸ\n",
      "The sentinel is <n> and the decoded token is: ያክብርልን\n",
      "The sentinel is <m> and the decoded token is: የደበደበው\n",
      "The sentinel is <l> and the decoded token is: ደባለቁ\n",
      "The sentinel is <k> and the decoded token is: መብቶቻችን\n",
      "The sentinel is <j> and the decoded token is: ትህምርት\n",
      "The sentinel is <i> and the decoded token is: ካልሰበ\n",
      "The sentinel is <h> and the decoded token is: ዲፕሬሽን\n",
      "The sentinel is <g> and the decoded token is: ተቆረሰ\n",
      "The sentinel is <f> and the decoded token is: በማጣቴ\n",
      "The sentinel is <e> and the decoded token is: 60.88\n",
      "The sentinel is <d> and the decoded token is: ሚያዋጡት\n",
      "The sentinel is <c> and the decoded token is: ፉለር\n",
      "The sentinel is <b> and the decoded token is: ኮሪደሩ\n",
      "The sentinel is <a> and the decoded token is: እየተቀነሰ\n"
     ]
    }
   ],
   "source": [
    "sentinels = get_sentinels(tokenizer, display=True)"
   ]
  },
  {
   "cell_type": "markdown",
   "metadata": {
    "id": "Z0w0c-H1Dnqr"
   },
   "source": [
    "Now, let's use the `pretty_decode` function in the following sentence."
   ]
  },
  {
   "cell_type": "markdown",
   "metadata": {
    "id": "k7T42JCfDnq2"
   },
   "source": [
    "<a name='1-5'></a>\n",
    "### 3.4 - Tokenizing and Masking\n",
    "\n",
    "In this task, I will implement the `tokenize_and_mask` function, which tokenizes and masks input words based on a given probability. The probability is controlled by the `noise` parameter, typically set to mask around `15%` of the words in the input text. The function will generate two lists of tokenized sequences following the algorithm outlined below:"
   ]
  },
  {
   "cell_type": "markdown",
   "metadata": {
    "id": "IoeVutTjDnq2"
   },
   "source": [
    "\n",
    "###  tokenize_and_mask\n",
    "\n",
    "- Start with two empty lists: `inps` and `targs`\n",
    "- Tokenize the input text using the given tokenizer.\n",
    "- For each `token` in the tokenized sequence:\n",
    "  - Generate a random number(simulating a weighted coin toss)\n",
    "  - If the random value is greater than the given threshold(noise):\n",
    "    - Add the current token to the `inps` list\n",
    "  - Else:\n",
    "    - If a new sentinel must be included:\n",
    "      - Compute the next sentinel ID using a progression.\n",
    "      - Add a sentinel into the `inps` and `targs` to mark the position of the masked element.\n",
    "    - Add the current token to the `targs` list.\n",
    "\n",
    "** There's a special case to consider. If two or more consecutive tokens get masked during the process, no need to add a new sentinel to the sequences. To account for this, use the `prev_no_mask` flag, which starts as `True` but is turned to `False` each time I mask a new element. The code that adds sentinels will only be executed if, before masking the token, the flag was in the `True` state.\n"
   ]
  },
  {
   "cell_type": "code",
   "execution_count": 15,
   "metadata": {
    "id": "-nDh8QySDnq2"
   },
   "outputs": [],
   "source": [
    "def tokenize_and_mask(text,\n",
    "                      noise=0.15,\n",
    "                      randomizer=np.random.uniform,\n",
    "                      tokenizer=None):\n",
    "    \"\"\"Tokenizes and masks a given input.\n",
    "\n",
    "    Args:\n",
    "        text (str or bytes): Text input.\n",
    "        noise (float, optional): Probability of masking a token. Defaults to 0.15.\n",
    "        randomizer (function, optional): Function that generates random values. Defaults to np.random.uniform.\n",
    "        tokenizer (function, optional): Tokenizer function. Defaults to tokenize.\n",
    "\n",
    "    Returns:\n",
    "        inps, targs: Lists of integers associated to inputs and targets.\n",
    "    \"\"\"\n",
    "\n",
    "    # Current sentinel number (starts at 0)\n",
    "    cur_sentinel_num = 0\n",
    "\n",
    "    # Inputs and targets\n",
    "    inps, targs = [], []\n",
    "\n",
    "    # Vocab_size\n",
    "    vocab_size = int(tokenizer.vocab_size())\n",
    "\n",
    "    # EOS token id\n",
    "    # Must be at the end of each target!\n",
    "    eos = tokenizer.piece_to_id(\"</s>\")\n",
    "\n",
    "\n",
    "\n",
    "    # prev_no_mask is True if the previous token was NOT masked, False otherwise\n",
    "    # set prev_no_mask to True\n",
    "    prev_no_mask = True\n",
    "\n",
    "    # Loop over the tokenized text\n",
    "    for token in tokenizer.tokenize(text):\n",
    "\n",
    "        # Generate a random value between 0 and 1\n",
    "        rnd_val = randomizer()\n",
    "\n",
    "        # Check if the noise is greater than a random value (weighted coin flip)\n",
    "        if noise > rnd_val:\n",
    "\n",
    "            # Check if previous token was NOT masked\n",
    "            if prev_no_mask:\n",
    "\n",
    "                # Current sentinel increases by 1\n",
    "                cur_sentinel_num += 1\n",
    "\n",
    "                # Compute end_id by subtracting current sentinel value out of the total vocabulary size\n",
    "                end_id = vocab_size - cur_sentinel_num\n",
    "\n",
    "                # Append end_id at the end of the targets\n",
    "                targs.append(end_id)\n",
    "\n",
    "                # Append end_id at the end of the inputs\n",
    "                inps.append(end_id)\n",
    "\n",
    "            # Append token at the end of the targets\n",
    "            targs.append(token)\n",
    "\n",
    "            # set prev_no_mask accordingly\n",
    "            prev_no_mask = False\n",
    "\n",
    "        else:\n",
    "\n",
    "            # Append token at the end of the inputs\n",
    "            inps.append(token)\n",
    "\n",
    "            # Set prev_no_mask accordingly\n",
    "            prev_no_mask = True\n",
    "\n",
    "\n",
    "    # Add EOS token to the end of the targets\n",
    "    targs.append(eos)\n",
    "\n",
    "\n",
    "\n",
    "    return inps, targs"
   ]
  },
  {
   "cell_type": "markdown",
   "metadata": {
    "id": "sveFiDohDnq2"
   },
   "source": [
    "I will now take random value from the cleaned_data and pass it to `tokenize_and_mask` function and see how it randomly masks and separate inputs and targets"
   ]
  },
  {
   "cell_type": "code",
   "execution_count": 16,
   "metadata": {
    "colab": {
     "base_uri": "https://localhost:8080/"
    },
    "executionInfo": {
     "elapsed": 31,
     "status": "ok",
     "timestamp": 1740244473835,
     "user": {
      "displayName": "Mahder Tesfaye",
      "userId": "10113678197611266820"
     },
     "user_tz": -180
    },
    "id": "VUcwzgGxDnq2",
    "outputId": "74e5afa6-f832-44a7-80c4-10c63986e037"
   },
   "outputs": [
    {
     "name": "stdout",
     "output_type": "stream",
     "text": [
      "Random data before Masking : \n",
      "\n",
      " የፀጥታ ሁኔታው አስተማማኝ ነው~ጅግጅጋ! . . ስምንተኛውን የከተሞች ፎረም ለማካሄድ ዝግጅቱ መጠናቀቁንና ምንም አይነት የፀጥታ ችግር አለመኖሩን የከተማ ልማትና ኮንስትራክሽን ሚኒስቴር ሚኒስትር ዴኤታ አቶ ካሳሁን ጎፌ ተናገሩ። ዝግጅቱን አስመልክቶ በጅግጅጋ መግለጫ የሰጡት ሚኒስትር ዴኤታው ጅጅጋ ላይ የፀጥታ ሁኔታው አስተማማኝ ነው\"፤ የክልሉ ፖሊስ ከፌዴራል የፀጥታ አካላት ጋርም በቅንጅት እየሰራ ነው ብለዋል። በከተማዋ አስተማማኝ የፀጥታ ሁኔታ መኖሩን የገለፁት ሚኒስትር ዴኤታው ተሳታፊ ከተሞች ወደጅግጅጋ ገብተው ዝግጅታቸውን ጀምረዋል ብለዋል። ዝግጅቶችን በተመለከተ ከነገ ጀምሮ እስከ ረቡዕ ከሚኖሩ ዝግጅቶች መካከል በጅግጅጋ ስቴዲየም የመክፈቻ ስነስርዐት፣ በከተሞች የስራ ዕድል ፈጠራ ኢንተርፕራይዞች ልማት፣ በመሬት ልማት ማኔጅመንት፣ በዘርፉ አጀንዳዎች ማለትም በከተማ ልማት፣ አረንጓዴ ልማትና አካባቢ ጥበቃ፣ በቤቶችና ኮንስትራክሽን እንዲሁም ተያያዥ ዘርፎች ዙሪያ ጥናታዊ ፅሁፎች ይቀርባሉ። አቶ ካሳሁን ከተሞች ራሳቸውን የሚያስተዋውቁበት ኤግዚቢሽን የሚካሄድ ሲሆን ከዚህ በፊት በተደረጉ ፎረሞች የተስተዋለው የድምፅ ብክለት በዚህ አመት እንዳይኖር ከከተሞች ጋር መግባባት ላይ ተደርሷል ብለዋል። ሀሙስ በሚኖረው የማጠቃለያ ስርዓት ለሞዴል ኢንተርፕራይዞች፣ ለሴት ስራ ፈጣሪዎች፣ በሁሉም ክልሎች ካሉ የሴክተር ተቋማት በአፈፃፀም ብልጫ ላገኙ እንዲሁም ለዩኒቨርሲቲ ተመራቂ ስራ ፈጣሪዎች እውቅናና ሽልማት ይሰጣል ተብሏል። በተመሳሳይ የዘጠነኛው የኢትዮጵያ ከተሞች ፎረም አዘጋጅ በእለቱ ይፋ ይደረጋል፤ የዋንጫ ርክክብም ይኖራል ብለዋል ሚኒስትር ዴኤታው። ስምንተኛውን የከተሞች ፎረም የተለየ ለማድረግ ከማሌዥያ አለምአቀፍ የከተሞች ፎረም ልምድ ተወስዷል ያሉት አቶ ካሳሁን ፎረሙ ለመጀመሪያ ጊዜ በታዳጊ ክልል መካሄዱም ልዩ ያደርገዋል ብለዋል። የሱማሌ ክልል ከተማ ልማትና ኮንስትራክሽን ቢሮ ሀላፊ ዶ/ር በበኩላቸው ክልሉ ፎረሙን ለማስተናገድ ዝግጅቱን አጠናቋል፤ ተሳታፊ ከተሞችም ወደ ጅግጅጋ እየገቡ ነው ብለዋል። ቢሮ ሀላፊው በጥቂት ግለሰቦች ከወራት በፊት ተከስቶ የነበረው ችግር ገፅታችንን አበላሽቶ የነበረ ቢሆንም አሁን ግን ምንም የፀጥታም ይሁን የደህንነት ችግር የለም ብለዋል። ዶ/ር አብዱልፈታህ ስምንተኛው የከተሞች ፎረም የክልላችንን ብሎም የከተማችንን አስተማማኝ ሰላም የምናረጋግጥበትና በተግባርም የምናሳይበት እንዲሆን ሰፊ ስራ ሰርተናል ውጤቱንም እያየን ነው ብለዋል። ስምንተኛው የኢትዮጵያ ከተሞች ፎረም ከየካቲት 9-14/2011 ''መደመር ለኢትዮጵያ ከተሞች ብልፅግና'' በሚል መሪ ቃል በጅግጅጋ ይካሄዳል። ምንጭ፦\n"
     ]
    }
   ],
   "source": [
    "random_data=cleaned_data[32000]\n",
    "print(\"Random data before Masking : \\n\\n\", random_data)"
   ]
  },
  {
   "cell_type": "code",
   "execution_count": 17,
   "metadata": {
    "id": "uvPtbfVODnq2"
   },
   "outputs": [],
   "source": [
    "inps_sample,targs_sample=tokenize_and_mask(random_data,noise=0.15,randomizer=np.random.uniform,tokenizer=tokenizer)\n",
    "\n"
   ]
  },
  {
   "cell_type": "code",
   "execution_count": 18,
   "metadata": {
    "colab": {
     "base_uri": "https://localhost:8080/"
    },
    "executionInfo": {
     "elapsed": 8,
     "status": "ok",
     "timestamp": 1740244474453,
     "user": {
      "displayName": "Mahder Tesfaye",
      "userId": "10113678197611266820"
     },
     "user_tz": -180
    },
    "id": "miCCmUR5Dnq2",
    "outputId": "bb0d3afa-4d0a-4e3d-a328-92c480506cf0"
   },
   "outputs": [
    {
     "name": "stdout",
     "output_type": "stream",
     "text": [
      "Inputs: \n",
      "\n",
      " የፀጥታ ሁኔታው አስተማማኝ ነው ⁇ ጅግጅጋ! . . ስምንተኛውን የከተሞች ፎረም ለማካሄድ ዝግጅቱ መጠናቀቁንና ምንም አይነት የፀጥታ<Z> አለመኖሩን የከተማ ልማትና ኮንስትራክሽን ሚኒስቴር ሚኒስትር ዴኤታ አቶ ካሳሁን ጎፌ ተናገሩ። ዝግጅቱን አስመልክቶ በጅግጅጋ መግለጫ የሰጡት ሚኒስትር ዴኤታው ጅጅጋ ላይ የፀጥታ ሁኔታው አስተማማኝ ነው\"፤ የክልሉ ፖሊስ ከፌዴራል የፀጥታ አካላት ጋርም በቅንጅት<Y> በከተማዋ አስተማማኝ የፀጥታ ሁኔታ መኖሩን የገለፁት ሚኒስትር ዴኤታው ተሳታፊ ከተሞች ወደጅግጅጋ<X> ዝግጅታቸውን ጀምረዋል ብለዋል። ዝግጅቶችን በተመለከተ ከነገ ጀምሮ እስከ ረቡዕ ከሚኖሩ ዝግጅቶች መካከል <W> ስቴዲየም የመክፈቻ <V>ት፣ በከተሞች<U> ዕድል <T> ኢንተርፕራይዞች ልማት፣ በመሬት ልማት ማኔጅመንት፣ በዘርፉ አጀንዳዎች ማለትም<S> ልማት፣ አረንጓዴ ልማትና አካባቢ ጥበቃ፣ በቤቶች <R> ኮንስትራክሽን እንዲሁም ተያያዥ ዘርፎች ዙሪያ ጥናታዊ ፅሁፎች ይቀርባሉ። አቶ ካሳሁን ከተሞች ራሳቸውን የሚያስተዋውቁበት ኤግዚቢሽን የሚካሄድ ሲሆን ከዚህ በፊት በተደረጉ ፎረሞች የተስተዋለው የድምፅ ብክለት በዚህ አመት እንዳይኖር ከከተሞች ጋር መግባባት ላይ<Q> ብለዋል። ሀሙስ በሚኖረው የማጠቃለያ ስርዓት ለሞዴል ኢንተርፕራይዞች፣ ለሴት ስራ ፈጣሪዎች፣ በሁሉም ክልሎች ካሉ የሴክተር ተቋማት በአፈፃፀም ብልጫ <P> እንዲሁም ለዩኒቨርሲቲ ተመራቂ<O> ፈጣሪዎች<N>ና <M> ይሰጣል ተብሏል።<L> የኢትዮጵያ ከተሞች ፎረም አዘጋጅ በእለቱ ይፋ ይደረጋል፤ የዋንጫ ርክክብ <K> ይኖራል ብለዋል ሚኒስትር ዴኤታው። ስምንተኛው <J> የከተሞች ፎረም የተለየ ለማድረግ <I>ማሌዥያ አለምአቀፍ<H> ፎረም ልምድ ተወስ ⁇ ል ያሉት አቶ ካሳሁን ፎረሙ ለመጀመሪያ ጊዜ በታዳጊ ክልል መካሄዱም ልዩ ያደርገዋል ብለዋል። የሱማሌ ክልል ከተማ ልማትና<G> ሀላፊ ዶ/ር በበኩላቸው ክልሉ ፎረሙን ለማስተናገድ ዝግጅቱን አጠናቋል፤ ተሳታፊ ከተሞችም ወደ ጅግጅጋ እየገቡ ነው ብለዋል። ቢሮ ሀላፊው በጥቂት ግለሰቦች ከወራት በፊት ተከስቶ የነበረው ችግር <F>ታችንን አበላሽቶ የነበረ ቢሆንም አሁን ግን ምንም <E>ም ይሁን የደህንነት ችግር የለም ብለዋል። ዶ/ር አብዱልፈታህ <D> የከተሞች ፎረም የክልላችንን ብሎም<C>ን<B> ሰላም የምናረጋግጥበትና <A>ም የምናሳይበት እንዲሆን ሰፊ ስራ ሰርተናል ውጤቱን <z> እያየን<y> ብለዋል። ስምንተኛው የኢትዮጵያ ከተሞች ፎረም ከየካቲት<x>-14/2011 ''መደመር ለኢትዮጵያ ከተሞች <w>'' በሚል መሪ ቃል<v> ይካሄዳል። ምንጭ፦\n",
      "\n",
      "Targets: \n",
      "\n",
      " <Z> ችግር<Y> እየሰራ ነው ብለዋል።<X> ገብተው <W> በጅግጅጋ <V> ስነስርዐ<U> የስራ <T> ፈጠራ<S> በከተማ <R>ና<Q> ተደርሷል <P> ላገኙ<O> ስራ<N> እውቅና <M> ሽልማት<L> በተመሳሳይ የዘጠነኛው <K>ም <J>ን <I> ከ<H> የከተሞች<G> ኮንስትራክሽን ቢሮ <F> ገፅ <E> የፀጥታ <D> ስምንተኛው<C> የከተማችን<B> አስተማማኝ <A> በተግባር <z>ም<y> ነው<x> 9 <w> ብልፅግና<v> በጅግጅጋ\n"
     ]
    }
   ],
   "source": [
    "print('Inputs: \\n\\n', pretty_decode(inps_sample, sentinels, tokenizer))\n",
    "print('\\nTargets: \\n\\n', pretty_decode(targs_sample, sentinels, tokenizer))"
   ]
  },
  {
   "cell_type": "code",
   "execution_count": 19,
   "metadata": {
    "colab": {
     "base_uri": "https://localhost:8080/",
     "height": 232
    },
    "executionInfo": {
     "elapsed": 64,
     "status": "ok",
     "timestamp": 1740244474772,
     "user": {
      "displayName": "Mahder Tesfaye",
      "userId": "10113678197611266820"
     },
     "user_tz": -180
    },
    "id": "xnmWWDjFDnq2",
    "outputId": "7e571119-04fe-4e2e-9743-dc1c69c4e557"
   },
   "outputs": [
    {
     "data": {
      "text/plain": [
       "'አስቀድሜ ጥያቄዬ በጨዋነት በውስጥ መስመር እንዲደርስዎ አድርጌ ፍትህን ለማገዝ ብሞክር እርስዎ የመፅሀፍ ቅዱሱ የዳዊት ኦሮዮንን መንገድ በመምረጥዎ በይፋ ለመፃፍ ተገድጃለሁ አሁንም መረጃው እንዴት እሱ ጋር ደረሰ የሚለውን ውትወታ ትተው በማንኛውም መንገድ ቀጥተኛ ምላሽ ይስጡኝ ከመስከረም ወዲያ አሁን ያለሁ መንግስት ህጋዊ የስራ ዘመኑ ስለሚያበቃ የባለአደራ መንግስት እንዲቋቋም ሆኖም አሁን ያለው የአብይ መንግስት አስፈፃሚ አካል የመንግስትን የእለ ተእለት ተግባራትን እየከወነ ምርጫ እስኪደረግ ለ አመት እእነዚህን ወሳኝ ጉዳዮችን የሚያስፈፅም አካል እንዲቋቋምና ክትትል እንዲደረግ በመግለጫው ጠይቀዋል የአማራ ህዝብ በአእምሮ ክንፉ ያልበረረበት ጥበብና ፍልስፍና ያልከፈተው የእውቀት ጎዳና አይኑ ያላየው ጆሮው ያልሰማው ልቡ ያላሰበው እውቀትና ብልሀት የለምከአማራ ህዝብ የሀገሪቱ ዘርፈ ብዙ እውቀት መንጭቶ የሞላበትከሙላቱም በመልክ በመልኩ ሲቀዳበት የኖረ ከኢትዮጵያ አልፎ ለአለም ሲታደል የኖረውና የሚኖረው እውቀት የተገኘበት ታላቅ ነገድ ነው ዛሬ በየትኛውም መለኪያ ይሁን መመዘኛ ኢትዮጵያዊነት የሚንፀባረቀው በአማራ ህዝብ ላይ ብቻ ነውሌላው የትህነግን ባንዲራ ለብሶየኦነግን ባንዲራ እያውለበለበ የኢትዮጵያን ሰንደቅአላማ በእግሩ ረግጦታልጨርቅ ነው ብለው አቃጥለውታልቀዳደው ጥለውታል'"
      ]
     },
     "execution_count": 19,
     "metadata": {},
     "output_type": "execute_result"
    }
   ],
   "source": [
    "tokenizer.detokenize(tokenizer.tokenize(\"አስቀድሜ ጥያቄዬ በጨዋነት በውስጥ መስመር እንዲደርስዎ አድርጌ ፍትህን ለማገዝ ብሞክር  እርስዎ የመፅሀፍ ቅዱሱ የዳዊት  ኦሮዮንን መንገድ በመምረጥዎ በይፋ ለመፃፍ ተገድጃለሁ  አሁንም መረጃው እንዴት እሱ ጋር ደረሰ የሚለውን ውትወታ ትተው በማንኛውም መንገድ ቀጥተኛ ምላሽ ይስጡኝ   ከመስከረም   ወዲያ አሁን ያለሁ መንግስት ህጋዊ የስራ ዘመኑ ስለሚያበቃ የባለአደራ መንግስት እንዲቋቋም ሆኖም አሁን ያለው የአብይ መንግስት አስፈፃሚ አካል የመንግስትን የእለ ተእለት ተግባራትን እየከወነ ምርጫ እስኪደረግ ለ አመት እእነዚህን ወሳኝ ጉዳዮችን የሚያስፈፅም አካል እንዲቋቋምና ክትትል እንዲደረግ በመግለጫው ጠይቀዋል የአማራ ህዝብ በአእምሮ ክንፉ ያልበረረበት ጥበብና ፍልስፍና ያልከፈተው የእውቀት ጎዳና አይኑ ያላየው ጆሮው ያልሰማው ልቡ ያላሰበው እውቀትና ብልሀት የለምከአማራ ህዝብ የሀገሪቱ ዘርፈ ብዙ እውቀት መንጭቶ የሞላበትከሙላቱም በመልክ በመልኩ ሲቀዳበት የኖረ ከኢትዮጵያ አልፎ ለአለም ሲታደል የኖረውና የሚኖረው እውቀት የተገኘበት ታላቅ ነገድ ነው ዛሬ በየትኛውም መለኪያ ይሁን መመዘኛ ኢትዮጵያዊነት የሚንፀባረቀው በአማራ ህዝብ ላይ ብቻ ነውሌላው የትህነግን ባንዲራ ለብሶየኦነግን ባንዲራ እያውለበለበ የኢትዮጵያን ሰንደቅአላማ በእግሩ ረግጦታልጨርቅ ነው ብለው አቃጥለውታልቀዳደው ጥለውታል\"))"
   ]
  },
  {
   "cell_type": "markdown",
   "metadata": {
    "id": "htYqIAIiDnq2"
   },
   "source": [
    "### 3.5 Creating the training data pairs"
   ]
  },
  {
   "cell_type": "markdown",
   "metadata": {
    "id": "wcYDODVEDnq2"
   },
   "source": [
    "Now I will create pairs using the cleaned_data by iterating over the data and create(inp,targ) pairs using the function I defined above"
   ]
  },
  {
   "cell_type": "markdown",
   "metadata": {
    "id": "IiUUxG8zDnq2"
   },
   "source": [
    "After completing data preprocessing and defining the dataset, I encountered an issue while training the model: the maximum sequence length is around 1300 tokens, causing the model to run out of memory and crash. This happens because transformer models, when trained using a masked language model (MLM) objective, have quadratic complexity (O(n²)) concerning sequence length, leading to excessive memory usage for long sequences. To resolve this issue, we need to reduce the size of the input sequences by spliting a single news into multiple small news(max_size words per news). this process will reduce the size of each news but will increase the number of training datas as we split single data into multiple datas"
   ]
  },
  {
   "cell_type": "code",
   "execution_count": 20,
   "metadata": {
    "colab": {
     "base_uri": "https://localhost:8080/"
    },
    "executionInfo": {
     "elapsed": 4242,
     "status": "ok",
     "timestamp": 1740244480078,
     "user": {
      "displayName": "Mahder Tesfaye",
      "userId": "10113678197611266820"
     },
     "user_tz": -180
    },
    "id": "p8Wj3GiHDnq3",
    "outputId": "7551a3fb-6d7f-4fef-bc5c-26b5e68158af"
   },
   "outputs": [
    {
     "name": "stdout",
     "output_type": "stream",
     "text": [
      "Number of contents before reduced: 193419\n",
      "Number of contents after reduced: 408671\n",
      "maximum size before reduced: 836\n",
      "maximum size after reduced: 50\n"
     ]
    }
   ],
   "source": [
    "\n",
    "max_size=50\n",
    "\n",
    "def reduce_size(data, max_size):\n",
    "    for element in data:  # Loop over each sub-array in the main array\n",
    "        sub_array = element.split()\n",
    "        for i in range(0, len(sub_array), max_size):  # Split each sub-array into chunks\n",
    "            yield  ' '.join(sub_array[i:i + max_size])\n",
    "\n",
    "cleaned_data_reduced=list(reduce_size(cleaned_data,max_size))\n",
    "print(f'Number of contents before reduced: {len(cleaned_data)}')\n",
    "print(f'Number of contents after reduced: {len(cleaned_data_reduced)}')\n",
    "print(f\"maximum size before reduced: {max([len(content.split()) for content in cleaned_data])}\")\n",
    "print(f\"maximum size after reduced: {max([len(content.split()) for content in cleaned_data_reduced])}\")\n",
    "\n"
   ]
  },
  {
   "cell_type": "markdown",
   "metadata": {
    "id": "5jz7jmJMDnq3"
   },
   "source": [
    "let us see sample the news before and after reducing"
   ]
  },
  {
   "cell_type": "code",
   "execution_count": 21,
   "metadata": {
    "colab": {
     "base_uri": "https://localhost:8080/"
    },
    "executionInfo": {
     "elapsed": 26,
     "status": "ok",
     "timestamp": 1740244480107,
     "user": {
      "displayName": "Mahder Tesfaye",
      "userId": "10113678197611266820"
     },
     "user_tz": -180
    },
    "id": "NyCb93RhDnq3",
    "outputId": "ade8dcc5-9fa6-446b-bce6-a22333651d38"
   },
   "outputs": [
    {
     "name": "stdout",
     "output_type": "stream",
     "text": [
      "Data before reduced: \n",
      "\n",
      " ሰውን ለመርዳት ሰው መሆን በቂ ነው ! ትላንት የካቲት 1/2017 ዓ/ም በጀመረው የመቄዶንያ የአረጋዊያን እና የአእምሮ ህሙማን መርጃ ማዕከል የድጋፍ ማሰባሰብ ዘመቻ እስኩን 120,000,000 ብር ተሰብስቧል። መቄዶንያ በሚያስገነባው ሆስፒታል ጭምር ያለው ህንፃ ለማጠናቀቅ የገንዘብ እጥረት አጋጥሞታል። ህንፃው ለማጠናቀቅ ገንዘብ ተቸግረናል። ለማጠናቀቅ ወደ 5 ቢሊዮን ብር ያስፈልጋል። በቀጥታ ይከታተሉ የምትችሉትን ሁሉ ድጋፍ አድርጉ።\n",
      "\n",
      "---------------------------------------------------------------------------------\n",
      "\n",
      "\n",
      "Data after reduced: \n",
      "\n",
      " ሰውን ለመርዳት ሰው መሆን በቂ ነው ! ትላንት የካቲት 1/2017 ዓ/ም በጀመረው የመቄዶንያ የአረጋዊያን እና የአእምሮ ህሙማን መርጃ ማዕከል የድጋፍ ማሰባሰብ ዘመቻ እስኩን 120,000,000 ብር ተሰብስቧል። መቄዶንያ በሚያስገነባው ሆስፒታል ጭምር ያለው ህንፃ ለማጠናቀቅ የገንዘብ እጥረት አጋጥሞታል። ህንፃው ለማጠናቀቅ ገንዘብ ተቸግረናል። ለማጠናቀቅ ወደ 5 ቢሊዮን ብር ያስፈልጋል። በቀጥታ ይከታተሉ የምትችሉትን ሁሉ\n",
      "\n",
      "---------------------------------------------------------------------------------\n",
      "\n",
      "\n",
      "Data after reduced: \n",
      "\n",
      " ድጋፍ አድርጉ።\n"
     ]
    }
   ],
   "source": [
    "print(\"Data before reduced: \\n\\n\", cleaned_data[0])\n",
    "print(\"\\n---------------------------------------------------------------------------------\\n\\n\")\n",
    "print(\"Data after reduced: \\n\\n\", cleaned_data_reduced[0])\n",
    "print(\"\\n---------------------------------------------------------------------------------\\n\\n\")\n",
    "print(\"Data after reduced: \\n\\n\", cleaned_data_reduced[1])"
   ]
  },
  {
   "cell_type": "code",
   "execution_count": 22,
   "metadata": {
    "id": "xfGEuCrWDnq3"
   },
   "outputs": [],
   "source": [
    "inputs_targets_pairs=[tokenize_and_mask(text.encode('utf-8', errors=\"ignore\").decode('utf-8'),tokenizer=tokenizer) for text in cleaned_data_reduced]\n"
   ]
  },
  {
   "cell_type": "code",
   "execution_count": 23,
   "metadata": {
    "colab": {
     "base_uri": "https://localhost:8080/"
    },
    "executionInfo": {
     "elapsed": 4,
     "status": "ok",
     "timestamp": 1740244566367,
     "user": {
      "displayName": "Mahder Tesfaye",
      "userId": "10113678197611266820"
     },
     "user_tz": -180
    },
    "id": "-WtWW6b3Dnq3",
    "outputId": "d6ae28ea-073c-46ee-cbf9-94687d1335f4"
   },
   "outputs": [
    {
     "name": "stdout",
     "output_type": "stream",
     "text": [
      "Inputs: \n",
      "\n",
      " ሰውን ለመርዳት ሰው መሆን በቂ ነው !<Z> የካቲት 1/2017 ዓ/ም በጀመረው የመቄዶንያ የአረጋዊያን እና የአእምሮ ህሙማን መርጃ ማዕከል የድጋፍ<Y>ኩን 120,000,000 ብር ተሰብስቧል። መቄዶንያ በሚያስገነባው ሆስፒታል ጭምር ያለው ህንፃ<X> እጥረት አጋጥሞታል። ህንፃው ለማጠናቀቅ ገንዘብ ተቸግረናል። ለማጠናቀቅ ወደ 5 ቢሊዮን ብር ያስፈልጋል። በቀጥታ ይከታተሉ የምትችሉትን ሁሉ\n",
      "\n",
      "Targets: \n",
      "\n",
      " <Z> ትላንት<Y> ማሰባሰብ ዘመቻ እስ<X> ለማጠናቀቅ የገንዘብ\n",
      "\n",
      "---------------------------------------------------------------------------------\n",
      "\n",
      "\n",
      "Inputs: \n",
      "\n",
      " ድጋፍ አድርጉ።\n",
      "\n",
      "Targets: \n",
      "\n",
      " \n",
      "\n",
      "---------------------------------------------------------------------------------\n",
      "\n",
      "\n"
     ]
    }
   ],
   "source": [
    "for pairs in inputs_targets_pairs[:2]:\n",
    "    print('Inputs: \\n\\n', pretty_decode(pairs[0], sentinels, tokenizer))\n",
    "    print('\\nTargets: \\n\\n', pretty_decode(pairs[1], sentinels, tokenizer))\n",
    "    print(\"\\n---------------------------------------------------------------------------------\\n\\n\")"
   ]
  },
  {
   "cell_type": "markdown",
   "metadata": {
    "id": "b5gHNgATDnq3"
   },
   "source": [
    "Let's split the data into training and validation datasets."
   ]
  },
  {
   "cell_type": "code",
   "execution_count": 24,
   "metadata": {
    "colab": {
     "base_uri": "https://localhost:8080/"
    },
    "executionInfo": {
     "elapsed": 17,
     "status": "ok",
     "timestamp": 1740244566385,
     "user": {
      "displayName": "Mahder Tesfaye",
      "userId": "10113678197611266820"
     },
     "user_tz": -180
    },
    "id": "ySWi5JERDnq3",
    "outputId": "773cbc09-af50-417d-8f4e-14d42a739a22"
   },
   "outputs": [
    {
     "name": "stdout",
     "output_type": "stream",
     "text": [
      "Total number of inputs and targets pairs:  408671\n",
      "Training data size: 326936\n",
      "Validation data size: 81735\n"
     ]
    }
   ],
   "source": [
    "print(\"Total number of inputs and targets pairs: \",len(inputs_targets_pairs))\n",
    "training_size=int(len(inputs_targets_pairs)*0.8)\n",
    "training_data=inputs_targets_pairs[:training_size]\n",
    "validation_data=inputs_targets_pairs[training_size:]\n",
    "print(f\"Training data size: {len(training_data)}\")\n",
    "print(f\"Validation data size: {len(validation_data)}\")"
   ]
  },
  {
   "cell_type": "markdown",
   "metadata": {
    "id": "jpgTPQv8Dnq3"
   },
   "source": [
    "For training a Tensorflow model we need to arrange the data into datasets. Now, I will get the `inputs` and the `targets` for the transformer model from the `training_data and validation_data`. Before creating the dataset, I need to be sure that all `inputs` have the same length by truncating the longer sequences and padding the shorter ones with `0`. The same must be done for the targets. The function `tf.keras.preprocessing.sequence.pad_sequences` will help us here."
   ]
  },
  {
   "cell_type": "code",
   "execution_count": 25,
   "metadata": {
    "id": "BWevt6CqDnq3"
   },
   "outputs": [
    {
     "name": "stderr",
     "output_type": "stream",
     "text": [
      "2025-02-23 22:27:54.876577: I metal_plugin/src/device/metal_device.cc:1154] Metal device set to: Apple M3 Pro\n",
      "2025-02-23 22:27:54.876623: I metal_plugin/src/device/metal_device.cc:296] systemMemory: 18.00 GB\n",
      "2025-02-23 22:27:54.876630: I metal_plugin/src/device/metal_device.cc:313] maxCacheSize: 6.00 GB\n",
      "2025-02-23 22:27:54.876686: I tensorflow/core/common_runtime/pluggable_device/pluggable_device_factory.cc:303] Could not identify NUMA node of platform GPU ID 0, defaulting to 0. Your kernel may not have been built with NUMA support.\n",
      "2025-02-23 22:27:54.876730: I tensorflow/core/common_runtime/pluggable_device/pluggable_device_factory.cc:269] Created TensorFlow device (/job:localhost/replica:0/task:0/device:GPU:0 with 0 MB memory) -> physical PluggableDevice (device: 0, name: METAL, pci bus id: <undefined>)\n"
     ]
    }
   ],
   "source": [
    "training_data_inputs_padded=tf.keras.utils.pad_sequences(\n",
    "    [pairs[0] for pairs in training_data],\n",
    "    maxlen=None,\n",
    "    dtype='int32',\n",
    "    padding='post',\n",
    "    truncating='post',\n",
    ")\n",
    "training_data_targets_padded=tf.keras.utils.pad_sequences(\n",
    "    [pairs[1] for pairs in training_data],\n",
    "    maxlen=None,\n",
    "    dtype='int32',\n",
    "    padding='post',\n",
    "    truncating='post',\n",
    ")\n",
    "\n",
    "validation_data_inputs_padded=tf.keras.utils.pad_sequences(\n",
    "    [pairs[0] for pairs in validation_data],\n",
    "    maxlen=None,\n",
    "    dtype='int32',\n",
    "    padding='post',\n",
    "    truncating='post',\n",
    ")\n",
    "\n",
    "validation_data_targets_padded=tf.keras.utils.pad_sequences(\n",
    "    [pairs[1] for pairs in validation_data],\n",
    "    maxlen=None,\n",
    "    dtype='int32',\n",
    "    padding='post',\n",
    "    truncating='post',\n",
    ")\n",
    "BUFFER_SIZE = 12000\n",
    "BATCH_SIZE = 32\n",
    "training_dataset_final=tf.data.Dataset.from_tensor_slices((training_data_inputs_padded,training_data_targets_padded))\n",
    "validation_dataset_final=tf.data.Dataset.from_tensor_slices((validation_data_inputs_padded,validation_data_targets_padded))\n",
    "training_dataset_final=training_dataset_final.shuffle(BUFFER_SIZE).batch(BATCH_SIZE).prefetch(tf.data.AUTOTUNE)\n",
    "validation_dataset_final=validation_dataset_final.batch(BATCH_SIZE).prefetch(tf.data.AUTOTUNE)\n",
    "\n"
   ]
  },
  {
   "cell_type": "code",
   "execution_count": 26,
   "metadata": {
    "colab": {
     "base_uri": "https://localhost:8080/"
    },
    "executionInfo": {
     "elapsed": 8,
     "status": "ok",
     "timestamp": 1740244569504,
     "user": {
      "displayName": "Mahder Tesfaye",
      "userId": "10113678197611266820"
     },
     "user_tz": -180
    },
    "id": "gwocqHPNDnq3",
    "outputId": "ee847019-0b14-4f82-effd-a19bd430fe22"
   },
   "outputs": [
    {
     "name": "stdout",
     "output_type": "stream",
     "text": [
      "maximum size of training data inputs: 206\n",
      "maximum size of training data targets: 65\n",
      "maximum size of validation data inputs: 135\n",
      "maximum size of validation data targets: 49\n",
      "seems good size for small memory devices\n"
     ]
    }
   ],
   "source": [
    "print(f'maximum size of training data inputs: {training_data_inputs_padded.shape[1]}')\n",
    "print(f'maximum size of training data targets: {training_data_targets_padded.shape[1]}')\n",
    "print(f'maximum size of validation data inputs: {validation_data_inputs_padded.shape[1]}')\n",
    "print(f'maximum size of validation data targets: {validation_data_targets_padded.shape[1]}')\n",
    "print(\"seems good size for small memory devices\")"
   ]
  },
  {
   "cell_type": "markdown",
   "metadata": {
    "id": "iKv3IKdBDnq3"
   },
   "source": [
    "Let's Tokenize both the training and validation sets using our tokenizer"
   ]
  },
  {
   "cell_type": "markdown",
   "metadata": {
    "id": "RCwA8nEjDnq3"
   },
   "source": [
    "## 4. Pretraining the Transformer Model"
   ]
  },
  {
   "cell_type": "markdown",
   "metadata": {
    "id": "1IcMNkEqDnq3"
   },
   "source": [
    "Now I am going to define the structure of the transformer network and pretrain it on the dataset given above. The general structure of the transformer model we will build is shown in the figure below"
   ]
  },
  {
   "cell_type": "markdown",
   "metadata": {
    "id": "u7W1CiBWDnq3"
   },
   "source": [
    "<center> <img src = \"images/fulltransformer.png\" width=\"500\" height=\"600\"></center>"
   ]
  },
  {
   "cell_type": "markdown",
   "metadata": {
    "id": "dZ0hYjFZDnq3"
   },
   "source": [
    "## Positional Encoding\n",
    "\n",
    "As you can see in the figure, the input embeddings are added with positional embedding vectors to capture the position of words in a sentence. The following function creates positional encoding given the embedding vectors.\n",
    "\n",
    "In sequence-to-sequence tasks, the relative order of your data is extremely important to its meaning. When you were training sequential neural networks such as RNNs, you fed your inputs into the network in order. Information about the order of your data was automatically fed into your model. However, when you train a Transformer network using multi-head attention, you feed your data into the model all at once. While this dramatically reduces training time, there is no information about the order of your data. This is where positional encoding is useful - you can specifically encode the positions of your inputs and pass them into the network using these sine and cosine formulas:\n",
    "\n",
    "$$\n",
    "PE_{(pos, 2i)}= sin\\left(\\frac{pos}{{10000}^{\\frac{2i}{d}}}\\right)\n",
    "$$\n",
    "\n",
    "$$\n",
    "PE_{(pos, 2i+1)}= cos\\left(\\frac{pos}{{10000}^{\\frac{2i}{d}}}\\right)\n",
    "$$\n",
    "\n",
    "Where:\n",
    "\n",
    "*   `d` is the dimension of the word embedding and positional encoding.\n",
    "*   `pos` is the position of the word.\n",
    "*   `i` refers to each of the different dimensions in the positional encodings, where `i = k // 2`.\n",
    "\n",
    "To develop some intuition about positional encodings, you can think of them broadly as a feature that contains the information about the relative positions of words. The sum of the positional encoding and word embedding is ultimately what is fed into the model.  If you just hard code the positions in, say by adding a matrix of 1's or whole numbers to the word embedding, the semantic meaning is distorted. Conversely, the values of the sine and cosine equations are small enough (between -1 and 1) that when you add the positional encoding to a word embedding, the word embedding is not significantly distorted, and is instead enriched with positional information. Using a combination of these two equations helps your Transformer network attend to the relative positions of your input data.\n",
    "\n",
    "### Sine and Cosine Angles\n",
    "\n",
    "Notice that even though the sine and cosine positional encoding equations take in different arguments (`2i` versus `2i+1`, or even versus odd numbers) the inner terms for both equations are the same:\n",
    "\n",
    "$$\\theta(pos, i, d) = \\frac{pos}{10000^{\\frac{2i}{d}}}$$\n",
    "\n",
    "Consider the inner term as you calculate the positional encoding for a word in a sequence:\n",
    "\n",
    "$PE_{(pos, 0)}= sin\\left(\\frac{pos}{{10000}^{\\frac{0}{d}}}\\right)$, since solving `2i = 0` gives `i = 0`\n",
    "\n",
    "$PE_{(pos, 1)}= cos\\left(\\frac{pos}{{10000}^{\\frac{0}{d}}}\\right)$, since solving `2i + 1 = 1` gives `i = 0`\n",
    "\n",
    "The angle is the same for both! The angles for $PE_{(pos, 2)}$ and $PE_{(pos, 3)}$ are the same as well, since for both, `i = 1` and therefore the inner term is $\\left(\\frac{pos}{{10000}^{\\frac{2}{d}}}\\right)$. This relationship holds true for all paired sine and cosine curves:\n",
    "\n",
    "| k             | 0                         | 1                         | 2                         | 3                         | ... | d - 2                     | d - 1                     |\n",
    "| ------------- | ------------------------- | ------------------------- | ------------------------- | ------------------------- | --- | ------------------------- | ------------------------- |\n",
    "| encoding(0) = | [sin(θ(0, 0, d))         | cos(θ(0, 0, d))         | sin(θ(0, 1, d))         | cos(θ(0, 1, d))         | ... | sin(θ(0, d//2, d))        | cos(θ(0, d//2, d))        |\n",
    "| encoding(1) = | [sin(θ(1, 0, d))         | cos(θ(1, 0, d))         | sin(θ(1, 1, d))         | cos(θ(1, 1, d))         | ... | sin(θ(1, d//2, d))        | cos(θ(1, d//2, d))        |\n",
    "| ...           | ...                       | ...                       | ...                       | ...                       | ... | ...                       | ...                       |\n",
    "| encoding(pos) =| [sin(θ(pos, 0, d))        | cos(θ(pos, 0, d))        | sin(θ(pos, 1, d))        | cos(θ(pos, 1, d))        | ... | sin(θ(pos, d//2, d))       | cos(θ(pos, d//2, d))]      |\n"
   ]
  },
  {
   "cell_type": "code",
   "execution_count": 27,
   "metadata": {
    "id": "WPz_2rgnDnq4"
   },
   "outputs": [],
   "source": [
    "def positional_encoding(positions, d_model):\n",
    "    \"\"\"\n",
    "    Precomputes a matrix with all the positional encodings\n",
    "\n",
    "    Arguments:\n",
    "        positions (int): Maximum number of positions to be encoded\n",
    "        d_model (int): Encoding size\n",
    "\n",
    "    Returns:\n",
    "        pos_encoding (tf.Tensor): A matrix of shape (1, position, d_model) with the positional encodings\n",
    "    \"\"\"\n",
    "\n",
    "    position = np.arange(positions)[:, np.newaxis]\n",
    "    k = np.arange(d_model)[np.newaxis, :]\n",
    "    i = k // 2\n",
    "\n",
    "    # initialize a matrix angle_rads of all the angles\n",
    "    angle_rates = 1 / np.power(10000, (2 * i) / np.float32(d_model))\n",
    "    angle_rads = position * angle_rates\n",
    "\n",
    "    # apply sin to even indices in the array; 2i\n",
    "    angle_rads[:, 0::2] = np.sin(angle_rads[:, 0::2])\n",
    "\n",
    "    # apply cos to odd indices in the array; 2i+1\n",
    "    angle_rads[:, 1::2] = np.cos(angle_rads[:, 1::2])\n",
    "\n",
    "    pos_encoding = angle_rads[np.newaxis, ...]\n",
    "\n",
    "    return tf.cast(pos_encoding, dtype=tf.float32)"
   ]
  },
  {
   "cell_type": "markdown",
   "metadata": {
    "id": "OVmF4UVyDnq4"
   },
   "source": [
    "\n",
    "\n",
    "## 4.2 Masking"
   ]
  },
  {
   "cell_type": "markdown",
   "metadata": {
    "id": "Ch_q3p9VDnq4"
   },
   "source": [
    "The masking we will define here is different from the masking we used while preparing the data for Masked Language modeling.\n",
    "\n",
    "\n",
    "There are two types of masks that are useful when building your Transformer network: the *padding mask* and the *look-ahead mask*. Both help the softmax computation give the appropriate weights to the words in your input sentence.\n",
    "\n",
    "### 1.1 - Padding Mask\n",
    "\n",
    "Oftentimes your input sequence will exceed the maximum length of a sequence your network can process. Let's say the maximum length of your model is five, it is fed the following sequences:\n",
    "\n",
    "    [[\"Do\", \"you\", \"know\", \"when\", \"Jane\", \"is\", \"going\", \"to\", \"visit\", \"Africa\"],\n",
    "     [\"Jane\", \"visits\", \"Africa\", \"in\", \"September\" ],\n",
    "     [\"Exciting\", \"!\"]\n",
    "    ]\n",
    "\n",
    "which might get vectorized as:\n",
    "\n",
    "    [[ 71, 121, 4, 56, 99, 2344, 345, 1284, 15],\n",
    "     [ 56, 1285, 15, 181, 545],\n",
    "     [ 87, 600]\n",
    "    ]\n",
    "    \n",
    "When passing sequences into a transformer model, it is important that they are of uniform length. You can achieve this by padding the sequence with zeros, and truncating sentences that exceed the maximum length of your model:\n",
    "\n",
    "    [[ 71, 121, 4, 56, 99],\n",
    "     [ 2344, 345, 1284, 15, 0],\n",
    "     [ 56, 1285, 15, 181, 545],\n",
    "     [ 87, 600, 0, 0, 0],\n",
    "    ]\n",
    "    \n",
    "Sequences longer than the maximum length of five will be truncated, and zeros will be added to the truncated sequence to achieve uniform length. Similarly, for sequences shorter than the maximum length, zeros will also be added for padding.\n",
    "\n",
    "When pasing these vectors through the attention layers, the zeros will typically disappear  (you will get completely new vectors given the mathematical operations that happen in the attention block). However, you still want the network to attend only to the first few numbers in that vector (given by the sentence length) and this is when a padding mask comes in handy. You will need to define a boolean mask that specifies to which elements you must attend (1) and which elements you must ignore (0) and you do this by looking at all the zeros in the sequence. Then you use the mask to set the values of the vectors (corresponding to the zeros in the initial vector) close to negative infinity (-1e9).\n",
    "\n",
    "Imagine your input vector is `[87, 600, 0, 0, 0]`. This would give you a mask of `[1, 1, 0, 0, 0]`. When your vector passes through the attention mechanism, you get another (randomly looking) vector, let's say `[1, 2, 3, 4, 5]`, which after masking becomes `[1, 2, -1e9, -1e9, -1e9]`, so that when you take the softmax, the last three elements (where there were zeros in the input) don't affect the score.\n",
    "\n",
    "The [MultiheadAttention](https://keras.io/api/layers/attention_layers/multi_head_attention/) layer implemented in Keras, uses this masking logic.\n",
    "\n",
    "**Note:** The below functions create the masking of both types."
   ]
  },
  {
   "cell_type": "code",
   "execution_count": 28,
   "metadata": {
    "id": "2rPkLel2Dnq4"
   },
   "outputs": [],
   "source": [
    "def create_padding_mask(decoder_token_ids):\n",
    "    \"\"\"\n",
    "    Creates a matrix mask for the padding cells\n",
    "\n",
    "    Arguments:\n",
    "        decoder_token_ids (matrix like): matrix of size (n, m)\n",
    "\n",
    "    Returns:\n",
    "        mask (tf.Tensor): binary tensor of size (n, 1, m)\n",
    "    \"\"\"\n",
    "    seq = 1 - tf.cast(tf.math.equal(decoder_token_ids, 0), tf.float32)\n",
    "\n",
    "    # add extra dimensions to add the padding to the attention logits.\n",
    "    # this will allow for broadcasting later when comparing sequences\n",
    "    return seq[:, tf.newaxis, :]\n",
    "\n",
    "\n",
    "def create_look_ahead_mask(sequence_length):\n",
    "    \"\"\"\n",
    "    Returns a lower triangular matrix filled with ones\n",
    "\n",
    "    Arguments:\n",
    "        sequence_length (int): matrix size\n",
    "\n",
    "    Returns:\n",
    "        mask (tf.Tensor): binary tensor of size (sequence_length, sequence_length)\n",
    "    \"\"\"\n",
    "    mask = tf.linalg.band_part(tf.ones((1, sequence_length, sequence_length)), -1, 0)\n",
    "    return mask"
   ]
  },
  {
   "cell_type": "markdown",
   "metadata": {
    "id": "27woRJV4Dnq4"
   },
   "source": [
    "\n",
    "## 4.3 - Self-Attention\n",
    "\n",
    "As the authors of the Transformers paper state, \"Attention is All You Need\".\n",
    "\n",
    "<center><img src=\"images/attention.png\" alt=\"Encoder\" width=\"600\"/></center>\n",
    "\n",
    "<center><caption><font color='purple'><b>Figure 1: Self-Attention calculation visualization</font></</caption></center>\n",
    "    \n",
    "\n",
    "The use of self-attention paired with traditional convolutional networks allows for parallelization which speeds up training. we will implement **scaled dot product attention** which takes in a query, key, value, and a mask as inputs to return rich, attention-based vector representations of the words in your sequence. This type of self-attention can be mathematically expressed as:\n",
    "$$\n",
    "\\text { Attention }(Q, K, V)=\\operatorname{softmax}\\left(\\frac{Q K^{T}}{\\sqrt{d_{k}}}+{M}\\right) V\\tag{4}\\\n",
    "$$\n",
    "\n",
    "* $Q$ is the matrix of queries\n",
    "* $K$ is the matrix of keys\n",
    "* $V$ is the matrix of values\n",
    "* $M$ is the optional mask you choose to apply\n",
    "* ${d_k}$ is the dimension of the keys, which is used to scale everything down so the softmax doesn't explode\n",
    "\n",
    "\n",
    "This will be handled by Tensorlfow so we will not searately define a function to handel self-attention.\n"
   ]
  },
  {
   "cell_type": "markdown",
   "metadata": {
    "id": "OmdHBzy6Dnq4"
   },
   "source": [
    "## 4.4 Encoder"
   ]
  },
  {
   "cell_type": "markdown",
   "metadata": {
    "id": "ehZrYgncDnq4"
   },
   "source": [
    "Now we will define the encoder part of the transformer using multi-head attention and feed forward.\n",
    "The structure of the model we will implement will look like the following figure.\n",
    "\n",
    "<center><img src=\"images/encoders.png\" alt=\"Encoder\" width=\"400\" /> </center>"
   ]
  },
  {
   "cell_type": "markdown",
   "metadata": {
    "id": "4lodvunODnq4"
   },
   "source": [
    "As you can see in the above figure inside the Encoder there is a feed forward layer. Here we will use 2 Dense layers as part of the Feed Forward Network"
   ]
  },
  {
   "cell_type": "code",
   "execution_count": 29,
   "metadata": {
    "id": "8KowxPAyDnq4"
   },
   "outputs": [],
   "source": [
    "def FullyConnected(embedding_dim, fully_connected_dim):\n",
    "    \"\"\"\n",
    "    Returns a sequential model consisting of two dense layers. The first dense layer has\n",
    "    fully_connected_dim neurons and is activated by relu. The second dense layer has\n",
    "    embedding_dim and no activation.\n",
    "\n",
    "    Arguments:\n",
    "        embedding_dim (int): output dimension\n",
    "        fully_connected_dim (int): dimension of the hidden layer\n",
    "\n",
    "    Returns:\n",
    "        _ (tf.keras.Model): sequential model\n",
    "    \"\"\"\n",
    "    return tf.keras.Sequential([\n",
    "        tf.keras.layers.Dense(fully_connected_dim, activation='relu'),  # (batch_size, seq_len, d_model)\n",
    "        tf.keras.layers.Dense(embedding_dim)  # (batch_size, seq_len, d_model)\n",
    "    ])"
   ]
  },
  {
   "cell_type": "markdown",
   "metadata": {
    "id": "_tj2V6ajDnq4"
   },
   "source": [
    "Next we will define the encoder layer class that contains both the multi-head attention and the FullyConnected layer"
   ]
  },
  {
   "cell_type": "code",
   "execution_count": 30,
   "metadata": {
    "id": "TRZWalVlDnq4"
   },
   "outputs": [],
   "source": [
    "class EncoderLayer(tf.keras.layers.Layer):\n",
    "    \"\"\"\n",
    "    The encoder layer is composed by a multi-head self-attention mechanism,\n",
    "    followed by a simple, positionwise fully connected feed-forward network.\n",
    "    This architecture includes a residual connection around each of the two\n",
    "    sub-layers, followed by layer normalization.\n",
    "    \"\"\"\n",
    "    def __init__(self, embedding_dim, num_heads, fully_connected_dim,\n",
    "                 dropout_rate=0.1, layernorm_eps=1e-6):\n",
    "\n",
    "        super(EncoderLayer, self).__init__()\n",
    "\n",
    "        self.mha = tf.keras.layers.MultiHeadAttention(\n",
    "            num_heads=num_heads,\n",
    "            key_dim=embedding_dim,\n",
    "            dropout=dropout_rate\n",
    "        )\n",
    "\n",
    "        self.ffn = FullyConnected(\n",
    "            embedding_dim=embedding_dim,\n",
    "            fully_connected_dim=fully_connected_dim\n",
    "        )\n",
    "\n",
    "        self.layernorm1 = tf.keras.layers.LayerNormalization(epsilon=layernorm_eps)\n",
    "        self.layernorm2 = tf.keras.layers.LayerNormalization(epsilon=layernorm_eps)\n",
    "\n",
    "        self.dropout_ffn = tf.keras.layers.Dropout(dropout_rate)\n",
    "\n",
    "    def call(self, x, training, mask):\n",
    "        \"\"\"\n",
    "        Forward pass for the Encoder Layer\n",
    "\n",
    "        Arguments:\n",
    "            x (tf.Tensor): Tensor of shape (batch_size, input_seq_len, fully_connected_dim)\n",
    "            training (bool): Boolean, set to true to activate\n",
    "                        the training mode for dropout layers\n",
    "            mask (tf.Tensor): Boolean mask to ensure that the padding is not\n",
    "                    treated as part of the input\n",
    "        Returns:\n",
    "            encoder_layer_out (tf.Tensor): Tensor of shape (batch_size, input_seq_len, embedding_dim)\n",
    "        \"\"\"\n",
    "        # Dropout is added by Keras automatically if the dropout parameter is non-zero during training\n",
    "        self_mha_output = self.mha(x, x, x, mask)  # Self attention (batch_size, input_seq_len, fully_connected_dim)\n",
    "\n",
    "        # skip connection\n",
    "        # apply layer normalization on sum of the input and the attention output to get the\n",
    "        # output of the multi-head attention layer\n",
    "        skip_x_attention = self.layernorm1(x + self_mha_output)  # (batch_size, input_seq_len, fully_connected_dim)\n",
    "\n",
    "        # pass the output of the multi-head attention layer through a ffn\n",
    "        ffn_output = self.ffn(skip_x_attention)  # (batch_size, input_seq_len, fully_connected_dim)\n",
    "\n",
    "        # apply dropout layer to ffn output during training\n",
    "        # use `training=training`\n",
    "        ffn_output = self.dropout_ffn(ffn_output, training=training)\n",
    "\n",
    "        # apply layer normalization on sum of the output from multi-head attention (skip connection) and ffn output\n",
    "        # to get the output of the encoder layer\n",
    "        encoder_layer_out = self.layernorm2(skip_x_attention + ffn_output)  # (batch_size, input_seq_len, embedding_dim)\n",
    "\n",
    "        return encoder_layer_out\n"
   ]
  },
  {
   "cell_type": "markdown",
   "metadata": {
    "id": "ymwwL086Dnq4"
   },
   "source": [
    "Now let's define the full Encoder Layer including the Embedding of the tokens and addition of positional embedding with Dropout layer before entering the Encoder"
   ]
  },
  {
   "cell_type": "code",
   "execution_count": 31,
   "metadata": {
    "id": "vA3vVfNSDnq4"
   },
   "outputs": [],
   "source": [
    "class Encoder(tf.keras.layers.Layer):\n",
    "    \"\"\"\n",
    "    The entire Encoder starts by passing the input to an embedding layer\n",
    "    and using positional encoding to then pass the output through a stack of\n",
    "    encoder Layers\n",
    "\n",
    "    \"\"\"\n",
    "    def __init__(self, num_layers, embedding_dim, num_heads, fully_connected_dim, input_vocab_size,\n",
    "               maximum_position_encoding, dropout_rate=0.1, layernorm_eps=1e-6):\n",
    "        super(Encoder, self).__init__()\n",
    "\n",
    "        self.embedding_dim = embedding_dim\n",
    "        self.num_layers = num_layers\n",
    "\n",
    "        self.embedding = tf.keras.layers.Embedding(input_vocab_size, self.embedding_dim)\n",
    "        self.pos_encoding = positional_encoding(maximum_position_encoding,\n",
    "                                                self.embedding_dim)\n",
    "\n",
    "\n",
    "        self.enc_layers = [EncoderLayer(embedding_dim=self.embedding_dim,\n",
    "                                        num_heads=num_heads,\n",
    "                                        fully_connected_dim=fully_connected_dim,\n",
    "                                        dropout_rate=dropout_rate,\n",
    "                                        layernorm_eps=layernorm_eps)\n",
    "                           for _ in range(self.num_layers)]\n",
    "\n",
    "        self.dropout = tf.keras.layers.Dropout(dropout_rate)\n",
    "\n",
    "    def call(self, x, training, mask):\n",
    "        \"\"\"\n",
    "        Forward pass for the Encoder\n",
    "\n",
    "        Arguments:\n",
    "            x (tf.Tensor): Tensor of shape (batch_size, seq_len)\n",
    "            training (bool): Boolean, set to true to activate\n",
    "                        the training mode for dropout layers\n",
    "            mask (tf.Tensor): Boolean mask to ensure that the padding is not\n",
    "                    treated as part of the input\n",
    "\n",
    "        Returns:\n",
    "            x (tf.Tensor): Tensor of shape (batch_size, seq_len, embedding dim)\n",
    "        \"\"\"\n",
    "        seq_len = tf.shape(x)[1]\n",
    "\n",
    "        # Pass input through the Embedding layer\n",
    "        x = self.embedding(x)  # (batch_size, input_seq_len, embedding_dim)\n",
    "        # Scale embedding by multiplying it by the square root of the embedding dimension\n",
    "        x *= tf.math.sqrt(tf.cast(self.embedding_dim, tf.float32))\n",
    "        # Add the position encoding to embedding\n",
    "        x += self.pos_encoding[:, :seq_len, :]\n",
    "        # Pass the encoded embedding through a dropout layer\n",
    "        # use `training=training`\n",
    "        x = self.dropout(x, training=training)\n",
    "        # Pass the output through the stack of encoding layers\n",
    "        for i in range(self.num_layers):\n",
    "            x = self.enc_layers[i](x, training, mask)\n",
    "\n",
    "        return x  # (batch_size, input_seq_len, embedding_dim)"
   ]
  },
  {
   "cell_type": "markdown",
   "metadata": {
    "id": "qP8QOHZfDnq4"
   },
   "source": [
    "## 4.6 Decoder"
   ]
  },
  {
   "cell_type": "markdown",
   "metadata": {
    "id": "zSe1qc_3Dnq4"
   },
   "source": [
    "Now we will define the decoder part of the transformer using masked multi-head attention, multi-head attention and feed forward.\n",
    "\n",
    "<b>N.B  pre-training transformer with both Encoder and decoder with MLM is not common task as most models like BERT which are pretrained using masked language modeling(MLM) need only encoders. But here I used both encoder and decoders so that the model can be further pre-trained or fine-tuned for tasks that need both encoder and decoder, like Neural Machine translation as well.</b>\n",
    "\n",
    "The structure of the decoder layer we will implement will look like the following figure.\n",
    "\n",
    "<center><img src=\"images/decoders.png\" alt=\"Encoder\" width=\"400\" /> </center>"
   ]
  },
  {
   "cell_type": "code",
   "execution_count": 32,
   "metadata": {
    "id": "jAZIzC47Dnq5"
   },
   "outputs": [],
   "source": [
    "class DecoderLayer(tf.keras.layers.Layer):\n",
    "    \"\"\"\n",
    "    The decoder layer is composed by two multi-head attention blocks,\n",
    "    one that takes the new input and uses self-attention, and the other\n",
    "    one that combines it with the output of the encoder, followed by a\n",
    "    fully connected block.\n",
    "    \"\"\"\n",
    "    def __init__(self, embedding_dim, num_heads, fully_connected_dim, dropout_rate=0.1, layernorm_eps=1e-6):\n",
    "        super(DecoderLayer, self).__init__()\n",
    "\n",
    "        self.mha1 = tf.keras.layers.MultiHeadAttention(\n",
    "            num_heads=num_heads,\n",
    "            key_dim=embedding_dim,\n",
    "            dropout=dropout_rate\n",
    "        )\n",
    "\n",
    "        self.mha2 = tf.keras.layers.MultiHeadAttention(\n",
    "            num_heads=num_heads,\n",
    "            key_dim=embedding_dim,\n",
    "            dropout=dropout_rate\n",
    "        )\n",
    "\n",
    "        self.ffn = FullyConnected(\n",
    "            embedding_dim=embedding_dim,\n",
    "            fully_connected_dim=fully_connected_dim\n",
    "        )\n",
    "\n",
    "        self.layernorm1 = tf.keras.layers.LayerNormalization(epsilon=layernorm_eps)\n",
    "        self.layernorm2 = tf.keras.layers.LayerNormalization(epsilon=layernorm_eps)\n",
    "        self.layernorm3 = tf.keras.layers.LayerNormalization(epsilon=layernorm_eps)\n",
    "\n",
    "        self.dropout_ffn = tf.keras.layers.Dropout(dropout_rate)\n",
    "\n",
    "    def call(self, x, enc_output, training, look_ahead_mask, padding_mask):\n",
    "        \"\"\"\n",
    "        Forward pass for the Decoder Layer\n",
    "\n",
    "        Arguments:\n",
    "            x (tf.Tensor): Tensor of shape (batch_size, target_seq_len, fully_connected_dim)\n",
    "            enc_output (tf.Tensor): Tensor of shape(batch_size, input_seq_len, fully_connected_dim)\n",
    "            training (bool): Boolean, set to true to activate\n",
    "                        the training mode for dropout layers\n",
    "            look_ahead_mask (tf.Tensor): Boolean mask for the target_input\n",
    "            padding_mask (tf.Tensor): Boolean mask for the second multihead attention layer\n",
    "        Returns:\n",
    "            out3 (tf.Tensor): Tensor of shape (batch_size, target_seq_len, fully_connected_dim)\n",
    "            attn_weights_block1 (tf.Tensor): Tensor of shape (batch_size, num_heads, target_seq_len, target_seq_len)\n",
    "            attn_weights_block2 (tf.Tensor): Tensor of shape (batch_size, num_heads, target_seq_len, input_seq_len)\n",
    "        \"\"\"\n",
    "\n",
    "\n",
    "        # enc_output.shape == (batch_size, input_seq_len, fully_connected_dim)\n",
    "\n",
    "        # BLOCK 1\n",
    "        # calculate self-attention and return attention scores as attn_weights_block1.\n",
    "        # Dropout will be applied during training\n",
    "        mult_attn_out1, attn_weights_block1 = self.mha1(x,x,x,look_ahead_mask, return_attention_scores=True)\n",
    "\n",
    "        # apply layer normalization (layernorm1) to the sum of the attention output and the input\n",
    "        Q1 = self.layernorm1(mult_attn_out1 + x)\n",
    "\n",
    "        # BLOCK 2\n",
    "        # calculate self-attention using the Q from the first block and K and V from the encoder output.\n",
    "        # Dropout will be applied during training\n",
    "        # Return attention scores as attn_weights_block2\n",
    "        mult_attn_out2, attn_weights_block2 = self.mha2(Q1,enc_output,enc_output, padding_mask, return_attention_scores=True)\n",
    "\n",
    "        # # apply layer normalization (layernorm2) to the sum of the attention output and the Q from the first block\n",
    "        mult_attn_out2 = self.layernorm2(mult_attn_out2+Q1)\n",
    "\n",
    "        #BLOCK 3\n",
    "        # pass the output of the second block through a ffn\n",
    "        ffn_output = self.ffn(mult_attn_out2)\n",
    "\n",
    "        # apply a dropout layer to the ffn output\n",
    "        # use `training=training`\n",
    "        ffn_output =self.dropout_ffn(ffn_output)\n",
    "\n",
    "        # apply layer normalization (layernorm3) to the sum of the ffn output and the output of the second block\n",
    "        out3 =self.layernorm3(ffn_output+mult_attn_out2)\n",
    "\n",
    "\n",
    "        return out3, attn_weights_block1, attn_weights_block2\n"
   ]
  },
  {
   "cell_type": "markdown",
   "metadata": {
    "id": "rt7_Jyv2Dnq5"
   },
   "source": [
    "Now let's define the full Decoder Layer"
   ]
  },
  {
   "cell_type": "code",
   "execution_count": 33,
   "metadata": {
    "id": "8tOUfZ0NDnq5"
   },
   "outputs": [],
   "source": [
    "class Decoder(tf.keras.layers.Layer):\n",
    "    \"\"\"\n",
    "    The entire Encoder starts by passing the target input to an embedding layer\n",
    "    and using positional encoding to then pass the output through a stack of\n",
    "    decoder Layers\n",
    "\n",
    "    \"\"\"\n",
    "    def __init__(self, num_layers, embedding_dim, num_heads, fully_connected_dim, target_vocab_size,\n",
    "               maximum_position_encoding, dropout_rate=0.1, layernorm_eps=1e-6):\n",
    "        super(Decoder, self).__init__()\n",
    "\n",
    "        self.embedding_dim = embedding_dim\n",
    "        self.num_layers = num_layers\n",
    "\n",
    "        self.embedding = tf.keras.layers.Embedding(target_vocab_size, self.embedding_dim)\n",
    "        self.pos_encoding = positional_encoding(maximum_position_encoding, self.embedding_dim)\n",
    "\n",
    "        self.dec_layers = [DecoderLayer(embedding_dim=self.embedding_dim,\n",
    "                                        num_heads=num_heads,\n",
    "                                        fully_connected_dim=fully_connected_dim,\n",
    "                                        dropout_rate=dropout_rate,\n",
    "                                        layernorm_eps=layernorm_eps)\n",
    "                           for _ in range(self.num_layers)]\n",
    "        self.dropout = tf.keras.layers.Dropout(dropout_rate)\n",
    "\n",
    "    def call(self, x, enc_output, training,\n",
    "           look_ahead_mask, padding_mask):\n",
    "        \"\"\"\n",
    "        Forward  pass for the Decoder\n",
    "\n",
    "        Arguments:\n",
    "            x (tf.Tensor): Tensor of shape (batch_size, target_seq_len)\n",
    "            enc_output (tf.Tensor):  Tensor of shape(batch_size, input_seq_len, fully_connected_dim)\n",
    "            training (bool): Boolean, set to true to activate\n",
    "                        the training mode for dropout layers\n",
    "            look_ahead_mask (tf.Tensor): Boolean mask for the target_input\n",
    "            padding_mask (tf.Tensor): Boolean mask for the second multihead attention layer\n",
    "        Returns:\n",
    "            x (tf.Tensor): Tensor of shape (batch_size, target_seq_len, fully_connected_dim)\n",
    "            attention_weights (dict[str: tf.Tensor]): Dictionary of tensors containing all the attention weights\n",
    "                                each of shape Tensor of shape (batch_size, num_heads, target_seq_len, input_seq_len)\n",
    "        \"\"\"\n",
    "\n",
    "        seq_len = tf.shape(x)[1]\n",
    "        attention_weights = {}\n",
    "\n",
    "\n",
    "        # create word embeddings\n",
    "        x = self.embedding(x)\n",
    "\n",
    "        # scale embeddings by multiplying by the square root of their dimension\n",
    "        x *= tf.math.sqrt(tf.cast(self.embedding_dim, tf.float32))\n",
    "\n",
    "        # add positional encodings to word embedding\n",
    "        x += self.pos_encoding[:, :seq_len, :]\n",
    "\n",
    "        # apply a dropout layer to x\n",
    "        # use `training=training`\n",
    "        x = self.dropout(x)\n",
    "\n",
    "        # use a for loop to pass x through a stack of decoder layers and update attention_weights\n",
    "        for i in range(self.num_layers):\n",
    "            # pass x and the encoder output through a stack of decoder layers and save the attention weights\n",
    "            # of block 1 and 2\n",
    "            x, block1, block2 = self.dec_layers[i](x, enc_output, training,\n",
    "                                                   look_ahead_mask=look_ahead_mask,\n",
    "                                                   padding_mask=padding_mask)\n",
    "\n",
    "            #update attention_weights dictionary with the attention weights of block 1 and block 2\n",
    "            attention_weights[f'decoder_layer{i+1}_block1_self_att'] = block1\n",
    "            attention_weights[f'decoder_layer{i+1}_block2_decenc_att'] = block2\n",
    "\n",
    "\n",
    "        # x.shape == (batch_size, target_seq_len, fully_connected_dim)\n",
    "        return x, attention_weights"
   ]
  },
  {
   "cell_type": "markdown",
   "metadata": {
    "id": "9Z4T-SnhDnq5"
   },
   "source": [
    "## 4.6 Transformer"
   ]
  },
  {
   "cell_type": "markdown",
   "metadata": {
    "id": "FH7P693wDnq5"
   },
   "source": [
    "Now we will combine both the encoder and the decoder layers defined above into a single transformer model. The full structure of the model we will form is depicted below. In the code, in addition to encoder and decoder we will add a final Dense layer with softmax  activation."
   ]
  },
  {
   "cell_type": "markdown",
   "metadata": {
    "id": "SBKZ3UsnDnq5"
   },
   "source": [
    "<center><img src=\"images/transformer.png\" width=\"3\" height=\"2\"/></center>"
   ]
  },
  {
   "cell_type": "code",
   "execution_count": 34,
   "metadata": {
    "id": "7vDk7gNsDnq5"
   },
   "outputs": [],
   "source": [
    "class Transformer(tf.keras.Model):\n",
    "    \"\"\"\n",
    "    Complete transformer with an Encoder and a Decoder\n",
    "    \"\"\"\n",
    "    def __init__(self, num_layers, embedding_dim, num_heads, fully_connected_dim, input_vocab_size,\n",
    "               target_vocab_size, max_positional_encoding_input,\n",
    "               max_positional_encoding_target, dropout_rate=0.1, layernorm_eps=1e-6):\n",
    "        super(Transformer, self).__init__()\n",
    "\n",
    "        self.encoder = Encoder(num_layers=num_layers,\n",
    "                               embedding_dim=embedding_dim,\n",
    "                               num_heads=num_heads,\n",
    "                               fully_connected_dim=fully_connected_dim,\n",
    "                               input_vocab_size=input_vocab_size,\n",
    "                               maximum_position_encoding=max_positional_encoding_input,\n",
    "                               dropout_rate=dropout_rate,\n",
    "                               layernorm_eps=layernorm_eps)\n",
    "\n",
    "        self.decoder = Decoder(num_layers=num_layers,\n",
    "                               embedding_dim=embedding_dim,\n",
    "                               num_heads=num_heads,\n",
    "                               fully_connected_dim=fully_connected_dim,\n",
    "                               target_vocab_size=target_vocab_size,\n",
    "                               maximum_position_encoding=max_positional_encoding_target,\n",
    "                               dropout_rate=dropout_rate,\n",
    "                               layernorm_eps=layernorm_eps)\n",
    "\n",
    "        self.final_layer = tf.keras.layers.Dense(target_vocab_size, activation='softmax')\n",
    "\n",
    "    def call(self, input_sentence, output_sentence, training, enc_padding_mask, look_ahead_mask, dec_padding_mask):\n",
    "        \"\"\"\n",
    "        Forward pass for the entire Transformer\n",
    "        Arguments:\n",
    "            input_sentence (tf.Tensor): Tensor of shape (batch_size, input_seq_len)\n",
    "                              An array of the indexes of the words in the input sentence\n",
    "            output_sentence (tf.Tensor): Tensor of shape (batch_size, target_seq_len)\n",
    "                              An array of the indexes of the words in the output sentence\n",
    "            training (bool): Boolean, set to true to activate\n",
    "                        the training mode for dropout layers\n",
    "            enc_padding_mask (tf.Tensor): Boolean mask to ensure that the padding is not\n",
    "                    treated as part of the input\n",
    "            look_ahead_mask (tf.Tensor): Boolean mask for the target_input\n",
    "            dec_padding_mask (tf.Tensor): Boolean mask for the second multihead attention layer\n",
    "        Returns:\n",
    "            final_output (tf.Tensor): The final output of the model\n",
    "            attention_weights (dict[str: tf.Tensor]): Dictionary of tensors containing all the attention weights for the decoder\n",
    "                                each of shape Tensor of shape (batch_size, num_heads, target_seq_len, input_seq_len)\n",
    "\n",
    "        \"\"\"\n",
    "\n",
    "\n",
    "        enc_output = self.encoder(input_sentence, training, enc_padding_mask)\n",
    "        # dec_output.shape == (batch_size, tar_seq_len, fully_connected_dim)\n",
    "        dec_output, attention_weights = self.decoder(output_sentence, enc_output, training,\n",
    "           look_ahead_mask, dec_padding_mask)\n",
    "        final_output = self.final_layer(dec_output)\n",
    "\n",
    "\n",
    "        return final_output, attention_weights"
   ]
  },
  {
   "cell_type": "markdown",
   "metadata": {
    "id": "Zvlg6o6GDnq5"
   },
   "source": [
    "Let's see the total number of Parameters of our model"
   ]
  },
  {
   "cell_type": "code",
   "execution_count": 35,
   "metadata": {
    "colab": {
     "base_uri": "https://localhost:8080/",
     "height": 216
    },
    "executionInfo": {
     "elapsed": 105,
     "status": "error",
     "timestamp": 1740244569725,
     "user": {
      "displayName": "Mahder Tesfaye",
      "userId": "10113678197611266820"
     },
     "user_tz": -180
    },
    "id": "oFvxINT3Dnq5",
    "outputId": "ebf7de31-c2d4-42da-fbde-f03c2b6a660e"
   },
   "outputs": [
    {
     "ename": "NameError",
     "evalue": "name 'transformer' is not defined",
     "output_type": "error",
     "traceback": [
      "\u001b[0;31m---------------------------------------------------------------------------\u001b[0m",
      "\u001b[0;31mNameError\u001b[0m                                 Traceback (most recent call last)",
      "Cell \u001b[0;32mIn[35], line 10\u001b[0m\n\u001b[1;32m      6\u001b[0m dec_padding_mask \u001b[38;5;241m=\u001b[39m create_padding_mask(sentence_a)\n\u001b[1;32m      8\u001b[0m look_ahead_mask \u001b[38;5;241m=\u001b[39m create_look_ahead_mask(sentence_a\u001b[38;5;241m.\u001b[39mshape[\u001b[38;5;241m1\u001b[39m])\n\u001b[0;32m---> 10\u001b[0m test_summary, att_weights \u001b[38;5;241m=\u001b[39m \u001b[43mtransformer\u001b[49m(\n\u001b[1;32m     11\u001b[0m     sentence_a,\n\u001b[1;32m     12\u001b[0m     sentence_b,\n\u001b[1;32m     13\u001b[0m     \u001b[38;5;28;01mFalse\u001b[39;00m,\n\u001b[1;32m     14\u001b[0m     enc_padding_mask,\n\u001b[1;32m     15\u001b[0m     look_ahead_mask,\n\u001b[1;32m     16\u001b[0m     dec_padding_mask\n\u001b[1;32m     17\u001b[0m )\n\u001b[1;32m     19\u001b[0m transformer\u001b[38;5;241m.\u001b[39msummary()\n",
      "\u001b[0;31mNameError\u001b[0m: name 'transformer' is not defined"
     ]
    }
   ],
   "source": [
    "# 0 is the padding value\n",
    "sentence_a = np.array([[2, 3, 1, 3, 0, 0, 0]])\n",
    "sentence_b = np.array([[1, 3, 4, 0, 0, 0, 0]])\n",
    "\n",
    "enc_padding_mask = create_padding_mask(sentence_a)\n",
    "dec_padding_mask = create_padding_mask(sentence_a)\n",
    "\n",
    "look_ahead_mask = create_look_ahead_mask(sentence_a.shape[1])\n",
    "\n",
    "test_summary, att_weights = transformer(\n",
    "    sentence_a,\n",
    "    sentence_b,\n",
    "    False,\n",
    "    enc_padding_mask,\n",
    "    look_ahead_mask,\n",
    "    dec_padding_mask\n",
    ")\n",
    "\n",
    "transformer.summary()"
   ]
  },
  {
   "cell_type": "markdown",
   "metadata": {
    "id": "i_cU780tDnq5"
   },
   "source": [
    "## 4.7 Intialize Model"
   ]
  },
  {
   "cell_type": "markdown",
   "metadata": {
    "id": "rIW65PS8Dnq5"
   },
   "source": [
    "Now we will intialize our model to pre-train it on the data we defined. Most of the parameter values we will use here are taken form the <a href=\"https://arxiv.org/abs/1706.03762\">Attention is All You Need</a> paper"
   ]
  },
  {
   "cell_type": "code",
   "execution_count": 36,
   "metadata": {
    "colab": {
     "base_uri": "https://localhost:8080/"
    },
    "executionInfo": {
     "elapsed": 4,
     "status": "ok",
     "timestamp": 1740244608592,
     "user": {
      "displayName": "Mahder Tesfaye",
      "userId": "10113678197611266820"
     },
     "user_tz": -180
    },
    "id": "ekELswYoDnq5",
    "outputId": "ad999f8c-2a06-4362-8d9c-ca19e2d7da15"
   },
   "outputs": [
    {
     "name": "stdout",
     "output_type": "stream",
     "text": [
      "Maximum positional encoding length for input: 206\n",
      "Maximum positional encoding length for target: 65\n"
     ]
    }
   ],
   "source": [
    "#let's find the maximum length in our training data to set it as the maximum positional encoding\n",
    "POSITIONAL_ENCODING_INPUT_LENGTH =training_data_inputs_padded.shape[1]\n",
    "POSITIONAL_ENCODING_TARGET_LENGTH =training_data_targets_padded.shape[1]\n",
    "print(f\"Maximum positional encoding length for input: {POSITIONAL_ENCODING_INPUT_LENGTH}\")\n",
    "print(f\"Maximum positional encoding length for target: {POSITIONAL_ENCODING_TARGET_LENGTH}\")\n",
    "\n"
   ]
  },
  {
   "cell_type": "code",
   "execution_count": 36,
   "metadata": {
    "id": "jZ9A9BcmDnq5"
   },
   "outputs": [],
   "source": [
    "# Define the model parameters\n",
    "NUM_LAYERS = 6\n",
    "EMBEDDING_DIM = 512\n",
    "FULLY_CONNECTED_DIM = 2048\n",
    "NUM_HEADS= 8\n",
    "vocab_size = tokenizer.vocab_size()\n",
    "\n",
    "\n",
    "# Initialize the model\n",
    "transformer = Transformer(\n",
    "    NUM_LAYERS,\n",
    "    EMBEDDING_DIM,\n",
    "    NUM_HEADS,\n",
    "    FULLY_CONNECTED_DIM,\n",
    "    vocab_size,\n",
    "    vocab_size,\n",
    "    POSITIONAL_ENCODING_INPUT_LENGTH,\n",
    "    POSITIONAL_ENCODING_TARGET_LENGTH,\n",
    ")"
   ]
  },
  {
   "cell_type": "markdown",
   "metadata": {
    "id": "bQk9GwCgDnq5"
   },
   "source": [
    "## 4.8 Pre-training"
   ]
  },
  {
   "cell_type": "code",
   "execution_count": 38,
   "metadata": {
    "colab": {
     "base_uri": "https://localhost:8080/"
    },
    "executionInfo": {
     "elapsed": 16,
     "status": "ok",
     "timestamp": 1740244614628,
     "user": {
      "displayName": "Mahder Tesfaye",
      "userId": "10113678197611266820"
     },
     "user_tz": -180
    },
    "id": "2WdD3VydDnq5",
    "outputId": "b7a04a92-de43-4f1c-a26a-eead7aac9e7b"
   },
   "outputs": [
    {
     "name": "stdout",
     "output_type": "stream",
     "text": [
      "Num GPUs Available:  1\n"
     ]
    }
   ],
   "source": [
    "import tensorflow as tf\n",
    "\n",
    "# Check if TensorFlow can access the GPU\n",
    "print(\"Num GPUs Available: \", len(tf.config.experimental.list_physical_devices('GPU')))\n"
   ]
  },
  {
   "cell_type": "markdown",
   "metadata": {
    "id": "cKwbSGrsDnq5"
   },
   "source": [
    "\n",
    "We have finished defining our model and processing our traning and validation datas. The next step will be training !\n"
   ]
  },
  {
   "cell_type": "code",
   "execution_count": null,
   "metadata": {
    "id": "AyXEsMH6Dnq6"
   },
   "outputs": [],
   "source": [
    "\n",
    "# Define the loss function and optimizer\n",
    "loss_object = SparseCategoricalCrossentropy(from_logits=False, reduction='none')\n",
    "class CustomSchedule(tf.keras.optimizers.schedules.LearningRateSchedule):\n",
    "    def __init__(self, embedding_dim, warmup_steps=4000):\n",
    "        super().__init__()\n",
    "        self.embedding_dim = tf.cast(embedding_dim, tf.float32)  # Ensure embedding_dim is float32\n",
    "        self.warmup_steps = tf.cast(warmup_steps, tf.float32)   # Ensure warmup_steps is float32\n",
    "\n",
    "    def __call__(self, step):\n",
    "        step = tf.cast(step, tf.float32)  # Cast step to float32 to avoid int64 issues\n",
    "        arg1 = tf.math.rsqrt(step)\n",
    "        arg2 = step * (self.warmup_steps ** -1.5)\n",
    "        return tf.math.rsqrt(self.embedding_dim) * tf.math.minimum(arg1, arg2)  # Fixed typo: minium -> minimum\n",
    "\n",
    "learning_rate = CustomSchedule(EMBEDDING_DIM)\n",
    "optimizer = Adam(learning_rate, beta_1=0.9, beta_2=0.98, epsilon=1e-9)\n",
    "\n",
    "# Define metrics to track loss and accuracy\n",
    "train_loss = Mean(name='train_loss')\n",
    "train_accuracy = SparseCategoricalAccuracy(name='train_accuracy')\n",
    "val_loss = Mean(name='val_loss')\n",
    "val_accuracy = SparseCategoricalAccuracy(name='val_accuracy')\n",
    "\n",
    "# Function to calculate the loss\n",
    "def loss_function(real, pred, mask):\n",
    "    \"\"\"\n",
    "    Arguments:\n",
    "        real (tf.Tensor): Ground truth labels\n",
    "        pred (tf.Tensor): Model predictions\n",
    "        mask (tf.Tensor): Mask to ignore padding tokens\n",
    "    Returns:\n",
    "        loss (tf.Tensor): Computed loss\n",
    "    \"\"\"\n",
    "    loss_ = loss_object(real, pred)\n",
    "    mask = tf.cast(mask, dtype=loss_.dtype)\n",
    "    loss_ *= mask\n",
    "    return tf.reduce_sum(loss_) / tf.reduce_sum(mask)\n",
    "\n",
    "# Function to create masks for the input and target sequences\n",
    "def create_masks(inp, tar):\n",
    "    \"\"\"\n",
    "    Arguments:\n",
    "        inp (tf.Tensor): Input sequence\n",
    "        tar (tf.Tensor): Target sequence\n",
    "    Returns:\n",
    "        enc_padding_mask (tf.Tensor): Padding mask for encoder\n",
    "        look_ahead_mask (tf.Tensor): Look-ahead mask for decoder\n",
    "        dec_padding_mask (tf.Tensor): Padding mask for decoder\n",
    "    \"\"\"\n",
    "    enc_padding_mask = create_padding_mask(inp)\n",
    "    look_ahead_mask = create_look_ahead_mask(tf.shape(tar)[1])\n",
    "    dec_padding_mask = create_padding_mask(inp)\n",
    "    return enc_padding_mask, look_ahead_mask, dec_padding_mask\n",
    "\n",
    "# Training step function\n",
    "@tf.function\n",
    "def train_step(inp, tar):\n",
    "    \"\"\"\n",
    "    Arguments:\n",
    "        inp (tf.Tensor): Input sequence\n",
    "        tar (tf.Tensor): Target sequence\n",
    "    \"\"\"\n",
    "    tar_inp = tar[:, :-1]  # Shifted target input for teacher forcing\n",
    "    tar_real = tar[:, 1:]  # Actual target output\n",
    "\n",
    "    # Create masks\n",
    "    enc_padding_mask, look_ahead_mask, dec_padding_mask = create_masks(inp, tar_inp)\n",
    "\n",
    "    with tf.GradientTape() as tape:\n",
    "        # Forward pass\n",
    "        predictions, _ = transformer(inp, tar_inp, True, enc_padding_mask, look_ahead_mask, dec_padding_mask)\n",
    "        # Compute loss\n",
    "        loss = loss_function(tar_real, predictions, create_padding_mask(tar_real))\n",
    "\n",
    "    # Compute gradients and update weights\n",
    "    gradients = tape.gradient(loss, transformer.trainable_variables)\n",
    "    optimizer.apply_gradients(zip(gradients, transformer.trainable_variables))\n",
    "\n",
    "    # Update metrics\n",
    "    train_loss(loss)\n",
    "    train_accuracy(tar_real, predictions)\n",
    "\n",
    "# Validation step function\n",
    "@tf.function\n",
    "def val_step(inp, tar):\n",
    "    \"\"\"\n",
    "    Arguments:\n",
    "        inp (tf.Tensor): Input sequence\n",
    "        tar (tf.Tensor): Target sequence\n",
    "    \"\"\"\n",
    "    tar_inp = tar[:, :-1]  # Shifted target input for teacher forcing\n",
    "    tar_real = tar[:, 1:]  # Actual target output\n",
    "\n",
    "    # Create masks\n",
    "    enc_padding_mask, look_ahead_mask, dec_padding_mask = create_masks(inp, tar_inp)\n",
    "\n",
    "    # Forward pass\n",
    "    predictions, _ = transformer(inp, tar_inp, False, enc_padding_mask, look_ahead_mask, dec_padding_mask)\n",
    "    # Compute loss\n",
    "    loss = loss_function(tar_real, predictions, create_padding_mask(tar_real))\n",
    "\n",
    "    # Update metrics\n",
    "    val_loss(loss)\n",
    "    val_accuracy(tar_real, predictions)\n",
    "\n"
   ]
  },
  {
   "cell_type": "markdown",
   "metadata": {
    "id": "-BftSKjBDnq6"
   },
   "source": [
    "Let's baby sit the training with 3 epoch each time and save the weights then continue for 3 steps and so until we reach good accuracy and low loss"
   ]
  },
  {
   "cell_type": "code",
   "execution_count": null,
   "metadata": {
    "colab": {
     "base_uri": "https://localhost:8080/",
     "height": 400
    },
    "executionInfo": {
     "elapsed": 46634,
     "status": "error",
     "timestamp": 1740244804422,
     "user": {
      "displayName": "Mahder Tesfaye",
      "userId": "10113678197611266820"
     },
     "user_tz": -180
    },
    "id": "jOFSauUcDnq6",
    "outputId": "493621bf-6b5a-48e5-a500-e3533b69381f"
   },
   "outputs": [
    {
     "ename": "KeyboardInterrupt",
     "evalue": "",
     "output_type": "error",
     "traceback": [
      "\u001b[0;31m---------------------------------------------------------------------------\u001b[0m",
      "\u001b[0;31mKeyboardInterrupt\u001b[0m                         Traceback (most recent call last)",
      "\u001b[0;32m<ipython-input-41-ada5048472bd>\u001b[0m in \u001b[0;36m<cell line: 0>\u001b[0;34m()\u001b[0m\n\u001b[1;32m     14\u001b[0m     \u001b[0;31m# Training loop\u001b[0m\u001b[0;34m\u001b[0m\u001b[0;34m\u001b[0m\u001b[0m\n\u001b[1;32m     15\u001b[0m     \u001b[0;32mfor\u001b[0m \u001b[0;34m(\u001b[0m\u001b[0mbatch\u001b[0m\u001b[0;34m,\u001b[0m \u001b[0;34m(\u001b[0m\u001b[0minp\u001b[0m\u001b[0;34m,\u001b[0m \u001b[0mtar\u001b[0m\u001b[0;34m)\u001b[0m\u001b[0;34m)\u001b[0m \u001b[0;32min\u001b[0m \u001b[0menumerate\u001b[0m\u001b[0;34m(\u001b[0m\u001b[0mtraining_dataset_final\u001b[0m\u001b[0;34m)\u001b[0m\u001b[0;34m:\u001b[0m\u001b[0;34m\u001b[0m\u001b[0;34m\u001b[0m\u001b[0m\n\u001b[0;32m---> 16\u001b[0;31m         \u001b[0mtrain_step\u001b[0m\u001b[0;34m(\u001b[0m\u001b[0minp\u001b[0m\u001b[0;34m,\u001b[0m \u001b[0mtar\u001b[0m\u001b[0;34m)\u001b[0m\u001b[0;34m\u001b[0m\u001b[0;34m\u001b[0m\u001b[0m\n\u001b[0m\u001b[1;32m     17\u001b[0m         \u001b[0;32mif\u001b[0m \u001b[0mbatch\u001b[0m \u001b[0;34m%\u001b[0m \u001b[0;36m2\u001b[0m \u001b[0;34m==\u001b[0m \u001b[0;36m0\u001b[0m\u001b[0;34m:\u001b[0m\u001b[0;34m\u001b[0m\u001b[0;34m\u001b[0m\u001b[0m\n\u001b[1;32m     18\u001b[0m             \u001b[0mprint\u001b[0m\u001b[0;34m(\u001b[0m\u001b[0;34mf'Epoch {epoch + 1}, Batch {batch}, Loss: {train_loss.result()}, Accuracy: {train_accuracy.result()}'\u001b[0m\u001b[0;34m)\u001b[0m\u001b[0;34m\u001b[0m\u001b[0;34m\u001b[0m\u001b[0m\n",
      "\u001b[0;32m/usr/local/lib/python3.11/dist-packages/tensorflow/python/util/traceback_utils.py\u001b[0m in \u001b[0;36merror_handler\u001b[0;34m(*args, **kwargs)\u001b[0m\n\u001b[1;32m    148\u001b[0m     \u001b[0mfiltered_tb\u001b[0m \u001b[0;34m=\u001b[0m \u001b[0;32mNone\u001b[0m\u001b[0;34m\u001b[0m\u001b[0;34m\u001b[0m\u001b[0m\n\u001b[1;32m    149\u001b[0m     \u001b[0;32mtry\u001b[0m\u001b[0;34m:\u001b[0m\u001b[0;34m\u001b[0m\u001b[0;34m\u001b[0m\u001b[0m\n\u001b[0;32m--> 150\u001b[0;31m       \u001b[0;32mreturn\u001b[0m \u001b[0mfn\u001b[0m\u001b[0;34m(\u001b[0m\u001b[0;34m*\u001b[0m\u001b[0margs\u001b[0m\u001b[0;34m,\u001b[0m \u001b[0;34m**\u001b[0m\u001b[0mkwargs\u001b[0m\u001b[0;34m)\u001b[0m\u001b[0;34m\u001b[0m\u001b[0;34m\u001b[0m\u001b[0m\n\u001b[0m\u001b[1;32m    151\u001b[0m     \u001b[0;32mexcept\u001b[0m \u001b[0mException\u001b[0m \u001b[0;32mas\u001b[0m \u001b[0me\u001b[0m\u001b[0;34m:\u001b[0m\u001b[0;34m\u001b[0m\u001b[0;34m\u001b[0m\u001b[0m\n\u001b[1;32m    152\u001b[0m       \u001b[0mfiltered_tb\u001b[0m \u001b[0;34m=\u001b[0m \u001b[0m_process_traceback_frames\u001b[0m\u001b[0;34m(\u001b[0m\u001b[0me\u001b[0m\u001b[0;34m.\u001b[0m\u001b[0m__traceback__\u001b[0m\u001b[0;34m)\u001b[0m\u001b[0;34m\u001b[0m\u001b[0;34m\u001b[0m\u001b[0m\n",
      "\u001b[0;32m/usr/local/lib/python3.11/dist-packages/tensorflow/python/eager/polymorphic_function/polymorphic_function.py\u001b[0m in \u001b[0;36m__call__\u001b[0;34m(self, *args, **kwds)\u001b[0m\n\u001b[1;32m    823\u001b[0m \u001b[0;34m\u001b[0m\u001b[0m\n\u001b[1;32m    824\u001b[0m       \u001b[0;32mwith\u001b[0m \u001b[0mOptionalXlaContext\u001b[0m\u001b[0;34m(\u001b[0m\u001b[0mself\u001b[0m\u001b[0;34m.\u001b[0m\u001b[0m_jit_compile\u001b[0m\u001b[0;34m)\u001b[0m\u001b[0;34m:\u001b[0m\u001b[0;34m\u001b[0m\u001b[0;34m\u001b[0m\u001b[0m\n\u001b[0;32m--> 825\u001b[0;31m         \u001b[0mresult\u001b[0m \u001b[0;34m=\u001b[0m \u001b[0mself\u001b[0m\u001b[0;34m.\u001b[0m\u001b[0m_call\u001b[0m\u001b[0;34m(\u001b[0m\u001b[0;34m*\u001b[0m\u001b[0margs\u001b[0m\u001b[0;34m,\u001b[0m \u001b[0;34m**\u001b[0m\u001b[0mkwds\u001b[0m\u001b[0;34m)\u001b[0m\u001b[0;34m\u001b[0m\u001b[0;34m\u001b[0m\u001b[0m\n\u001b[0m\u001b[1;32m    826\u001b[0m \u001b[0;34m\u001b[0m\u001b[0m\n\u001b[1;32m    827\u001b[0m       \u001b[0mnew_tracing_count\u001b[0m \u001b[0;34m=\u001b[0m \u001b[0mself\u001b[0m\u001b[0;34m.\u001b[0m\u001b[0mexperimental_get_tracing_count\u001b[0m\u001b[0;34m(\u001b[0m\u001b[0;34m)\u001b[0m\u001b[0;34m\u001b[0m\u001b[0;34m\u001b[0m\u001b[0m\n",
      "\u001b[0;32m/usr/local/lib/python3.11/dist-packages/tensorflow/python/eager/polymorphic_function/polymorphic_function.py\u001b[0m in \u001b[0;36m_call\u001b[0;34m(self, *args, **kwds)\u001b[0m\n\u001b[1;32m    888\u001b[0m         \u001b[0;31m# Lifting succeeded, so variables are initialized and we can run the\u001b[0m\u001b[0;34m\u001b[0m\u001b[0;34m\u001b[0m\u001b[0m\n\u001b[1;32m    889\u001b[0m         \u001b[0;31m# no_variable_creation function.\u001b[0m\u001b[0;34m\u001b[0m\u001b[0;34m\u001b[0m\u001b[0m\n\u001b[0;32m--> 890\u001b[0;31m         \u001b[0;32mreturn\u001b[0m \u001b[0mself\u001b[0m\u001b[0;34m.\u001b[0m\u001b[0m_no_variable_creation_fn\u001b[0m\u001b[0;34m(\u001b[0m\u001b[0;34m*\u001b[0m\u001b[0margs\u001b[0m\u001b[0;34m,\u001b[0m \u001b[0;34m**\u001b[0m\u001b[0mkwds\u001b[0m\u001b[0;34m)\u001b[0m\u001b[0;34m\u001b[0m\u001b[0;34m\u001b[0m\u001b[0m\n\u001b[0m\u001b[1;32m    891\u001b[0m     \u001b[0;32melse\u001b[0m\u001b[0;34m:\u001b[0m\u001b[0;34m\u001b[0m\u001b[0;34m\u001b[0m\u001b[0m\n\u001b[1;32m    892\u001b[0m       _, _, filtered_flat_args = (\n",
      "\u001b[0;32m/usr/local/lib/python3.11/dist-packages/tensorflow/python/eager/polymorphic_function/tracing_compiler.py\u001b[0m in \u001b[0;36m__call__\u001b[0;34m(self, *args, **kwargs)\u001b[0m\n\u001b[1;32m    146\u001b[0m       (concrete_function,\n\u001b[1;32m    147\u001b[0m        filtered_flat_args) = self._maybe_define_function(args, kwargs)\n\u001b[0;32m--> 148\u001b[0;31m     return concrete_function._call_flat(\n\u001b[0m\u001b[1;32m    149\u001b[0m         filtered_flat_args, captured_inputs=concrete_function.captured_inputs)  # pylint: disable=protected-access\n\u001b[1;32m    150\u001b[0m \u001b[0;34m\u001b[0m\u001b[0m\n",
      "\u001b[0;32m/usr/local/lib/python3.11/dist-packages/tensorflow/python/eager/polymorphic_function/monomorphic_function.py\u001b[0m in \u001b[0;36m_call_flat\u001b[0;34m(self, args, captured_inputs)\u001b[0m\n\u001b[1;32m   1347\u001b[0m         and executing_eagerly):\n\u001b[1;32m   1348\u001b[0m       \u001b[0;31m# No tape is watching; skip to running the function.\u001b[0m\u001b[0;34m\u001b[0m\u001b[0;34m\u001b[0m\u001b[0m\n\u001b[0;32m-> 1349\u001b[0;31m       \u001b[0;32mreturn\u001b[0m \u001b[0mself\u001b[0m\u001b[0;34m.\u001b[0m\u001b[0m_build_call_outputs\u001b[0m\u001b[0;34m(\u001b[0m\u001b[0mself\u001b[0m\u001b[0;34m.\u001b[0m\u001b[0m_inference_function\u001b[0m\u001b[0;34m(\u001b[0m\u001b[0;34m*\u001b[0m\u001b[0margs\u001b[0m\u001b[0;34m)\u001b[0m\u001b[0;34m)\u001b[0m\u001b[0;34m\u001b[0m\u001b[0;34m\u001b[0m\u001b[0m\n\u001b[0m\u001b[1;32m   1350\u001b[0m     forward_backward = self._select_forward_and_backward_functions(\n\u001b[1;32m   1351\u001b[0m         \u001b[0margs\u001b[0m\u001b[0;34m,\u001b[0m\u001b[0;34m\u001b[0m\u001b[0;34m\u001b[0m\u001b[0m\n",
      "\u001b[0;32m/usr/local/lib/python3.11/dist-packages/tensorflow/python/eager/polymorphic_function/atomic_function.py\u001b[0m in \u001b[0;36m__call__\u001b[0;34m(self, *args)\u001b[0m\n\u001b[1;32m    194\u001b[0m         \u001b[0;32mwith\u001b[0m \u001b[0mrecord\u001b[0m\u001b[0;34m.\u001b[0m\u001b[0mstop_recording\u001b[0m\u001b[0;34m(\u001b[0m\u001b[0;34m)\u001b[0m\u001b[0;34m:\u001b[0m\u001b[0;34m\u001b[0m\u001b[0;34m\u001b[0m\u001b[0m\n\u001b[1;32m    195\u001b[0m           \u001b[0;32mif\u001b[0m \u001b[0mself\u001b[0m\u001b[0;34m.\u001b[0m\u001b[0m_bound_context\u001b[0m\u001b[0;34m.\u001b[0m\u001b[0mexecuting_eagerly\u001b[0m\u001b[0;34m(\u001b[0m\u001b[0;34m)\u001b[0m\u001b[0;34m:\u001b[0m\u001b[0;34m\u001b[0m\u001b[0;34m\u001b[0m\u001b[0m\n\u001b[0;32m--> 196\u001b[0;31m             outputs = self._bound_context.call_function(\n\u001b[0m\u001b[1;32m    197\u001b[0m                 \u001b[0mself\u001b[0m\u001b[0;34m.\u001b[0m\u001b[0mname\u001b[0m\u001b[0;34m,\u001b[0m\u001b[0;34m\u001b[0m\u001b[0;34m\u001b[0m\u001b[0m\n\u001b[1;32m    198\u001b[0m                 \u001b[0mlist\u001b[0m\u001b[0;34m(\u001b[0m\u001b[0margs\u001b[0m\u001b[0;34m)\u001b[0m\u001b[0;34m,\u001b[0m\u001b[0;34m\u001b[0m\u001b[0;34m\u001b[0m\u001b[0m\n",
      "\u001b[0;32m/usr/local/lib/python3.11/dist-packages/tensorflow/python/eager/context.py\u001b[0m in \u001b[0;36mcall_function\u001b[0;34m(self, name, tensor_inputs, num_outputs)\u001b[0m\n\u001b[1;32m   1455\u001b[0m     \u001b[0mcancellation_context\u001b[0m \u001b[0;34m=\u001b[0m \u001b[0mcancellation\u001b[0m\u001b[0;34m.\u001b[0m\u001b[0mcontext\u001b[0m\u001b[0;34m(\u001b[0m\u001b[0;34m)\u001b[0m\u001b[0;34m\u001b[0m\u001b[0;34m\u001b[0m\u001b[0m\n\u001b[1;32m   1456\u001b[0m     \u001b[0;32mif\u001b[0m \u001b[0mcancellation_context\u001b[0m \u001b[0;32mis\u001b[0m \u001b[0;32mNone\u001b[0m\u001b[0;34m:\u001b[0m\u001b[0;34m\u001b[0m\u001b[0;34m\u001b[0m\u001b[0m\n\u001b[0;32m-> 1457\u001b[0;31m       outputs = execute.execute(\n\u001b[0m\u001b[1;32m   1458\u001b[0m           \u001b[0mname\u001b[0m\u001b[0;34m.\u001b[0m\u001b[0mdecode\u001b[0m\u001b[0;34m(\u001b[0m\u001b[0;34m\"utf-8\"\u001b[0m\u001b[0;34m)\u001b[0m\u001b[0;34m,\u001b[0m\u001b[0;34m\u001b[0m\u001b[0;34m\u001b[0m\u001b[0m\n\u001b[1;32m   1459\u001b[0m           \u001b[0mnum_outputs\u001b[0m\u001b[0;34m=\u001b[0m\u001b[0mnum_outputs\u001b[0m\u001b[0;34m,\u001b[0m\u001b[0;34m\u001b[0m\u001b[0;34m\u001b[0m\u001b[0m\n",
      "\u001b[0;32m/usr/local/lib/python3.11/dist-packages/tensorflow/python/eager/execute.py\u001b[0m in \u001b[0;36mquick_execute\u001b[0;34m(op_name, num_outputs, inputs, attrs, ctx, name)\u001b[0m\n\u001b[1;32m     51\u001b[0m   \u001b[0;32mtry\u001b[0m\u001b[0;34m:\u001b[0m\u001b[0;34m\u001b[0m\u001b[0;34m\u001b[0m\u001b[0m\n\u001b[1;32m     52\u001b[0m     \u001b[0mctx\u001b[0m\u001b[0;34m.\u001b[0m\u001b[0mensure_initialized\u001b[0m\u001b[0;34m(\u001b[0m\u001b[0;34m)\u001b[0m\u001b[0;34m\u001b[0m\u001b[0;34m\u001b[0m\u001b[0m\n\u001b[0;32m---> 53\u001b[0;31m     tensors = pywrap_tfe.TFE_Py_Execute(ctx._handle, device_name, op_name,\n\u001b[0m\u001b[1;32m     54\u001b[0m                                         inputs, attrs, num_outputs)\n\u001b[1;32m     55\u001b[0m   \u001b[0;32mexcept\u001b[0m \u001b[0mcore\u001b[0m\u001b[0;34m.\u001b[0m\u001b[0m_NotOkStatusException\u001b[0m \u001b[0;32mas\u001b[0m \u001b[0me\u001b[0m\u001b[0;34m:\u001b[0m\u001b[0;34m\u001b[0m\u001b[0;34m\u001b[0m\u001b[0m\n",
      "\u001b[0;31mKeyboardInterrupt\u001b[0m: "
     ]
    }
   ],
   "source": [
    "#First training\n",
    "train_losses = []\n",
    "val_losses = []\n",
    "\n",
    "EPOCHS = 1\n",
    "step=1\n",
    "for epoch in range(EPOCHS):\n",
    "    # Reset metrics at the start of each epoch\n",
    "    train_loss.reset_states()\n",
    "    train_accuracy.reset_states()\n",
    "    val_loss.reset_states()\n",
    "    val_accuracy.reset_states()\n",
    "\n",
    "    # Training loop\n",
    "    for (batch, (inp, tar)) in enumerate(training_dataset_final):\n",
    "        train_step(inp, tar)\n",
    "        if batch % 2 == 0:\n",
    "            print(f'Epoch {epoch + 1}, Batch {batch}, Loss: {train_loss.result()}, Accuracy: {train_accuracy.result()}')\n",
    "\n",
    "    # Validation loop\n",
    "    for (batch, (inp, tar)) in enumerate(validation_dataset_final):\n",
    "        val_step(inp, tar)\n",
    "\n",
    "    # Append loss values to the lists\n",
    "    train_losses.append(train_loss.result())\n",
    "    val_losses.append(val_loss.result())\n",
    "\n",
    "    # Print metrics at the end of each epoch\n",
    "    print(f'Epoch {epoch + 1}, Train Loss: {train_loss.result()}, Train Accuracy: {train_accuracy.result()}')\n",
    "    print(f'Epoch {epoch + 1}, Val Loss: {val_loss.result()}, Val Accuracy: {val_accuracy.result()}')\n",
    "    transformer.save_weights(f\"model_weights/model_weights_{epoch}.h5\")\n"
   ]
  },
  {
   "cell_type": "code",
   "execution_count": null,
   "metadata": {
    "id": "eyqWy4HbDnq6"
   },
   "outputs": [],
   "source": [
    "# Plot the training and validation loss\n",
    "plt.figure(figsize=(10, 6))\n",
    "plt.plot(train_losses, label='Training Loss')\n",
    "plt.plot(val_losses, label='Validation Loss')\n",
    "plt.xlabel('Epochs')\n",
    "plt.ylabel('Loss')\n",
    "plt.title('Training and Validation Loss Over Epochs')\n",
    "plt.legend()\n",
    "\n",
    "# Save the plot as an image file\n",
    "plt.savefig(f'loss_images/training_validation_loss{step}.png')\n",
    "\n",
    "# Optionally, display the plot\n",
    "plt.show()"
   ]
  },
  {
   "cell_type": "code",
   "execution_count": null,
   "metadata": {
    "id": "Z84fRrHxDnq6"
   },
   "outputs": [],
   "source": [
    "#next steps\n",
    "train_losses = []\n",
    "val_losses = []\n",
    "\n",
    "EPOCHS = 1\n",
    "step=1\n",
    "transformer.load_weights(f\"model_weights/model_weights_{step-1}.h5\")\n",
    "for epoch in range(EPOCHS):\n",
    "    # Reset metrics at the start of each epoch\n",
    "    train_loss.reset_states()\n",
    "    train_accuracy.reset_states()\n",
    "    val_loss.reset_states()\n",
    "    val_accuracy.reset_states()\n",
    "\n",
    "    # Training loop\n",
    "    for (batch, (inp, tar)) in enumerate(training_dataset_final):\n",
    "        train_step(inp, tar)\n",
    "        if batch % 100 == 0:\n",
    "            print(f'Epoch {epoch + 1}, Batch {batch}, Loss: {train_loss.result()}, Accuracy: {train_accuracy.result()}')\n",
    "\n",
    "    # Validation loop\n",
    "    for (batch, (inp, tar)) in enumerate(validation_dataset_final):\n",
    "        val_step(inp, tar)\n",
    "\n",
    "    # Append loss values to the lists\n",
    "    train_losses.append(train_loss.result())\n",
    "    val_losses.append(val_loss.result())\n",
    "\n",
    "    # Print metrics at the end of each epoch\n",
    "    print(f'Epoch {epoch + 1}, Train Loss: {train_loss.result()}, Train Accuracy: {train_accuracy.result()}')\n",
    "    print(f'Epoch {epoch + 1}, Val Loss: {val_loss.result()}, Val Accuracy: {val_accuracy.result()}')\n",
    "    transformer.save_weights(f\"model_weights/model_weights_{epoch}.h5\")\n"
   ]
  },
  {
   "cell_type": "code",
   "execution_count": null,
   "metadata": {
    "id": "hVrjASS_Dnq6"
   },
   "outputs": [],
   "source": [
    "# Plot the training and validation loss\n",
    "plt.figure(figsize=(10, 6))\n",
    "plt.plot(train_losses, label='Training Loss')\n",
    "plt.plot(val_losses, label='Validation Loss')\n",
    "plt.xlabel('Epochs')\n",
    "plt.ylabel('Loss')\n",
    "plt.title('Training and Validation Loss Over Epochs')\n",
    "plt.legend()\n",
    "\n",
    "# Save the plot as an image file\n",
    "plt.savefig(f'loss_images/training_validation_loss{step}.png')\n",
    "\n",
    "# Optionally, display the plot\n",
    "plt.show()"
   ]
  },
  {
   "cell_type": "markdown",
   "metadata": {
    "id": "F4xuYB36Dnq6"
   },
   "source": [
    "# 5. Fine-Tuning for Hate Speech Recognition"
   ]
  },
  {
   "cell_type": "markdown",
   "metadata": {
    "id": "FmJ4ON_iDnq6"
   },
   "source": [
    "Fine-tuning is the process of adapting a pre-trained model to a specific task, in this case, hate speech recognition. This involves taking the pre-trained transformer model and training it further on a smaller, task-specific dataset. Fine-tuning allows the model to leverage the general language understanding it gained during pre-training while specializing in the nuances of hate speech detection.  \n",
    "\n",
    "We have pre-trained the model using **Masked Language Modeling (MLM)**, a self-supervised task that enables the model to capture semantic meanings for Amharic text. The next step is to take the checkpoints of our pre-trained model, remove the final layer, and lock all the remaining layers. We will then add new layers and train only the newly added layers on our labeled hate speech dataset.  \n",
    "\n",
    "If this approach does not yield satisfactory results, we will unlock some of the pre-trained layers and fine-tune them alongside the new layers. This allows the model to adapt more effectively to the specific task while retaining the knowledge it gained during pre-training."
   ]
  },
  {
   "cell_type": "markdown",
   "metadata": {
    "id": "hX32eV5GDnq6"
   },
   "source": [
    "## 5.1 Preparing the Fine-Tuning Dataset"
   ]
  },
  {
   "cell_type": "markdown",
   "metadata": {
    "id": "makG6XATDnq6"
   },
   "source": [
    "This time, instead of collecting and labeling a hate speech recognition dataset myself, I will utilize an existing dataset to fine-tune the model. The dataset I will use is available at [https://data.mendeley.com/datasets/ymtmxx385m/1](https://data.mendeley.com/datasets/ymtmxx385m/1). This dataset contains labeled examples of hate speech, making it suitable for fine-tuning the pre-trained model for the specific task of hate speech recognition.  \n",
    "\n",
    "By leveraging this dataset, I can save time and resources while ensuring the model is trained on high-quality, annotated data. The dataset will be preprocessed to align with the input format required by the model.\n",
    "\n",
    "This approach allows me to focus on adapting the pre-trained model to the task of hate speech detection without the overhead of data collection and labeling. The fine-tuning process will involve training the model on this dataset, evaluating its performance, and iterating as needed to achieve the desired results."
   ]
  },
  {
   "cell_type": "markdown",
   "metadata": {
    "id": "7sgCBEOODnq6"
   },
   "source": [
    "The original dataset from the source is inside the folder /data/original_hate_speech_data. lets see what the datas look like and process it for our model\n"
   ]
  },
  {
   "cell_type": "code",
   "execution_count": 37,
   "metadata": {
    "colab": {
     "base_uri": "https://localhost:8080/"
    },
    "executionInfo": {
     "elapsed": 754,
     "status": "ok",
     "timestamp": 1740244838189,
     "user": {
      "displayName": "Mahder Tesfaye",
      "userId": "10113678197611266820"
     },
     "user_tz": -180
    },
    "id": "cuJm5p0rDnq6",
    "outputId": "c02df751-7c1c-45db-efaa-a6cb39144a14"
   },
   "outputs": [
    {
     "name": "stdout",
     "output_type": "stream",
     "text": [
      "Total number of post datas: 30000\n",
      "Total number of label datas: 30000\n"
     ]
    }
   ],
   "source": [
    "with open(\"datas/original_hate_speech_data/posts.txt\", \"r\") as file:\n",
    "    post_data = file.readlines()\n",
    "with open(\"datas/original_hate_speech_data/labels.txt\", \"r\") as file:\n",
    "    labels = file.readlines()\n",
    "\n",
    "print(f\"Total number of post datas: {len(post_data)}\")\n",
    "print(f\"Total number of label datas: {len(labels)}\")\n",
    "\n"
   ]
  },
  {
   "cell_type": "code",
   "execution_count": 38,
   "metadata": {
    "colab": {
     "base_uri": "https://localhost:8080/"
    },
    "executionInfo": {
     "elapsed": 7,
     "status": "ok",
     "timestamp": 1740244840373,
     "user": {
      "displayName": "Mahder Tesfaye",
      "userId": "10113678197611266820"
     },
     "user_tz": -180
    },
    "id": "dz26cF5RDnq6",
    "outputId": "9a9ff128-8c66-487b-dcb2-a6564d31cef8"
   },
   "outputs": [
    {
     "name": "stdout",
     "output_type": "stream",
     "text": [
      "Post 1: አንት እንከፍ መርጠህ አማራ ሆነህ ተወልደሀል\n",
      "\n",
      "Label 1: Hate\n",
      "\n",
      "\n",
      "---------------------------------------------------------------------------------\n",
      "\n",
      "\n",
      "Post 2: ፂላ በዝቷል እሳ ኮሜንት ላይ\n",
      "\n",
      "Label 2: Hate\n",
      "\n",
      "\n",
      "---------------------------------------------------------------------------------\n",
      "\n",
      "\n",
      "Post 3: አብን ዛሬ ባወጣው መግለጫ የአብይ አህመድ መንግስት ያለአግባብ ያሰራቸውን አመራሮቹን እና አባላቶቹን እንዲለቅቅ ጠይቋል\n",
      "\n",
      "Label 3: Free\n",
      "\n",
      "\n",
      "---------------------------------------------------------------------------------\n",
      "\n",
      "\n",
      "Post 4: ከበግ ዝርፍያ ወደ ታሪክ ዘረፋ\n",
      "\n",
      "Label 4: Free\n",
      "\n",
      "\n",
      "---------------------------------------------------------------------------------\n",
      "\n",
      "\n",
      "Post 5: አማራ የኢትዮጲያ ሲል ነው ሚያምርበት\n",
      "\n",
      "Label 5: Free\n",
      "\n",
      "\n",
      "---------------------------------------------------------------------------------\n",
      "\n",
      "\n",
      "Post 6: ኸረ ሼም ነው የቄሳርን ለቄሳር\n",
      "\n",
      "Label 6: Free\n",
      "\n",
      "\n",
      "---------------------------------------------------------------------------------\n",
      "\n",
      "\n",
      "Post 7: ክርስቲስ ሰህለነክርስቶስ መሀረናይቅር በለና\n",
      "\n",
      "Label 7: Free\n",
      "\n",
      "\n",
      "---------------------------------------------------------------------------------\n",
      "\n",
      "\n",
      "Post 8: ወገን እንዴት ናችሁ አዲስ ህይወት እና ኢንቫይሮንመንት የመለማመድ ሁኔታ ላይ ነበርኩ ነገሮችን አስተካክየ ብቅ ብያለሁ\n",
      "\n",
      "Label 8: Free\n",
      "\n",
      "\n",
      "---------------------------------------------------------------------------------\n",
      "\n",
      "\n",
      "Post 9: ከትቂት ወራቶች በፊት የአማራ ህዝብ እና ፖለቲከኛ ትልቁ ስራዉ በባለፉት  አመታት የተገነቡ የፖለቲካ እና የኢኮኖሚ ተቋማት     በማፈራረስ አዳዲስ ተቋማትን የአማራን ህዝብም ሆነ ሌላዉን በእኩልነት በሚጠቅሙ እና በሚያስተናግዱበት መንገድ መገንባት እንዳለባቸዉ እና ትልቁ የቤት ስራችን ይህ መሆኑን በሰፊዉ ገልጨዋለዉ\n",
      "\n",
      "Label 9: Free\n",
      "\n",
      "\n",
      "---------------------------------------------------------------------------------\n",
      "\n",
      "\n",
      "Post 10:  የአማራን ህዝብ ተቋማቶች ነዉ የጎዱት በወቅቱ ፓወር የነበረዉ ቡድን ተቋማቶችን ሲገነባ በማንኛዉም መንገድ የአማራን ህዝብ ክፉኛ በኢኮኖሚ በፖለቲካ እና ሌሎች ማህበራዊ ዘርፎች በሚያሽመደምድ መልኩ ነዉ \n",
      "\n",
      "Label 10: Free\n",
      "\n",
      "\n",
      "---------------------------------------------------------------------------------\n",
      "\n",
      "\n"
     ]
    }
   ],
   "source": [
    "start=1800\n",
    "end=1810\n",
    "sample_post_data = post_data[start:end]\n",
    "sample_label_data = labels[start:end]\n",
    "for i,(post,label) in enumerate(zip(sample_post_data,sample_label_data)):\n",
    "    print(f\"Post {i+1}: {post}\")\n",
    "    print(f\"Label {i+1}: {label}\")\n",
    "    print(\"\\n---------------------------------------------------------------------------------\\n\\n\")"
   ]
  },
  {
   "cell_type": "markdown",
   "metadata": {
    "id": "0LvstU7QDnq6"
   },
   "source": [
    "Let's change the labels into binary. 1 mean Free and 0 mean hate"
   ]
  },
  {
   "cell_type": "code",
   "execution_count": 39,
   "metadata": {
    "colab": {
     "base_uri": "https://localhost:8080/"
    },
    "executionInfo": {
     "elapsed": 4,
     "status": "ok",
     "timestamp": 1740244843618,
     "user": {
      "displayName": "Mahder Tesfaye",
      "userId": "10113678197611266820"
     },
     "user_tz": -180
    },
    "id": "zZb9ae7XDnq6",
    "outputId": "8148ff73-80f6-43f4-a126-f5d34fe596ad"
   },
   "outputs": [
    {
     "name": "stdout",
     "output_type": "stream",
     "text": [
      "All labels either hate or free\n"
     ]
    }
   ],
   "source": [
    "#first lates make sure the labels are only Hate and Free\n",
    "labels_array=[label.strip() for label in labels]\n",
    "total_labels=0\n",
    "for label in labels_array:\n",
    "    if label.lower() in [\"hate\",\"free\"]:\n",
    "        total_labels+=1\n",
    "if total_labels==len(labels):\n",
    "    print(\"All labels either hate or free\")\n",
    "else:\n",
    "    print(\"Not all labels are hate or free, the total number of correct labels is: \",total_labels)\n",
    "    print(\"Please check the labels\")\n",
    "\n"
   ]
  },
  {
   "cell_type": "markdown",
   "metadata": {
    "id": "KaW-AzsMDnq6"
   },
   "source": [
    "Now let as change the labels into binary and save. Uncomment the cell only if labels_binary.txt data is not available inside datas/original_hate_speech_data. Or you can  delete the file labels_binary.txt inside datas/original_hate_speech_data, uncomment the code and run it. Otherwise it will duplicate the labels data  2 times"
   ]
  },
  {
   "cell_type": "code",
   "execution_count": 40,
   "metadata": {
    "id": "WlxACFD5Dnq6"
   },
   "outputs": [],
   "source": [
    "\n",
    "# for label in labels_array:\n",
    "#     with open(\"/Users/mahder/Real Projects/Mahder AI/Training_models/Transformer_classifier_app_1/datas/original_hate_speech_data/labels_binary.txt\", \"a\") as file:\n",
    "#         if label.lower()==\"hate\":\n",
    "#             file.write(\"1\\n\")\n",
    "#         else:\n",
    "#             file.write(\"0\\n\")"
   ]
  },
  {
   "cell_type": "code",
   "execution_count": 41,
   "metadata": {
    "colab": {
     "base_uri": "https://localhost:8080/"
    },
    "executionInfo": {
     "elapsed": 215,
     "status": "ok",
     "timestamp": 1740244847417,
     "user": {
      "displayName": "Mahder Tesfaye",
      "userId": "10113678197611266820"
     },
     "user_tz": -180
    },
    "id": "T9spTx1ADnq6",
    "outputId": "1e06c70c-8e09-4040-b581-3320d686d728"
   },
   "outputs": [
    {
     "name": "stdout",
     "output_type": "stream",
     "text": [
      "All labels are correctly changed into binary\n"
     ]
    }
   ],
   "source": [
    "\n",
    "# let's check if it is correctly changed into binary\n",
    "with open(\"datas/original_hate_speech_data/labels_binary.txt\", \"r\") as file:\n",
    "    binary_labels = file.readlines()\n",
    "binary_labels_array=[int(label.strip()) for label in binary_labels]\n",
    "for binary, label in zip(binary_labels_array,labels_array):\n",
    "    if label.lower()==\"hate\":\n",
    "        assert binary==1\n",
    "    else:\n",
    "        assert binary==0\n",
    "print(\"All labels are correctly changed into binary\")"
   ]
  },
  {
   "cell_type": "markdown",
   "metadata": {
    "id": "0pbRmPyTDnq7"
   },
   "source": [
    "Let's process the datas into a form suitable for our model and tensorflow"
   ]
  },
  {
   "cell_type": "code",
   "execution_count": 42,
   "metadata": {
    "id": "AvmsJs22Dnq7"
   },
   "outputs": [],
   "source": [
    "#tokenize the post data\n",
    "post_data_array=[post.strip() for post in post_data]\n",
    "tokenized_hate_speech_data=[tokenizer.tokenize(post) for post in post_data_array]"
   ]
  },
  {
   "cell_type": "code",
   "execution_count": 43,
   "metadata": {
    "colab": {
     "base_uri": "https://localhost:8080/"
    },
    "executionInfo": {
     "elapsed": 14,
     "status": "ok",
     "timestamp": 1740244851299,
     "user": {
      "displayName": "Mahder Tesfaye",
      "userId": "10113678197611266820"
     },
     "user_tz": -180
    },
    "id": "FLgoBXF3Dnq7",
    "outputId": "84027903-9f36-4567-e122-eebff4ea4f1a"
   },
   "outputs": [
    {
     "name": "stdout",
     "output_type": "stream",
     "text": [
      "Original post data: \n",
      "\n",
      " አማርኛን እና አማራው የሚባለው በድሮ ጊዜ ምን አገናኘው\n",
      "\n",
      "---------------------------------------------------------------------------------\n",
      "\n",
      "\n",
      "Tokenized post data: \n",
      "\n",
      " [1649, 5, 7, 745, 22, 3638, 45221, 38, 107, 81333, 22]\n",
      "\n",
      "---------------------------------------------------------------------------------\n",
      "\n",
      "\n",
      "Tokenized data as subwords: \n",
      "\n",
      " ['▁አማርኛ', 'ን', '▁እና', '▁አማራ', 'ው', '▁የሚባለው', '▁በድሮ', '▁ጊዜ', '▁ምን', '▁አገናኘ', 'ው']\n"
     ]
    }
   ],
   "source": [
    "#let's visialize what the tokenization looks like\n",
    "print(\"Original post data: \\n\\n\", post_data_array[1742])\n",
    "print(\"\\n---------------------------------------------------------------------------------\\n\\n\")\n",
    "print(\"Tokenized post data: \\n\\n\", tokenized_hate_speech_data[1742])\n",
    "print(\"\\n---------------------------------------------------------------------------------\\n\\n\")\n",
    "print(\"Tokenized data as subwords: \\n\\n\", tokenizer.id_to_piece(tokenized_hate_speech_data[1742]))"
   ]
  },
  {
   "cell_type": "code",
   "execution_count": 44,
   "metadata": {
    "id": "bEzvnqoqDnq7"
   },
   "outputs": [],
   "source": [
    "tokenized_hate_speech_data_padded=tf.keras.utils.pad_sequences(\n",
    "    tokenized_hate_speech_data,\n",
    "    maxlen=200,\n",
    "    dtype='int32',\n",
    "    padding='post',\n",
    "    truncating='post',\n",
    ")"
   ]
  },
  {
   "cell_type": "code",
   "execution_count": 45,
   "metadata": {
    "id": "HHTd4UU7xcWv"
   },
   "outputs": [],
   "source": [
    "training_hate_final_input=tokenized_hate_speech_data_padded[:28000]\n",
    "training_hate_final_output=binary_labels_array[:28000]\n",
    "validation_hate_final_input=tokenized_hate_speech_data_padded[28000:]\n",
    "validation_hate_final_output=binary_labels_array[28000:]\n"
   ]
  },
  {
   "cell_type": "code",
   "execution_count": 46,
   "metadata": {
    "id": "Sa33nsBpDnq7"
   },
   "outputs": [],
   "source": [
    "HATE_BUFFER_SIZE = 3000\n",
    "HATE_BATCH_SIZE = 32\n",
    "training_final=tf.data.Dataset.from_tensor_slices((training_hate_final_input,training_hate_final_output))\n",
    "validation_final=tf.data.Dataset.from_tensor_slices((validation_hate_final_input,validation_hate_final_output))\n",
    "training_final_dataset=training_final.shuffle(HATE_BUFFER_SIZE).batch(HATE_BATCH_SIZE).prefetch(tf.data.AUTOTUNE).cache()\n",
    "validation_final_dataset=validation_final.batch(HATE_BATCH_SIZE).prefetch(tf.data.AUTOTUNE).cache()\n",
    "\n"
   ]
  },
  {
   "cell_type": "markdown",
   "metadata": {
    "id": "QugM6Qp4Dnq7"
   },
   "source": [
    "## 5.2 Adjusting the Model Architecture"
   ]
  },
  {
   "cell_type": "markdown",
   "metadata": {
    "id": "lWOAdwhdDnq7"
   },
   "source": [
    "The pre trained model is inside /Users/mahder/Real Projects/Mahder AI/Training_models/Transformer_classifier_app_1/model_weights  we will load it and fine tune it in on the above processed dataset. The pretrained model has both encoder and decoder. but for this binary classification task we need only the ecncoder part so we need to take only the encoder part of the transformer and fine tune it ."
   ]
  },
  {
   "cell_type": "code",
   "execution_count": 81,
   "metadata": {
    "id": "ENoVGcQhDnq7"
   },
   "outputs": [],
   "source": [
    "# Define the model parameters\n",
    "NUM_LAYERS = 6\n",
    "EMBEDDING_DIM = 512\n",
    "FULLY_CONNECTED_DIM = 2048\n",
    "NUM_HEADS= 8\n",
    "vocab_size = tokenizer.vocab_size()\n",
    "POSITIONAL_ENCODING_INPUT_LENGTH_HATE =2000\n",
    "POSITIONAL_ENCODING_TARGET_LENGTH_HATE =1\n",
    "\n",
    "\n",
    "# Initialize the model\n",
    "transformer_pretrained = Transformer(\n",
    "    NUM_LAYERS,\n",
    "    EMBEDDING_DIM,\n",
    "    NUM_HEADS,\n",
    "    FULLY_CONNECTED_DIM,\n",
    "    vocab_size,\n",
    "    vocab_size,\n",
    "    POSITIONAL_ENCODING_INPUT_LENGTH_HATE,\n",
    "    POSITIONAL_ENCODING_TARGET_LENGTH_HATE,\n",
    ")\n",
    "\n"
   ]
  },
  {
   "cell_type": "code",
   "execution_count": 82,
   "metadata": {
    "colab": {
     "base_uri": "https://localhost:8080/"
    },
    "executionInfo": {
     "elapsed": 755,
     "status": "ok",
     "timestamp": 1740251432929,
     "user": {
      "displayName": "Mahder Tesfaye",
      "userId": "10113678197611266820"
     },
     "user_tz": -180
    },
    "id": "PTpKT2KUDnq7",
    "outputId": "35953e30-f94f-4dec-d4e0-40d89d29ece4"
   },
   "outputs": [
    {
     "name": "stdout",
     "output_type": "stream",
     "text": [
      "Model: \"transformer_5\"\n",
      "_________________________________________________________________\n",
      " Layer (type)                Output Shape              Param #   \n",
      "=================================================================\n",
      " encoder_5 (Encoder)         multiple                  114219008 \n",
      "                                                                 \n",
      " decoder_5 (Decoder)         multiple                  164633600 \n",
      "                                                                 \n",
      " dense_152 (Dense)           multiple                  51300000  \n",
      "                                                                 \n",
      "=================================================================\n",
      "Total params: 330152608 (1.23 GB)\n",
      "Trainable params: 330152608 (1.23 GB)\n",
      "Non-trainable params: 0 (0.00 Byte)\n",
      "_________________________________________________________________\n"
     ]
    }
   ],
   "source": [
    "#build the model for the hate speech classification\n",
    "sentence_a = np.array([[2, 3, 1, 3, 0, 0, 0]])\n",
    "sentence_b = np.array([[1, 3, 4, 0, 0, 0, 0]])\n",
    "\n",
    "enc_padding_mask = create_padding_mask(sentence_a)\n",
    "dec_padding_mask = create_padding_mask(sentence_a)\n",
    "\n",
    "look_ahead_mask = create_look_ahead_mask(sentence_a.shape[1])\n",
    "\n",
    "test_summary, att_weights = transformer_pretrained(\n",
    "    sentence_a,\n",
    "    sentence_b,\n",
    "    False,\n",
    "    enc_padding_mask,\n",
    "    look_ahead_mask,\n",
    "    dec_padding_mask\n",
    ")\n",
    "\n",
    "transformer_pretrained.summary()"
   ]
  },
  {
   "cell_type": "code",
   "execution_count": 83,
   "metadata": {
    "id": "_RsDpwHoDnq7"
   },
   "outputs": [],
   "source": [
    "#load the pretrained model weights\n",
    "transformer_pretrained.load_weights(\"model_weights/model_weights_version1.h5\")"
   ]
  },
  {
   "cell_type": "code",
   "execution_count": 84,
   "metadata": {
    "id": "O6-zJq2jDnq7"
   },
   "outputs": [],
   "source": [
    "class TransformerForBinaryClassification(tf.keras.Model):\n",
    "    def __init__(self, transformer, dropout_rate=0.1):\n",
    "        super(TransformerForBinaryClassification, self).__init__()\n",
    "        self.encoder = transformer.encoder\n",
    "        self.dropout = tf.keras.layers.Dropout(dropout_rate)\n",
    "        self.classifier = tf.keras.layers.Dense(1, activation='sigmoid')\n",
    "\n",
    "    def call(self, input_sentence, training):\n",
    "        # Create padding mask inside the call method\n",
    "        enc_padding_mask = create_padding_mask(input_sentence)\n",
    "\n",
    "        # Pass the input through the encoder\n",
    "        enc_output = self.encoder(input_sentence, training, enc_padding_mask)\n",
    "\n",
    "        # Extract the [CLS] token representation\n",
    "        cls_output = enc_output[:, 0, :]\n",
    "\n",
    "        # Apply dropout\n",
    "        cls_output = self.dropout(cls_output, training=training)\n",
    "\n",
    "        # Pass through the classification head\n",
    "        final_output = self.classifier(cls_output)\n",
    "\n",
    "        return final_output"
   ]
  },
  {
   "cell_type": "code",
   "execution_count": 85,
   "metadata": {
    "id": "tFwfufnkDnq7"
   },
   "outputs": [],
   "source": [
    "# Initialize the binary classification model\n",
    "binary_classifier = TransformerForBinaryClassification(transformer_pretrained)\n"
   ]
  },
  {
   "cell_type": "code",
   "execution_count": 86,
   "metadata": {
    "id": "8T0BMsGbx3Ku"
   },
   "outputs": [],
   "source": [
    "\n",
    "\n",
    "# Create a dummy input to build the model\n",
    "dummy_input = tf.ones((1, POSITIONAL_ENCODING_INPUT_LENGTH_HATE), dtype=tf.int32)\n",
    "\n",
    "# Call the model with the dummy input to create the variables\n",
    "_ = binary_classifier(dummy_input, training=False)\n",
    "\n",
    "# Now you can safely load the weights\n",
    "binary_classifier.load_weights(\"binary_classifier_weights_v17.h5\")\n"
   ]
  },
  {
   "cell_type": "code",
   "execution_count": 87,
   "metadata": {
    "colab": {
     "base_uri": "https://localhost:8080/"
    },
    "executionInfo": {
     "elapsed": 20,
     "status": "ok",
     "timestamp": 1740265759811,
     "user": {
      "displayName": "Mahder Tesfaye",
      "userId": "10113678197611266820"
     },
     "user_tz": -180
    },
    "id": "ViyXiGGm765m",
    "outputId": "9235d4cf-3da1-4025-d61c-9077679c4176"
   },
   "outputs": [
    {
     "name": "stdout",
     "output_type": "stream",
     "text": [
      "Model: \"transformer_for_binary_classification_3\"\n",
      "_________________________________________________________________\n",
      " Layer (type)                Output Shape              Param #   \n",
      "=================================================================\n",
      " encoder_5 (Encoder)         multiple                  114219008 \n",
      "                                                                 \n",
      " dropout_177 (Dropout)       multiple                  0         \n",
      "                                                                 \n",
      " dense_153 (Dense)           multiple                  513       \n",
      "                                                                 \n",
      "=================================================================\n",
      "Total params: 114219521 (435.71 MB)\n",
      "Trainable params: 114219521 (435.71 MB)\n",
      "Non-trainable params: 0 (0.00 Byte)\n",
      "_________________________________________________________________\n"
     ]
    }
   ],
   "source": [
    "binary_classifier.summary()"
   ]
  },
  {
   "cell_type": "code",
   "execution_count": 88,
   "metadata": {
    "colab": {
     "base_uri": "https://localhost:8080/"
    },
    "executionInfo": {
     "elapsed": 3086224,
     "status": "ok",
     "timestamp": 1740268849217,
     "user": {
      "displayName": "Mahder Tesfaye",
      "userId": "10113678197611266820"
     },
     "user_tz": -180
    },
    "id": "j83_61iJDnq7",
    "outputId": "2d20b0e6-0e49-42f6-fe57-20959c3f8a65"
   },
   "outputs": [],
   "source": [
    "binary_classifier.compile(\n",
    "    optimizer=tf.keras.optimizers.legacy.Adam(learning_rate=5e-7),\n",
    "    loss=tf.keras.losses.BinaryCrossentropy(),\n",
    "    metrics=['accuracy']\n",
    ")\n"
   ]
  },
  {
   "cell_type": "code",
   "execution_count": null,
   "metadata": {},
   "outputs": [],
   "source": [
    "# Fine-tune the model\n",
    "history = binary_classifier.fit(\n",
    "    training_final_dataset,\n",
    "    batch_size=32,\n",
    "    epochs=40,\n",
    "    validation_data=validation_final_dataset\n",
    "\n",
    ")\n"
   ]
  },
  {
   "cell_type": "code",
   "execution_count": 60,
   "metadata": {
    "colab": {
     "base_uri": "https://localhost:8080/"
    },
    "executionInfo": {
     "elapsed": 27427,
     "status": "ok",
     "timestamp": 1740264270301,
     "user": {
      "displayName": "Mahder Tesfaye",
      "userId": "10113678197611266820"
     },
     "user_tz": -180
    },
    "id": "kggaaYlPOLO7",
    "outputId": "8aee3724-138f-4ad4-ccbb-bc65550a8fcc"
   },
   "outputs": [
    {
     "name": "stderr",
     "output_type": "stream",
     "text": [
      "2025-02-23 22:30:10.778564: I tensorflow/core/grappler/optimizers/custom_graph_optimizer_registry.cc:114] Plugin optimizer for device_type GPU is enabled.\n"
     ]
    },
    {
     "name": "stdout",
     "output_type": "stream",
     "text": [
      "  6/875 [..............................] - ETA: 28:52 - loss: 0.0428 - accuracy: 0.9896"
     ]
    },
    {
     "ename": "KeyboardInterrupt",
     "evalue": "",
     "output_type": "error",
     "traceback": [
      "\u001b[0;31m---------------------------------------------------------------------------\u001b[0m",
      "\u001b[0;31mKeyboardInterrupt\u001b[0m                         Traceback (most recent call last)",
      "Cell \u001b[0;32mIn[60], line 1\u001b[0m\n\u001b[0;32m----> 1\u001b[0m \u001b[43mbinary_classifier\u001b[49m\u001b[38;5;241;43m.\u001b[39;49m\u001b[43mevaluate\u001b[49m\u001b[43m(\u001b[49m\u001b[43mtraining_final_dataset\u001b[49m\u001b[43m)\u001b[49m\n",
      "File \u001b[0;32m~/Real Projects/Mahder AI/MlnewEnv2/lib/python3.10/site-packages/keras/src/utils/traceback_utils.py:65\u001b[0m, in \u001b[0;36mfilter_traceback.<locals>.error_handler\u001b[0;34m(*args, **kwargs)\u001b[0m\n\u001b[1;32m     63\u001b[0m filtered_tb \u001b[38;5;241m=\u001b[39m \u001b[38;5;28;01mNone\u001b[39;00m\n\u001b[1;32m     64\u001b[0m \u001b[38;5;28;01mtry\u001b[39;00m:\n\u001b[0;32m---> 65\u001b[0m     \u001b[38;5;28;01mreturn\u001b[39;00m \u001b[43mfn\u001b[49m\u001b[43m(\u001b[49m\u001b[38;5;241;43m*\u001b[39;49m\u001b[43margs\u001b[49m\u001b[43m,\u001b[49m\u001b[43m \u001b[49m\u001b[38;5;241;43m*\u001b[39;49m\u001b[38;5;241;43m*\u001b[39;49m\u001b[43mkwargs\u001b[49m\u001b[43m)\u001b[49m\n\u001b[1;32m     66\u001b[0m \u001b[38;5;28;01mexcept\u001b[39;00m \u001b[38;5;167;01mException\u001b[39;00m \u001b[38;5;28;01mas\u001b[39;00m e:\n\u001b[1;32m     67\u001b[0m     filtered_tb \u001b[38;5;241m=\u001b[39m _process_traceback_frames(e\u001b[38;5;241m.\u001b[39m__traceback__)\n",
      "File \u001b[0;32m~/Real Projects/Mahder AI/MlnewEnv2/lib/python3.10/site-packages/keras/src/engine/training.py:2200\u001b[0m, in \u001b[0;36mModel.evaluate\u001b[0;34m(self, x, y, batch_size, verbose, sample_weight, steps, callbacks, max_queue_size, workers, use_multiprocessing, return_dict, **kwargs)\u001b[0m\n\u001b[1;32m   2196\u001b[0m             \u001b[38;5;28;01mwith\u001b[39;00m tf\u001b[38;5;241m.\u001b[39mprofiler\u001b[38;5;241m.\u001b[39mexperimental\u001b[38;5;241m.\u001b[39mTrace(\n\u001b[1;32m   2197\u001b[0m                 \u001b[38;5;124m\"\u001b[39m\u001b[38;5;124mtest\u001b[39m\u001b[38;5;124m\"\u001b[39m, step_num\u001b[38;5;241m=\u001b[39mstep, _r\u001b[38;5;241m=\u001b[39m\u001b[38;5;241m1\u001b[39m\n\u001b[1;32m   2198\u001b[0m             ):\n\u001b[1;32m   2199\u001b[0m                 callbacks\u001b[38;5;241m.\u001b[39mon_test_batch_begin(step)\n\u001b[0;32m-> 2200\u001b[0m                 logs \u001b[38;5;241m=\u001b[39m \u001b[43mtest_function_runner\u001b[49m\u001b[38;5;241;43m.\u001b[39;49m\u001b[43mrun_step\u001b[49m\u001b[43m(\u001b[49m\n\u001b[1;32m   2201\u001b[0m \u001b[43m                    \u001b[49m\u001b[43mdataset_or_iterator\u001b[49m\u001b[43m,\u001b[49m\n\u001b[1;32m   2202\u001b[0m \u001b[43m                    \u001b[49m\u001b[43mdata_handler\u001b[49m\u001b[43m,\u001b[49m\n\u001b[1;32m   2203\u001b[0m \u001b[43m                    \u001b[49m\u001b[43mstep\u001b[49m\u001b[43m,\u001b[49m\n\u001b[1;32m   2204\u001b[0m \u001b[43m                    \u001b[49m\u001b[38;5;28;43mself\u001b[39;49m\u001b[38;5;241;43m.\u001b[39;49m\u001b[43m_pss_evaluation_shards\u001b[49m\u001b[43m,\u001b[49m\n\u001b[1;32m   2205\u001b[0m \u001b[43m                \u001b[49m\u001b[43m)\u001b[49m\n\u001b[1;32m   2207\u001b[0m logs \u001b[38;5;241m=\u001b[39m tf_utils\u001b[38;5;241m.\u001b[39msync_to_numpy_or_python_type(logs)\n\u001b[1;32m   2208\u001b[0m \u001b[38;5;66;03m# Override with model metrics instead of last step logs\u001b[39;00m\n",
      "File \u001b[0;32m~/Real Projects/Mahder AI/MlnewEnv2/lib/python3.10/site-packages/keras/src/engine/training.py:4000\u001b[0m, in \u001b[0;36m_TestFunction.run_step\u001b[0;34m(self, dataset_or_iterator, data_handler, step, unused_shards)\u001b[0m\n\u001b[1;32m   3999\u001b[0m \u001b[38;5;28;01mdef\u001b[39;00m\u001b[38;5;250m \u001b[39m\u001b[38;5;21mrun_step\u001b[39m(\u001b[38;5;28mself\u001b[39m, dataset_or_iterator, data_handler, step, unused_shards):\n\u001b[0;32m-> 4000\u001b[0m     tmp_logs \u001b[38;5;241m=\u001b[39m \u001b[38;5;28;43mself\u001b[39;49m\u001b[38;5;241;43m.\u001b[39;49m\u001b[43m_function\u001b[49m\u001b[43m(\u001b[49m\u001b[43mdataset_or_iterator\u001b[49m\u001b[43m)\u001b[49m\n\u001b[1;32m   4001\u001b[0m     \u001b[38;5;28;01mif\u001b[39;00m data_handler\u001b[38;5;241m.\u001b[39mshould_sync:\n\u001b[1;32m   4002\u001b[0m         context\u001b[38;5;241m.\u001b[39masync_wait()\n",
      "File \u001b[0;32m~/Real Projects/Mahder AI/MlnewEnv2/lib/python3.10/site-packages/tensorflow/python/util/traceback_utils.py:150\u001b[0m, in \u001b[0;36mfilter_traceback.<locals>.error_handler\u001b[0;34m(*args, **kwargs)\u001b[0m\n\u001b[1;32m    148\u001b[0m filtered_tb \u001b[38;5;241m=\u001b[39m \u001b[38;5;28;01mNone\u001b[39;00m\n\u001b[1;32m    149\u001b[0m \u001b[38;5;28;01mtry\u001b[39;00m:\n\u001b[0;32m--> 150\u001b[0m   \u001b[38;5;28;01mreturn\u001b[39;00m \u001b[43mfn\u001b[49m\u001b[43m(\u001b[49m\u001b[38;5;241;43m*\u001b[39;49m\u001b[43margs\u001b[49m\u001b[43m,\u001b[49m\u001b[43m \u001b[49m\u001b[38;5;241;43m*\u001b[39;49m\u001b[38;5;241;43m*\u001b[39;49m\u001b[43mkwargs\u001b[49m\u001b[43m)\u001b[49m\n\u001b[1;32m    151\u001b[0m \u001b[38;5;28;01mexcept\u001b[39;00m \u001b[38;5;167;01mException\u001b[39;00m \u001b[38;5;28;01mas\u001b[39;00m e:\n\u001b[1;32m    152\u001b[0m   filtered_tb \u001b[38;5;241m=\u001b[39m _process_traceback_frames(e\u001b[38;5;241m.\u001b[39m__traceback__)\n",
      "File \u001b[0;32m~/Real Projects/Mahder AI/MlnewEnv2/lib/python3.10/site-packages/tensorflow/python/eager/polymorphic_function/polymorphic_function.py:825\u001b[0m, in \u001b[0;36mFunction.__call__\u001b[0;34m(self, *args, **kwds)\u001b[0m\n\u001b[1;32m    822\u001b[0m compiler \u001b[38;5;241m=\u001b[39m \u001b[38;5;124m\"\u001b[39m\u001b[38;5;124mxla\u001b[39m\u001b[38;5;124m\"\u001b[39m \u001b[38;5;28;01mif\u001b[39;00m \u001b[38;5;28mself\u001b[39m\u001b[38;5;241m.\u001b[39m_jit_compile \u001b[38;5;28;01melse\u001b[39;00m \u001b[38;5;124m\"\u001b[39m\u001b[38;5;124mnonXla\u001b[39m\u001b[38;5;124m\"\u001b[39m\n\u001b[1;32m    824\u001b[0m \u001b[38;5;28;01mwith\u001b[39;00m OptionalXlaContext(\u001b[38;5;28mself\u001b[39m\u001b[38;5;241m.\u001b[39m_jit_compile):\n\u001b[0;32m--> 825\u001b[0m   result \u001b[38;5;241m=\u001b[39m \u001b[38;5;28;43mself\u001b[39;49m\u001b[38;5;241;43m.\u001b[39;49m\u001b[43m_call\u001b[49m\u001b[43m(\u001b[49m\u001b[38;5;241;43m*\u001b[39;49m\u001b[43margs\u001b[49m\u001b[43m,\u001b[49m\u001b[43m \u001b[49m\u001b[38;5;241;43m*\u001b[39;49m\u001b[38;5;241;43m*\u001b[39;49m\u001b[43mkwds\u001b[49m\u001b[43m)\u001b[49m\n\u001b[1;32m    827\u001b[0m new_tracing_count \u001b[38;5;241m=\u001b[39m \u001b[38;5;28mself\u001b[39m\u001b[38;5;241m.\u001b[39mexperimental_get_tracing_count()\n\u001b[1;32m    828\u001b[0m without_tracing \u001b[38;5;241m=\u001b[39m (tracing_count \u001b[38;5;241m==\u001b[39m new_tracing_count)\n",
      "File \u001b[0;32m~/Real Projects/Mahder AI/MlnewEnv2/lib/python3.10/site-packages/tensorflow/python/eager/polymorphic_function/polymorphic_function.py:857\u001b[0m, in \u001b[0;36mFunction._call\u001b[0;34m(self, *args, **kwds)\u001b[0m\n\u001b[1;32m    854\u001b[0m   \u001b[38;5;28mself\u001b[39m\u001b[38;5;241m.\u001b[39m_lock\u001b[38;5;241m.\u001b[39mrelease()\n\u001b[1;32m    855\u001b[0m   \u001b[38;5;66;03m# In this case we have created variables on the first call, so we run the\u001b[39;00m\n\u001b[1;32m    856\u001b[0m   \u001b[38;5;66;03m# defunned version which is guaranteed to never create variables.\u001b[39;00m\n\u001b[0;32m--> 857\u001b[0m   \u001b[38;5;28;01mreturn\u001b[39;00m \u001b[38;5;28;43mself\u001b[39;49m\u001b[38;5;241;43m.\u001b[39;49m\u001b[43m_no_variable_creation_fn\u001b[49m\u001b[43m(\u001b[49m\u001b[38;5;241;43m*\u001b[39;49m\u001b[43margs\u001b[49m\u001b[43m,\u001b[49m\u001b[43m \u001b[49m\u001b[38;5;241;43m*\u001b[39;49m\u001b[38;5;241;43m*\u001b[39;49m\u001b[43mkwds\u001b[49m\u001b[43m)\u001b[49m  \u001b[38;5;66;03m# pylint: disable=not-callable\u001b[39;00m\n\u001b[1;32m    858\u001b[0m \u001b[38;5;28;01melif\u001b[39;00m \u001b[38;5;28mself\u001b[39m\u001b[38;5;241m.\u001b[39m_variable_creation_fn \u001b[38;5;129;01mis\u001b[39;00m \u001b[38;5;129;01mnot\u001b[39;00m \u001b[38;5;28;01mNone\u001b[39;00m:\n\u001b[1;32m    859\u001b[0m   \u001b[38;5;66;03m# Release the lock early so that multiple threads can perform the call\u001b[39;00m\n\u001b[1;32m    860\u001b[0m   \u001b[38;5;66;03m# in parallel.\u001b[39;00m\n\u001b[1;32m    861\u001b[0m   \u001b[38;5;28mself\u001b[39m\u001b[38;5;241m.\u001b[39m_lock\u001b[38;5;241m.\u001b[39mrelease()\n",
      "File \u001b[0;32m~/Real Projects/Mahder AI/MlnewEnv2/lib/python3.10/site-packages/tensorflow/python/eager/polymorphic_function/tracing_compiler.py:148\u001b[0m, in \u001b[0;36mTracingCompiler.__call__\u001b[0;34m(self, *args, **kwargs)\u001b[0m\n\u001b[1;32m    145\u001b[0m \u001b[38;5;28;01mwith\u001b[39;00m \u001b[38;5;28mself\u001b[39m\u001b[38;5;241m.\u001b[39m_lock:\n\u001b[1;32m    146\u001b[0m   (concrete_function,\n\u001b[1;32m    147\u001b[0m    filtered_flat_args) \u001b[38;5;241m=\u001b[39m \u001b[38;5;28mself\u001b[39m\u001b[38;5;241m.\u001b[39m_maybe_define_function(args, kwargs)\n\u001b[0;32m--> 148\u001b[0m \u001b[38;5;28;01mreturn\u001b[39;00m \u001b[43mconcrete_function\u001b[49m\u001b[38;5;241;43m.\u001b[39;49m\u001b[43m_call_flat\u001b[49m\u001b[43m(\u001b[49m\n\u001b[1;32m    149\u001b[0m \u001b[43m    \u001b[49m\u001b[43mfiltered_flat_args\u001b[49m\u001b[43m,\u001b[49m\u001b[43m \u001b[49m\u001b[43mcaptured_inputs\u001b[49m\u001b[38;5;241;43m=\u001b[39;49m\u001b[43mconcrete_function\u001b[49m\u001b[38;5;241;43m.\u001b[39;49m\u001b[43mcaptured_inputs\u001b[49m\u001b[43m)\u001b[49m\n",
      "File \u001b[0;32m~/Real Projects/Mahder AI/MlnewEnv2/lib/python3.10/site-packages/tensorflow/python/eager/polymorphic_function/monomorphic_function.py:1349\u001b[0m, in \u001b[0;36mConcreteFunction._call_flat\u001b[0;34m(self, args, captured_inputs)\u001b[0m\n\u001b[1;32m   1345\u001b[0m possible_gradient_type \u001b[38;5;241m=\u001b[39m gradients_util\u001b[38;5;241m.\u001b[39mPossibleTapeGradientTypes(args)\n\u001b[1;32m   1346\u001b[0m \u001b[38;5;28;01mif\u001b[39;00m (possible_gradient_type \u001b[38;5;241m==\u001b[39m gradients_util\u001b[38;5;241m.\u001b[39mPOSSIBLE_GRADIENT_TYPES_NONE\n\u001b[1;32m   1347\u001b[0m     \u001b[38;5;129;01mand\u001b[39;00m executing_eagerly):\n\u001b[1;32m   1348\u001b[0m   \u001b[38;5;66;03m# No tape is watching; skip to running the function.\u001b[39;00m\n\u001b[0;32m-> 1349\u001b[0m   \u001b[38;5;28;01mreturn\u001b[39;00m \u001b[38;5;28mself\u001b[39m\u001b[38;5;241m.\u001b[39m_build_call_outputs(\u001b[38;5;28;43mself\u001b[39;49m\u001b[38;5;241;43m.\u001b[39;49m\u001b[43m_inference_function\u001b[49m\u001b[43m(\u001b[49m\u001b[38;5;241;43m*\u001b[39;49m\u001b[43margs\u001b[49m\u001b[43m)\u001b[49m)\n\u001b[1;32m   1350\u001b[0m forward_backward \u001b[38;5;241m=\u001b[39m \u001b[38;5;28mself\u001b[39m\u001b[38;5;241m.\u001b[39m_select_forward_and_backward_functions(\n\u001b[1;32m   1351\u001b[0m     args,\n\u001b[1;32m   1352\u001b[0m     possible_gradient_type,\n\u001b[1;32m   1353\u001b[0m     executing_eagerly)\n\u001b[1;32m   1354\u001b[0m forward_function, args_with_tangents \u001b[38;5;241m=\u001b[39m forward_backward\u001b[38;5;241m.\u001b[39mforward()\n",
      "File \u001b[0;32m~/Real Projects/Mahder AI/MlnewEnv2/lib/python3.10/site-packages/tensorflow/python/eager/polymorphic_function/atomic_function.py:196\u001b[0m, in \u001b[0;36mAtomicFunction.__call__\u001b[0;34m(self, *args)\u001b[0m\n\u001b[1;32m    194\u001b[0m \u001b[38;5;28;01mwith\u001b[39;00m record\u001b[38;5;241m.\u001b[39mstop_recording():\n\u001b[1;32m    195\u001b[0m   \u001b[38;5;28;01mif\u001b[39;00m \u001b[38;5;28mself\u001b[39m\u001b[38;5;241m.\u001b[39m_bound_context\u001b[38;5;241m.\u001b[39mexecuting_eagerly():\n\u001b[0;32m--> 196\u001b[0m     outputs \u001b[38;5;241m=\u001b[39m \u001b[38;5;28;43mself\u001b[39;49m\u001b[38;5;241;43m.\u001b[39;49m\u001b[43m_bound_context\u001b[49m\u001b[38;5;241;43m.\u001b[39;49m\u001b[43mcall_function\u001b[49m\u001b[43m(\u001b[49m\n\u001b[1;32m    197\u001b[0m \u001b[43m        \u001b[49m\u001b[38;5;28;43mself\u001b[39;49m\u001b[38;5;241;43m.\u001b[39;49m\u001b[43mname\u001b[49m\u001b[43m,\u001b[49m\n\u001b[1;32m    198\u001b[0m \u001b[43m        \u001b[49m\u001b[38;5;28;43mlist\u001b[39;49m\u001b[43m(\u001b[49m\u001b[43margs\u001b[49m\u001b[43m)\u001b[49m\u001b[43m,\u001b[49m\n\u001b[1;32m    199\u001b[0m \u001b[43m        \u001b[49m\u001b[38;5;28;43mlen\u001b[39;49m\u001b[43m(\u001b[49m\u001b[38;5;28;43mself\u001b[39;49m\u001b[38;5;241;43m.\u001b[39;49m\u001b[43mfunction_type\u001b[49m\u001b[38;5;241;43m.\u001b[39;49m\u001b[43mflat_outputs\u001b[49m\u001b[43m)\u001b[49m\u001b[43m,\u001b[49m\n\u001b[1;32m    200\u001b[0m \u001b[43m    \u001b[49m\u001b[43m)\u001b[49m\n\u001b[1;32m    201\u001b[0m   \u001b[38;5;28;01melse\u001b[39;00m:\n\u001b[1;32m    202\u001b[0m     outputs \u001b[38;5;241m=\u001b[39m make_call_op_in_graph(\u001b[38;5;28mself\u001b[39m, \u001b[38;5;28mlist\u001b[39m(args))\n",
      "File \u001b[0;32m~/Real Projects/Mahder AI/MlnewEnv2/lib/python3.10/site-packages/tensorflow/python/eager/context.py:1457\u001b[0m, in \u001b[0;36mContext.call_function\u001b[0;34m(self, name, tensor_inputs, num_outputs)\u001b[0m\n\u001b[1;32m   1455\u001b[0m cancellation_context \u001b[38;5;241m=\u001b[39m cancellation\u001b[38;5;241m.\u001b[39mcontext()\n\u001b[1;32m   1456\u001b[0m \u001b[38;5;28;01mif\u001b[39;00m cancellation_context \u001b[38;5;129;01mis\u001b[39;00m \u001b[38;5;28;01mNone\u001b[39;00m:\n\u001b[0;32m-> 1457\u001b[0m   outputs \u001b[38;5;241m=\u001b[39m \u001b[43mexecute\u001b[49m\u001b[38;5;241;43m.\u001b[39;49m\u001b[43mexecute\u001b[49m\u001b[43m(\u001b[49m\n\u001b[1;32m   1458\u001b[0m \u001b[43m      \u001b[49m\u001b[43mname\u001b[49m\u001b[38;5;241;43m.\u001b[39;49m\u001b[43mdecode\u001b[49m\u001b[43m(\u001b[49m\u001b[38;5;124;43m\"\u001b[39;49m\u001b[38;5;124;43mutf-8\u001b[39;49m\u001b[38;5;124;43m\"\u001b[39;49m\u001b[43m)\u001b[49m\u001b[43m,\u001b[49m\n\u001b[1;32m   1459\u001b[0m \u001b[43m      \u001b[49m\u001b[43mnum_outputs\u001b[49m\u001b[38;5;241;43m=\u001b[39;49m\u001b[43mnum_outputs\u001b[49m\u001b[43m,\u001b[49m\n\u001b[1;32m   1460\u001b[0m \u001b[43m      \u001b[49m\u001b[43minputs\u001b[49m\u001b[38;5;241;43m=\u001b[39;49m\u001b[43mtensor_inputs\u001b[49m\u001b[43m,\u001b[49m\n\u001b[1;32m   1461\u001b[0m \u001b[43m      \u001b[49m\u001b[43mattrs\u001b[49m\u001b[38;5;241;43m=\u001b[39;49m\u001b[43mattrs\u001b[49m\u001b[43m,\u001b[49m\n\u001b[1;32m   1462\u001b[0m \u001b[43m      \u001b[49m\u001b[43mctx\u001b[49m\u001b[38;5;241;43m=\u001b[39;49m\u001b[38;5;28;43mself\u001b[39;49m\u001b[43m,\u001b[49m\n\u001b[1;32m   1463\u001b[0m \u001b[43m  \u001b[49m\u001b[43m)\u001b[49m\n\u001b[1;32m   1464\u001b[0m \u001b[38;5;28;01melse\u001b[39;00m:\n\u001b[1;32m   1465\u001b[0m   outputs \u001b[38;5;241m=\u001b[39m execute\u001b[38;5;241m.\u001b[39mexecute_with_cancellation(\n\u001b[1;32m   1466\u001b[0m       name\u001b[38;5;241m.\u001b[39mdecode(\u001b[38;5;124m\"\u001b[39m\u001b[38;5;124mutf-8\u001b[39m\u001b[38;5;124m\"\u001b[39m),\n\u001b[1;32m   1467\u001b[0m       num_outputs\u001b[38;5;241m=\u001b[39mnum_outputs,\n\u001b[0;32m   (...)\u001b[0m\n\u001b[1;32m   1471\u001b[0m       cancellation_manager\u001b[38;5;241m=\u001b[39mcancellation_context,\n\u001b[1;32m   1472\u001b[0m   )\n",
      "File \u001b[0;32m~/Real Projects/Mahder AI/MlnewEnv2/lib/python3.10/site-packages/tensorflow/python/eager/execute.py:53\u001b[0m, in \u001b[0;36mquick_execute\u001b[0;34m(op_name, num_outputs, inputs, attrs, ctx, name)\u001b[0m\n\u001b[1;32m     51\u001b[0m \u001b[38;5;28;01mtry\u001b[39;00m:\n\u001b[1;32m     52\u001b[0m   ctx\u001b[38;5;241m.\u001b[39mensure_initialized()\n\u001b[0;32m---> 53\u001b[0m   tensors \u001b[38;5;241m=\u001b[39m \u001b[43mpywrap_tfe\u001b[49m\u001b[38;5;241;43m.\u001b[39;49m\u001b[43mTFE_Py_Execute\u001b[49m\u001b[43m(\u001b[49m\u001b[43mctx\u001b[49m\u001b[38;5;241;43m.\u001b[39;49m\u001b[43m_handle\u001b[49m\u001b[43m,\u001b[49m\u001b[43m \u001b[49m\u001b[43mdevice_name\u001b[49m\u001b[43m,\u001b[49m\u001b[43m \u001b[49m\u001b[43mop_name\u001b[49m\u001b[43m,\u001b[49m\n\u001b[1;32m     54\u001b[0m \u001b[43m                                      \u001b[49m\u001b[43minputs\u001b[49m\u001b[43m,\u001b[49m\u001b[43m \u001b[49m\u001b[43mattrs\u001b[49m\u001b[43m,\u001b[49m\u001b[43m \u001b[49m\u001b[43mnum_outputs\u001b[49m\u001b[43m)\u001b[49m\n\u001b[1;32m     55\u001b[0m \u001b[38;5;28;01mexcept\u001b[39;00m core\u001b[38;5;241m.\u001b[39m_NotOkStatusException \u001b[38;5;28;01mas\u001b[39;00m e:\n\u001b[1;32m     56\u001b[0m   \u001b[38;5;28;01mif\u001b[39;00m name \u001b[38;5;129;01mis\u001b[39;00m \u001b[38;5;129;01mnot\u001b[39;00m \u001b[38;5;28;01mNone\u001b[39;00m:\n",
      "\u001b[0;31mKeyboardInterrupt\u001b[0m: "
     ]
    }
   ],
   "source": [
    "binary_classifier.evaluate(training_final_dataset)"
   ]
  },
  {
   "cell_type": "code",
   "execution_count": null,
   "metadata": {},
   "outputs": [
    {
     "name": "stdout",
     "output_type": "stream",
     "text": [
      "1/1 [==============================] - 0s 460ms/step\n",
      "[[0.02588756]]\n"
     ]
    },
    {
     "data": {
      "text/plain": [
       "TensorShape([1, 84])"
      ]
     },
     "execution_count": 104,
     "metadata": {},
     "output_type": "execute_result"
    }
   ],
   "source": [
    "\n",
    "\n",
    "# Tokenize the input text\n",
    "tokenized = tokenizer.tokenize(\"\")\n",
    "tokenized_input = tf.expand_dims(tokenized, axis=0)  # Shape: (1, sequence_length)\n",
    "\n",
    "# Make a prediction\n",
    "prediction = binary_classifier.predict(tokenized_input)\n",
    "print(prediction)\n",
    "tokenized_input.shape"
   ]
  },
  {
   "cell_type": "code",
   "execution_count": null,
   "metadata": {
    "id": "IGyv7mDeicm5"
   },
   "outputs": [],
   "source": [
    "binary_classifier.save_weights(\"/content/drive/MyDrive/Transformer_classifier_app_1/binary_classifier_weights_v17.h5\")"
   ]
  },
  {
   "cell_type": "code",
   "execution_count": null,
   "metadata": {
    "colab": {
     "base_uri": "https://localhost:8080/",
     "height": 774
    },
    "executionInfo": {
     "elapsed": 322,
     "status": "ok",
     "timestamp": 1740264530578,
     "user": {
      "displayName": "Mahder Tesfaye",
      "userId": "10113678197611266820"
     },
     "user_tz": -180
    },
    "id": "lOI640cLYNfJ",
    "outputId": "1e488fdc-c35e-4ff1-92bc-22bc8ea8b65b"
   },
   "outputs": [
    {
     "data": {
      "image/png": "[encoded data removed]",
      "text/plain": [
       "<Figure size 1000x500 with 1 Axes>"
      ]
     },
     "metadata": {},
     "output_type": "display_data"
    },
    {
     "data": {
      "image/png": "[encoded data removed]",
      "text/plain": [
       "<Figure size 1000x500 with 1 Axes>"
      ]
     },
     "metadata": {},
     "output_type": "display_data"
    }
   ],
   "source": [
    "import matplotlib.pyplot as plt\n",
    "\n",
    "fig, axes = plt.subplots(figsize=(10, 5))\n",
    "\n",
    "axes.plot(history.history[\"loss\"], label=\"Training loss\")\n",
    "axes.plot(history.history[\"val_loss\"], label=\"Validation loss\")\n",
    "axes.set_xlabel(\"Epochs\")\n",
    "axes.set_ylabel(\"Loss\")\n",
    "axes.legend()\n",
    "plt.show()\n",
    "\n",
    "\n",
    "fig, axes2 = plt.subplots(figsize=(10, 5))  # Fixed typo and parameter name\n",
    "axes2.plot(history.history[\"accuracy\"], label=\"Training accuracy\")\n",
    "axes2.plot(history.history[\"val_accuracy\"], label=\"Validation accuracy\")\n",
    "axes2.set_xlabel(\"Epochs\")\n",
    "axes2.set_ylabel(\"Accuracy\")\n",
    "axes2.legend()\n",
    "plt.show()\n",
    "\n"
   ]
  },
  {
   "cell_type": "code",
   "execution_count": null,
   "metadata": {
    "id": "j0qq7YpX4h6Y"
   },
   "outputs": [],
   "source": [
    "import csv\n",
    "data=[\n",
    "\n",
    "    [history.history[\"loss\"] ,history.history[\"val_loss\"] ,history.history[\"accuracy\"], history.history[\"val_accuracy\"]]\n",
    "]\n",
    "\n",
    "with open(\"/content/drive/MyDrive/Transformer_classifier_app_1/loss_images/loss_accuracy.csv\", mode=\"a\", newline=\"\") as file:\n",
    "    writer = csv.writer(file)\n",
    "    writer.writerows(data)\n"
   ]
  },
  {
   "cell_type": "code",
   "execution_count": null,
   "metadata": {
    "id": "Oe7ZN64P0gjQ"
   },
   "outputs": [],
   "source": [
    "fig.savefig(\"/content/drive/MyDrive/Transformer_classifier_app_1/loss_images/loss_v2.png\")\n",
    "fig.savefig(\"/content/drive/MyDrive/Transformer_classifier_app_1/loss_images/accuracy_v2.png\")\n"
   ]
  },
  {
   "cell_type": "markdown",
   "metadata": {
    "id": "x4ytU-a_H7Ay"
   },
   "source": [
    "The training accuracy is no longer improving beyond 85 percent so we have to remove the droupout layer we added to the encoder part of the transformer and train it"
   ]
  },
  {
   "cell_type": "code",
   "execution_count": null,
   "metadata": {
    "id": "Liib4n7QIYIm"
   },
   "outputs": [],
   "source": [
    "#calculate precision, recall, and F1 score\n",
    "from sklearn.metrics import precision_score, recall_score, f1_score\n"
   ]
  },
  {
   "cell_type": "code",
   "execution_count": null,
   "metadata": {
    "id": "wWH9NHGeIUzD"
   },
   "outputs": [],
   "source": []
  }
 ],
 "metadata": {
  "accelerator": "GPU",
  "colab": {
   "gpuType": "T4",
   "machine_shape": "hm",
   "name": "",
   "version": ""
  },
  "kernelspec": {
   "display_name": "MlnewEnv2",
   "language": "python",
   "name": "python3"
  },
  "language_info": {
   "codemirror_mode": {
    "name": "ipython",
    "version": 3
   },
   "file_extension": ".py",
   "mimetype": "text/x-python",
   "name": "python",
   "nbconvert_exporter": "python",
   "pygments_lexer": "ipython3",
   "version": "3.10.16"
  }
 },
 "nbformat": 4,
 "nbformat_minor": 0
}
